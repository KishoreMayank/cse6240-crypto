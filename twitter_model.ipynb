{
 "cells": [
  {
   "cell_type": "code",
   "execution_count": 1,
   "metadata": {
    "cell_id": "00000-54dac1f7-2ce8-4138-82cf-6afc402cc543",
    "deepnote_cell_type": "code",
    "deepnote_to_be_reexecuted": false,
    "execution_millis": 6878,
    "execution_start": 1619493558538,
    "id": "bhJJsyAFux9G",
    "source_hash": "d3f1ae4f"
   },
   "outputs": [],
   "source": [
    "# !pip3 install xgboost numpy textblob keras\n",
    "from time import time\n",
    "import pandas as pd\n",
    "import numpy as np\n",
    "import re\n",
    "import csv\n",
    "import matplotlib.pyplot as plt\n",
    "import seaborn as sns\n",
    "\n",
    "import itertools\n",
    "import datetime\n",
    "\n",
    "from sklearn.feature_extraction.text import CountVectorizer, TfidfVectorizer, TfidfTransformer\n",
    "from sklearn.ensemble import RandomForestClassifier, ExtraTreesClassifier,AdaBoostClassifier\n",
    "from sklearn.tree import DecisionTreeClassifier\n",
    "from sklearn import model_selection, preprocessing, linear_model, naive_bayes, metrics, svm\n",
    "from sklearn import decomposition, ensemble\n",
    "from sklearn.naive_bayes import MultinomialNB\n",
    "from sklearn.linear_model import LogisticRegression\n",
    "from sklearn.svm import SVC\n",
    "from sklearn.metrics import accuracy_score\n",
    "from sklearn.model_selection import train_test_split\n",
    "from sklearn import metrics\n",
    "# import pandas, xgboost, numpy, textblob, string\n",
    "from keras.preprocessing import text, sequence\n",
    "from keras import layers, models, optimizers"
   ]
  },
  {
   "cell_type": "code",
   "execution_count": null,
   "metadata": {
    "cell_id": "00001-d496910a-c0e1-4712-bded-53f1ed070af7",
    "deepnote_cell_type": "code",
    "deepnote_to_be_reexecuted": false,
    "execution_millis": 4820,
    "execution_start": 1619490892781,
    "id": "8TTI-j5EuyTa",
    "source_hash": "bb1b9d29"
   },
   "outputs": [],
   "source": [
    "df = pd.read_csv('tweets_very_clean1.csv')"
   ]
  },
  {
   "cell_type": "code",
   "execution_count": null,
   "metadata": {
    "cell_id": "00002-f7d66684-694b-411f-9bd1-fcbeb63fd1c0",
    "deepnote_cell_type": "code",
    "deepnote_to_be_reexecuted": false,
    "execution_millis": 154,
    "execution_start": 1619490897602,
    "source_hash": "24e520ff",
    "tags": []
   },
   "outputs": [
    {
     "data": {
      "application/vnd.deepnote.dataframe.v2+json": {
       "column_count": 2,
       "columns": [
        {
         "dtype": "object",
         "name": "user",
         "stats": {
          "categories": [
           {
            "count": 1,
            "name": "kucoincom"
           },
           {
            "count": 1,
            "name": "BitCoin_Invest_"
           },
           {
            "count": 72827,
            "name": "72827 others"
           }
          ],
          "nan_count": 0,
          "unique_count": 72829
         }
        },
        {
         "dtype": "float64",
         "name": "pr"
        },
        {
         "dtype": "int64",
         "name": "_deepnote_index_column"
        }
       ],
       "row_count": 72829,
       "rows_bottom": [
        {
         "_deepnote_index_column": 72579,
         "pr": 2.814739477057233e-06,
         "user": "bitcoinlander"
        },
        {
         "_deepnote_index_column": 72580,
         "pr": 2.814739477057233e-06,
         "user": "idrawlifeS"
        },
        {
         "_deepnote_index_column": 72581,
         "pr": 2.814739477057233e-06,
         "user": "HoLeeDik"
        },
        {
         "_deepnote_index_column": 72582,
         "pr": 2.814739477057233e-06,
         "user": "SZafar7223"
        },
        {
         "_deepnote_index_column": 72583,
         "pr": 2.814739477057233e-06,
         "user": "MoonbaseREKT"
        },
        {
         "_deepnote_index_column": 72584,
         "pr": 2.814739477057233e-06,
         "user": "nugyrO"
        },
        {
         "_deepnote_index_column": 72585,
         "pr": 2.814739477057233e-06,
         "user": "RichEconomics"
        },
        {
         "_deepnote_index_column": 72586,
         "pr": 2.814739477057233e-06,
         "user": "Organikbitcoin"
        },
        {
         "_deepnote_index_column": 72587,
         "pr": 2.814739477057233e-06,
         "user": "ConferencistaEd"
        },
        {
         "_deepnote_index_column": 72588,
         "pr": 2.814739477057233e-06,
         "user": "ItsMeTiano"
        },
        {
         "_deepnote_index_column": 72589,
         "pr": 2.814739477057233e-06,
         "user": "niggastyle7"
        },
        {
         "_deepnote_index_column": 72590,
         "pr": 2.814739477057233e-06,
         "user": "DyMagnata"
        },
        {
         "_deepnote_index_column": 72591,
         "pr": 2.814739477057233e-06,
         "user": "dhruba666"
        },
        {
         "_deepnote_index_column": 72592,
         "pr": 2.814739477057233e-06,
         "user": "GBMcrypto"
        },
        {
         "_deepnote_index_column": 72593,
         "pr": 2.814739477057233e-06,
         "user": "edwinmedinadwn"
        },
        {
         "_deepnote_index_column": 72594,
         "pr": 2.814739477057233e-06,
         "user": "camerondaymrc"
        },
        {
         "_deepnote_index_column": 72595,
         "pr": 2.814739477057233e-06,
         "user": "GetTheBitcoin"
        },
        {
         "_deepnote_index_column": 72596,
         "pr": 2.814739477057233e-06,
         "user": "Apm89172149"
        },
        {
         "_deepnote_index_column": 72597,
         "pr": 2.814739477057233e-06,
         "user": "SaranGu04088391"
        },
        {
         "_deepnote_index_column": 72598,
         "pr": 2.814739477057233e-06,
         "user": "moeslimeddy"
        },
        {
         "_deepnote_index_column": 72599,
         "pr": 2.814739477057233e-06,
         "user": "lionheartv80"
        },
        {
         "_deepnote_index_column": 72600,
         "pr": 2.814739477057233e-06,
         "user": "nakcityzen"
        },
        {
         "_deepnote_index_column": 72601,
         "pr": 2.814739477057233e-06,
         "user": "Anang98857829"
        },
        {
         "_deepnote_index_column": 72602,
         "pr": 2.814739477057233e-06,
         "user": "antonnykeisha"
        },
        {
         "_deepnote_index_column": 72603,
         "pr": 2.814739477057233e-06,
         "user": "lee_opt"
        },
        {
         "_deepnote_index_column": 72604,
         "pr": 2.814739477057233e-06,
         "user": "amedolas4live"
        },
        {
         "_deepnote_index_column": 72605,
         "pr": 2.814739477057233e-06,
         "user": "Gestoriarwanda"
        },
        {
         "_deepnote_index_column": 72606,
         "pr": 2.814739477057233e-06,
         "user": "yaninatuz"
        },
        {
         "_deepnote_index_column": 72607,
         "pr": 2.814739477057233e-06,
         "user": "DrqcoCPN"
        },
        {
         "_deepnote_index_column": 72608,
         "pr": 2.814739477057233e-06,
         "user": "Dolvil78"
        },
        {
         "_deepnote_index_column": 72609,
         "pr": 2.814739477057233e-06,
         "user": "pankhakhan21154"
        },
        {
         "_deepnote_index_column": 72610,
         "pr": 2.814739477057233e-06,
         "user": "v3ghyw12mu"
        },
        {
         "_deepnote_index_column": 72611,
         "pr": 2.814739477057233e-06,
         "user": "9DrB9jvak5V3ejL"
        },
        {
         "_deepnote_index_column": 72612,
         "pr": 2.814739477057233e-06,
         "user": "GoreOpt"
        },
        {
         "_deepnote_index_column": 72613,
         "pr": 2.814739477057233e-06,
         "user": "Patrick13880720"
        },
        {
         "_deepnote_index_column": 72614,
         "pr": 2.814739477057233e-06,
         "user": "Airdrop61356390"
        },
        {
         "_deepnote_index_column": 72615,
         "pr": 2.814739477057233e-06,
         "user": "LTrnXunBnh1"
        },
        {
         "_deepnote_index_column": 72616,
         "pr": 2.814739477057233e-06,
         "user": "roojuu1"
        },
        {
         "_deepnote_index_column": 72617,
         "pr": 2.814739477057233e-06,
         "user": "OptZook"
        },
        {
         "_deepnote_index_column": 72618,
         "pr": 2.814739477057233e-06,
         "user": "bourne_brianne"
        },
        {
         "_deepnote_index_column": 72619,
         "pr": 2.814739477057233e-06,
         "user": "taniazahra09"
        },
        {
         "_deepnote_index_column": 72620,
         "pr": 2.814739477057233e-06,
         "user": "Trung3979"
        },
        {
         "_deepnote_index_column": 72621,
         "pr": 2.814739477057233e-06,
         "user": "_cryptom2nd_"
        },
        {
         "_deepnote_index_column": 72622,
         "pr": 2.814739477057233e-06,
         "user": "blue_pips"
        },
        {
         "_deepnote_index_column": 72623,
         "pr": 2.814739477057233e-06,
         "user": "BShawhbl"
        },
        {
         "_deepnote_index_column": 72624,
         "pr": 2.814739477057233e-06,
         "user": "sdfgsdggsdg1551"
        },
        {
         "_deepnote_index_column": 72625,
         "pr": 2.814739477057233e-06,
         "user": "SavageCryptos"
        },
        {
         "_deepnote_index_column": 72626,
         "pr": 2.814739477057233e-06,
         "user": "RobbieS79197319"
        },
        {
         "_deepnote_index_column": 72627,
         "pr": 2.814739477057233e-06,
         "user": "tiyam53895861"
        },
        {
         "_deepnote_index_column": 72628,
         "pr": 2.814739477057233e-06,
         "user": "FelipeSalazarz2"
        },
        {
         "_deepnote_index_column": 72629,
         "pr": 2.814739477057233e-06,
         "user": "Ferenczy3"
        },
        {
         "_deepnote_index_column": 72630,
         "pr": 2.814739477057233e-06,
         "user": "RedScreed"
        },
        {
         "_deepnote_index_column": 72631,
         "pr": 2.814739477057233e-06,
         "user": "josereboredos"
        },
        {
         "_deepnote_index_column": 72632,
         "pr": 2.814739477057233e-06,
         "user": "unclegrandpahoe"
        },
        {
         "_deepnote_index_column": 72633,
         "pr": 2.814739477057233e-06,
         "user": "bitcoin1010"
        },
        {
         "_deepnote_index_column": 72634,
         "pr": 2.814739477057233e-06,
         "user": "Jagdish552"
        },
        {
         "_deepnote_index_column": 72635,
         "pr": 2.814739477057233e-06,
         "user": "OlegGal2015"
        },
        {
         "_deepnote_index_column": 72636,
         "pr": 2.814739477057233e-06,
         "user": "thetobykaleb"
        },
        {
         "_deepnote_index_column": 72637,
         "pr": 2.814739477057233e-06,
         "user": "TENGRIBIZMEN9N9"
        },
        {
         "_deepnote_index_column": 72638,
         "pr": 2.814739477057233e-06,
         "user": "BrodeurPhilipp2"
        },
        {
         "_deepnote_index_column": 72639,
         "pr": 2.814739477057233e-06,
         "user": "rtosseane"
        },
        {
         "_deepnote_index_column": 72640,
         "pr": 2.814739477057233e-06,
         "user": "AndiBoy13777125"
        },
        {
         "_deepnote_index_column": 72641,
         "pr": 2.814739477057233e-06,
         "user": "carrera_arman"
        },
        {
         "_deepnote_index_column": 72642,
         "pr": 2.814739477057233e-06,
         "user": "DSulenk"
        },
        {
         "_deepnote_index_column": 72643,
         "pr": 2.814739477057233e-06,
         "user": "akun_master"
        },
        {
         "_deepnote_index_column": 72644,
         "pr": 2.814739477057233e-06,
         "user": "Paritoshs115"
        },
        {
         "_deepnote_index_column": 72645,
         "pr": 2.814739477057233e-06,
         "user": "AbeLoradel"
        },
        {
         "_deepnote_index_column": 72646,
         "pr": 2.814739477057233e-06,
         "user": "themacindex"
        },
        {
         "_deepnote_index_column": 72647,
         "pr": 2.814739477057233e-06,
         "user": "JonArauzo"
        },
        {
         "_deepnote_index_column": 72648,
         "pr": 2.814739477057233e-06,
         "user": "Riendra22157607"
        },
        {
         "_deepnote_index_column": 72649,
         "pr": 2.814739477057233e-06,
         "user": "zehune"
        },
        {
         "_deepnote_index_column": 72650,
         "pr": 2.814739477057233e-06,
         "user": "george_krutikov"
        },
        {
         "_deepnote_index_column": 72651,
         "pr": 2.814739477057233e-06,
         "user": "keechan19"
        },
        {
         "_deepnote_index_column": 72652,
         "pr": 2.814739477057233e-06,
         "user": "Mbah_adha"
        },
        {
         "_deepnote_index_column": 72653,
         "pr": 2.814739477057233e-06,
         "user": "TunV80567699"
        },
        {
         "_deepnote_index_column": 72654,
         "pr": 2.814739477057233e-06,
         "user": "SamsulM34534548"
        },
        {
         "_deepnote_index_column": 72655,
         "pr": 2.814739477057233e-06,
         "user": "vegaslunaa"
        },
        {
         "_deepnote_index_column": 72656,
         "pr": 2.814739477057233e-06,
         "user": "douglasls3"
        },
        {
         "_deepnote_index_column": 72657,
         "pr": 2.814739477057233e-06,
         "user": "Valenti44961166"
        },
        {
         "_deepnote_index_column": 72658,
         "pr": 2.814739477057233e-06,
         "user": "edmon34473563"
        },
        {
         "_deepnote_index_column": 72659,
         "pr": 2.814739477057233e-06,
         "user": "MMoukhik"
        },
        {
         "_deepnote_index_column": 72660,
         "pr": 2.814739477057233e-06,
         "user": "silverprince8"
        },
        {
         "_deepnote_index_column": 72661,
         "pr": 2.814739477057233e-06,
         "user": "Tania23011993"
        },
        {
         "_deepnote_index_column": 72662,
         "pr": 2.814739477057233e-06,
         "user": "amantuah"
        },
        {
         "_deepnote_index_column": 72663,
         "pr": 2.814739477057233e-06,
         "user": "Amas91062745"
        },
        {
         "_deepnote_index_column": 72664,
         "pr": 2.814739477057233e-06,
         "user": "Samanodin3"
        },
        {
         "_deepnote_index_column": 72665,
         "pr": 2.814739477057233e-06,
         "user": "Jclouise12"
        },
        {
         "_deepnote_index_column": 72666,
         "pr": 2.814739477057233e-06,
         "user": "pasyadjie"
        },
        {
         "_deepnote_index_column": 72667,
         "pr": 2.814739477057233e-06,
         "user": "rabmar"
        },
        {
         "_deepnote_index_column": 72668,
         "pr": 2.814739477057233e-06,
         "user": "NQtSCOqz5lctaLJ"
        },
        {
         "_deepnote_index_column": 72669,
         "pr": 2.814739477057233e-06,
         "user": "gstel001"
        },
        {
         "_deepnote_index_column": 72670,
         "pr": 2.814739477057233e-06,
         "user": "silvertis3"
        },
        {
         "_deepnote_index_column": 72671,
         "pr": 2.814739477057233e-06,
         "user": "jonti_lamba"
        },
        {
         "_deepnote_index_column": 72672,
         "pr": 2.814739477057233e-06,
         "user": "rodrigodorje"
        },
        {
         "_deepnote_index_column": 72673,
         "pr": 2.814739477057233e-06,
         "user": "RiyantriW"
        },
        {
         "_deepnote_index_column": 72674,
         "pr": 2.814739477057233e-06,
         "user": "crypto_jonne"
        },
        {
         "_deepnote_index_column": 72675,
         "pr": 2.814739477057233e-06,
         "user": "lovelyleahdizon"
        },
        {
         "_deepnote_index_column": 72676,
         "pr": 2.814739477057233e-06,
         "user": "ko13561777"
        },
        {
         "_deepnote_index_column": 72677,
         "pr": 2.814739477057233e-06,
         "user": "OcTa_86"
        },
        {
         "_deepnote_index_column": 72678,
         "pr": 2.814739477057233e-06,
         "user": "yoyoviolet21"
        },
        {
         "_deepnote_index_column": 72679,
         "pr": 2.814739477057233e-06,
         "user": "liuschandra22"
        },
        {
         "_deepnote_index_column": 72680,
         "pr": 2.814739477057233e-06,
         "user": "ducdeptraivip"
        },
        {
         "_deepnote_index_column": 72681,
         "pr": 2.814739477057233e-06,
         "user": "Svetlan05089345"
        },
        {
         "_deepnote_index_column": 72682,
         "pr": 2.814739477057233e-06,
         "user": "Maick_888"
        },
        {
         "_deepnote_index_column": 72683,
         "pr": 2.814739477057233e-06,
         "user": "Rommels86534882"
        },
        {
         "_deepnote_index_column": 72684,
         "pr": 2.814739477057233e-06,
         "user": "vanO7s"
        },
        {
         "_deepnote_index_column": 72685,
         "pr": 2.814739477057233e-06,
         "user": "KaungMy48664883"
        },
        {
         "_deepnote_index_column": 72686,
         "pr": 2.814739477057233e-06,
         "user": "bitzlato"
        },
        {
         "_deepnote_index_column": 72687,
         "pr": 2.814739477057233e-06,
         "user": "Med_Ejery"
        },
        {
         "_deepnote_index_column": 72688,
         "pr": 2.814739477057233e-06,
         "user": "vorokovsky"
        },
        {
         "_deepnote_index_column": 72689,
         "pr": 2.814739477057233e-06,
         "user": "TROJANVlRUS"
        },
        {
         "_deepnote_index_column": 72690,
         "pr": 2.814739477057233e-06,
         "user": "Gener73416177"
        },
        {
         "_deepnote_index_column": 72691,
         "pr": 2.814739477057233e-06,
         "user": "Twitereveryday"
        },
        {
         "_deepnote_index_column": 72692,
         "pr": 2.814739477057233e-06,
         "user": "arnelparuli"
        },
        {
         "_deepnote_index_column": 72693,
         "pr": 2.814739477057233e-06,
         "user": "Sarno100940"
        },
        {
         "_deepnote_index_column": 72694,
         "pr": 2.814739477057233e-06,
         "user": "lolkekmdadaun"
        },
        {
         "_deepnote_index_column": 72695,
         "pr": 2.814739477057233e-06,
         "user": "Detty993"
        },
        {
         "_deepnote_index_column": 72696,
         "pr": 2.814739477057233e-06,
         "user": "tyankewel"
        },
        {
         "_deepnote_index_column": 72697,
         "pr": 2.814739477057233e-06,
         "user": "Kukuneeta"
        },
        {
         "_deepnote_index_column": 72698,
         "pr": 2.814739477057233e-06,
         "user": "Tons79"
        },
        {
         "_deepnote_index_column": 72699,
         "pr": 2.814739477057233e-06,
         "user": "boanergesbaba"
        },
        {
         "_deepnote_index_column": 72700,
         "pr": 2.814739477057233e-06,
         "user": "ravitri65659046"
        },
        {
         "_deepnote_index_column": 72701,
         "pr": 2.814739477057233e-06,
         "user": "ydpa2"
        },
        {
         "_deepnote_index_column": 72702,
         "pr": 2.814739477057233e-06,
         "user": "clickmmuop"
        },
        {
         "_deepnote_index_column": 72703,
         "pr": 2.814739477057233e-06,
         "user": "Godwin25929386"
        },
        {
         "_deepnote_index_column": 72704,
         "pr": 2.814739477057233e-06,
         "user": "PromoterHyip"
        },
        {
         "_deepnote_index_column": 72705,
         "pr": 2.814739477057233e-06,
         "user": "kiddalz_DC"
        },
        {
         "_deepnote_index_column": 72706,
         "pr": 2.814739477057233e-06,
         "user": "PETERTINA1"
        },
        {
         "_deepnote_index_column": 72707,
         "pr": 2.814739477057233e-06,
         "user": "comaric9"
        },
        {
         "_deepnote_index_column": 72708,
         "pr": 2.814739477057233e-06,
         "user": "lode_and_silver"
        },
        {
         "_deepnote_index_column": 72709,
         "pr": 2.814739477057233e-06,
         "user": "hironakamuramek"
        },
        {
         "_deepnote_index_column": 72710,
         "pr": 2.814739477057233e-06,
         "user": "mohd_haikhal"
        },
        {
         "_deepnote_index_column": 72711,
         "pr": 2.814739477057233e-06,
         "user": "scorpionreveng3"
        },
        {
         "_deepnote_index_column": 72712,
         "pr": 2.814739477057233e-06,
         "user": "V_O_D_K_A_A"
        },
        {
         "_deepnote_index_column": 72713,
         "pr": 2.814739477057233e-06,
         "user": "AdebayoAdeojo"
        },
        {
         "_deepnote_index_column": 72714,
         "pr": 2.814739477057233e-06,
         "user": "084mayu"
        },
        {
         "_deepnote_index_column": 72715,
         "pr": 2.814739477057233e-06,
         "user": "DonnarMayfield1"
        },
        {
         "_deepnote_index_column": 72716,
         "pr": 2.814739477057233e-06,
         "user": "GarziniSalvo"
        },
        {
         "_deepnote_index_column": 72717,
         "pr": 2.814739477057233e-06,
         "user": "AbrasadoKebin"
        },
        {
         "_deepnote_index_column": 72718,
         "pr": 2.814739477057233e-06,
         "user": "AlohaTradeCo"
        },
        {
         "_deepnote_index_column": 72719,
         "pr": 2.814739477057233e-06,
         "user": "Moekyawoo13"
        },
        {
         "_deepnote_index_column": 72720,
         "pr": 2.814739477057233e-06,
         "user": "BarbararMerrym1"
        },
        {
         "_deepnote_index_column": 72721,
         "pr": 2.814739477057233e-06,
         "user": "VavavVavavavava"
        },
        {
         "_deepnote_index_column": 72722,
         "pr": 2.814739477057233e-06,
         "user": "CryptoAngeljp"
        },
        {
         "_deepnote_index_column": 72723,
         "pr": 2.814739477057233e-06,
         "user": "VRUoT2"
        },
        {
         "_deepnote_index_column": 72724,
         "pr": 2.814739477057233e-06,
         "user": "cryptoqbert"
        },
        {
         "_deepnote_index_column": 72725,
         "pr": 2.814739477057233e-06,
         "user": "AlbertQuezada5"
        },
        {
         "_deepnote_index_column": 72726,
         "pr": 2.814739477057233e-06,
         "user": "nguyenvanluc812"
        },
        {
         "_deepnote_index_column": 72727,
         "pr": 2.814739477057233e-06,
         "user": "trading_ex"
        },
        {
         "_deepnote_index_column": 72728,
         "pr": 2.814739477057233e-06,
         "user": "TrongDong7"
        },
        {
         "_deepnote_index_column": 72729,
         "pr": 2.814739477057233e-06,
         "user": "DitchdiggerBill"
        },
        {
         "_deepnote_index_column": 72730,
         "pr": 2.814739477057233e-06,
         "user": "jasonrcombs"
        },
        {
         "_deepnote_index_column": 72731,
         "pr": 2.814739477057233e-06,
         "user": "NayLinn61643409"
        },
        {
         "_deepnote_index_column": 72732,
         "pr": 2.814739477057233e-06,
         "user": "MustafaKml1980"
        },
        {
         "_deepnote_index_column": 72733,
         "pr": 2.814739477057233e-06,
         "user": "rima40812126"
        },
        {
         "_deepnote_index_column": 72734,
         "pr": 2.814739477057233e-06,
         "user": "youfilminggmai1"
        },
        {
         "_deepnote_index_column": 72735,
         "pr": 2.814739477057233e-06,
         "user": "WallStreetWoman"
        },
        {
         "_deepnote_index_column": 72736,
         "pr": 2.814739477057233e-06,
         "user": "4k_cell"
        },
        {
         "_deepnote_index_column": 72737,
         "pr": 2.814739477057233e-06,
         "user": "Vitaliy37119007"
        },
        {
         "_deepnote_index_column": 72738,
         "pr": 2.814739477057233e-06,
         "user": "petrafiles"
        },
        {
         "_deepnote_index_column": 72739,
         "pr": 2.814739477057233e-06,
         "user": "PinangayRicmar"
        },
        {
         "_deepnote_index_column": 72740,
         "pr": 2.814739477057233e-06,
         "user": "bukapelapak212"
        },
        {
         "_deepnote_index_column": 72741,
         "pr": 2.814739477057233e-06,
         "user": "PremiumContacts"
        },
        {
         "_deepnote_index_column": 72742,
         "pr": 2.814739477057233e-06,
         "user": "Crypto247XE"
        },
        {
         "_deepnote_index_column": 72743,
         "pr": 2.814739477057233e-06,
         "user": "SpiralExchange"
        },
        {
         "_deepnote_index_column": 72744,
         "pr": 2.814739477057233e-06,
         "user": "ashura0923"
        },
        {
         "_deepnote_index_column": 72745,
         "pr": 2.814739477057233e-06,
         "user": "CryptonoobMark"
        },
        {
         "_deepnote_index_column": 72746,
         "pr": 2.814739477057233e-06,
         "user": "dlabmx"
        },
        {
         "_deepnote_index_column": 72747,
         "pr": 2.814739477057233e-06,
         "user": "fahmyrezki"
        },
        {
         "_deepnote_index_column": 72748,
         "pr": 2.814739477057233e-06,
         "user": "qtpweach"
        },
        {
         "_deepnote_index_column": 72749,
         "pr": 2.814739477057233e-06,
         "user": "BtcAnimals"
        },
        {
         "_deepnote_index_column": 72750,
         "pr": 2.814739477057233e-06,
         "user": "venprice_"
        },
        {
         "_deepnote_index_column": 72751,
         "pr": 2.814739477057233e-06,
         "user": "ByrerJohn"
        },
        {
         "_deepnote_index_column": 72752,
         "pr": 2.814739477057233e-06,
         "user": "BestBTCGambling"
        },
        {
         "_deepnote_index_column": 72753,
         "pr": 2.814739477057233e-06,
         "user": "DONAT2044"
        },
        {
         "_deepnote_index_column": 72754,
         "pr": 2.814739477057233e-06,
         "user": "colorsign"
        },
        {
         "_deepnote_index_column": 72755,
         "pr": 2.814739477057233e-06,
         "user": "Nuswantari_ari"
        },
        {
         "_deepnote_index_column": 72756,
         "pr": 2.814739477057233e-06,
         "user": "Hasbull56444585"
        },
        {
         "_deepnote_index_column": 72757,
         "pr": 2.814739477057233e-06,
         "user": "cryptonita_life"
        },
        {
         "_deepnote_index_column": 72758,
         "pr": 2.814739477057233e-06,
         "user": "Devine71Mike"
        },
        {
         "_deepnote_index_column": 72759,
         "pr": 2.814739477057233e-06,
         "user": "cryptofomohodl"
        },
        {
         "_deepnote_index_column": 72760,
         "pr": 2.814739477057233e-06,
         "user": "LollyGang_"
        },
        {
         "_deepnote_index_column": 72761,
         "pr": 2.814739477057233e-06,
         "user": "Huy67675117"
        },
        {
         "_deepnote_index_column": 72762,
         "pr": 2.814739477057233e-06,
         "user": "voypedia"
        },
        {
         "_deepnote_index_column": 72763,
         "pr": 2.814739477057233e-06,
         "user": "cryptoplace"
        },
        {
         "_deepnote_index_column": 72764,
         "pr": 2.814739477057233e-06,
         "user": "OralYALIN4"
        },
        {
         "_deepnote_index_column": 72765,
         "pr": 2.814739477057233e-06,
         "user": "hasanstc32"
        },
        {
         "_deepnote_index_column": 72766,
         "pr": 2.814739477057233e-06,
         "user": "Kurniaw54311151"
        },
        {
         "_deepnote_index_column": 72767,
         "pr": 2.814739477057233e-06,
         "user": "zkdltn"
        },
        {
         "_deepnote_index_column": 72768,
         "pr": 2.814739477057233e-06,
         "user": "bitmex_bitfinex"
        },
        {
         "_deepnote_index_column": 72769,
         "pr": 2.814739477057233e-06,
         "user": "Anthonydill10"
        },
        {
         "_deepnote_index_column": 72770,
         "pr": 2.814739477057233e-06,
         "user": "NexumT980"
        },
        {
         "_deepnote_index_column": 72771,
         "pr": 2.814739477057233e-06,
         "user": "deni0076"
        },
        {
         "_deepnote_index_column": 72772,
         "pr": 2.814739477057233e-06,
         "user": "FeliksKopylov7"
        },
        {
         "_deepnote_index_column": 72773,
         "pr": 2.814739477057233e-06,
         "user": "GqHQFtlgKLJhG5E"
        },
        {
         "_deepnote_index_column": 72774,
         "pr": 2.814739477057233e-06,
         "user": "AwingGrandhika"
        },
        {
         "_deepnote_index_column": 72775,
         "pr": 2.814739477057233e-06,
         "user": "Pencari_Coin"
        },
        {
         "_deepnote_index_column": 72776,
         "pr": 2.814739477057233e-06,
         "user": "arazibo"
        },
        {
         "_deepnote_index_column": 72777,
         "pr": 2.814739477057233e-06,
         "user": "ArifiantoJoni"
        },
        {
         "_deepnote_index_column": 72778,
         "pr": 2.814739477057233e-06,
         "user": "mihai_tim"
        },
        {
         "_deepnote_index_column": 72779,
         "pr": 2.814739477057233e-06,
         "user": "Arafik09971216"
        },
        {
         "_deepnote_index_column": 72780,
         "pr": 2.814739477057233e-06,
         "user": "gokgfb"
        },
        {
         "_deepnote_index_column": 72781,
         "pr": 2.814739477057233e-06,
         "user": "ebkankam"
        },
        {
         "_deepnote_index_column": 72782,
         "pr": 2.814739477057233e-06,
         "user": "PT_TransJakarta"
        },
        {
         "_deepnote_index_column": 72783,
         "pr": 2.814739477057233e-06,
         "user": "Jovlyy"
        },
        {
         "_deepnote_index_column": 72784,
         "pr": 2.814739477057233e-06,
         "user": "MARITB3898"
        },
        {
         "_deepnote_index_column": 72785,
         "pr": 2.814739477057233e-06,
         "user": "serdarfl"
        },
        {
         "_deepnote_index_column": 72786,
         "pr": 2.814739477057233e-06,
         "user": "kntm1729"
        },
        {
         "_deepnote_index_column": 72787,
         "pr": 2.814739477057233e-06,
         "user": "Mdra17627541"
        },
        {
         "_deepnote_index_column": 72788,
         "pr": 2.814739477057233e-06,
         "user": "DutchCryptoTalk"
        },
        {
         "_deepnote_index_column": 72789,
         "pr": 2.814739477057233e-06,
         "user": "saliget14"
        },
        {
         "_deepnote_index_column": 72790,
         "pr": 2.814739477057233e-06,
         "user": "totomannino"
        },
        {
         "_deepnote_index_column": 72791,
         "pr": 2.814739477057233e-06,
         "user": "tommykennard"
        },
        {
         "_deepnote_index_column": 72792,
         "pr": 2.814739477057233e-06,
         "user": "DARTHCRONO"
        },
        {
         "_deepnote_index_column": 72793,
         "pr": 2.814739477057233e-06,
         "user": "Mahmut00517616"
        },
        {
         "_deepnote_index_column": 72794,
         "pr": 2.814739477057233e-06,
         "user": "jestforsavings"
        },
        {
         "_deepnote_index_column": 72795,
         "pr": 2.814739477057233e-06,
         "user": "ko83174292"
        },
        {
         "_deepnote_index_column": 72796,
         "pr": 2.814739477057233e-06,
         "user": "aichaneetha"
        },
        {
         "_deepnote_index_column": 72797,
         "pr": 2.814739477057233e-06,
         "user": "deegumbs108"
        },
        {
         "_deepnote_index_column": 72798,
         "pr": 2.814739477057233e-06,
         "user": "cryptotalkss"
        },
        {
         "_deepnote_index_column": 72799,
         "pr": 2.814739477057233e-06,
         "user": "Katang"
        },
        {
         "_deepnote_index_column": 72800,
         "pr": 2.814739477057233e-06,
         "user": "SwedeCrypto"
        },
        {
         "_deepnote_index_column": 72801,
         "pr": 2.814739477057233e-06,
         "user": "Bon81Dan"
        },
        {
         "_deepnote_index_column": 72802,
         "pr": 2.814739477057233e-06,
         "user": "HackspergerV02"
        },
        {
         "_deepnote_index_column": 72803,
         "pr": 2.814739477057233e-06,
         "user": "ErnOrlando"
        },
        {
         "_deepnote_index_column": 72804,
         "pr": 2.814739477057233e-06,
         "user": "UongHuyQuang1"
        },
        {
         "_deepnote_index_column": 72805,
         "pr": 2.814739477057233e-06,
         "user": "mersaluna"
        },
        {
         "_deepnote_index_column": 72806,
         "pr": 2.814739477057233e-06,
         "user": "ValerySalomatov"
        },
        {
         "_deepnote_index_column": 72807,
         "pr": 2.814739477057233e-06,
         "user": "onskygs1"
        },
        {
         "_deepnote_index_column": 72808,
         "pr": 2.814739477057233e-06,
         "user": "lorraineyoung72"
        },
        {
         "_deepnote_index_column": 72809,
         "pr": 2.814739477057233e-06,
         "user": "isaacgrover"
        },
        {
         "_deepnote_index_column": 72810,
         "pr": 2.814739477057233e-06,
         "user": "ryancar44785680"
        },
        {
         "_deepnote_index_column": 72811,
         "pr": 2.814739477057233e-06,
         "user": "b2bx_exchange"
        },
        {
         "_deepnote_index_column": 72812,
         "pr": 2.814739477057233e-06,
         "user": "victoriapear94"
        },
        {
         "_deepnote_index_column": 72813,
         "pr": 2.814739477057233e-06,
         "user": "RandomCrypto1"
        },
        {
         "_deepnote_index_column": 72814,
         "pr": 2.814739477057233e-06,
         "user": "HowardKoo_IM"
        },
        {
         "_deepnote_index_column": 72815,
         "pr": 2.814739477057233e-06,
         "user": "The_Croxfire"
        },
        {
         "_deepnote_index_column": 72816,
         "pr": 2.814739477057233e-06,
         "user": "Bidaexchange"
        },
        {
         "_deepnote_index_column": 72817,
         "pr": 2.814739477057233e-06,
         "user": "crypto__mak"
        },
        {
         "_deepnote_index_column": 72818,
         "pr": 2.814739477057233e-06,
         "user": "s1x0n36"
        },
        {
         "_deepnote_index_column": 72819,
         "pr": 2.814739477057233e-06,
         "user": "lovell9090"
        },
        {
         "_deepnote_index_column": 72820,
         "pr": 2.814739477057233e-06,
         "user": "Anomilibeats"
        },
        {
         "_deepnote_index_column": 72821,
         "pr": 2.814739477057233e-06,
         "user": "bitapeso"
        },
        {
         "_deepnote_index_column": 72822,
         "pr": 2.814739477057233e-06,
         "user": "cryptoshoppe"
        },
        {
         "_deepnote_index_column": 72823,
         "pr": 2.814739477057233e-06,
         "user": "Coong92"
        },
        {
         "_deepnote_index_column": 72824,
         "pr": 2.814739477057233e-06,
         "user": "Hextris5"
        },
        {
         "_deepnote_index_column": 72825,
         "pr": 2.814739477057233e-06,
         "user": "Everycryptoday"
        },
        {
         "_deepnote_index_column": 72826,
         "pr": 2.814739477057233e-06,
         "user": "6xsempre"
        },
        {
         "_deepnote_index_column": 72827,
         "pr": 2.814739477057233e-06,
         "user": "JOBSAeK"
        },
        {
         "_deepnote_index_column": 72828,
         "pr": 2.814739477057233e-06,
         "user": "serkanozadli"
        }
       ],
       "rows_top": [
        {
         "_deepnote_index_column": 0,
         "pr": 0.0010437978905568,
         "user": "kucoincom"
        },
        {
         "_deepnote_index_column": 1,
         "pr": 0.0005732812826451,
         "user": "BitCoin_Invest_"
        },
        {
         "_deepnote_index_column": 2,
         "pr": 0.0005373791020401,
         "user": "KEEMSTAR"
        },
        {
         "_deepnote_index_column": 3,
         "pr": 0.0005098920411553,
         "user": "pixelatedboat"
        },
        {
         "_deepnote_index_column": 4,
         "pr": 0.0004938558535471,
         "user": "Boogie2988"
        },
        {
         "_deepnote_index_column": 5,
         "pr": 0.0004838704686006,
         "user": "ljxie"
        },
        {
         "_deepnote_index_column": 6,
         "pr": 0.0003636905375672,
         "user": "RealJamesWoods"
        },
        {
         "_deepnote_index_column": 7,
         "pr": 0.0003409106936462,
         "user": "SantManukyan"
        },
        {
         "_deepnote_index_column": 8,
         "pr": 0.0003405127552918,
         "user": "marketcapbot"
        },
        {
         "_deepnote_index_column": 9,
         "pr": 0.0003388943157118,
         "user": "justinsuntron"
        },
        {
         "_deepnote_index_column": 10,
         "pr": 0.0003366806551996,
         "user": "BIGGESTPENNYST"
        },
        {
         "_deepnote_index_column": 11,
         "pr": 0.000301759262309,
         "user": "terracid"
        },
        {
         "_deepnote_index_column": 12,
         "pr": 0.0002967251599693,
         "user": "ArminVanBitcoin"
        },
        {
         "_deepnote_index_column": 13,
         "pr": 0.0002566245158138,
         "user": "coindesk"
        },
        {
         "_deepnote_index_column": 14,
         "pr": 0.0002527761971567,
         "user": "xp_jpy"
        },
        {
         "_deepnote_index_column": 15,
         "pr": 0.0002453735897486,
         "user": "CryptoMichNL"
        },
        {
         "_deepnote_index_column": 16,
         "pr": 0.0002396823646309,
         "user": "SatoshiLite"
        },
        {
         "_deepnote_index_column": 17,
         "pr": 0.0002279107573778,
         "user": "KuCoinUpdates"
        },
        {
         "_deepnote_index_column": 18,
         "pr": 0.0002246230524548,
         "user": "TechnicallyRon"
        },
        {
         "_deepnote_index_column": 19,
         "pr": 0.0002137636494269,
         "user": "bethereumteam"
        },
        {
         "_deepnote_index_column": 20,
         "pr": 0.0002109803752654,
         "user": "jacksfilms"
        },
        {
         "_deepnote_index_column": 21,
         "pr": 0.0002053803752734,
         "user": "spectatorindex"
        },
        {
         "_deepnote_index_column": 22,
         "pr": 0.0002017582473546,
         "user": "PeterLBrandt"
        },
        {
         "_deepnote_index_column": 23,
         "pr": 0.0001943289206326,
         "user": "NowBitcoinPrice"
        },
        {
         "_deepnote_index_column": 24,
         "pr": 0.0001886811922178,
         "user": "MichaelSuppo"
        },
        {
         "_deepnote_index_column": 25,
         "pr": 0.0001880854600042,
         "user": "pushpendrakum"
        },
        {
         "_deepnote_index_column": 26,
         "pr": 0.0001800978545837,
         "user": "LukeDashjr"
        },
        {
         "_deepnote_index_column": 27,
         "pr": 0.0001724631662059,
         "user": "squawkfox"
        },
        {
         "_deepnote_index_column": 28,
         "pr": 0.0001703683748262,
         "user": "digifinex"
        },
        {
         "_deepnote_index_column": 29,
         "pr": 0.0001664501683345,
         "user": "bennyjohnson"
        },
        {
         "_deepnote_index_column": 30,
         "pr": 0.0001631855166653,
         "user": "dentcoin"
        },
        {
         "_deepnote_index_column": 31,
         "pr": 0.0001602233025085,
         "user": "jebus911"
        },
        {
         "_deepnote_index_column": 32,
         "pr": 0.0001522899711941,
         "user": "BSD_Masternode"
        },
        {
         "_deepnote_index_column": 33,
         "pr": 0.0001474255999561,
         "user": "LandM_Marius"
        },
        {
         "_deepnote_index_column": 34,
         "pr": 0.0001419220916081,
         "user": "maxkeiser"
        },
        {
         "_deepnote_index_column": 35,
         "pr": 0.0001417778932807,
         "user": "MrMichaelNye"
        },
        {
         "_deepnote_index_column": 36,
         "pr": 0.0001377838527126,
         "user": "oleganza"
        },
        {
         "_deepnote_index_column": 37,
         "pr": 0.0001332903589861,
         "user": "edwardmorra_btc"
        },
        {
         "_deepnote_index_column": 38,
         "pr": 0.0001331447947789,
         "user": "APompliano"
        },
        {
         "_deepnote_index_column": 39,
         "pr": 0.0001293833682689,
         "user": "Cointelegraph"
        },
        {
         "_deepnote_index_column": 40,
         "pr": 0.00012898779228,
         "user": "coin_post"
        },
        {
         "_deepnote_index_column": 41,
         "pr": 0.0001287821396533,
         "user": "ZeusZissou"
        },
        {
         "_deepnote_index_column": 42,
         "pr": 0.000125242506349,
         "user": "cryptomanran"
        },
        {
         "_deepnote_index_column": 43,
         "pr": 0.0001245839743523,
         "user": "ToneVays"
        },
        {
         "_deepnote_index_column": 44,
         "pr": 0.0001220371449753,
         "user": "cburniske"
        },
        {
         "_deepnote_index_column": 45,
         "pr": 0.0001195279450992,
         "user": "Tradermayne"
        },
        {
         "_deepnote_index_column": 46,
         "pr": 0.0001169996668141,
         "user": "BitcoinBirch"
        },
        {
         "_deepnote_index_column": 47,
         "pr": 0.000116774090818,
         "user": "saifedean"
        },
        {
         "_deepnote_index_column": 48,
         "pr": 0.0001163568496664,
         "user": "WhalePanda"
        },
        {
         "_deepnote_index_column": 49,
         "pr": 0.0001142530055857,
         "user": "HuobiGlobal"
        },
        {
         "_deepnote_index_column": 50,
         "pr": 0.0001136858026944,
         "user": "etherflyercom"
        },
        {
         "_deepnote_index_column": 51,
         "pr": 0.0001136304918789,
         "user": "DavidNdii"
        },
        {
         "_deepnote_index_column": 52,
         "pr": 0.0001135084855967,
         "user": "CryptoCred"
        },
        {
         "_deepnote_index_column": 53,
         "pr": 0.0001125080085493,
         "user": "DolarPromedio"
        },
        {
         "_deepnote_index_column": 54,
         "pr": 0.0001124852166978,
         "user": "Remi_Vladuceanu"
        },
        {
         "_deepnote_index_column": 55,
         "pr": 0.0001099843615527,
         "user": "greentoepalacio"
        },
        {
         "_deepnote_index_column": 56,
         "pr": 0.0001095704022653,
         "user": "CryptoDonAlt"
        },
        {
         "_deepnote_index_column": 57,
         "pr": 0.0001091783957873,
         "user": "EcexExchange"
        },
        {
         "_deepnote_index_column": 58,
         "pr": 0.0001080502801781,
         "user": "Blockchainlife"
        },
        {
         "_deepnote_index_column": 59,
         "pr": 0.0001069939457195,
         "user": "ColossusCoinXT"
        },
        {
         "_deepnote_index_column": 60,
         "pr": 0.0001069322362893,
         "user": "business"
        },
        {
         "_deepnote_index_column": 61,
         "pr": 0.0001058723659702,
         "user": "Andy_Hoffman_CG"
        },
        {
         "_deepnote_index_column": 62,
         "pr": 0.0001047447506092,
         "user": "cryptoSqueeze"
        },
        {
         "_deepnote_index_column": 63,
         "pr": 0.000103385942861,
         "user": "skiIIer"
        },
        {
         "_deepnote_index_column": 64,
         "pr": 0.0001031115144654,
         "user": "altcoinrookie"
        },
        {
         "_deepnote_index_column": 65,
         "pr": 0.0001023338255867,
         "user": "pierre_rochard"
        },
        {
         "_deepnote_index_column": 66,
         "pr": 0.0001022648497066,
         "user": "giacomozucco"
        },
        {
         "_deepnote_index_column": 67,
         "pr": 0.0001011941885725,
         "user": "narumi_btc"
        },
        {
         "_deepnote_index_column": 68,
         "pr": 0.0001004421192951,
         "user": "TraceMayer"
        },
        {
         "_deepnote_index_column": 69,
         "pr": 9.978859106064546e-05,
         "user": "devonspinnler"
        },
        {
         "_deepnote_index_column": 70,
         "pr": 9.977426511248598e-05,
         "user": "xtiandela"
        },
        {
         "_deepnote_index_column": 71,
         "pr": 9.845454998504408e-05,
         "user": "onderseren"
        },
        {
         "_deepnote_index_column": 72,
         "pr": 9.7618978322463e-05,
         "user": "Poloniex"
        },
        {
         "_deepnote_index_column": 73,
         "pr": 9.517280372872008e-05,
         "user": "AirWireOfficial"
        },
        {
         "_deepnote_index_column": 74,
         "pr": 9.488428730263304e-05,
         "user": "johnkim77"
        },
        {
         "_deepnote_index_column": 75,
         "pr": 9.473675447014168e-05,
         "user": "loomdart"
        },
        {
         "_deepnote_index_column": 76,
         "pr": 9.384305667931108e-05,
         "user": "Forbes"
        },
        {
         "_deepnote_index_column": 77,
         "pr": 9.323182369886052e-05,
         "user": "JPB_crypto"
        },
        {
         "_deepnote_index_column": 78,
         "pr": 9.277941594256826e-05,
         "user": "rogerkver"
        },
        {
         "_deepnote_index_column": 79,
         "pr": 9.2518903930625e-05,
         "user": "cointrend_jp"
        },
        {
         "_deepnote_index_column": 80,
         "pr": 9.132517003436544e-05,
         "user": "bitstein"
        },
        {
         "_deepnote_index_column": 81,
         "pr": 9.112346950960246e-05,
         "user": "CoinDeskMarkets"
        },
        {
         "_deepnote_index_column": 82,
         "pr": 9.015577537798424e-05,
         "user": "alistairmilne"
        },
        {
         "_deepnote_index_column": 83,
         "pr": 9.008908400925356e-05,
         "user": "CobraBitcoin"
        },
        {
         "_deepnote_index_column": 84,
         "pr": 8.846250359349421e-05,
         "user": "parabolictrav"
        },
        {
         "_deepnote_index_column": 85,
         "pr": 8.82761931197448e-05,
         "user": "btcseminar"
        },
        {
         "_deepnote_index_column": 86,
         "pr": 8.780373228762199e-05,
         "user": "DolarTrue_"
        },
        {
         "_deepnote_index_column": 87,
         "pr": 8.778103088801184e-05,
         "user": "nvk"
        },
        {
         "_deepnote_index_column": 88,
         "pr": 8.775420422026277e-05,
         "user": "osiriscosmos"
        },
        {
         "_deepnote_index_column": 89,
         "pr": 8.77175461197285e-05,
         "user": "Kazmax_83"
        },
        {
         "_deepnote_index_column": 90,
         "pr": 8.770324366875643e-05,
         "user": "Blockshipping"
        },
        {
         "_deepnote_index_column": 91,
         "pr": 8.763230873436855e-05,
         "user": "HubrisOne"
        },
        {
         "_deepnote_index_column": 92,
         "pr": 8.758578117811568e-05,
         "user": "Beautyon_"
        },
        {
         "_deepnote_index_column": 93,
         "pr": 8.739507445516148e-05,
         "user": "CNBCFastMoney"
        },
        {
         "_deepnote_index_column": 94,
         "pr": 8.65336098987788e-05,
         "user": "theonevortex"
        },
        {
         "_deepnote_index_column": 95,
         "pr": 8.645547697123014e-05,
         "user": "internetofshit"
        },
        {
         "_deepnote_index_column": 96,
         "pr": 8.621085860926606e-05,
         "user": "BTCTN"
        },
        {
         "_deepnote_index_column": 97,
         "pr": 8.601392879620579e-05,
         "user": "merfymerf"
        },
        {
         "_deepnote_index_column": 98,
         "pr": 8.58188956986459e-05,
         "user": "CryptoYoda1338"
        },
        {
         "_deepnote_index_column": 99,
         "pr": 8.528435674058859e-05,
         "user": "Josh_Rager"
        },
        {
         "_deepnote_index_column": 100,
         "pr": 8.407826964591095e-05,
         "user": "aencoin"
        },
        {
         "_deepnote_index_column": 101,
         "pr": 8.35074500087082e-05,
         "user": "LeeR912"
        },
        {
         "_deepnote_index_column": 102,
         "pr": 8.304005611863274e-05,
         "user": "qurrex"
        },
        {
         "_deepnote_index_column": 103,
         "pr": 8.302853048175106e-05,
         "user": "fidelitas_lex"
        },
        {
         "_deepnote_index_column": 104,
         "pr": 8.194482789203618e-05,
         "user": "real_vijay"
        },
        {
         "_deepnote_index_column": 105,
         "pr": 8.192256339978068e-05,
         "user": "PandaofBinance"
        },
        {
         "_deepnote_index_column": 106,
         "pr": 8.142718328325492e-05,
         "user": "Selcoin"
        },
        {
         "_deepnote_index_column": 107,
         "pr": 8.076113421714156e-05,
         "user": "mikerelentless"
        },
        {
         "_deepnote_index_column": 108,
         "pr": 8.065862482091755e-05,
         "user": "RedditBTC"
        },
        {
         "_deepnote_index_column": 109,
         "pr": 8.048961461351116e-05,
         "user": "officialmcafee"
        },
        {
         "_deepnote_index_column": 110,
         "pr": 7.976317162276311e-05,
         "user": "gMAKcrypto"
        },
        {
         "_deepnote_index_column": 111,
         "pr": 7.967059665799913e-05,
         "user": "360_trader"
        },
        {
         "_deepnote_index_column": 112,
         "pr": 7.862227732458022e-05,
         "user": "murthaburke"
        },
        {
         "_deepnote_index_column": 113,
         "pr": 7.791090624806812e-05,
         "user": "crypto_bobby"
        },
        {
         "_deepnote_index_column": 114,
         "pr": 7.657794277522778e-05,
         "user": "InfoNebeus"
        },
        {
         "_deepnote_index_column": 115,
         "pr": 7.589963788695335e-05,
         "user": "Coin3t"
        },
        {
         "_deepnote_index_column": 116,
         "pr": 7.555152450974149e-05,
         "user": "TheGemClub"
        },
        {
         "_deepnote_index_column": 117,
         "pr": 7.544918988379112e-05,
         "user": "asymmetricinfo"
        },
        {
         "_deepnote_index_column": 118,
         "pr": 7.531046422222667e-05,
         "user": "joaoluisjr"
        },
        {
         "_deepnote_index_column": 119,
         "pr": 7.527329347032203e-05,
         "user": "Xentagz"
        },
        {
         "_deepnote_index_column": 120,
         "pr": 7.511337729627056e-05,
         "user": "holochainnews"
        },
        {
         "_deepnote_index_column": 121,
         "pr": 7.510699088361287e-05,
         "user": "Peurtoken"
        },
        {
         "_deepnote_index_column": 122,
         "pr": 7.503635350502837e-05,
         "user": "zerohedge"
        },
        {
         "_deepnote_index_column": 123,
         "pr": 7.407444552633594e-05,
         "user": "vc_koyori"
        },
        {
         "_deepnote_index_column": 124,
         "pr": 7.405326241878499e-05,
         "user": "CryptoCret"
        },
        {
         "_deepnote_index_column": 125,
         "pr": 7.405201803719216e-05,
         "user": "TheCryptomist"
        },
        {
         "_deepnote_index_column": 126,
         "pr": 7.402845569349131e-05,
         "user": "komochi4xamo"
        },
        {
         "_deepnote_index_column": 127,
         "pr": 7.375236550448645e-05,
         "user": "BitmainCash"
        },
        {
         "_deepnote_index_column": 128,
         "pr": 7.28311458329977e-05,
         "user": "lopp"
        },
        {
         "_deepnote_index_column": 129,
         "pr": 7.277741717642367e-05,
         "user": "bcrypt"
        },
        {
         "_deepnote_index_column": 130,
         "pr": 7.225590626212773e-05,
         "user": "jiatolentino"
        },
        {
         "_deepnote_index_column": 131,
         "pr": 7.19473525480115e-05,
         "user": "VentureCoinist"
        },
        {
         "_deepnote_index_column": 132,
         "pr": 7.19379468526287e-05,
         "user": "themattcastro"
        },
        {
         "_deepnote_index_column": 133,
         "pr": 7.18285703159617e-05,
         "user": "ftec_found"
        },
        {
         "_deepnote_index_column": 134,
         "pr": 7.146489959081101e-05,
         "user": "coin_sight"
        },
        {
         "_deepnote_index_column": 135,
         "pr": 7.127165943181809e-05,
         "user": "whalepool"
        },
        {
         "_deepnote_index_column": 136,
         "pr": 7.086589017885597e-05,
         "user": "kinky_cutie_"
        },
        {
         "_deepnote_index_column": 137,
         "pr": 7.078827528873635e-05,
         "user": "WeissRatings"
        },
        {
         "_deepnote_index_column": 138,
         "pr": 7.061226760695769e-05,
         "user": "gladiusIO"
        },
        {
         "_deepnote_index_column": 139,
         "pr": 7.012804585430938e-05,
         "user": "babybr4t"
        },
        {
         "_deepnote_index_column": 140,
         "pr": 7.004737754113177e-05,
         "user": "KumaKumatw"
        },
        {
         "_deepnote_index_column": 141,
         "pr": 6.981191549815134e-05,
         "user": "Egon_01"
        },
        {
         "_deepnote_index_column": 142,
         "pr": 6.944084795855836e-05,
         "user": "AceOfWallStreet"
        },
        {
         "_deepnote_index_column": 143,
         "pr": 6.81666735702489e-05,
         "user": "ProSyndicate"
        },
        {
         "_deepnote_index_column": 144,
         "pr": 6.808972071435468e-05,
         "user": "AvciBalinalar"
        },
        {
         "_deepnote_index_column": 145,
         "pr": 6.79196607394036e-05,
         "user": "benerkanoz"
        },
        {
         "_deepnote_index_column": 146,
         "pr": 6.781245828355018e-05,
         "user": "ReformedBroker"
        },
        {
         "_deepnote_index_column": 147,
         "pr": 6.703655596382344e-05,
         "user": "ErikVoorhees"
        },
        {
         "_deepnote_index_column": 148,
         "pr": 6.689677558305067e-05,
         "user": "_jonasschnelli_"
        },
        {
         "_deepnote_index_column": 149,
         "pr": 6.613409495638375e-05,
         "user": "obussmann"
        },
        {
         "_deepnote_index_column": 150,
         "pr": 6.59688803396998e-05,
         "user": "________jeremy"
        },
        {
         "_deepnote_index_column": 151,
         "pr": 6.594527537967248e-05,
         "user": "coin_comments"
        },
        {
         "_deepnote_index_column": 152,
         "pr": 6.59248283583362e-05,
         "user": "KillerpassBOTS"
        },
        {
         "_deepnote_index_column": 153,
         "pr": 6.583090787729793e-05,
         "user": "RNR_0"
        },
        {
         "_deepnote_index_column": 154,
         "pr": 6.580569841221109e-05,
         "user": "CryptoSays"
        },
        {
         "_deepnote_index_column": 155,
         "pr": 6.554183428140366e-05,
         "user": "OsmanAgzikara"
        },
        {
         "_deepnote_index_column": 156,
         "pr": 6.529294954861747e-05,
         "user": "BitMartExchange"
        },
        {
         "_deepnote_index_column": 157,
         "pr": 6.48323978983839e-05,
         "user": "globitex_"
        },
        {
         "_deepnote_index_column": 158,
         "pr": 6.465333760922413e-05,
         "user": "BelensayFinans"
        },
        {
         "_deepnote_index_column": 159,
         "pr": 6.46478722886618e-05,
         "user": "Shahidmasooddr"
        },
        {
         "_deepnote_index_column": 160,
         "pr": 6.451429838424525e-05,
         "user": "kickcity_io"
        },
        {
         "_deepnote_index_column": 161,
         "pr": 6.442348087507379e-05,
         "user": "MoneyToken"
        },
        {
         "_deepnote_index_column": 162,
         "pr": 6.41278413549085e-05,
         "user": "litebiteu"
        },
        {
         "_deepnote_index_column": 163,
         "pr": 6.323875382467203e-05,
         "user": "Fullbeerbottle"
        },
        {
         "_deepnote_index_column": 164,
         "pr": 6.302231865267951e-05,
         "user": "short_vs_long"
        },
        {
         "_deepnote_index_column": 165,
         "pr": 6.282229400459365e-05,
         "user": "CaribBusiness"
        },
        {
         "_deepnote_index_column": 166,
         "pr": 6.268819748031789e-05,
         "user": "sparkle_trader"
        },
        {
         "_deepnote_index_column": 167,
         "pr": 6.257786547507033e-05,
         "user": "Crypto_Ed_NL"
        },
        {
         "_deepnote_index_column": 168,
         "pr": 6.249601187226082e-05,
         "user": "BitcoinMagazine"
        },
        {
         "_deepnote_index_column": 169,
         "pr": 6.20167632437272e-05,
         "user": "AnkorusGlobal"
        },
        {
         "_deepnote_index_column": 170,
         "pr": 6.191332945829799e-05,
         "user": "bitcoin_token"
        },
        {
         "_deepnote_index_column": 171,
         "pr": 6.188759044857298e-05,
         "user": "StefanKRGR"
        },
        {
         "_deepnote_index_column": 172,
         "pr": 6.145580431191522e-05,
         "user": "Monarchtoken"
        },
        {
         "_deepnote_index_column": 173,
         "pr": 6.144433325807586e-05,
         "user": "BitcoinCom"
        },
        {
         "_deepnote_index_column": 174,
         "pr": 6.126447221582924e-05,
         "user": "jpy"
        },
        {
         "_deepnote_index_column": 175,
         "pr": 6.081621912731537e-05,
         "user": "MatiGreenspan"
        },
        {
         "_deepnote_index_column": 176,
         "pr": 6.009211260433846e-05,
         "user": "BigCheds"
        },
        {
         "_deepnote_index_column": 177,
         "pr": 5.973776576604403e-05,
         "user": "RipplePandaXRP"
        },
        {
         "_deepnote_index_column": 178,
         "pr": 5.956068198637255e-05,
         "user": "RichardHeartWin"
        },
        {
         "_deepnote_index_column": 179,
         "pr": 5.937475294946015e-05,
         "user": "misir_mahmudov"
        },
        {
         "_deepnote_index_column": 180,
         "pr": 5.859667565425421e-05,
         "user": "_samuel_swinton"
        },
        {
         "_deepnote_index_column": 181,
         "pr": 5.849937879582058e-05,
         "user": "CNBC"
        },
        {
         "_deepnote_index_column": 182,
         "pr": 5.79299102370414e-05,
         "user": "Anirudh_Astro"
        },
        {
         "_deepnote_index_column": 183,
         "pr": 5.783103558916438e-05,
         "user": "CRYP7KEEPER"
        },
        {
         "_deepnote_index_column": 184,
         "pr": 5.777630629809831e-05,
         "user": "BigChonis"
        },
        {
         "_deepnote_index_column": 185,
         "pr": 5.763178859438845e-05,
         "user": "TronColony"
        },
        {
         "_deepnote_index_column": 186,
         "pr": 5.754899254093651e-05,
         "user": "Mr_CaptnObvious"
        },
        {
         "_deepnote_index_column": 187,
         "pr": 5.733197308874132e-05,
         "user": "zloadr"
        },
        {
         "_deepnote_index_column": 188,
         "pr": 5.719352854323197e-05,
         "user": "coinkafasi"
        },
        {
         "_deepnote_index_column": 189,
         "pr": 5.694808337125535e-05,
         "user": "LisaNEdwards"
        },
        {
         "_deepnote_index_column": 190,
         "pr": 5.688366460263542e-05,
         "user": "francispouliot_"
        },
        {
         "_deepnote_index_column": 191,
         "pr": 5.670798808088023e-05,
         "user": "coin_chart"
        },
        {
         "_deepnote_index_column": 192,
         "pr": 5.664593995333848e-05,
         "user": "OnWindowly"
        },
        {
         "_deepnote_index_column": 193,
         "pr": 5.637080002243033e-05,
         "user": "CoinPulseEx"
        },
        {
         "_deepnote_index_column": 194,
         "pr": 5.631303265832118e-05,
         "user": "OdysseyOCN"
        },
        {
         "_deepnote_index_column": 195,
         "pr": 5.624243697039944e-05,
         "user": "conemaru_btc"
        },
        {
         "_deepnote_index_column": 196,
         "pr": 5.6221562486804194e-05,
         "user": "uzmancoin"
        },
        {
         "_deepnote_index_column": 197,
         "pr": 5.581378322336789e-05,
         "user": "CCNMarkets"
        },
        {
         "_deepnote_index_column": 198,
         "pr": 5.571541958637533e-05,
         "user": "MPCXPlatform"
        },
        {
         "_deepnote_index_column": 199,
         "pr": 5.56808886411009e-05,
         "user": "TheCryptoDog"
        },
        {
         "_deepnote_index_column": 200,
         "pr": 5.5572280257901903e-05,
         "user": "FranciscoMemor"
        },
        {
         "_deepnote_index_column": 201,
         "pr": 5.550362416325262e-05,
         "user": "devilscompiler"
        },
        {
         "_deepnote_index_column": 202,
         "pr": 5.539516962278638e-05,
         "user": "CarpeNoctom"
        },
        {
         "_deepnote_index_column": 203,
         "pr": 5.538072165473143e-05,
         "user": "nic__carter"
        },
        {
         "_deepnote_index_column": 204,
         "pr": 5.537651599919345e-05,
         "user": "fxcanli"
        },
        {
         "_deepnote_index_column": 205,
         "pr": 5.53320172626114e-05,
         "user": "btc"
        },
        {
         "_deepnote_index_column": 206,
         "pr": 5.533123704226055e-05,
         "user": "vedicnorm"
        },
        {
         "_deepnote_index_column": 207,
         "pr": 5.529215349550999e-05,
         "user": "CryptoCoinsBoss"
        },
        {
         "_deepnote_index_column": 208,
         "pr": 5.5252023181412335e-05,
         "user": "mhiconsult"
        },
        {
         "_deepnote_index_column": 209,
         "pr": 5.509641219757637e-05,
         "user": "PhilakoneCrypto"
        },
        {
         "_deepnote_index_column": 210,
         "pr": 5.506941298850589e-05,
         "user": "FRONZ1LLA"
        },
        {
         "_deepnote_index_column": 211,
         "pr": 5.487650257713277e-05,
         "user": "WatsonsReports"
        },
        {
         "_deepnote_index_column": 212,
         "pr": 5.4830105946828725e-05,
         "user": "erikfinman"
        },
        {
         "_deepnote_index_column": 213,
         "pr": 5.429452176065928e-05,
         "user": "VinnyLingham"
        },
        {
         "_deepnote_index_column": 214,
         "pr": 5.402307816293153e-05,
         "user": "M_R_X_4"
        },
        {
         "_deepnote_index_column": 215,
         "pr": 5.400711100014363e-05,
         "user": "bsmith12251960"
        },
        {
         "_deepnote_index_column": 216,
         "pr": 5.393437063642837e-05,
         "user": "CrbkOfficial"
        },
        {
         "_deepnote_index_column": 217,
         "pr": 5.3797936059386734e-05,
         "user": "neko03122"
        },
        {
         "_deepnote_index_column": 218,
         "pr": 5.3740589580489793e-05,
         "user": "_blockandchain_"
        },
        {
         "_deepnote_index_column": 219,
         "pr": 5.369834809054012e-05,
         "user": "Forchielli"
        },
        {
         "_deepnote_index_column": 220,
         "pr": 5.3645307055023245e-05,
         "user": "BitcoinSofia"
        },
        {
         "_deepnote_index_column": 221,
         "pr": 5.3556618107277255e-05,
         "user": "MonitorDolarVe"
        },
        {
         "_deepnote_index_column": 222,
         "pr": 5.353251680771739e-05,
         "user": "jennyhoff"
        },
        {
         "_deepnote_index_column": 223,
         "pr": 5.330602392085707e-05,
         "user": "xwaav"
        },
        {
         "_deepnote_index_column": 224,
         "pr": 5.2996634987868377e-05,
         "user": "HsakaTrades"
        },
        {
         "_deepnote_index_column": 225,
         "pr": 5.298193059354669e-05,
         "user": "coinexcom"
        },
        {
         "_deepnote_index_column": 226,
         "pr": 5.2860455297312376e-05,
         "user": "Temroytoken"
        },
        {
         "_deepnote_index_column": 227,
         "pr": 5.2683527467419904e-05,
         "user": "lorenzofb"
        },
        {
         "_deepnote_index_column": 228,
         "pr": 5.2660504281880814e-05,
         "user": "getongab"
        },
        {
         "_deepnote_index_column": 229,
         "pr": 5.256797603381604e-05,
         "user": "EthereumLimited"
        },
        {
         "_deepnote_index_column": 230,
         "pr": 5.2562745670826005e-05,
         "user": "ryaneshea"
        },
        {
         "_deepnote_index_column": 231,
         "pr": 5.2553334563337575e-05,
         "user": "pacuum"
        },
        {
         "_deepnote_index_column": 232,
         "pr": 5.250787148725111e-05,
         "user": "CoinCapsAi"
        },
        {
         "_deepnote_index_column": 233,
         "pr": 5.2463919696202674e-05,
         "user": "onudabitirin"
        },
        {
         "_deepnote_index_column": 234,
         "pr": 5.2427917497264366e-05,
         "user": "SMcCullah"
        },
        {
         "_deepnote_index_column": 235,
         "pr": 5.23061404214265e-05,
         "user": "Bitinvestor2"
        },
        {
         "_deepnote_index_column": 236,
         "pr": 5.229821516444298e-05,
         "user": "TronSpark"
        },
        {
         "_deepnote_index_column": 237,
         "pr": 5.229538020174878e-05,
         "user": "kumar_farhan"
        },
        {
         "_deepnote_index_column": 238,
         "pr": 5.22318167782867e-05,
         "user": "BitcoinErrorLog"
        },
        {
         "_deepnote_index_column": 239,
         "pr": 5.219158532382535e-05,
         "user": "AktugTemel"
        },
        {
         "_deepnote_index_column": 240,
         "pr": 5.206106392487473e-05,
         "user": "LaloEscudero"
        },
        {
         "_deepnote_index_column": 241,
         "pr": 5.2010647000031e-05,
         "user": "swissborg"
        },
        {
         "_deepnote_index_column": 242,
         "pr": 5.1973341530206e-05,
         "user": "roshiyandi"
        },
        {
         "_deepnote_index_column": 243,
         "pr": 5.189550378237269e-05,
         "user": "JatanLodhi"
        },
        {
         "_deepnote_index_column": 244,
         "pr": 5.178990516810637e-05,
         "user": "TheStalwart"
        },
        {
         "_deepnote_index_column": 245,
         "pr": 5.1763820078481874e-05,
         "user": "CanX1Y"
        },
        {
         "_deepnote_index_column": 246,
         "pr": 5.176052392403615e-05,
         "user": "BenNuelle"
        },
        {
         "_deepnote_index_column": 247,
         "pr": 5.1760011925040375e-05,
         "user": "kyletorpey"
        },
        {
         "_deepnote_index_column": 248,
         "pr": 5.174126987528965e-05,
         "user": "HuobiJapan"
        },
        {
         "_deepnote_index_column": 249,
         "pr": 5.161717416280738e-05,
         "user": "mehmethamdibol"
        }
       ]
      },
      "text/html": [
       "<div>\n",
       "<style scoped>\n",
       "    .dataframe tbody tr th:only-of-type {\n",
       "        vertical-align: middle;\n",
       "    }\n",
       "\n",
       "    .dataframe tbody tr th {\n",
       "        vertical-align: top;\n",
       "    }\n",
       "\n",
       "    .dataframe thead th {\n",
       "        text-align: right;\n",
       "    }\n",
       "</style>\n",
       "<table border=\"1\" class=\"dataframe\">\n",
       "  <thead>\n",
       "    <tr style=\"text-align: right;\">\n",
       "      <th></th>\n",
       "      <th>user</th>\n",
       "      <th>pr</th>\n",
       "    </tr>\n",
       "  </thead>\n",
       "  <tbody>\n",
       "    <tr>\n",
       "      <th>0</th>\n",
       "      <td>kucoincom</td>\n",
       "      <td>0.001044</td>\n",
       "    </tr>\n",
       "    <tr>\n",
       "      <th>1</th>\n",
       "      <td>BitCoin_Invest_</td>\n",
       "      <td>0.000573</td>\n",
       "    </tr>\n",
       "    <tr>\n",
       "      <th>2</th>\n",
       "      <td>KEEMSTAR</td>\n",
       "      <td>0.000537</td>\n",
       "    </tr>\n",
       "    <tr>\n",
       "      <th>3</th>\n",
       "      <td>pixelatedboat</td>\n",
       "      <td>0.000510</td>\n",
       "    </tr>\n",
       "    <tr>\n",
       "      <th>4</th>\n",
       "      <td>Boogie2988</td>\n",
       "      <td>0.000494</td>\n",
       "    </tr>\n",
       "    <tr>\n",
       "      <th>...</th>\n",
       "      <td>...</td>\n",
       "      <td>...</td>\n",
       "    </tr>\n",
       "    <tr>\n",
       "      <th>72824</th>\n",
       "      <td>Hextris5</td>\n",
       "      <td>0.000003</td>\n",
       "    </tr>\n",
       "    <tr>\n",
       "      <th>72825</th>\n",
       "      <td>Everycryptoday</td>\n",
       "      <td>0.000003</td>\n",
       "    </tr>\n",
       "    <tr>\n",
       "      <th>72826</th>\n",
       "      <td>6xsempre</td>\n",
       "      <td>0.000003</td>\n",
       "    </tr>\n",
       "    <tr>\n",
       "      <th>72827</th>\n",
       "      <td>JOBSAeK</td>\n",
       "      <td>0.000003</td>\n",
       "    </tr>\n",
       "    <tr>\n",
       "      <th>72828</th>\n",
       "      <td>serkanozadli</td>\n",
       "      <td>0.000003</td>\n",
       "    </tr>\n",
       "  </tbody>\n",
       "</table>\n",
       "<p>72829 rows × 2 columns</p>\n",
       "</div>"
      ],
      "text/plain": [
       "                  user        pr\n",
       "0            kucoincom  0.001044\n",
       "1      BitCoin_Invest_  0.000573\n",
       "2             KEEMSTAR  0.000537\n",
       "3        pixelatedboat  0.000510\n",
       "4           Boogie2988  0.000494\n",
       "...                ...       ...\n",
       "72824         Hextris5  0.000003\n",
       "72825   Everycryptoday  0.000003\n",
       "72826         6xsempre  0.000003\n",
       "72827          JOBSAeK  0.000003\n",
       "72828     serkanozadli  0.000003\n",
       "\n",
       "[72829 rows x 2 columns]"
      ]
     },
     "execution_count": 6,
     "metadata": {},
     "output_type": "execute_result"
    }
   ],
   "source": [
    "twit = pd.read_csv('init_pagerank_twitter.csv', names=[\"user\", \"pr\"])\n",
    "twit"
   ]
  },
  {
   "cell_type": "code",
   "execution_count": null,
   "metadata": {
    "cell_id": "00003-1e5f8556-7b0d-409c-9324-76b517b75293",
    "deepnote_cell_type": "code",
    "deepnote_to_be_reexecuted": false,
    "execution_millis": 416,
    "execution_start": 1619490897786,
    "source_hash": "d5a967fa",
    "tags": []
   },
   "outputs": [],
   "source": [
    "df = df.merge(twit, on='user', how='left')"
   ]
  },
  {
   "cell_type": "code",
   "execution_count": null,
   "metadata": {
    "cell_id": "00002-d355b801-11f2-400f-89bd-62e6ef9d9766",
    "deepnote_cell_type": "code",
    "deepnote_to_be_reexecuted": false,
    "execution_millis": 44,
    "execution_start": 1619490898206,
    "id": "XSfIXDdt62VK",
    "source_hash": "2eecff6d"
   },
   "outputs": [],
   "source": [
    "vol = pd.read_csv('vol.csv')"
   ]
  },
  {
   "cell_type": "code",
   "execution_count": null,
   "metadata": {
    "cell_id": "00003-70f3df1c-5b03-4737-967e-5f509eed274c",
    "colab": {
     "base_uri": "https://localhost:8080/",
     "height": 606
    },
    "deepnote_cell_type": "code",
    "deepnote_to_be_reexecuted": false,
    "execution_millis": 723,
    "execution_start": 1619490898250,
    "id": "ZQwQUV3z6-U_",
    "outputId": "157b88ce-3fa7-4024-e9db-6fa41b94d12f",
    "source_hash": "f9627eee"
   },
   "outputs": [
    {
     "data": {
      "application/vnd.deepnote.dataframe.v2+json": {
       "column_count": 22,
       "columns": [
        {
         "dtype": "int64",
         "name": "Unnamed: 0"
        },
        {
         "dtype": "int64",
         "name": "index"
        },
        {
         "dtype": "object",
         "name": "date"
        },
        {
         "dtype": "float64",
         "name": "id"
        },
        {
         "dtype": "object",
         "name": "user"
        },
        {
         "dtype": "object",
         "name": "fullname"
        },
        {
         "dtype": "object",
         "name": "url"
        },
        {
         "dtype": "object",
         "name": "timestamp"
        },
        {
         "dtype": "float64",
         "name": "replies"
        },
        {
         "dtype": "float64",
         "name": "likes"
        },
        {
         "dtype": "float64",
         "name": "retweets"
        },
        {
         "dtype": "object",
         "name": "text"
        },
        {
         "dtype": "object",
         "name": "lang"
        },
        {
         "dtype": "int64",
         "name": "year"
        },
        {
         "dtype": "int64",
         "name": "month"
        },
        {
         "dtype": "int64",
         "name": "day"
        },
        {
         "dtype": "object",
         "name": "text1"
        },
        {
         "dtype": "object",
         "name": "tags"
        },
        {
         "dtype": "object",
         "name": "promote"
        },
        {
         "dtype": "object",
         "name": "clean"
        },
        {
         "dtype": "float64",
         "name": "pr"
        },
        {
         "dtype": "object",
         "name": "vol"
        },
        {
         "dtype": "int64",
         "name": "_deepnote_index_column"
        }
       ],
       "row_count": 332461,
       "rows_bottom": [
        {
         "Unnamed: 0": 332438,
         "_deepnote_index_column": 332438,
         "clean": "btc time high btc pic twitter com yowcpeb",
         "date": "2019-05-14",
         "day": 14,
         "fullname": "Mobilenewsflash",
         "id": 1128255015561375600,
         "index": 1324358,
         "lang": "en",
         "likes": 1,
         "month": 5,
         "pr": 1.0754754152964938e-05,
         "promote": " ",
         "replies": 0,
         "retweets": 0,
         "tags": " ",
         "text": "BTC all time high is $20,089.00\n$BTC pic.twitter.com/7yoWcPE37B\n",
         "text1": "BTC all time high is $20,089.00\n$BTC pic.twitter.com/7yoWcPE37B\n",
         "timestamp": "2019-05-14 09:05:32+00",
         "url": " ",
         "user": "mobilenewsflash",
         "vol": "BULL",
         "year": 2019
        },
        {
         "Unnamed: 0": 332439,
         "_deepnote_index_column": 332439,
         "clean": "btc top last h zil st cro st mona st link st worst last h aoa st mana st true st cryptocurrency blockchain",
         "date": "2019-05-14",
         "day": 14,
         "fullname": "Crypto Price Trading 30m",
         "id": 1128261197990641700,
         "index": 1324359,
         "lang": "en",
         "likes": 1,
         "month": 5,
         "pr": 3.582738152735985e-05,
         "promote": " ",
         "replies": 2,
         "retweets": 0,
         "tags": "blockchain cryptocurrency",
         "text": "$BTC : +1.15% 8088$\nTop (last h):\n$ZIL : +7.00% 221st\n$CRO : +4.43% 809st\n$MONA : +3.10% 13596st\n$LINK : +2.88% 8615st\nWorst (last h):\n$AOA : -7.03% 226st\n$MANA : -5.74% 611st\n$TRUE : -3.40% 10590st\n#cryptocurrency #blockchain\n",
         "text1": "$BTC : +1.15% 8088$\nTop (last h):\n$ZIL : +7.00% 221st\n$CRO : +4.43% 809st\n$MONA : +3.10% 13596st\n$LINK : +2.88% 8615st\nWorst (last h):\n$AOA : -7.03% 226st\n$MANA : -5.74% 611st\n$TRUE : -3.40% 10590st\n#cryptocurrency #blockchain\n",
         "timestamp": "2019-05-14 09:30:06+00",
         "url": " ",
         "user": "CryptoPriceCall",
         "vol": "BULL",
         "year": 2019
        },
        {
         "Unnamed: 0": 332440,
         "_deepnote_index_column": 332440,
         "clean": "btcドミナンス 未承認 bitflyer spot fx 乖離 bitmex 調達率 btc eth finex frr btc usd",
         "date": "2019-05-14",
         "day": 14,
         "fullname": "BTC-Stats",
         "id": 1128261193989218400,
         "index": 1324360,
         "lang": "en",
         "likes": 0,
         "month": 5,
         "pr": 1.0180172027183393e-05,
         "promote": " ",
         "replies": 0,
         "retweets": 0,
         "tags": " ",
         "text": "  2019/05/14 20:30:05\n BTCドミナンス : 59.826%\n  未承認 : 8,048\n BitFlyer SPOT/FX/乖離\n　　888,561 / 923,479 / 3.93%\n BitMex 調達率  21:00 / 5:00\n　　BTC : 0.0234% / 0.0333%\n　　ETH : 0.1396% / 0.1898%\n Finex FRR\n　　BTC : 18.001%\n　　USD : 25.14%\n",
         "text1": "  2019/05/14 20:30:05\n BTCドミナンス : 59.826%\n  未承認 : 8,048\n BitFlyer SPOT/FX/乖離\n　　888,561 / 923,479 / 3.93%\n BitMex 調達率  21:00 / 5:00\n　　BTC : 0.0234% / 0.0333%\n　　ETH : 0.1396% / 0.1898%\n Finex FRR\n　　BTC : 18.001%\n　　USD : 25.14%\n",
         "timestamp": "2019-05-14 09:30:05+00",
         "url": " ",
         "user": "BTC_Stats",
         "vol": "BULL",
         "year": 2019
        },
        {
         "Unnamed: 0": 332441,
         "_deepnote_index_column": 332441,
         "clean": "may utc € £ bitcoin btc pic twitter com xvtrfyc",
         "date": "2019-05-14",
         "day": 14,
         "fullname": "Bitcoin Price Now",
         "id": 1128262630475489200,
         "index": 1324361,
         "lang": "en",
         "likes": 1,
         "month": 5,
         "pr": 0.0001943289206326,
         "promote": " ",
         "replies": 0,
         "retweets": 0,
         "tags": "btc Bitcoin",
         "text": "May 14, 2019 11:35:00 UTC | 8,006.40$ | 7,129.80€ | 6,181.30£ | #Bitcoin #btc pic.twitter.com/x8vtrfy96c\n",
         "text1": "May 14, 2019 11:35:00 UTC | 8,006.40$ | 7,129.80€ | 6,181.30£ | #Bitcoin #btc pic.twitter.com/x8vtrfy96c\n",
         "timestamp": "2019-05-14 09:35:47+00",
         "url": " ",
         "user": "NowBitcoinPrice",
         "vol": "BULL",
         "year": 2019
        },
        {
         "Unnamed: 0": 332442,
         "_deepnote_index_column": 332442,
         "clean": "doviz usd eur gbp btc gobaba btcturk koinim paribu koineks",
         "date": "2019-05-14",
         "day": 14,
         "fullname": "Tr Ticker Bot",
         "id": 1128258825113546800,
         "index": 1324362,
         "lang": "en",
         "likes": 0,
         "month": 5,
         "pr": 2.7219351894336337e-05,
         "promote": " ",
         "replies": 0,
         "retweets": 0,
         "tags": "Doviz BtcTurk BTC EUR Koinim Paribu GBP Gobaba USD Koineks",
         "text": "#Doviz\n-------------------\n#USD : 6.1077\n#EUR : 6.8681\n#GBP : 7.9538\n--------------------------------------\n#BTC\n-------------------\n#Gobaba  : 53941.13\n#BtcTurk : 49449.00\n#Koinim  : 49314.99\n#Paribu  : 49250.00\n#Koineks : 49549.00\n",
         "text1": "#Doviz\n-------------------\n#USD : 6.1077\n#EUR : 6.8681\n#GBP : 7.9538\n--------------------------------------\n#BTC\n-------------------\n#Gobaba  : 53941.13\n#BtcTurk : 49449.00\n#Koinim  : 49314.99\n#Paribu  : 49250.00\n#Koineks : 49549.00\n",
         "timestamp": "2019-05-14 09:20:40+00",
         "url": " ",
         "user": "tr_ticker",
         "vol": "BULL",
         "year": 2019
        },
        {
         "Unnamed: 0": 332443,
         "_deepnote_index_column": 332443,
         "clean": "current value btc aest aud bitcoin australia",
         "date": "2019-05-14",
         "day": 14,
         "fullname": "Aus BitCoin Value",
         "id": 1128259741128347600,
         "index": 1324363,
         "lang": "en",
         "likes": 0,
         "month": 5,
         "pr": 1.2622178804270422e-05,
         "promote": " ",
         "replies": 0,
         "retweets": 0,
         "tags": "bitcoin australia",
         "text": "The current value of BTC at 21:24:11 on 14/05/2019 (AEST) is $11,680.00 AUD.\n#bitcoin #australia\n",
         "text1": "The current value of BTC at 21:24:11 on 14/05/2019 (AEST) is $11,680.00 AUD.\n#bitcoin #australia\n",
         "timestamp": "2019-05-14 09:24:18+00",
         "url": " ",
         "user": "aus_bitcoin",
         "vol": "BULL",
         "year": 2019
        },
        {
         "Unnamed: 0": 332444,
         "_deepnote_index_column": 332444,
         "clean": "latest prices top cryptocurrencies usd btc eth xrp bch ltc eos bnb usdt xlm ada",
         "date": "2019-05-14",
         "day": 14,
         "fullname": "Crypcited",
         "id": 1128260909045112800,
         "index": 1324364,
         "lang": "en",
         "likes": 0,
         "month": 5,
         "pr": 2.423078971359556e-05,
         "promote": " ",
         "replies": 1,
         "retweets": 0,
         "tags": " ",
         "text": "LATEST PRICES FOR TOP 10 CRYPTOCURRENCIES (USD): \n1.) $BTC = $8,088.09\n2.) $ETH = $207.33\n3.) $XRP = $0.3813\n4.) $BCH = $394.11\n5.) $LTC = $90.72\n6.) $EOS = $5.83\n7.) $BNB = $23.83\n8.) $USDT = $1.00\n9.) $XLM = $0.1094\n10.) $ADA = $0.0777\n",
         "text1": "LATEST PRICES FOR TOP 10 CRYPTOCURRENCIES (USD): \n1.) $BTC = $8,088.09\n2.) $ETH = $207.33\n3.) $XRP = $0.3813\n4.) $BCH = $394.11\n5.) $LTC = $90.72\n6.) $EOS = $5.83\n7.) $BNB = $23.83\n8.) $USDT = $1.00\n9.) $XLM = $0.1094\n10.) $ADA = $0.0777\n",
         "timestamp": "2019-05-14 09:28:57+00",
         "url": " ",
         "user": "crypcited",
         "vol": "BULL",
         "year": 2019
        },
        {
         "Unnamed: 0": 332445,
         "_deepnote_index_column": 332445,
         "clean": "btcドミナンス 未承認 bitflyer spot fx 乖離 bitmex 調達率 btc eth finex frr btc usd",
         "date": "2019-05-14",
         "day": 14,
         "fullname": "BTC-Stats",
         "id": 1128246095438422000,
         "index": 1324365,
         "lang": "en",
         "likes": 0,
         "month": 5,
         "pr": 1.0180172027183393e-05,
         "promote": " ",
         "replies": 0,
         "retweets": 0,
         "tags": " ",
         "text": "  2019/05/14 19:30:05\n BTCドミナンス : 59.843%\n  未承認 : 11,515\n BitFlyer SPOT/FX/乖離\n　　877,574 / 909,234 / 3.608%\n BitMex 調達率  21:00 / 5:00\n　　BTC : 0.0234% / 0.0429%\n　　ETH : 0.1396% / 0.1965%\n Finex FRR\n　　BTC : 18.044%\n　　USD : 25.853%\n",
         "text1": "  2019/05/14 19:30:05\n BTCドミナンス : 59.843%\n  未承認 : 11,515\n BitFlyer SPOT/FX/乖離\n　　877,574 / 909,234 / 3.608%\n BitMex 調達率  21:00 / 5:00\n　　BTC : 0.0234% / 0.0429%\n　　ETH : 0.1396% / 0.1965%\n Finex FRR\n　　BTC : 18.044%\n　　USD : 25.853%\n",
         "timestamp": "2019-05-14 08:30:05+00",
         "url": " ",
         "user": "BTC_Stats",
         "vol": "BULL",
         "year": 2019
        },
        {
         "Unnamed: 0": 332446,
         "_deepnote_index_column": 332446,
         "clean": "hurry direct arbitrage zpt buy zpt btc market kucoin sell gateio btc market make maximum profit",
         "date": "2019-05-14",
         "day": 14,
         "fullname": "KoinKnight",
         "id": 1128247167339061200,
         "index": 1324366,
         "lang": "en",
         "likes": 0,
         "month": 5,
         "pr": 1.174071669029485e-05,
         "promote": " ",
         "replies": 0,
         "retweets": 0,
         "tags": "Kucoin ZPT. GateIo",
         "text": "Hurry! 29.54% direct arbitrage in #ZPT.\nIf you buy ZPT in BTC market from #Kucoin and sell it on #GateIo in BTC market, you can make a maximum profit of 0.00.\n",
         "text1": "Hurry! 29.54% direct arbitrage in #ZPT.\nIf you buy ZPT in BTC market from #Kucoin and sell it on #GateIo in BTC market, you can make a maximum profit of 0.00.\n",
         "timestamp": "2019-05-14 08:34:21+00",
         "url": " ",
         "user": "KoinKnight",
         "vol": "BULL",
         "year": 2019
        },
        {
         "Unnamed: 0": 332447,
         "_deepnote_index_column": 332447,
         "clean": "現在のビットコインあたりの値段は 円です 。 値段の取得日時はmay utcです bitcoin ビットコイン",
         "date": "2019-05-14",
         "day": 14,
         "fullname": "いまいくら？",
         "id": 1128240998058905600,
         "index": 1324367,
         "lang": "en",
         "likes": 0,
         "month": 5,
         "pr": 2.60554107083834e-05,
         "promote": " ",
         "replies": 0,
         "retweets": 1,
         "tags": "ビットコイン bitcoin",
         "text": "現在の1ビットコインあたりの値段は878,540.5662円です。値段の取得日時はMay 14, 2019 10:09:00 UTCです #bitcoin #ビットコイン\n",
         "text1": "現在の1ビットコインあたりの値段は878,540.5662円です。値段の取得日時はMay 14, 2019 10:09:00 UTCです #bitcoin #ビットコイン\n",
         "timestamp": "2019-05-14 08:09:50+00",
         "url": " ",
         "user": "current_price_v",
         "vol": "BULL",
         "year": 2019
        },
        {
         "Unnamed: 0": 332448,
         "_deepnote_index_column": 332448,
         "clean": "eos price primed break btc eth xrp rallies significantly … via",
         "date": "2019-05-14",
         "day": 14,
         "fullname": "Airdropdeals",
         "id": 1128244506501890000,
         "index": 1324368,
         "lang": "en",
         "likes": 0,
         "month": 5,
         "pr": 1.3104079825399502e-05,
         "promote": " ",
         "replies": 0,
         "retweets": 0,
         "tags": " ",
         "text": "EOS Price Primed To Break $6.00: BTC, ETH, XRP Rallies Significantly https://www.cryptobasenews.com/eos/eos-price-primed-to-break-6-00-btc-eth-xrp-rallies-significantly/ … via @cryptobasenews1\n",
         "text1": "EOS Price Primed To Break $6.00: BTC, ETH, XRP Rallies Significantly https://www.cryptobasenews.com/eos/eos-price-primed-to-break-6-00-btc-eth-xrp-rallies-significantly/ … via @cryptobasenews1\n",
         "timestamp": "2019-05-14 08:23:46+00",
         "url": "https://www.cryptobasenews.com/eos/eos-price-primed-to-break-6-00-btc-eth-xrp-rallies-significantly/",
         "user": "Airdroptodeals",
         "vol": "BULL",
         "year": 2019
        },
        {
         "Unnamed: 0": 332449,
         "_deepnote_index_column": 332449,
         "clean": "total market cap btc btc dominance update time gmt",
         "date": "2019-05-14",
         "day": 14,
         "fullname": "MarketCapBOT",
         "id": 1128253632699424800,
         "index": 1324371,
         "lang": "en",
         "likes": 2,
         "month": 5,
         "pr": 0.0003405127552918,
         "promote": " ",
         "replies": 0,
         "retweets": 0,
         "tags": " ",
         "text": " Total Market Cap: $238,414,295,421\n 1 BTC: $8,062.46\n BTC Dominance: 59.79%\n Update Time: 14-05-2019 - 14:00:02 (GMT+3)\n",
         "text1": " Total Market Cap: $238,414,295,421\n 1 BTC: $8,062.46\n BTC Dominance: 59.79%\n Update Time: 14-05-2019 - 14:00:02 (GMT+3)\n",
         "timestamp": "2019-05-14 09:00:02+00",
         "url": " ",
         "user": "marketcapbot",
         "vol": "BULL",
         "year": 2019
        },
        {
         "Unnamed: 0": 332450,
         "_deepnote_index_column": 332450,
         "clean": "usd eur gbp aud nzd cny chf btc eth tue may jst",
         "date": "2019-05-14",
         "day": 14,
         "fullname": "JPY",
         "id": 1128253714358079600,
         "index": 1324372,
         "lang": "en",
         "likes": 0,
         "month": 5,
         "pr": 6.126447221582924e-05,
         "promote": " ",
         "replies": 0,
         "retweets": 0,
         "tags": " ",
         "text": "USD: 109.680\nEUR: 123.130\nGBP: 142.058\nAUD:  76.140\nNZD:  72.148\nCNY:  15.938\nCHF: 108.756\nBTC: 887,226\nETH: 22,690\nTue May 14  20:00 JST\n",
         "text1": "USD: 109.680\nEUR: 123.130\nGBP: 142.058\nAUD:  76.140\nNZD:  72.148\nCNY:  15.938\nCHF: 108.756\nBTC: 887,226\nETH: 22,690\nTue May 14  20:00 JST\n",
         "timestamp": "2019-05-14 09:00:22+00",
         "url": " ",
         "user": "jpy",
         "vol": "BULL",
         "year": 2019
        },
        {
         "Unnamed: 0": 332451,
         "_deepnote_index_column": 332451,
         "clean": "h long btc btc short btc btc ls比 vs vs",
         "date": "2019-05-14",
         "day": 14,
         "fullname": "SHORT vs LONG(Beta)",
         "id": 1128253623572549600,
         "index": 1324373,
         "lang": "en",
         "likes": 0,
         "month": 5,
         "pr": 6.302231865267951e-05,
         "promote": " ",
         "replies": 0,
         "retweets": 0,
         "tags": " ",
         "text": "24H\n2019/05/14 07:00 (2019/05/13 06:59)\nLONG : 26244.59 BTC (+3759.32 BTC)\nSHORT : 26933.54 BTC (+1107.91 BTC)\nLS比 : 49%  vs 50% (46% vs 53%)\n",
         "text1": "24H\n2019/05/14 07:00 (2019/05/13 06:59)\nLONG : 26244.59 BTC (+3759.32 BTC)\nSHORT : 26933.54 BTC (+1107.91 BTC)\nLS比 : 49%  vs 50% (46% vs 53%)\n",
         "timestamp": "2019-05-14 09:00:00+00",
         "url": " ",
         "user": "short_vs_long",
         "vol": "BULL",
         "year": 2019
        },
        {
         "Unnamed: 0": 332452,
         "_deepnote_index_column": 332452,
         "clean": "gmt spindle price spd btc yobit hitbtc livecoin spd jpy yobit hitbtc livecoin",
         "date": "2019-05-14",
         "day": 14,
         "fullname": "スピンドル仮想通貨の価格通知BOT",
         "id": 1128253717873025000,
         "index": 1324376,
         "lang": "en",
         "likes": 1,
         "month": 5,
         "pr": 2.0176290363984804e-05,
         "promote": " ",
         "replies": 0,
         "retweets": 1,
         "tags": "SPINDLE",
         "text": "05-14 11:00(GMT)\n#SPINDLE price\n\n$SPD (BTC)\nYobit   :0.00000015\nHitBTC  :0.00000015\nLiveCoin:0.00000012\n\n$SPD (JPY)\nYobit   :0.13\nHitBTC  :0.13\nLiveCoin:0.11\n",
         "text1": "05-14 11:00(GMT)\n#SPINDLE price\n\n$SPD (BTC)\nYobit   :0.00000015\nHitBTC  :0.00000015\nLiveCoin:0.00000012\n\n$SPD (JPY)\nYobit   :0.13\nHitBTC  :0.13\nLiveCoin:0.11\n",
         "timestamp": "2019-05-14 09:00:22+00",
         "url": " ",
         "user": "spd_price",
         "vol": "BULL",
         "year": 2019
        },
        {
         "Unnamed: 0": 332453,
         "_deepnote_index_column": 332453,
         "clean": "bitcoin btc price change h market cap ranking bitcoin btc",
         "date": "2019-05-14",
         "day": 14,
         "fullname": "Coinstats",
         "id": 1128253650336243600,
         "index": 1324377,
         "lang": "en",
         "likes": 0,
         "month": 5,
         "pr": 3.5708158977936167e-05,
         "promote": " ",
         "replies": 0,
         "retweets": 0,
         "tags": "Bitcoin BTC",
         "text": "Bitcoin - BTC\nPrice: $8,053.37\nChange in 1h: -0.21%\nMarket cap: $142,544,371,259.00\nRanking: 1\n#Bitcoin #BTC\n",
         "text1": "Bitcoin - BTC\nPrice: $8,053.37\nChange in 1h: -0.21%\nMarket cap: $142,544,371,259.00\nRanking: 1\n#Bitcoin #BTC\n",
         "timestamp": "2019-05-14 09:00:06+00",
         "url": " ",
         "user": "coinstats",
         "vol": "BULL",
         "year": 2019
        },
        {
         "Unnamed: 0": 332454,
         "_deepnote_index_column": 332454,
         "clean": "₿ btcusd bitcoin dolar güncelleme saati",
         "date": "2019-05-14",
         "day": 14,
         "fullname": "Kur Ne Oldu",
         "id": 1128253635111075800,
         "index": 1324378,
         "lang": "en",
         "likes": 0,
         "month": 5,
         "pr": 1.2420068212456572e-05,
         "promote": " ",
         "replies": 0,
         "retweets": 0,
         "tags": "Bitcoin Dolar BTCUSD",
         "text": "₿ #BTCUSD #Bitcoin = 8.064,52 #Dolar Güncelleme Saati : 14:00\n",
         "text1": "₿ #BTCUSD #Bitcoin = 8.064,52 #Dolar Güncelleme Saati : 14:00\n",
         "timestamp": "2019-05-14 09:00:03+00",
         "url": " ",
         "user": "kurneoldu",
         "vol": "BULL",
         "year": 2019
        },
        {
         "Unnamed: 0": 332455,
         "_deepnote_index_column": 332455,
         "clean": "btc 円 eth 円 etc 円 bch 円 xrp 円 xem 円 lsk 円 mona 円 仮想通貨 ビットコイン bitcoin bitflyer coincheck",
         "date": "2019-05-14",
         "day": 14,
         "fullname": "仮想通貨チャート",
         "id": 1128253642002391000,
         "index": 1324379,
         "lang": "en",
         "likes": 0,
         "month": 5,
         "pr": 5.670798808088023e-05,
         "promote": " ",
         "replies": 0,
         "retweets": 0,
         "tags": "Bitcoin Coincheck 仮想通貨 bitFlyer ビットコイン",
         "text": "2019/05/14 20:00\nBTC 885678.5円\nETH 22659.6円\nETC 704.9円\nBCH 43032.5円\nXRP 42円\nXEM 6.9円\nLSK 207.6円\nMONA 119.4円\n\n#仮想通貨 #ビットコイン #Bitcoin #bitFlyer #Coincheck\n",
         "text1": "2019/05/14 20:00\nBTC 885678.5円\nETH 22659.6円\nETC 704.9円\nBCH 43032.5円\nXRP 42円\nXEM 6.9円\nLSK 207.6円\nMONA 119.4円\n\n#仮想通貨 #ビットコイン #Bitcoin #bitFlyer #Coincheck\n",
         "timestamp": "2019-05-14 09:00:04+00",
         "url": " ",
         "user": "coin_chart",
         "vol": "BULL",
         "year": 2019
        },
        {
         "Unnamed: 0": 332456,
         "_deepnote_index_column": 332456,
         "clean": "ツイート数の多かった仮想通貨 位 btc tweets 位 trx tweets 位 xrp tweets 位 eth tweets 位 usdt tweets ～ cointrend いまtwitterで話題の仮想通貨を探せ ！",
         "date": "2019-05-14",
         "day": 14,
         "fullname": "COINTREND",
         "id": 1128253125054218200,
         "index": 1324380,
         "lang": "en",
         "likes": 0,
         "month": 5,
         "pr": 9.2518903930625e-05,
         "promote": " ",
         "replies": 0,
         "retweets": 0,
         "tags": " ",
         "text": "ツイート数の多かった仮想通貨\n1位 $BTC 650 Tweets\n2位 $TRX 269 Tweets\n3位 $XRP 201 Tweets\n4位 $ETH 69 Tweets\n5位 $USDT 42 Tweets\n2019-05-14 18:00 ～ 2019-05-14 18:59\nCOINTREND いまTwitterで話題の仮想通貨を探せ！\nhttps://cointrend.jp/ \n",
         "text1": "ツイート数の多かった仮想通貨\n1位 $BTC 650 Tweets\n2位 $TRX 269 Tweets\n3位 $XRP 201 Tweets\n4位 $ETH 69 Tweets\n5位 $USDT 42 Tweets\n2019-05-14 18:00 ～ 2019-05-14 18:59\nCOINTREND いまTwitterで話題の仮想通貨を探せ！\nhttps://cointrend.jp/ \n",
         "timestamp": "2019-05-14 08:58:01+00",
         "url": "https://cointrend.jp/",
         "user": "cointrend_jp",
         "vol": "BULL",
         "year": 2019
        },
        {
         "Unnamed: 0": 332457,
         "_deepnote_index_column": 332457,
         "clean": "btc dips usdt citing data binance price bitcoin btc dips pic twitter com glkysazii",
         "date": "2019-05-14",
         "day": 14,
         "fullname": "Александр Свечкар",
         "id": 1128249021666070400,
         "index": 1324381,
         "lang": "en",
         "likes": 0,
         "month": 5,
         "pr": 2.814739477057233e-06,
         "promote": " ",
         "replies": 0,
         "retweets": 1,
         "tags": " ",
         "text": "[BTC Dips Below 8000 USDT]\n\nCiting data from Binance, the price of Bitcoin (BTC) dips below the 8,00...\n\nhttps://bi.city/s/KU0Gf pic.twitter.com/GLkYsA4zii\n",
         "text1": "[BTC Dips Below 8000 USDT]\n\nCiting data from Binance, the price of Bitcoin (BTC) dips below the 8,00...\n\nhttps://bi.city/s/KU0Gf pic.twitter.com/GLkYsA4zii\n",
         "timestamp": "2019-05-14 08:41:43+00",
         "url": "https://bi.city/s/KU0Gf",
         "user": "SssaPTAMUo5R7RE",
         "vol": "BULL",
         "year": 2019
        },
        {
         "Unnamed: 0": 332458,
         "_deepnote_index_column": 332458,
         "clean": "doviz usd eur gbp btc gobaba btcturk koinim paribu koineks",
         "date": "2019-05-14",
         "day": 14,
         "fullname": "Tr Ticker Bot",
         "id": 1128251276205142000,
         "index": 1324382,
         "lang": "en",
         "likes": 0,
         "month": 5,
         "pr": 2.7219351894336337e-05,
         "promote": " ",
         "replies": 0,
         "retweets": 0,
         "tags": "Doviz BtcTurk BTC EUR Koinim Paribu GBP Gobaba USD Koineks",
         "text": "#Doviz\n-------------------\n#USD : 6.1077\n#EUR : 6.8681\n#GBP : 7.9538\n--------------------------------------\n#BTC\n-------------------\n#Gobaba  : 53346.42\n#BtcTurk : 48992.00\n#Koinim  : 49319.99\n#Paribu  : 49001.00\n#Koineks : 49200.00\n",
         "text1": "#Doviz\n-------------------\n#USD : 6.1077\n#EUR : 6.8681\n#GBP : 7.9538\n--------------------------------------\n#BTC\n-------------------\n#Gobaba  : 53346.42\n#BtcTurk : 48992.00\n#Koinim  : 49319.99\n#Paribu  : 49001.00\n#Koineks : 49200.00\n",
         "timestamp": "2019-05-14 08:50:40+00",
         "url": " ",
         "user": "tr_ticker",
         "vol": "BULL",
         "year": 2019
        },
        {
         "Unnamed: 0": 332459,
         "_deepnote_index_column": 332459,
         "clean": "midday update bitcoin bitcoin price resumes positive trading surpass barrier settles",
         "date": "2019-05-14",
         "day": 14,
         "fullname": "Economies.com",
         "id": 1128248852727779200,
         "index": 1324383,
         "lang": "en",
         "likes": 0,
         "month": 5,
         "pr": 1.0459407537091906e-05,
         "promote": " ",
         "replies": 0,
         "retweets": 0,
         "tags": " ",
         "text": "Midday update for bitcoin 14-05-2019: Bitcoin price resumes its positive trading to surpass 8000.00$ barrier and settles above it now, ... http://dlvr.it/R4g63l \n",
         "text1": "Midday update for bitcoin 14-05-2019: Bitcoin price resumes its positive trading to surpass 8000.00$ barrier and settles above it now, ... http://dlvr.it/R4g63l \n",
         "timestamp": "2019-05-14 08:41:02+00",
         "url": "http://dlvr.it/R4g63l",
         "user": "EconomiesCom",
         "vol": "BULL",
         "year": 2019
        },
        {
         "Unnamed: 0": 332460,
         "_deepnote_index_column": 332460,
         "clean": "happy pizza day back hanyecz bought two papa john pizzas btc time seemed like really good deal one bitcoin ’ even valued one u penny btc today equivalent yeah ’ expensive pizza bitcoin btc pic twitter com scflfjksa",
         "date": "2019-05-22",
         "day": 22,
         "fullname": "sylvia Nargaard",
         "id": 1131210958016327600,
         "index": 1324384,
         "lang": "en",
         "likes": 5,
         "month": 5,
         "pr": 1.3777568213119557e-05,
         "promote": " ",
         "replies": 0,
         "retweets": 2,
         "tags": "btc bitcoin",
         "text": "Happy pizza Day!\nBack in 2010, Hanyecz bought two Papa John's pizzas for 10,000 BTC. At the time, that seemed like a really good deal as one Bitcoin wasn’t even valued at one U.S penny.\n10,000btc today is equivalent $800,000000..\nSo yeah that’s an expensive pizza \n#bitcoin #btc pic.twitter.com/S2CFLFJkSa\n",
         "text1": "Happy pizza Day!\nBack in 2010, Hanyecz bought two Papa John's pizzas for 10,000 BTC. At the time, that seemed like a really good deal as one Bitcoin wasn’t even valued at one U.S penny.\n10,000btc today is equivalent $800,000000..\nSo yeah that’s an expensive pizza \n#bitcoin #btc pic.twitter.com/S2CFLFJkSa\n",
         "timestamp": "2019-05-22 12:51:23+00",
         "url": " ",
         "user": "sylviaNargaard1",
         "vol": "BEAR",
         "year": 2019
        }
       ],
       "rows_top": [
        {
         "Unnamed: 0": 0,
         "_deepnote_index_column": 0,
         "clean": "sell payment method sepa offer id amount btc price eur maximum eur distance",
         "date": "2017-12-05",
         "day": 5,
         "fullname": "Ar Viraj",
         "id": 937954763060273200,
         "index": 0,
         "lang": "en",
         "likes": 0,
         "month": 12,
         "pr": 2.814739477057233e-06,
         "promote": " ",
         "replies": 0,
         "retweets": 0,
         "tags": " ",
         "text": "SELL\nPayment method: SEPA\nOffer ID: 90196354\nAmount: 0.1 BTC\nPrice for 1: 10000.00 EUR\nMaximum: 1000.00 EUR\nDistance: 0.45%\n",
         "text1": "SELL\nPayment method: SEPA\nOffer ID: 90196354\nAmount: 0.1 BTC\nPrice for 1: 10000.00 EUR\nMaximum: 1000.00 EUR\nDistance: 0.45%\n",
         "timestamp": "2017-12-05 07:00:16+00",
         "url": " ",
         "user": "BisqArviraj",
         "vol": "BULL",
         "year": 2017
        },
        {
         "Unnamed: 0": 1,
         "_deepnote_index_column": 1,
         "clean": "buy pm pdt price close stop gdax coinbase btc trading bitcoin",
         "date": "2017-12-05",
         "day": 5,
         "fullname": "Cryptolligence",
         "id": 937949683195850800,
         "index": 1,
         "lang": "en",
         "likes": 0,
         "month": 12,
         "pr": 1.1883750513643218e-05,
         "promote": " ",
         "replies": 0,
         "retweets": 0,
         "tags": "coinbase gdax btc bitcoin trading",
         "text": " Buy!  (11:40:05 pm PDT)\nPrice: 11720.00 (+/- 0.5)\nClose: 11724.49 (+/- 0.5)\nStop: 11717.00 (+/- 0.5)\n#gdax #coinbase #btc #trading #bitcoin\n",
         "text1": " Buy!  (11:40:05 pm PDT)\nPrice: 11720.00 (+/- 0.5)\nClose: 11724.49 (+/- 0.5)\nStop: 11717.00 (+/- 0.5)\n#gdax #coinbase #btc #trading #bitcoin\n",
         "timestamp": "2017-12-05 06:40:05+00",
         "url": " ",
         "user": "cryptolligence",
         "vol": "BULL",
         "year": 2017
        },
        {
         "Unnamed: 0": 2,
         "_deepnote_index_column": 2,
         "clean": "buy pm pdt price close stop gdax coinbase btc trading bitcoin",
         "date": "2017-12-05",
         "day": 5,
         "fullname": "Cryptolligence",
         "id": 937949704263843800,
         "index": 2,
         "lang": "en",
         "likes": 0,
         "month": 12,
         "pr": 1.1883750513643218e-05,
         "promote": " ",
         "replies": 0,
         "retweets": 0,
         "tags": "coinbase gdax btc bitcoin trading",
         "text": " Buy!  (11:40:10 pm PDT)\nPrice: 11721.00 (+/- 0.5)\nClose: 11725.71 (+/- 0.5)\nStop: 11718.00 (+/- 0.5)\n#gdax #coinbase #btc #trading #bitcoin\n",
         "text1": " Buy!  (11:40:10 pm PDT)\nPrice: 11721.00 (+/- 0.5)\nClose: 11725.71 (+/- 0.5)\nStop: 11718.00 (+/- 0.5)\n#gdax #coinbase #btc #trading #bitcoin\n",
         "timestamp": "2017-12-05 06:40:10+00",
         "url": " ",
         "user": "cryptolligence",
         "vol": "BULL",
         "year": 2017
        },
        {
         "Unnamed: 0": 3,
         "_deepnote_index_column": 3,
         "clean": "bitcoin btc price change h market cap ranking bitcoin btc",
         "date": "2017-12-05",
         "day": 5,
         "fullname": "Coinstats",
         "id": 937954701324070800,
         "index": 3,
         "lang": "en",
         "likes": 0,
         "month": 12,
         "pr": 3.5708158977936167e-05,
         "promote": " ",
         "replies": 0,
         "retweets": 1,
         "tags": "Bitcoin BTC",
         "text": "Bitcoin - BTC\nPrice: $11,861.80\nChange in 1h: +1.3%\nMarket cap: $198,341,893,232.00\nRanking: 1\n#Bitcoin #BTC\n",
         "text1": "Bitcoin - BTC\nPrice: $11,861.80\nChange in 1h: +1.3%\nMarket cap: $198,341,893,232.00\nRanking: 1\n#Bitcoin #BTC\n",
         "timestamp": "2017-12-05 07:00:01+00",
         "url": " ",
         "user": "coinstats",
         "vol": "BULL",
         "year": 2017
        },
        {
         "Unnamed: 0": 4,
         "_deepnote_index_column": 4,
         "clean": "تنحصر تداولات سعر بتكوين الأخيرة داخل نموذج علم مثلثي صاعد وبالتالي ، يحتاج السعر لاختراق مستوى لتفعيل التأثير الإيجابي لهذا النموذج ومن ثم الاندفاع لمواصلة تحقيق المكاسب btcusd btc usdpic twitter com ohskbxde",
         "date": "2017-12-05",
         "day": 5,
         "fullname": "TNFX Trading",
         "id": 937953596976566400,
         "index": 4,
         "lang": "en",
         "likes": 0,
         "month": 12,
         "pr": 1.7913782804297755e-05,
         "promote": " ",
         "replies": 0,
         "retweets": 0,
         "tags": "USDpic.twitter.com/oh8SKBx4DE BTC BTCUSD",
         "text": "تنحصر تداولات سعر بتكوين الأخيرة داخل نموذج علم مثلثي صاعد وبالتالي، يحتاج السعر لاختراق مستوى 11660.00 لتفعيل التأثير الإيجابي لهذا النموذج ومن ثم الاندفاع لمواصلة تحقيق المكاسب\nhttp://t.me/TNFXtrading \n#BTCUSD #BTC #USDpic.twitter.com/oh8SKBx4DE\n",
         "text1": "تنحصر تداولات سعر بتكوين الأخيرة داخل نموذج علم مثلثي صاعد وبالتالي، يحتاج السعر لاختراق مستوى 11660.00 لتفعيل التأثير الإيجابي لهذا النموذج ومن ثم الاندفاع لمواصلة تحقيق المكاسب\nhttp://t.me/TNFXtrading \n#BTCUSD #BTC #USDpic.twitter.com/oh8SKBx4DE\n",
         "timestamp": "2017-12-05 06:55:38+00",
         "url": "http://t.me/TNFXtrading",
         "user": "TNFXtrading",
         "vol": "BULL",
         "year": 2017
        },
        {
         "Unnamed: 0": 5,
         "_deepnote_index_column": 5,
         "clean": "現在 bitcoin 円 ↑ nem xem 円 ↑ monacoin 円 ↓ ethereum 円 → zaif 円 ↑",
         "date": "2017-12-05",
         "day": 5,
         "fullname": "ASENS inc.",
         "id": 937954710106947600,
         "index": 7,
         "lang": "en",
         "likes": 0,
         "month": 12,
         "pr": 5.083290738092612e-05,
         "promote": " ",
         "replies": 0,
         "retweets": 1,
         "tags": "Monacoin Bitcoin Zaif Ethereum NEM XEM",
         "text": "12/05 17:00現在\n\n#Bitcoin : 1,316,000円↑\n#NEM #XEM : 31.85円↑\n#Monacoin : 1079.8円↓\n#Ethereum : 52,405円→\n#Zaif : 0.6171円↑\n",
         "text1": "12/05 17:00現在\n\n#Bitcoin : 1,316,000円↑\n#NEM #XEM : 31.85円↑\n#Monacoin : 1079.8円↓\n#Ethereum : 52,405円→\n#Zaif : 0.6171円↑\n",
         "timestamp": "2017-12-05 07:00:03+00",
         "url": " ",
         "user": "asens_inc",
         "vol": "BULL",
         "year": 2017
        },
        {
         "Unnamed: 0": 6,
         "_deepnote_index_column": 6,
         "clean": "btc usd us ▲ btc brl r usd brl r brasília bitcoin",
         "date": "2017-12-05",
         "day": 5,
         "fullname": "Bitcoin Price",
         "id": 937954716885143600,
         "index": 8,
         "lang": "en",
         "likes": 0,
         "month": 12,
         "pr": 1.1315986033466788e-05,
         "promote": " ",
         "replies": 0,
         "retweets": 0,
         "tags": "bitcoin",
         "text": "BTC/USD: US$ 11.728,85 ▲ 1.00% \nBTC/BRL: R$ 38.084,75\nUSD/BRL: R$ 3,25\n\n05/12/2017 05:59:58 (Brasília)\n\n#bitcoin\n",
         "text1": "BTC/USD: US$ 11.728,85 ▲ 1.00% \nBTC/BRL: R$ 38.084,75\nUSD/BRL: R$ 3,25\n\n05/12/2017 05:59:58 (Brasília)\n\n#bitcoin\n",
         "timestamp": "2017-12-05 07:00:05+00",
         "url": " ",
         "user": "BitcoinPRlCE",
         "vol": "BULL",
         "year": 2017
        },
        {
         "Unnamed: 0": 7,
         "_deepnote_index_column": 7,
         "clean": "btc bitcoin quotes bitstamp kraken ⇢ coinbase ⇢",
         "date": "2017-12-05",
         "day": 5,
         "fullname": "Bitcoin Spreads",
         "id": 937954734811512800,
         "index": 9,
         "lang": "en",
         "likes": 0,
         "month": 12,
         "pr": 1.9237785848614933e-05,
         "promote": " ",
         "replies": 0,
         "retweets": 0,
         "tags": "Coinbase Bitstamp Kraken BTC",
         "text": "1 #BTC (#Bitcoin) quotes:\n$11728.16/$11729.20 #Bitstamp\n$11790.00/$11793.43 #Kraken\n⇢$60.80/$65.27\n$11730.39/$11848.30 #Coinbase\n⇢$1.19/$120.14\n",
         "text1": "1 #BTC (#Bitcoin) quotes:\n$11728.16/$11729.20 #Bitstamp\n$11790.00/$11793.43 #Kraken\n⇢$60.80/$65.27\n$11730.39/$11848.30 #Coinbase\n⇢$1.19/$120.14\n",
         "timestamp": "2017-12-05 07:00:09+00",
         "url": " ",
         "user": "BitcoinSpreads",
         "vol": "BULL",
         "year": 2017
        },
        {
         "Unnamed: 0": 8,
         "_deepnote_index_column": 8,
         "clean": "¡ hoy en los yumature darán su valiosa opinión sobre las bitcoin partir de las en pic twitter com rdafvwjwx",
         "date": "2017-12-05",
         "day": 5,
         "fullname": "Antonio Castelo",
         "id": 937954703844839400,
         "index": 10,
         "lang": "en",
         "likes": 5,
         "month": 12,
         "pr": 1.1900149482748018e-05,
         "promote": " ",
         "replies": 0,
         "retweets": 0,
         "tags": "yuMature",
         "text": "¡HOY en @vodafoneyu los #yuMature darán su valiosa opinión sobre las BITCOIN!\nA partir de las 14:00 en http://yu.los40.com \npic.twitter.com/rdafvWJw9x\n",
         "text1": "¡HOY en @vodafoneyu los #yuMature darán su valiosa opinión sobre las BITCOIN!\nA partir de las 14:00 en http://yu.los40.com \npic.twitter.com/rdafvWJw9x\n",
         "timestamp": "2017-12-05 07:00:02+00",
         "url": "http://yu.los40.com",
         "user": "SrCastelo",
         "vol": "BULL",
         "year": 2017
        },
        {
         "Unnamed: 0": 9,
         "_deepnote_index_column": 9,
         "clean": "aralık saat btc kaç tl tl btctl btckactl bitcoin bitcoindeğeri …",
         "date": "2017-12-05",
         "day": 5,
         "fullname": "Döviz Kurları 724",
         "id": 937954954802757600,
         "index": 11,
         "lang": "en",
         "likes": 0,
         "month": 12,
         "pr": 2.201820232215984e-05,
         "promote": " ",
         "replies": 0,
         "retweets": 0,
         "tags": "BTCTL BTCKacTL bitcoin bitcoindeğerihttp://www.doviz724.com/1-bitcoin-kac-tl.html",
         "text": "05 Aralık 2017 Saat 11:00:02, 1 BTC Kaç TL, 45.453,70 TL. #BTCTL #BTCKacTL #bitcoin #bitcoindeğerihttp://www.doviz724.com/1-bitcoin-kac-tl.html …\n",
         "text1": "05 Aralık 2017 Saat 11:00:02, 1 BTC Kaç TL, 45.453,70 TL. #BTCTL #BTCKacTL #bitcoin #bitcoindeğerihttp://www.doviz724.com/1-bitcoin-kac-tl.html …\n",
         "timestamp": "2017-12-05 07:01:02+00",
         "url": "http://www.doviz724.com/1-bitcoin-kac-tl.html",
         "user": "Doviz724",
         "vol": "BULL",
         "year": 2017
        },
        {
         "Unnamed: 0": 10,
         "_deepnote_index_column": 10,
         "clean": "dec utc € £ bitcoin btc pic twitter com gcsepqk",
         "date": "2017-12-05",
         "day": 5,
         "fullname": "Bitcoin Price Now",
         "id": 937954926172540800,
         "index": 14,
         "lang": "en",
         "likes": 0,
         "month": 12,
         "pr": 0.0001943289206326,
         "promote": " ",
         "replies": 0,
         "retweets": 0,
         "tags": "btc Bitcoin",
         "text": "Dec 05, 2017 08:00:00 UTC | 11,775.20$ | 9,922.80€ | 8,762.10£ | #Bitcoin #btc pic.twitter.com/7GcSep0qK6\n",
         "text1": "Dec 05, 2017 08:00:00 UTC | 11,775.20$ | 9,922.80€ | 8,762.10£ | #Bitcoin #btc pic.twitter.com/7GcSep0qK6\n",
         "timestamp": "2017-12-05 07:00:55+00",
         "url": " ",
         "user": "NowBitcoinPrice",
         "vol": "BULL",
         "year": 2017
        },
        {
         "Unnamed: 0": 11,
         "_deepnote_index_column": 11,
         "clean": "btc real time price gdax bitstamp gemini hitbtc kraken cex",
         "date": "2017-12-05",
         "day": 5,
         "fullname": "#marketdata News",
         "id": 937911941258981200,
         "index": 15,
         "lang": "en",
         "likes": 0,
         "month": 12,
         "pr": 9.4461818063872e-06,
         "promote": " ",
         "replies": 0,
         "retweets": 0,
         "tags": "gemini; cex; hitbtc; bitstamp; GDAX; kraken;",
         "text": "BTC Real Time Price: $11581.52 #GDAX;\n$11494.64 #bitstamp;\n$11547.01 #gemini;\n$11486.88 #hitbtc;\n$11560.00 #kraken;\n$12119.70 #cex;\n",
         "text1": "BTC Real Time Price: $11581.52 #GDAX;\n$11494.64 #bitstamp;\n$11547.01 #gemini;\n$11486.88 #hitbtc;\n$11560.00 #kraken;\n$12119.70 #cex;\n",
         "timestamp": "2017-12-05 04:10:07+00",
         "url": " ",
         "user": "ergoinfo",
         "vol": "BULL",
         "year": 2017
        },
        {
         "Unnamed: 0": 12,
         "_deepnote_index_column": 12,
         "clean": "btc real time price gdax bitstamp gemini hitbtc kraken cex",
         "date": "2017-12-05",
         "day": 5,
         "fullname": "#marketdata News",
         "id": 937898094687121400,
         "index": 16,
         "lang": "en",
         "likes": 0,
         "month": 12,
         "pr": 9.4461818063872e-06,
         "promote": " ",
         "replies": 0,
         "retweets": 0,
         "tags": "gemini; cex; hitbtc; bitstamp; GDAX; kraken;",
         "text": "BTC Real Time Price: $11639.98 #GDAX;\n$11585.62 #bitstamp;\n$11629.14 #gemini;\n$11570.22 #hitbtc;\n$11583.00 #kraken;\n$12142.63 #cex;\n",
         "text1": "BTC Real Time Price: $11639.98 #GDAX;\n$11585.62 #bitstamp;\n$11629.14 #gemini;\n$11570.22 #hitbtc;\n$11583.00 #kraken;\n$12142.63 #cex;\n",
         "timestamp": "2017-12-05 03:15:05+00",
         "url": " ",
         "user": "ergoinfo",
         "vol": "BULL",
         "year": 2017
        },
        {
         "Unnamed: 0": 13,
         "_deepnote_index_column": 13,
         "clean": "btc real time price gdax bitstamp gemini hitbtc kraken cex",
         "date": "2017-12-05",
         "day": 5,
         "fullname": "#marketdata News",
         "id": 937903141844111200,
         "index": 17,
         "lang": "en",
         "likes": 0,
         "month": 12,
         "pr": 9.4461818063872e-06,
         "promote": " ",
         "replies": 0,
         "retweets": 0,
         "tags": "gemini; cex; hitbtc; bitstamp; GDAX; kraken;",
         "text": "BTC Real Time Price: $11580.00 #GDAX;\n$11472.55 #bitstamp;\n$11500.05 #gemini;\n$11448.80 #hitbtc;\n$11526.20 #kraken;\n$12080.30 #cex;\n",
         "text1": "BTC Real Time Price: $11580.00 #GDAX;\n$11472.55 #bitstamp;\n$11500.05 #gemini;\n$11448.80 #hitbtc;\n$11526.20 #kraken;\n$12080.30 #cex;\n",
         "timestamp": "2017-12-05 03:35:09+00",
         "url": " ",
         "user": "ergoinfo",
         "vol": "BULL",
         "year": 2017
        },
        {
         "Unnamed: 0": 14,
         "_deepnote_index_column": 14,
         "clean": "btc real time price gdax bitstamp gemini hitbtc kraken cex",
         "date": "2017-12-05",
         "day": 5,
         "fullname": "#marketdata News",
         "id": 937918291053596800,
         "index": 18,
         "lang": "en",
         "likes": 0,
         "month": 12,
         "pr": 9.4461818063872e-06,
         "promote": " ",
         "replies": 0,
         "retweets": 0,
         "tags": "gemini; cex; hitbtc; bitstamp; GDAX; kraken;",
         "text": "BTC Real Time Price: $11619.00 #GDAX;\n$11550.49 #bitstamp;\n$11600.00 #gemini;\n$11554.75 #hitbtc;\n$11592.00 #kraken;\n$12140.00 #cex;\n",
         "text1": "BTC Real Time Price: $11619.00 #GDAX;\n$11550.49 #bitstamp;\n$11600.00 #gemini;\n$11554.75 #hitbtc;\n$11592.00 #kraken;\n$12140.00 #cex;\n",
         "timestamp": "2017-12-05 04:35:20+00",
         "url": " ",
         "user": "ergoinfo",
         "vol": "BULL",
         "year": 2017
        },
        {
         "Unnamed: 0": 15,
         "_deepnote_index_column": 15,
         "clean": "btc real time price gdax bitstamp gemini hitbtc kraken cex",
         "date": "2017-12-05",
         "day": 5,
         "fullname": "#marketdata News",
         "id": 937925885289693200,
         "index": 19,
         "lang": "en",
         "likes": 0,
         "month": 12,
         "pr": 9.4461818063872e-06,
         "promote": " ",
         "replies": 0,
         "retweets": 0,
         "tags": "gemini; cex; hitbtc; bitstamp; GDAX; kraken;",
         "text": "BTC Real Time Price: $11603.41 #GDAX;\n$11499.73 #bitstamp;\n$11575.00 #gemini;\n$11511.42 #hitbtc;\n$11595.00 #kraken;\n$12113.73 #cex;\n",
         "text1": "BTC Real Time Price: $11603.41 #GDAX;\n$11499.73 #bitstamp;\n$11575.00 #gemini;\n$11511.42 #hitbtc;\n$11595.00 #kraken;\n$12113.73 #cex;\n",
         "timestamp": "2017-12-05 05:05:31+00",
         "url": " ",
         "user": "ergoinfo",
         "vol": "BULL",
         "year": 2017
        },
        {
         "Unnamed: 0": 16,
         "_deepnote_index_column": 16,
         "clean": "btc real time price gdax bitstamp gemini hitbtc kraken cex",
         "date": "2017-12-05",
         "day": 5,
         "fullname": "#marketdata News",
         "id": 937933386945056800,
         "index": 20,
         "lang": "en",
         "likes": 0,
         "month": 12,
         "pr": 9.4461818063872e-06,
         "promote": " ",
         "replies": 0,
         "retweets": 0,
         "tags": "gemini; cex; hitbtc; bitstamp; GDAX; kraken;",
         "text": "BTC Real Time Price: $11626.98 #GDAX;\n$11544.59 #bitstamp;\n$11629.93 #gemini;\n$11551.95 #hitbtc;\n$11590.00 #kraken;\n$12130.32 #cex;\n",
         "text1": "BTC Real Time Price: $11626.98 #GDAX;\n$11544.59 #bitstamp;\n$11629.93 #gemini;\n$11551.95 #hitbtc;\n$11590.00 #kraken;\n$12130.32 #cex;\n",
         "timestamp": "2017-12-05 05:35:20+00",
         "url": " ",
         "user": "ergoinfo",
         "vol": "BULL",
         "year": 2017
        },
        {
         "Unnamed: 0": 17,
         "_deepnote_index_column": 17,
         "clean": "btc real time price gdax bitstamp gemini hitbtc kraken cex",
         "date": "2017-12-05",
         "day": 5,
         "fullname": "#marketdata News",
         "id": 937948461969952800,
         "index": 21,
         "lang": "en",
         "likes": 0,
         "month": 12,
         "pr": 9.4461818063872e-06,
         "promote": " ",
         "replies": 0,
         "retweets": 0,
         "tags": "gemini; cex; hitbtc; bitstamp; GDAX; kraken;",
         "text": "BTC Real Time Price: $11659.00 #GDAX;\n$11545.94 #bitstamp;\n$11634.98 #gemini;\n$11600.00 #hitbtc;\n$11613.20 #kraken;\n$12181.80 #cex;\n",
         "text1": "BTC Real Time Price: $11659.00 #GDAX;\n$11545.94 #bitstamp;\n$11634.98 #gemini;\n$11600.00 #hitbtc;\n$11613.20 #kraken;\n$12181.80 #cex;\n",
         "timestamp": "2017-12-05 06:35:14+00",
         "url": " ",
         "user": "ergoinfo",
         "vol": "BULL",
         "year": 2017
        },
        {
         "Unnamed: 0": 18,
         "_deepnote_index_column": 18,
         "clean": "btc real time price gdax bitstamp gemini hitbtc kraken cex",
         "date": "2017-12-05",
         "day": 5,
         "fullname": "#marketdata News",
         "id": 937943403484057600,
         "index": 22,
         "lang": "en",
         "likes": 0,
         "month": 12,
         "pr": 9.4461818063872e-06,
         "promote": " ",
         "replies": 0,
         "retweets": 0,
         "tags": "gemini; cex; hitbtc; bitstamp; GDAX; kraken;",
         "text": "BTC Real Time Price: $11630.00 #GDAX;\n$11548.00 #bitstamp;\n$11618.97 #gemini;\n$11544.63 #hitbtc;\n$11611.50 #kraken;\n$12180.23 #cex;\n",
         "text1": "BTC Real Time Price: $11630.00 #GDAX;\n$11548.00 #bitstamp;\n$11618.97 #gemini;\n$11544.63 #hitbtc;\n$11611.50 #kraken;\n$12180.23 #cex;\n",
         "timestamp": "2017-12-05 06:15:08+00",
         "url": " ",
         "user": "ergoinfo",
         "vol": "BULL",
         "year": 2017
        },
        {
         "Unnamed: 0": 19,
         "_deepnote_index_column": 19,
         "clean": "btc real time price gdax bitstamp gemini hitbtc kraken cex",
         "date": "2017-12-05",
         "day": 5,
         "fullname": "#marketdata News",
         "id": 937956014330122200,
         "index": 23,
         "lang": "en",
         "likes": 0,
         "month": 12,
         "pr": 9.4461818063872e-06,
         "promote": " ",
         "replies": 0,
         "retweets": 0,
         "tags": "gemini; cex; hitbtc; bitstamp; GDAX; kraken;",
         "text": "BTC Real Time Price: $11792.34 #GDAX;\n$11728.14 #bitstamp;\n$11826.67 #gemini;\n$11800.00 #hitbtc;\n$11795.00 #kraken;\n$12288.00 #cex;\n",
         "text1": "BTC Real Time Price: $11792.34 #GDAX;\n$11728.14 #bitstamp;\n$11826.67 #gemini;\n$11800.00 #hitbtc;\n$11795.00 #kraken;\n$12288.00 #cex;\n",
         "timestamp": "2017-12-05 07:05:14+00",
         "url": " ",
         "user": "ergoinfo",
         "vol": "BULL",
         "year": 2017
        },
        {
         "Unnamed: 0": 20,
         "_deepnote_index_column": 20,
         "clean": "btc real time price gdax bitstamp gemini hitbtc kraken cex",
         "date": "2017-12-05",
         "day": 5,
         "fullname": "#marketdata News",
         "id": 937963543651078000,
         "index": 24,
         "lang": "en",
         "likes": 0,
         "month": 12,
         "pr": 9.4461818063872e-06,
         "promote": " ",
         "replies": 0,
         "retweets": 0,
         "tags": "gemini; cex; hitbtc; bitstamp; GDAX; kraken;",
         "text": "BTC Real Time Price: $11772.64 #GDAX;\n$11718.56 #bitstamp;\n$11795.45 #gemini;\n$11751.75 #hitbtc;\n$11779.00 #kraken;\n$12240.00 #cex;\n",
         "text1": "BTC Real Time Price: $11772.64 #GDAX;\n$11718.56 #bitstamp;\n$11795.45 #gemini;\n$11751.75 #hitbtc;\n$11779.00 #kraken;\n$12240.00 #cex;\n",
         "timestamp": "2017-12-05 07:35:09+00",
         "url": " ",
         "user": "ergoinfo",
         "vol": "BULL",
         "year": 2017
        },
        {
         "Unnamed: 0": 21,
         "_deepnote_index_column": 21,
         "clean": "btc real time price gdax bitstamp gemini hitbtc kraken cex",
         "date": "2017-12-05",
         "day": 5,
         "fullname": "#marketdata News",
         "id": 937972339236638800,
         "index": 25,
         "lang": "en",
         "likes": 0,
         "month": 12,
         "pr": 9.4461818063872e-06,
         "promote": " ",
         "replies": 0,
         "retweets": 0,
         "tags": "gemini; cex; hitbtc; bitstamp; GDAX; kraken;",
         "text": "BTC Real Time Price: $11794.16 #GDAX;\n$11732.29 #bitstamp;\n$11847.09 #gemini;\n$11784.76 #hitbtc;\n$11790.00 #kraken;\n$12275.00 #cex;\n",
         "text1": "BTC Real Time Price: $11794.16 #GDAX;\n$11732.29 #bitstamp;\n$11847.09 #gemini;\n$11784.76 #hitbtc;\n$11790.00 #kraken;\n$12275.00 #cex;\n",
         "timestamp": "2017-12-05 08:10:07+00",
         "url": " ",
         "user": "ergoinfo",
         "vol": "BULL",
         "year": 2017
        }
       ]
      },
      "text/html": [
       "<div>\n",
       "<style scoped>\n",
       "    .dataframe tbody tr th:only-of-type {\n",
       "        vertical-align: middle;\n",
       "    }\n",
       "\n",
       "    .dataframe tbody tr th {\n",
       "        vertical-align: top;\n",
       "    }\n",
       "\n",
       "    .dataframe thead th {\n",
       "        text-align: right;\n",
       "    }\n",
       "</style>\n",
       "<table border=\"1\" class=\"dataframe\">\n",
       "  <thead>\n",
       "    <tr style=\"text-align: right;\">\n",
       "      <th></th>\n",
       "      <th>Unnamed: 0</th>\n",
       "      <th>index</th>\n",
       "      <th>date</th>\n",
       "      <th>id</th>\n",
       "      <th>user</th>\n",
       "      <th>fullname</th>\n",
       "      <th>url</th>\n",
       "      <th>timestamp</th>\n",
       "      <th>replies</th>\n",
       "      <th>likes</th>\n",
       "      <th>...</th>\n",
       "      <th>lang</th>\n",
       "      <th>year</th>\n",
       "      <th>month</th>\n",
       "      <th>day</th>\n",
       "      <th>text1</th>\n",
       "      <th>tags</th>\n",
       "      <th>promote</th>\n",
       "      <th>clean</th>\n",
       "      <th>pr</th>\n",
       "      <th>vol</th>\n",
       "    </tr>\n",
       "  </thead>\n",
       "  <tbody>\n",
       "    <tr>\n",
       "      <th>0</th>\n",
       "      <td>0</td>\n",
       "      <td>0</td>\n",
       "      <td>2017-12-05</td>\n",
       "      <td>9.379548e+17</td>\n",
       "      <td>BisqArviraj</td>\n",
       "      <td>Ar Viraj</td>\n",
       "      <td></td>\n",
       "      <td>2017-12-05 07:00:16+00</td>\n",
       "      <td>0.0</td>\n",
       "      <td>0.0</td>\n",
       "      <td>...</td>\n",
       "      <td>en</td>\n",
       "      <td>2017</td>\n",
       "      <td>12</td>\n",
       "      <td>5</td>\n",
       "      <td>SELL\\nPayment method: SEPA\\nOffer ID: 90196354...</td>\n",
       "      <td></td>\n",
       "      <td></td>\n",
       "      <td>sell payment method sepa offer id amount btc p...</td>\n",
       "      <td>0.000003</td>\n",
       "      <td>BULL</td>\n",
       "    </tr>\n",
       "    <tr>\n",
       "      <th>1</th>\n",
       "      <td>1</td>\n",
       "      <td>1</td>\n",
       "      <td>2017-12-05</td>\n",
       "      <td>9.379497e+17</td>\n",
       "      <td>cryptolligence</td>\n",
       "      <td>Cryptolligence</td>\n",
       "      <td></td>\n",
       "      <td>2017-12-05 06:40:05+00</td>\n",
       "      <td>0.0</td>\n",
       "      <td>0.0</td>\n",
       "      <td>...</td>\n",
       "      <td>en</td>\n",
       "      <td>2017</td>\n",
       "      <td>12</td>\n",
       "      <td>5</td>\n",
       "      <td>Buy!  (11:40:05 pm PDT)\\nPrice: 11720.00 (+/-...</td>\n",
       "      <td>coinbase gdax btc bitcoin trading</td>\n",
       "      <td></td>\n",
       "      <td>buy pm pdt price close stop gdax coinbase btc ...</td>\n",
       "      <td>0.000012</td>\n",
       "      <td>BULL</td>\n",
       "    </tr>\n",
       "    <tr>\n",
       "      <th>2</th>\n",
       "      <td>2</td>\n",
       "      <td>2</td>\n",
       "      <td>2017-12-05</td>\n",
       "      <td>9.379497e+17</td>\n",
       "      <td>cryptolligence</td>\n",
       "      <td>Cryptolligence</td>\n",
       "      <td></td>\n",
       "      <td>2017-12-05 06:40:10+00</td>\n",
       "      <td>0.0</td>\n",
       "      <td>0.0</td>\n",
       "      <td>...</td>\n",
       "      <td>en</td>\n",
       "      <td>2017</td>\n",
       "      <td>12</td>\n",
       "      <td>5</td>\n",
       "      <td>Buy!  (11:40:10 pm PDT)\\nPrice: 11721.00 (+/-...</td>\n",
       "      <td>coinbase gdax btc bitcoin trading</td>\n",
       "      <td></td>\n",
       "      <td>buy pm pdt price close stop gdax coinbase btc ...</td>\n",
       "      <td>0.000012</td>\n",
       "      <td>BULL</td>\n",
       "    </tr>\n",
       "    <tr>\n",
       "      <th>3</th>\n",
       "      <td>3</td>\n",
       "      <td>3</td>\n",
       "      <td>2017-12-05</td>\n",
       "      <td>9.379547e+17</td>\n",
       "      <td>coinstats</td>\n",
       "      <td>Coinstats</td>\n",
       "      <td></td>\n",
       "      <td>2017-12-05 07:00:01+00</td>\n",
       "      <td>0.0</td>\n",
       "      <td>0.0</td>\n",
       "      <td>...</td>\n",
       "      <td>en</td>\n",
       "      <td>2017</td>\n",
       "      <td>12</td>\n",
       "      <td>5</td>\n",
       "      <td>Bitcoin - BTC\\nPrice: $11,861.80\\nChange in 1h...</td>\n",
       "      <td>Bitcoin BTC</td>\n",
       "      <td></td>\n",
       "      <td>bitcoin btc price change h market cap ranking ...</td>\n",
       "      <td>0.000036</td>\n",
       "      <td>BULL</td>\n",
       "    </tr>\n",
       "    <tr>\n",
       "      <th>4</th>\n",
       "      <td>4</td>\n",
       "      <td>4</td>\n",
       "      <td>2017-12-05</td>\n",
       "      <td>9.379536e+17</td>\n",
       "      <td>TNFXtrading</td>\n",
       "      <td>TNFX Trading</td>\n",
       "      <td>http://t.me/TNFXtrading</td>\n",
       "      <td>2017-12-05 06:55:38+00</td>\n",
       "      <td>0.0</td>\n",
       "      <td>0.0</td>\n",
       "      <td>...</td>\n",
       "      <td>en</td>\n",
       "      <td>2017</td>\n",
       "      <td>12</td>\n",
       "      <td>5</td>\n",
       "      <td>تنحصر تداولات سعر بتكوين الأخيرة داخل نموذج عل...</td>\n",
       "      <td>USDpic.twitter.com/oh8SKBx4DE BTC BTCUSD</td>\n",
       "      <td></td>\n",
       "      <td>تنحصر تداولات سعر بتكوين الأخيرة داخل نموذج عل...</td>\n",
       "      <td>0.000018</td>\n",
       "      <td>BULL</td>\n",
       "    </tr>\n",
       "    <tr>\n",
       "      <th>...</th>\n",
       "      <td>...</td>\n",
       "      <td>...</td>\n",
       "      <td>...</td>\n",
       "      <td>...</td>\n",
       "      <td>...</td>\n",
       "      <td>...</td>\n",
       "      <td>...</td>\n",
       "      <td>...</td>\n",
       "      <td>...</td>\n",
       "      <td>...</td>\n",
       "      <td>...</td>\n",
       "      <td>...</td>\n",
       "      <td>...</td>\n",
       "      <td>...</td>\n",
       "      <td>...</td>\n",
       "      <td>...</td>\n",
       "      <td>...</td>\n",
       "      <td>...</td>\n",
       "      <td>...</td>\n",
       "      <td>...</td>\n",
       "      <td>...</td>\n",
       "    </tr>\n",
       "    <tr>\n",
       "      <th>332456</th>\n",
       "      <td>332456</td>\n",
       "      <td>1324380</td>\n",
       "      <td>2019-05-14</td>\n",
       "      <td>1.128253e+18</td>\n",
       "      <td>cointrend_jp</td>\n",
       "      <td>COINTREND</td>\n",
       "      <td>https://cointrend.jp/</td>\n",
       "      <td>2019-05-14 08:58:01+00</td>\n",
       "      <td>0.0</td>\n",
       "      <td>0.0</td>\n",
       "      <td>...</td>\n",
       "      <td>en</td>\n",
       "      <td>2019</td>\n",
       "      <td>5</td>\n",
       "      <td>14</td>\n",
       "      <td>ツイート数の多かった仮想通貨\\n1位 $BTC 650 Tweets\\n2位 $TRX 26...</td>\n",
       "      <td></td>\n",
       "      <td></td>\n",
       "      <td>ツイート数の多かった仮想通貨 位 btc tweets 位 trx tweets 位 xrp...</td>\n",
       "      <td>0.000093</td>\n",
       "      <td>BULL</td>\n",
       "    </tr>\n",
       "    <tr>\n",
       "      <th>332457</th>\n",
       "      <td>332457</td>\n",
       "      <td>1324381</td>\n",
       "      <td>2019-05-14</td>\n",
       "      <td>1.128249e+18</td>\n",
       "      <td>SssaPTAMUo5R7RE</td>\n",
       "      <td>Александр Свечкар</td>\n",
       "      <td>https://bi.city/s/KU0Gf</td>\n",
       "      <td>2019-05-14 08:41:43+00</td>\n",
       "      <td>0.0</td>\n",
       "      <td>0.0</td>\n",
       "      <td>...</td>\n",
       "      <td>en</td>\n",
       "      <td>2019</td>\n",
       "      <td>5</td>\n",
       "      <td>14</td>\n",
       "      <td>[BTC Dips Below 8000 USDT]\\n\\nCiting data from...</td>\n",
       "      <td></td>\n",
       "      <td></td>\n",
       "      <td>btc dips usdt citing data binance price bitcoi...</td>\n",
       "      <td>0.000003</td>\n",
       "      <td>BULL</td>\n",
       "    </tr>\n",
       "    <tr>\n",
       "      <th>332458</th>\n",
       "      <td>332458</td>\n",
       "      <td>1324382</td>\n",
       "      <td>2019-05-14</td>\n",
       "      <td>1.128251e+18</td>\n",
       "      <td>tr_ticker</td>\n",
       "      <td>Tr Ticker Bot</td>\n",
       "      <td></td>\n",
       "      <td>2019-05-14 08:50:40+00</td>\n",
       "      <td>0.0</td>\n",
       "      <td>0.0</td>\n",
       "      <td>...</td>\n",
       "      <td>en</td>\n",
       "      <td>2019</td>\n",
       "      <td>5</td>\n",
       "      <td>14</td>\n",
       "      <td>#Doviz\\n-------------------\\n#USD : 6.1077\\n#E...</td>\n",
       "      <td>Doviz BtcTurk BTC EUR Koinim Paribu GBP Gobaba...</td>\n",
       "      <td></td>\n",
       "      <td>doviz usd eur gbp btc gobaba btcturk koinim pa...</td>\n",
       "      <td>0.000027</td>\n",
       "      <td>BULL</td>\n",
       "    </tr>\n",
       "    <tr>\n",
       "      <th>332459</th>\n",
       "      <td>332459</td>\n",
       "      <td>1324383</td>\n",
       "      <td>2019-05-14</td>\n",
       "      <td>1.128249e+18</td>\n",
       "      <td>EconomiesCom</td>\n",
       "      <td>Economies.com</td>\n",
       "      <td>http://dlvr.it/R4g63l</td>\n",
       "      <td>2019-05-14 08:41:02+00</td>\n",
       "      <td>0.0</td>\n",
       "      <td>0.0</td>\n",
       "      <td>...</td>\n",
       "      <td>en</td>\n",
       "      <td>2019</td>\n",
       "      <td>5</td>\n",
       "      <td>14</td>\n",
       "      <td>Midday update for bitcoin 14-05-2019: Bitcoin ...</td>\n",
       "      <td></td>\n",
       "      <td></td>\n",
       "      <td>midday update bitcoin bitcoin price resumes po...</td>\n",
       "      <td>0.000010</td>\n",
       "      <td>BULL</td>\n",
       "    </tr>\n",
       "    <tr>\n",
       "      <th>332460</th>\n",
       "      <td>332460</td>\n",
       "      <td>1324384</td>\n",
       "      <td>2019-05-22</td>\n",
       "      <td>1.131211e+18</td>\n",
       "      <td>sylviaNargaard1</td>\n",
       "      <td>sylvia Nargaard</td>\n",
       "      <td></td>\n",
       "      <td>2019-05-22 12:51:23+00</td>\n",
       "      <td>0.0</td>\n",
       "      <td>5.0</td>\n",
       "      <td>...</td>\n",
       "      <td>en</td>\n",
       "      <td>2019</td>\n",
       "      <td>5</td>\n",
       "      <td>22</td>\n",
       "      <td>Happy pizza Day!\\nBack in 2010, Hanyecz bought...</td>\n",
       "      <td>btc bitcoin</td>\n",
       "      <td></td>\n",
       "      <td>happy pizza day back hanyecz bought two papa j...</td>\n",
       "      <td>0.000014</td>\n",
       "      <td>BEAR</td>\n",
       "    </tr>\n",
       "  </tbody>\n",
       "</table>\n",
       "<p>332461 rows × 22 columns</p>\n",
       "</div>"
      ],
      "text/plain": [
       "        Unnamed: 0    index        date            id             user  \\\n",
       "0                0        0  2017-12-05  9.379548e+17      BisqArviraj   \n",
       "1                1        1  2017-12-05  9.379497e+17   cryptolligence   \n",
       "2                2        2  2017-12-05  9.379497e+17   cryptolligence   \n",
       "3                3        3  2017-12-05  9.379547e+17        coinstats   \n",
       "4                4        4  2017-12-05  9.379536e+17      TNFXtrading   \n",
       "...            ...      ...         ...           ...              ...   \n",
       "332456      332456  1324380  2019-05-14  1.128253e+18     cointrend_jp   \n",
       "332457      332457  1324381  2019-05-14  1.128249e+18  SssaPTAMUo5R7RE   \n",
       "332458      332458  1324382  2019-05-14  1.128251e+18        tr_ticker   \n",
       "332459      332459  1324383  2019-05-14  1.128249e+18     EconomiesCom   \n",
       "332460      332460  1324384  2019-05-22  1.131211e+18  sylviaNargaard1   \n",
       "\n",
       "                 fullname                      url               timestamp  \\\n",
       "0                Ar Viraj                           2017-12-05 07:00:16+00   \n",
       "1          Cryptolligence                           2017-12-05 06:40:05+00   \n",
       "2          Cryptolligence                           2017-12-05 06:40:10+00   \n",
       "3               Coinstats                           2017-12-05 07:00:01+00   \n",
       "4            TNFX Trading  http://t.me/TNFXtrading  2017-12-05 06:55:38+00   \n",
       "...                   ...                      ...                     ...   \n",
       "332456          COINTREND    https://cointrend.jp/  2019-05-14 08:58:01+00   \n",
       "332457  Александр Свечкар  https://bi.city/s/KU0Gf  2019-05-14 08:41:43+00   \n",
       "332458      Tr Ticker Bot                           2019-05-14 08:50:40+00   \n",
       "332459      Economies.com    http://dlvr.it/R4g63l  2019-05-14 08:41:02+00   \n",
       "332460    sylvia Nargaard                           2019-05-22 12:51:23+00   \n",
       "\n",
       "        replies  likes  ...  lang  year month  day  \\\n",
       "0           0.0    0.0  ...    en  2017    12    5   \n",
       "1           0.0    0.0  ...    en  2017    12    5   \n",
       "2           0.0    0.0  ...    en  2017    12    5   \n",
       "3           0.0    0.0  ...    en  2017    12    5   \n",
       "4           0.0    0.0  ...    en  2017    12    5   \n",
       "...         ...    ...  ...   ...   ...   ...  ...   \n",
       "332456      0.0    0.0  ...    en  2019     5   14   \n",
       "332457      0.0    0.0  ...    en  2019     5   14   \n",
       "332458      0.0    0.0  ...    en  2019     5   14   \n",
       "332459      0.0    0.0  ...    en  2019     5   14   \n",
       "332460      0.0    5.0  ...    en  2019     5   22   \n",
       "\n",
       "                                                    text1  \\\n",
       "0       SELL\\nPayment method: SEPA\\nOffer ID: 90196354...   \n",
       "1        Buy!  (11:40:05 pm PDT)\\nPrice: 11720.00 (+/-...   \n",
       "2        Buy!  (11:40:10 pm PDT)\\nPrice: 11721.00 (+/-...   \n",
       "3       Bitcoin - BTC\\nPrice: $11,861.80\\nChange in 1h...   \n",
       "4       تنحصر تداولات سعر بتكوين الأخيرة داخل نموذج عل...   \n",
       "...                                                   ...   \n",
       "332456  ツイート数の多かった仮想通貨\\n1位 $BTC 650 Tweets\\n2位 $TRX 26...   \n",
       "332457  [BTC Dips Below 8000 USDT]\\n\\nCiting data from...   \n",
       "332458  #Doviz\\n-------------------\\n#USD : 6.1077\\n#E...   \n",
       "332459  Midday update for bitcoin 14-05-2019: Bitcoin ...   \n",
       "332460  Happy pizza Day!\\nBack in 2010, Hanyecz bought...   \n",
       "\n",
       "                                                     tags promote  \\\n",
       "0                                                                   \n",
       "1                       coinbase gdax btc bitcoin trading           \n",
       "2                       coinbase gdax btc bitcoin trading           \n",
       "3                                             Bitcoin BTC           \n",
       "4                USDpic.twitter.com/oh8SKBx4DE BTC BTCUSD           \n",
       "...                                                   ...     ...   \n",
       "332456                                                              \n",
       "332457                                                              \n",
       "332458  Doviz BtcTurk BTC EUR Koinim Paribu GBP Gobaba...           \n",
       "332459                                                              \n",
       "332460                                        btc bitcoin           \n",
       "\n",
       "                                                    clean        pr   vol  \n",
       "0       sell payment method sepa offer id amount btc p...  0.000003  BULL  \n",
       "1       buy pm pdt price close stop gdax coinbase btc ...  0.000012  BULL  \n",
       "2       buy pm pdt price close stop gdax coinbase btc ...  0.000012  BULL  \n",
       "3       bitcoin btc price change h market cap ranking ...  0.000036  BULL  \n",
       "4       تنحصر تداولات سعر بتكوين الأخيرة داخل نموذج عل...  0.000018  BULL  \n",
       "...                                                   ...       ...   ...  \n",
       "332456  ツイート数の多かった仮想通貨 位 btc tweets 位 trx tweets 位 xrp...  0.000093  BULL  \n",
       "332457  btc dips usdt citing data binance price bitcoi...  0.000003  BULL  \n",
       "332458  doviz usd eur gbp btc gobaba btcturk koinim pa...  0.000027  BULL  \n",
       "332459  midday update bitcoin bitcoin price resumes po...  0.000010  BULL  \n",
       "332460  happy pizza day back hanyecz bought two papa j...  0.000014  BEAR  \n",
       "\n",
       "[332461 rows x 22 columns]"
      ]
     },
     "execution_count": 9,
     "metadata": {},
     "output_type": "execute_result"
    }
   ],
   "source": [
    "df = df.merge(vol, on='date', how='left')\n",
    "df"
   ]
  },
  {
   "cell_type": "code",
   "execution_count": null,
   "metadata": {
    "cell_id": "00004-61e223bc-da85-4a90-a65d-79214d1e961f",
    "colab": {
     "base_uri": "https://localhost:8080/"
    },
    "deepnote_cell_type": "code",
    "deepnote_to_be_reexecuted": false,
    "execution_millis": 705,
    "execution_start": 1619491103281,
    "id": "SH53O8AT7uV0",
    "outputId": "c88b34bc-cdd8-45d6-8f0b-79138798a8d9",
    "source_hash": "3aab3438"
   },
   "outputs": [
    {
     "name": "stderr",
     "output_type": "stream",
     "text": [
      "[nltk_data] Downloading package vader_lexicon to /root/nltk_data...\n",
      "[nltk_data]   Package vader_lexicon is already up-to-date!\n"
     ]
    },
    {
     "data": {
      "text/plain": [
       "True"
      ]
     },
     "execution_count": 11,
     "metadata": {},
     "output_type": "execute_result"
    }
   ],
   "source": [
    "import nltk\n",
    "from nltk.sentiment.vader import SentimentIntensityAnalyzer\n",
    "nltk.download('vader_lexicon')"
   ]
  },
  {
   "cell_type": "code",
   "execution_count": null,
   "metadata": {
    "cell_id": "00005-c3968696-50fd-408e-8e59-a4412d34971b",
    "deepnote_cell_type": "code",
    "deepnote_to_be_reexecuted": false,
    "execution_millis": 1,
    "execution_start": 1619491105228,
    "id": "697kGvVJ7whl",
    "source_hash": "6897c520"
   },
   "outputs": [],
   "source": [
    "def vader_compound(text):\n",
    "    sid = SentimentIntensityAnalyzer()\n",
    "    ss = sid.polarity_scores(text)\n",
    "    compound, positive, negative, neutral = ss[\"compound\"], ss[\"pos\"], ss[\"neg\"], ss[\"neu\"]\n",
    "    if compound > 0:\n",
    "      return \"BULL\"\n",
    "    return \"BEAR\""
   ]
  },
  {
   "cell_type": "code",
   "execution_count": null,
   "metadata": {
    "cell_id": "00006-d4ed3b7c-fa53-4599-98b5-d488cb771deb",
    "colab": {
     "base_uri": "https://localhost:8080/",
     "height": 341
    },
    "deepnote_cell_type": "code",
    "deepnote_to_be_reexecuted": false,
    "execution_millis": 2173492,
    "execution_start": 1619491107358,
    "id": "NaFfHD4v70UL",
    "outputId": "d0fcd467-3d23-41b0-d2c8-eadf1befccc6",
    "source_hash": "f9b476ed"
   },
   "outputs": [],
   "source": [
    "df['sent'] = df['clean'].apply(lambda x: vader_compound(str(x)))"
   ]
  },
  {
   "cell_type": "code",
   "execution_count": null,
   "metadata": {
    "cell_id": "00008-66b0fc9a-2f19-408c-8f87-bb15676151c5",
    "deepnote_cell_type": "code",
    "deepnote_to_be_reexecuted": false,
    "execution_millis": 149434,
    "execution_start": 1619493280897,
    "id": "9ylHaeUU8fce",
    "source_hash": "c4295b2d"
   },
   "outputs": [
    {
     "name": "stdout",
     "output_type": "stream",
     "text": [
      "0.5116148961833117\n"
     ]
    }
   ],
   "source": [
    "correct = 0\n",
    "count = 0 \n",
    "df = df.assign(comp=False)\n",
    "same = []\n",
    "for o, c in zip(df['sent'].iteritems(), df['vol'].iteritems()):\n",
    "  index = o[0]\n",
    "  op = o[1]\n",
    "  cl = c[1]\n",
    "  if op == cl:\n",
    "    correct += 1\n",
    "    df.loc[index,['comp']] = True\n",
    "  count += 1\n",
    "accuracy = float(correct) / float(count)\n",
    "print(accuracy)"
   ]
  },
  {
   "cell_type": "code",
   "execution_count": null,
   "metadata": {
    "cell_id": "00010-e4adf440-d3dd-4e4a-b201-9d9e285972dd",
    "deepnote_cell_type": "code",
    "deepnote_to_be_reexecuted": false,
    "execution_millis": 242,
    "execution_start": 1619493478162,
    "source_hash": "fe84fa58",
    "tags": []
   },
   "outputs": [
    {
     "name": "stdout",
     "output_type": "stream",
     "text": [
      "274811\n",
      "57650\n"
     ]
    }
   ],
   "source": [
    "train_set = df[df[\"year\"] != 2017]\n",
    "test_set = df[df[\"year\"] == 2017]\n",
    "print(len(train_set))\n",
    "print(len(test_set))"
   ]
  },
  {
   "cell_type": "code",
   "execution_count": null,
   "metadata": {
    "cell_id": "00011-7c002947-8036-4d7c-9e42-2ffa6041536d",
    "deepnote_cell_type": "code",
    "deepnote_to_be_reexecuted": false,
    "execution_millis": 444,
    "execution_start": 1619493480277,
    "source_hash": "fe6fbb93",
    "tags": []
   },
   "outputs": [
    {
     "data": {
      "application/vnd.deepnote.dataframe.v2+json": {
       "column_count": 24,
       "columns": [
        {
         "dtype": "int64",
         "name": "Unnamed: 0"
        },
        {
         "dtype": "int64",
         "name": "index"
        },
        {
         "dtype": "object",
         "name": "date"
        },
        {
         "dtype": "float64",
         "name": "id"
        },
        {
         "dtype": "object",
         "name": "user"
        },
        {
         "dtype": "object",
         "name": "fullname"
        },
        {
         "dtype": "object",
         "name": "url"
        },
        {
         "dtype": "object",
         "name": "timestamp"
        },
        {
         "dtype": "float64",
         "name": "replies"
        },
        {
         "dtype": "float64",
         "name": "likes"
        },
        {
         "dtype": "float64",
         "name": "retweets"
        },
        {
         "dtype": "object",
         "name": "text"
        },
        {
         "dtype": "object",
         "name": "lang"
        },
        {
         "dtype": "int64",
         "name": "year"
        },
        {
         "dtype": "int64",
         "name": "month"
        },
        {
         "dtype": "int64",
         "name": "day"
        },
        {
         "dtype": "object",
         "name": "text1"
        },
        {
         "dtype": "object",
         "name": "tags"
        },
        {
         "dtype": "object",
         "name": "promote"
        },
        {
         "dtype": "object",
         "name": "clean"
        },
        {
         "dtype": "float64",
         "name": "pr"
        },
        {
         "dtype": "object",
         "name": "vol"
        },
        {
         "dtype": "object",
         "name": "sent"
        },
        {
         "dtype": "bool",
         "name": "comp"
        },
        {
         "dtype": "int64",
         "name": "_deepnote_index_column"
        }
       ],
       "row_count": 274811,
       "rows_bottom": [
        {
         "Unnamed: 0": 332440,
         "_deepnote_index_column": 332440,
         "clean": "btcドミナンス 未承認 bitflyer spot fx 乖離 bitmex 調達率 btc eth finex frr btc usd",
         "comp": false,
         "date": "2019-05-14",
         "day": 14,
         "fullname": "BTC-Stats",
         "id": 1128261193989218400,
         "index": 1324360,
         "lang": "en",
         "likes": 0,
         "month": 5,
         "pr": 1.0180172027183393e-05,
         "promote": " ",
         "replies": 0,
         "retweets": 0,
         "sent": "BEAR",
         "tags": " ",
         "text": "  2019/05/14 20:30:05\n BTCドミナンス : 59.826%\n  未承認 : 8,048\n BitFlyer SPOT/FX/乖離\n　　888,561 / 923,479 / 3.93%\n BitMex 調達率  21:00 / 5:00\n　　BTC : 0.0234% / 0.0333%\n　　ETH : 0.1396% / 0.1898%\n Finex FRR\n　　BTC : 18.001%\n　　USD : 25.14%\n",
         "text1": "  2019/05/14 20:30:05\n BTCドミナンス : 59.826%\n  未承認 : 8,048\n BitFlyer SPOT/FX/乖離\n　　888,561 / 923,479 / 3.93%\n BitMex 調達率  21:00 / 5:00\n　　BTC : 0.0234% / 0.0333%\n　　ETH : 0.1396% / 0.1898%\n Finex FRR\n　　BTC : 18.001%\n　　USD : 25.14%\n",
         "timestamp": "2019-05-14 09:30:05+00",
         "url": " ",
         "user": "BTC_Stats",
         "vol": "BULL",
         "year": 2019
        },
        {
         "Unnamed: 0": 332441,
         "_deepnote_index_column": 332441,
         "clean": "may utc € £ bitcoin btc pic twitter com xvtrfyc",
         "comp": false,
         "date": "2019-05-14",
         "day": 14,
         "fullname": "Bitcoin Price Now",
         "id": 1128262630475489200,
         "index": 1324361,
         "lang": "en",
         "likes": 1,
         "month": 5,
         "pr": 0.0001943289206326,
         "promote": " ",
         "replies": 0,
         "retweets": 0,
         "sent": "BEAR",
         "tags": "btc Bitcoin",
         "text": "May 14, 2019 11:35:00 UTC | 8,006.40$ | 7,129.80€ | 6,181.30£ | #Bitcoin #btc pic.twitter.com/x8vtrfy96c\n",
         "text1": "May 14, 2019 11:35:00 UTC | 8,006.40$ | 7,129.80€ | 6,181.30£ | #Bitcoin #btc pic.twitter.com/x8vtrfy96c\n",
         "timestamp": "2019-05-14 09:35:47+00",
         "url": " ",
         "user": "NowBitcoinPrice",
         "vol": "BULL",
         "year": 2019
        },
        {
         "Unnamed: 0": 332442,
         "_deepnote_index_column": 332442,
         "clean": "doviz usd eur gbp btc gobaba btcturk koinim paribu koineks",
         "comp": false,
         "date": "2019-05-14",
         "day": 14,
         "fullname": "Tr Ticker Bot",
         "id": 1128258825113546800,
         "index": 1324362,
         "lang": "en",
         "likes": 0,
         "month": 5,
         "pr": 2.7219351894336337e-05,
         "promote": " ",
         "replies": 0,
         "retweets": 0,
         "sent": "BEAR",
         "tags": "Doviz BtcTurk BTC EUR Koinim Paribu GBP Gobaba USD Koineks",
         "text": "#Doviz\n-------------------\n#USD : 6.1077\n#EUR : 6.8681\n#GBP : 7.9538\n--------------------------------------\n#BTC\n-------------------\n#Gobaba  : 53941.13\n#BtcTurk : 49449.00\n#Koinim  : 49314.99\n#Paribu  : 49250.00\n#Koineks : 49549.00\n",
         "text1": "#Doviz\n-------------------\n#USD : 6.1077\n#EUR : 6.8681\n#GBP : 7.9538\n--------------------------------------\n#BTC\n-------------------\n#Gobaba  : 53941.13\n#BtcTurk : 49449.00\n#Koinim  : 49314.99\n#Paribu  : 49250.00\n#Koineks : 49549.00\n",
         "timestamp": "2019-05-14 09:20:40+00",
         "url": " ",
         "user": "tr_ticker",
         "vol": "BULL",
         "year": 2019
        },
        {
         "Unnamed: 0": 332443,
         "_deepnote_index_column": 332443,
         "clean": "current value btc aest aud bitcoin australia",
         "comp": true,
         "date": "2019-05-14",
         "day": 14,
         "fullname": "Aus BitCoin Value",
         "id": 1128259741128347600,
         "index": 1324363,
         "lang": "en",
         "likes": 0,
         "month": 5,
         "pr": 1.2622178804270422e-05,
         "promote": " ",
         "replies": 0,
         "retweets": 0,
         "sent": "BULL",
         "tags": "bitcoin australia",
         "text": "The current value of BTC at 21:24:11 on 14/05/2019 (AEST) is $11,680.00 AUD.\n#bitcoin #australia\n",
         "text1": "The current value of BTC at 21:24:11 on 14/05/2019 (AEST) is $11,680.00 AUD.\n#bitcoin #australia\n",
         "timestamp": "2019-05-14 09:24:18+00",
         "url": " ",
         "user": "aus_bitcoin",
         "vol": "BULL",
         "year": 2019
        },
        {
         "Unnamed: 0": 332444,
         "_deepnote_index_column": 332444,
         "clean": "latest prices top cryptocurrencies usd btc eth xrp bch ltc eos bnb usdt xlm ada",
         "comp": true,
         "date": "2019-05-14",
         "day": 14,
         "fullname": "Crypcited",
         "id": 1128260909045112800,
         "index": 1324364,
         "lang": "en",
         "likes": 0,
         "month": 5,
         "pr": 2.423078971359556e-05,
         "promote": " ",
         "replies": 1,
         "retweets": 0,
         "sent": "BULL",
         "tags": " ",
         "text": "LATEST PRICES FOR TOP 10 CRYPTOCURRENCIES (USD): \n1.) $BTC = $8,088.09\n2.) $ETH = $207.33\n3.) $XRP = $0.3813\n4.) $BCH = $394.11\n5.) $LTC = $90.72\n6.) $EOS = $5.83\n7.) $BNB = $23.83\n8.) $USDT = $1.00\n9.) $XLM = $0.1094\n10.) $ADA = $0.0777\n",
         "text1": "LATEST PRICES FOR TOP 10 CRYPTOCURRENCIES (USD): \n1.) $BTC = $8,088.09\n2.) $ETH = $207.33\n3.) $XRP = $0.3813\n4.) $BCH = $394.11\n5.) $LTC = $90.72\n6.) $EOS = $5.83\n7.) $BNB = $23.83\n8.) $USDT = $1.00\n9.) $XLM = $0.1094\n10.) $ADA = $0.0777\n",
         "timestamp": "2019-05-14 09:28:57+00",
         "url": " ",
         "user": "crypcited",
         "vol": "BULL",
         "year": 2019
        },
        {
         "Unnamed: 0": 332445,
         "_deepnote_index_column": 332445,
         "clean": "btcドミナンス 未承認 bitflyer spot fx 乖離 bitmex 調達率 btc eth finex frr btc usd",
         "comp": false,
         "date": "2019-05-14",
         "day": 14,
         "fullname": "BTC-Stats",
         "id": 1128246095438422000,
         "index": 1324365,
         "lang": "en",
         "likes": 0,
         "month": 5,
         "pr": 1.0180172027183393e-05,
         "promote": " ",
         "replies": 0,
         "retweets": 0,
         "sent": "BEAR",
         "tags": " ",
         "text": "  2019/05/14 19:30:05\n BTCドミナンス : 59.843%\n  未承認 : 11,515\n BitFlyer SPOT/FX/乖離\n　　877,574 / 909,234 / 3.608%\n BitMex 調達率  21:00 / 5:00\n　　BTC : 0.0234% / 0.0429%\n　　ETH : 0.1396% / 0.1965%\n Finex FRR\n　　BTC : 18.044%\n　　USD : 25.853%\n",
         "text1": "  2019/05/14 19:30:05\n BTCドミナンス : 59.843%\n  未承認 : 11,515\n BitFlyer SPOT/FX/乖離\n　　877,574 / 909,234 / 3.608%\n BitMex 調達率  21:00 / 5:00\n　　BTC : 0.0234% / 0.0429%\n　　ETH : 0.1396% / 0.1965%\n Finex FRR\n　　BTC : 18.044%\n　　USD : 25.853%\n",
         "timestamp": "2019-05-14 08:30:05+00",
         "url": " ",
         "user": "BTC_Stats",
         "vol": "BULL",
         "year": 2019
        },
        {
         "Unnamed: 0": 332446,
         "_deepnote_index_column": 332446,
         "clean": "hurry direct arbitrage zpt buy zpt btc market kucoin sell gateio btc market make maximum profit",
         "comp": true,
         "date": "2019-05-14",
         "day": 14,
         "fullname": "KoinKnight",
         "id": 1128247167339061200,
         "index": 1324366,
         "lang": "en",
         "likes": 0,
         "month": 5,
         "pr": 1.174071669029485e-05,
         "promote": " ",
         "replies": 0,
         "retweets": 0,
         "sent": "BULL",
         "tags": "Kucoin ZPT. GateIo",
         "text": "Hurry! 29.54% direct arbitrage in #ZPT.\nIf you buy ZPT in BTC market from #Kucoin and sell it on #GateIo in BTC market, you can make a maximum profit of 0.00.\n",
         "text1": "Hurry! 29.54% direct arbitrage in #ZPT.\nIf you buy ZPT in BTC market from #Kucoin and sell it on #GateIo in BTC market, you can make a maximum profit of 0.00.\n",
         "timestamp": "2019-05-14 08:34:21+00",
         "url": " ",
         "user": "KoinKnight",
         "vol": "BULL",
         "year": 2019
        },
        {
         "Unnamed: 0": 332447,
         "_deepnote_index_column": 332447,
         "clean": "現在のビットコインあたりの値段は 円です 。 値段の取得日時はmay utcです bitcoin ビットコイン",
         "comp": false,
         "date": "2019-05-14",
         "day": 14,
         "fullname": "いまいくら？",
         "id": 1128240998058905600,
         "index": 1324367,
         "lang": "en",
         "likes": 0,
         "month": 5,
         "pr": 2.60554107083834e-05,
         "promote": " ",
         "replies": 0,
         "retweets": 1,
         "sent": "BEAR",
         "tags": "ビットコイン bitcoin",
         "text": "現在の1ビットコインあたりの値段は878,540.5662円です。値段の取得日時はMay 14, 2019 10:09:00 UTCです #bitcoin #ビットコイン\n",
         "text1": "現在の1ビットコインあたりの値段は878,540.5662円です。値段の取得日時はMay 14, 2019 10:09:00 UTCです #bitcoin #ビットコイン\n",
         "timestamp": "2019-05-14 08:09:50+00",
         "url": " ",
         "user": "current_price_v",
         "vol": "BULL",
         "year": 2019
        },
        {
         "Unnamed: 0": 332448,
         "_deepnote_index_column": 332448,
         "clean": "eos price primed break btc eth xrp rallies significantly … via",
         "comp": false,
         "date": "2019-05-14",
         "day": 14,
         "fullname": "Airdropdeals",
         "id": 1128244506501890000,
         "index": 1324368,
         "lang": "en",
         "likes": 0,
         "month": 5,
         "pr": 1.3104079825399502e-05,
         "promote": " ",
         "replies": 0,
         "retweets": 0,
         "sent": "BEAR",
         "tags": " ",
         "text": "EOS Price Primed To Break $6.00: BTC, ETH, XRP Rallies Significantly https://www.cryptobasenews.com/eos/eos-price-primed-to-break-6-00-btc-eth-xrp-rallies-significantly/ … via @cryptobasenews1\n",
         "text1": "EOS Price Primed To Break $6.00: BTC, ETH, XRP Rallies Significantly https://www.cryptobasenews.com/eos/eos-price-primed-to-break-6-00-btc-eth-xrp-rallies-significantly/ … via @cryptobasenews1\n",
         "timestamp": "2019-05-14 08:23:46+00",
         "url": "https://www.cryptobasenews.com/eos/eos-price-primed-to-break-6-00-btc-eth-xrp-rallies-significantly/",
         "user": "Airdroptodeals",
         "vol": "BULL",
         "year": 2019
        },
        {
         "Unnamed: 0": 332449,
         "_deepnote_index_column": 332449,
         "clean": "total market cap btc btc dominance update time gmt",
         "comp": true,
         "date": "2019-05-14",
         "day": 14,
         "fullname": "MarketCapBOT",
         "id": 1128253632699424800,
         "index": 1324371,
         "lang": "en",
         "likes": 2,
         "month": 5,
         "pr": 0.0003405127552918,
         "promote": " ",
         "replies": 0,
         "retweets": 0,
         "sent": "BULL",
         "tags": " ",
         "text": " Total Market Cap: $238,414,295,421\n 1 BTC: $8,062.46\n BTC Dominance: 59.79%\n Update Time: 14-05-2019 - 14:00:02 (GMT+3)\n",
         "text1": " Total Market Cap: $238,414,295,421\n 1 BTC: $8,062.46\n BTC Dominance: 59.79%\n Update Time: 14-05-2019 - 14:00:02 (GMT+3)\n",
         "timestamp": "2019-05-14 09:00:02+00",
         "url": " ",
         "user": "marketcapbot",
         "vol": "BULL",
         "year": 2019
        },
        {
         "Unnamed: 0": 332450,
         "_deepnote_index_column": 332450,
         "clean": "usd eur gbp aud nzd cny chf btc eth tue may jst",
         "comp": false,
         "date": "2019-05-14",
         "day": 14,
         "fullname": "JPY",
         "id": 1128253714358079600,
         "index": 1324372,
         "lang": "en",
         "likes": 0,
         "month": 5,
         "pr": 6.126447221582924e-05,
         "promote": " ",
         "replies": 0,
         "retweets": 0,
         "sent": "BEAR",
         "tags": " ",
         "text": "USD: 109.680\nEUR: 123.130\nGBP: 142.058\nAUD:  76.140\nNZD:  72.148\nCNY:  15.938\nCHF: 108.756\nBTC: 887,226\nETH: 22,690\nTue May 14  20:00 JST\n",
         "text1": "USD: 109.680\nEUR: 123.130\nGBP: 142.058\nAUD:  76.140\nNZD:  72.148\nCNY:  15.938\nCHF: 108.756\nBTC: 887,226\nETH: 22,690\nTue May 14  20:00 JST\n",
         "timestamp": "2019-05-14 09:00:22+00",
         "url": " ",
         "user": "jpy",
         "vol": "BULL",
         "year": 2019
        },
        {
         "Unnamed: 0": 332451,
         "_deepnote_index_column": 332451,
         "clean": "h long btc btc short btc btc ls比 vs vs",
         "comp": false,
         "date": "2019-05-14",
         "day": 14,
         "fullname": "SHORT vs LONG(Beta)",
         "id": 1128253623572549600,
         "index": 1324373,
         "lang": "en",
         "likes": 0,
         "month": 5,
         "pr": 6.302231865267951e-05,
         "promote": " ",
         "replies": 0,
         "retweets": 0,
         "sent": "BEAR",
         "tags": " ",
         "text": "24H\n2019/05/14 07:00 (2019/05/13 06:59)\nLONG : 26244.59 BTC (+3759.32 BTC)\nSHORT : 26933.54 BTC (+1107.91 BTC)\nLS比 : 49%  vs 50% (46% vs 53%)\n",
         "text1": "24H\n2019/05/14 07:00 (2019/05/13 06:59)\nLONG : 26244.59 BTC (+3759.32 BTC)\nSHORT : 26933.54 BTC (+1107.91 BTC)\nLS比 : 49%  vs 50% (46% vs 53%)\n",
         "timestamp": "2019-05-14 09:00:00+00",
         "url": " ",
         "user": "short_vs_long",
         "vol": "BULL",
         "year": 2019
        },
        {
         "Unnamed: 0": 332452,
         "_deepnote_index_column": 332452,
         "clean": "gmt spindle price spd btc yobit hitbtc livecoin spd jpy yobit hitbtc livecoin",
         "comp": false,
         "date": "2019-05-14",
         "day": 14,
         "fullname": "スピンドル仮想通貨の価格通知BOT",
         "id": 1128253717873025000,
         "index": 1324376,
         "lang": "en",
         "likes": 1,
         "month": 5,
         "pr": 2.0176290363984804e-05,
         "promote": " ",
         "replies": 0,
         "retweets": 1,
         "sent": "BEAR",
         "tags": "SPINDLE",
         "text": "05-14 11:00(GMT)\n#SPINDLE price\n\n$SPD (BTC)\nYobit   :0.00000015\nHitBTC  :0.00000015\nLiveCoin:0.00000012\n\n$SPD (JPY)\nYobit   :0.13\nHitBTC  :0.13\nLiveCoin:0.11\n",
         "text1": "05-14 11:00(GMT)\n#SPINDLE price\n\n$SPD (BTC)\nYobit   :0.00000015\nHitBTC  :0.00000015\nLiveCoin:0.00000012\n\n$SPD (JPY)\nYobit   :0.13\nHitBTC  :0.13\nLiveCoin:0.11\n",
         "timestamp": "2019-05-14 09:00:22+00",
         "url": " ",
         "user": "spd_price",
         "vol": "BULL",
         "year": 2019
        },
        {
         "Unnamed: 0": 332453,
         "_deepnote_index_column": 332453,
         "clean": "bitcoin btc price change h market cap ranking bitcoin btc",
         "comp": false,
         "date": "2019-05-14",
         "day": 14,
         "fullname": "Coinstats",
         "id": 1128253650336243600,
         "index": 1324377,
         "lang": "en",
         "likes": 0,
         "month": 5,
         "pr": 3.5708158977936167e-05,
         "promote": " ",
         "replies": 0,
         "retweets": 0,
         "sent": "BEAR",
         "tags": "Bitcoin BTC",
         "text": "Bitcoin - BTC\nPrice: $8,053.37\nChange in 1h: -0.21%\nMarket cap: $142,544,371,259.00\nRanking: 1\n#Bitcoin #BTC\n",
         "text1": "Bitcoin - BTC\nPrice: $8,053.37\nChange in 1h: -0.21%\nMarket cap: $142,544,371,259.00\nRanking: 1\n#Bitcoin #BTC\n",
         "timestamp": "2019-05-14 09:00:06+00",
         "url": " ",
         "user": "coinstats",
         "vol": "BULL",
         "year": 2019
        },
        {
         "Unnamed: 0": 332454,
         "_deepnote_index_column": 332454,
         "clean": "₿ btcusd bitcoin dolar güncelleme saati",
         "comp": false,
         "date": "2019-05-14",
         "day": 14,
         "fullname": "Kur Ne Oldu",
         "id": 1128253635111075800,
         "index": 1324378,
         "lang": "en",
         "likes": 0,
         "month": 5,
         "pr": 1.2420068212456572e-05,
         "promote": " ",
         "replies": 0,
         "retweets": 0,
         "sent": "BEAR",
         "tags": "Bitcoin Dolar BTCUSD",
         "text": "₿ #BTCUSD #Bitcoin = 8.064,52 #Dolar Güncelleme Saati : 14:00\n",
         "text1": "₿ #BTCUSD #Bitcoin = 8.064,52 #Dolar Güncelleme Saati : 14:00\n",
         "timestamp": "2019-05-14 09:00:03+00",
         "url": " ",
         "user": "kurneoldu",
         "vol": "BULL",
         "year": 2019
        },
        {
         "Unnamed: 0": 332455,
         "_deepnote_index_column": 332455,
         "clean": "btc 円 eth 円 etc 円 bch 円 xrp 円 xem 円 lsk 円 mona 円 仮想通貨 ビットコイン bitcoin bitflyer coincheck",
         "comp": false,
         "date": "2019-05-14",
         "day": 14,
         "fullname": "仮想通貨チャート",
         "id": 1128253642002391000,
         "index": 1324379,
         "lang": "en",
         "likes": 0,
         "month": 5,
         "pr": 5.670798808088023e-05,
         "promote": " ",
         "replies": 0,
         "retweets": 0,
         "sent": "BEAR",
         "tags": "Bitcoin Coincheck 仮想通貨 bitFlyer ビットコイン",
         "text": "2019/05/14 20:00\nBTC 885678.5円\nETH 22659.6円\nETC 704.9円\nBCH 43032.5円\nXRP 42円\nXEM 6.9円\nLSK 207.6円\nMONA 119.4円\n\n#仮想通貨 #ビットコイン #Bitcoin #bitFlyer #Coincheck\n",
         "text1": "2019/05/14 20:00\nBTC 885678.5円\nETH 22659.6円\nETC 704.9円\nBCH 43032.5円\nXRP 42円\nXEM 6.9円\nLSK 207.6円\nMONA 119.4円\n\n#仮想通貨 #ビットコイン #Bitcoin #bitFlyer #Coincheck\n",
         "timestamp": "2019-05-14 09:00:04+00",
         "url": " ",
         "user": "coin_chart",
         "vol": "BULL",
         "year": 2019
        },
        {
         "Unnamed: 0": 332456,
         "_deepnote_index_column": 332456,
         "clean": "ツイート数の多かった仮想通貨 位 btc tweets 位 trx tweets 位 xrp tweets 位 eth tweets 位 usdt tweets ～ cointrend いまtwitterで話題の仮想通貨を探せ ！",
         "comp": false,
         "date": "2019-05-14",
         "day": 14,
         "fullname": "COINTREND",
         "id": 1128253125054218200,
         "index": 1324380,
         "lang": "en",
         "likes": 0,
         "month": 5,
         "pr": 9.2518903930625e-05,
         "promote": " ",
         "replies": 0,
         "retweets": 0,
         "sent": "BEAR",
         "tags": " ",
         "text": "ツイート数の多かった仮想通貨\n1位 $BTC 650 Tweets\n2位 $TRX 269 Tweets\n3位 $XRP 201 Tweets\n4位 $ETH 69 Tweets\n5位 $USDT 42 Tweets\n2019-05-14 18:00 ～ 2019-05-14 18:59\nCOINTREND いまTwitterで話題の仮想通貨を探せ！\nhttps://cointrend.jp/ \n",
         "text1": "ツイート数の多かった仮想通貨\n1位 $BTC 650 Tweets\n2位 $TRX 269 Tweets\n3位 $XRP 201 Tweets\n4位 $ETH 69 Tweets\n5位 $USDT 42 Tweets\n2019-05-14 18:00 ～ 2019-05-14 18:59\nCOINTREND いまTwitterで話題の仮想通貨を探せ！\nhttps://cointrend.jp/ \n",
         "timestamp": "2019-05-14 08:58:01+00",
         "url": "https://cointrend.jp/",
         "user": "cointrend_jp",
         "vol": "BULL",
         "year": 2019
        },
        {
         "Unnamed: 0": 332457,
         "_deepnote_index_column": 332457,
         "clean": "btc dips usdt citing data binance price bitcoin btc dips pic twitter com glkysazii",
         "comp": false,
         "date": "2019-05-14",
         "day": 14,
         "fullname": "Александр Свечкар",
         "id": 1128249021666070400,
         "index": 1324381,
         "lang": "en",
         "likes": 0,
         "month": 5,
         "pr": 2.814739477057233e-06,
         "promote": " ",
         "replies": 0,
         "retweets": 1,
         "sent": "BEAR",
         "tags": " ",
         "text": "[BTC Dips Below 8000 USDT]\n\nCiting data from Binance, the price of Bitcoin (BTC) dips below the 8,00...\n\nhttps://bi.city/s/KU0Gf pic.twitter.com/GLkYsA4zii\n",
         "text1": "[BTC Dips Below 8000 USDT]\n\nCiting data from Binance, the price of Bitcoin (BTC) dips below the 8,00...\n\nhttps://bi.city/s/KU0Gf pic.twitter.com/GLkYsA4zii\n",
         "timestamp": "2019-05-14 08:41:43+00",
         "url": "https://bi.city/s/KU0Gf",
         "user": "SssaPTAMUo5R7RE",
         "vol": "BULL",
         "year": 2019
        },
        {
         "Unnamed: 0": 332458,
         "_deepnote_index_column": 332458,
         "clean": "doviz usd eur gbp btc gobaba btcturk koinim paribu koineks",
         "comp": false,
         "date": "2019-05-14",
         "day": 14,
         "fullname": "Tr Ticker Bot",
         "id": 1128251276205142000,
         "index": 1324382,
         "lang": "en",
         "likes": 0,
         "month": 5,
         "pr": 2.7219351894336337e-05,
         "promote": " ",
         "replies": 0,
         "retweets": 0,
         "sent": "BEAR",
         "tags": "Doviz BtcTurk BTC EUR Koinim Paribu GBP Gobaba USD Koineks",
         "text": "#Doviz\n-------------------\n#USD : 6.1077\n#EUR : 6.8681\n#GBP : 7.9538\n--------------------------------------\n#BTC\n-------------------\n#Gobaba  : 53346.42\n#BtcTurk : 48992.00\n#Koinim  : 49319.99\n#Paribu  : 49001.00\n#Koineks : 49200.00\n",
         "text1": "#Doviz\n-------------------\n#USD : 6.1077\n#EUR : 6.8681\n#GBP : 7.9538\n--------------------------------------\n#BTC\n-------------------\n#Gobaba  : 53346.42\n#BtcTurk : 48992.00\n#Koinim  : 49319.99\n#Paribu  : 49001.00\n#Koineks : 49200.00\n",
         "timestamp": "2019-05-14 08:50:40+00",
         "url": " ",
         "user": "tr_ticker",
         "vol": "BULL",
         "year": 2019
        },
        {
         "Unnamed: 0": 332459,
         "_deepnote_index_column": 332459,
         "clean": "midday update bitcoin bitcoin price resumes positive trading surpass barrier settles",
         "comp": true,
         "date": "2019-05-14",
         "day": 14,
         "fullname": "Economies.com",
         "id": 1128248852727779200,
         "index": 1324383,
         "lang": "en",
         "likes": 0,
         "month": 5,
         "pr": 1.0459407537091906e-05,
         "promote": " ",
         "replies": 0,
         "retweets": 0,
         "sent": "BULL",
         "tags": " ",
         "text": "Midday update for bitcoin 14-05-2019: Bitcoin price resumes its positive trading to surpass 8000.00$ barrier and settles above it now, ... http://dlvr.it/R4g63l \n",
         "text1": "Midday update for bitcoin 14-05-2019: Bitcoin price resumes its positive trading to surpass 8000.00$ barrier and settles above it now, ... http://dlvr.it/R4g63l \n",
         "timestamp": "2019-05-14 08:41:02+00",
         "url": "http://dlvr.it/R4g63l",
         "user": "EconomiesCom",
         "vol": "BULL",
         "year": 2019
        },
        {
         "Unnamed: 0": 332460,
         "_deepnote_index_column": 332460,
         "clean": "happy pizza day back hanyecz bought two papa john pizzas btc time seemed like really good deal one bitcoin ’ even valued one u penny btc today equivalent yeah ’ expensive pizza bitcoin btc pic twitter com scflfjksa",
         "comp": false,
         "date": "2019-05-22",
         "day": 22,
         "fullname": "sylvia Nargaard",
         "id": 1131210958016327600,
         "index": 1324384,
         "lang": "en",
         "likes": 5,
         "month": 5,
         "pr": 1.3777568213119557e-05,
         "promote": " ",
         "replies": 0,
         "retweets": 2,
         "sent": "BULL",
         "tags": "btc bitcoin",
         "text": "Happy pizza Day!\nBack in 2010, Hanyecz bought two Papa John's pizzas for 10,000 BTC. At the time, that seemed like a really good deal as one Bitcoin wasn’t even valued at one U.S penny.\n10,000btc today is equivalent $800,000000..\nSo yeah that’s an expensive pizza \n#bitcoin #btc pic.twitter.com/S2CFLFJkSa\n",
         "text1": "Happy pizza Day!\nBack in 2010, Hanyecz bought two Papa John's pizzas for 10,000 BTC. At the time, that seemed like a really good deal as one Bitcoin wasn’t even valued at one U.S penny.\n10,000btc today is equivalent $800,000000..\nSo yeah that’s an expensive pizza \n#bitcoin #btc pic.twitter.com/S2CFLFJkSa\n",
         "timestamp": "2019-05-22 12:51:23+00",
         "url": " ",
         "user": "sylviaNargaard1",
         "vol": "BEAR",
         "year": 2019
        }
       ],
       "rows_top": [
        {
         "Unnamed: 0": 57650,
         "_deepnote_index_column": 57650,
         "clean": "bitcoin january usd idr",
         "comp": false,
         "date": "2018-01-03",
         "day": 3,
         "fullname": "Exchange-Rate.me",
         "id": 948687308693426200,
         "index": 751439,
         "lang": "en",
         "likes": 0,
         "month": 1,
         "pr": 2.814739477057233e-06,
         "promote": " ",
         "replies": 0,
         "retweets": 0,
         "sent": "BEAR",
         "tags": "Bitcoin",
         "text": "#Bitcoin 04 January 2018, 05:00 | USD: 15.077,8100 (-42,8100 / -0.28 %) | IDR: 203.520.279 (-577.849 / -0.28 %) | http://hargabitcoin.net \n",
         "text1": "#Bitcoin 04 January 2018, 05:00 | USD: 15.077,8100 (-42,8100 / -0.28 %) | IDR: 203.520.279 (-577.849 / -0.28 %) | http://hargabitcoin.net \n",
         "timestamp": "2018-01-03 21:47:34+00",
         "url": "http://hargabitcoin.net",
         "user": "XRateMalaysia",
         "vol": "BULL",
         "year": 2018
        },
        {
         "Unnamed: 0": 57651,
         "_deepnote_index_column": 57651,
         "clean": "bitcoin january usd idr",
         "comp": false,
         "date": "2018-01-03",
         "day": 3,
         "fullname": "UOB Gold Price",
         "id": 948687301995106400,
         "index": 751440,
         "lang": "en",
         "likes": 0,
         "month": 1,
         "pr": 2.814739477057233e-06,
         "promote": " ",
         "replies": 0,
         "retweets": 0,
         "sent": "BEAR",
         "tags": "Bitcoin",
         "text": "#Bitcoin 04 January 2018, 05:00 | USD: 15.077,8100 (-42,8100 / -0.28 %) | IDR: 203.520.279 (-577.849 / -0.28 %) | http://hargabitcoin.net \n",
         "text1": "#Bitcoin 04 January 2018, 05:00 | USD: 15.077,8100 (-42,8100 / -0.28 %) | IDR: 203.520.279 (-577.849 / -0.28 %) | http://hargabitcoin.net \n",
         "timestamp": "2018-01-03 21:47:33+00",
         "url": "http://hargabitcoin.net",
         "user": "UOBGoldPrice",
         "vol": "BULL",
         "year": 2018
        },
        {
         "Unnamed: 0": 57652,
         "_deepnote_index_column": 57652,
         "clean": "bitcoin january usd idr",
         "comp": false,
         "date": "2018-01-03",
         "day": 3,
         "fullname": "XRateAU",
         "id": 948687304532611200,
         "index": 751441,
         "lang": "en",
         "likes": 0,
         "month": 1,
         "pr": 2.814739477057233e-06,
         "promote": " ",
         "replies": 0,
         "retweets": 0,
         "sent": "BEAR",
         "tags": "Bitcoin",
         "text": "#Bitcoin 04 January 2018, 05:00 | USD: 15.077,8100 (-42,8100 / -0.28 %) | IDR: 203.520.279 (-577.849 / -0.28 %) | http://hargabitcoin.net \n",
         "text1": "#Bitcoin 04 January 2018, 05:00 | USD: 15.077,8100 (-42,8100 / -0.28 %) | IDR: 203.520.279 (-577.849 / -0.28 %) | http://hargabitcoin.net \n",
         "timestamp": "2018-01-03 21:47:33+00",
         "url": "http://hargabitcoin.net",
         "user": "XRateAU",
         "vol": "BULL",
         "year": 2018
        },
        {
         "Unnamed: 0": 57653,
         "_deepnote_index_column": 57653,
         "clean": "bitcoin january usd idr",
         "comp": false,
         "date": "2018-01-03",
         "day": 3,
         "fullname": "XRateCA",
         "id": 948687305925120000,
         "index": 751442,
         "lang": "en",
         "likes": 0,
         "month": 1,
         "pr": 2.814739477057233e-06,
         "promote": " ",
         "replies": 0,
         "retweets": 0,
         "sent": "BEAR",
         "tags": "Bitcoin",
         "text": "#Bitcoin 04 January 2018, 05:00 | USD: 15.077,8100 (-42,8100 / -0.28 %) | IDR: 203.520.279 (-577.849 / -0.28 %) | http://hargabitcoin.net \n",
         "text1": "#Bitcoin 04 January 2018, 05:00 | USD: 15.077,8100 (-42,8100 / -0.28 %) | IDR: 203.520.279 (-577.849 / -0.28 %) | http://hargabitcoin.net \n",
         "timestamp": "2018-01-03 21:47:34+00",
         "url": "http://hargabitcoin.net",
         "user": "XRateCA",
         "vol": "BULL",
         "year": 2018
        },
        {
         "Unnamed: 0": 57654,
         "_deepnote_index_column": 57654,
         "clean": "bitcoin january usd idr",
         "comp": false,
         "date": "2018-01-03",
         "day": 3,
         "fullname": "XRateID",
         "id": 948687307497967600,
         "index": 751443,
         "lang": "en",
         "likes": 0,
         "month": 1,
         "pr": 2.814739477057233e-06,
         "promote": " ",
         "replies": 0,
         "retweets": 0,
         "sent": "BEAR",
         "tags": "Bitcoin",
         "text": "#Bitcoin 04 January 2018, 05:00 | USD: 15.077,8100 (-42,8100 / -0.28 %) | IDR: 203.520.279 (-577.849 / -0.28 %) | http://hargabitcoin.net \n",
         "text1": "#Bitcoin 04 January 2018, 05:00 | USD: 15.077,8100 (-42,8100 / -0.28 %) | IDR: 203.520.279 (-577.849 / -0.28 %) | http://hargabitcoin.net \n",
         "timestamp": "2018-01-03 21:47:34+00",
         "url": "http://hargabitcoin.net",
         "user": "XRateID",
         "vol": "BULL",
         "year": 2018
        },
        {
         "Unnamed: 0": 57655,
         "_deepnote_index_column": 57655,
         "clean": "bitcoin january usd idr",
         "comp": false,
         "date": "2018-01-03",
         "day": 3,
         "fullname": "XRateSG",
         "id": 948687311788740600,
         "index": 751444,
         "lang": "en",
         "likes": 0,
         "month": 1,
         "pr": 2.814739477057233e-06,
         "promote": " ",
         "replies": 0,
         "retweets": 0,
         "sent": "BEAR",
         "tags": "Bitcoin",
         "text": "#Bitcoin 04 January 2018, 05:00 | USD: 15.077,8100 (-42,8100 / -0.28 %) | IDR: 203.520.279 (-577.849 / -0.28 %) | http://hargabitcoin.net \n",
         "text1": "#Bitcoin 04 January 2018, 05:00 | USD: 15.077,8100 (-42,8100 / -0.28 %) | IDR: 203.520.279 (-577.849 / -0.28 %) | http://hargabitcoin.net \n",
         "timestamp": "2018-01-03 21:47:35+00",
         "url": "http://hargabitcoin.net",
         "user": "XRateSG",
         "vol": "BULL",
         "year": 2018
        },
        {
         "Unnamed: 0": 57656,
         "_deepnote_index_column": 57656,
         "clean": "bitcoin ripple ethereum bitcoin cash cardano nem stellar litecoin iota dash",
         "comp": false,
         "date": "2018-01-03",
         "day": 3,
         "fullname": "Top 3 Coin",
         "id": 948690443260198800,
         "index": 751445,
         "lang": "en",
         "likes": 1,
         "month": 1,
         "pr": 2.75523452966303e-05,
         "promote": " ",
         "replies": 0,
         "retweets": 0,
         "sent": "BEAR",
         "tags": " ",
         "text": "Bitcoin (-0.32): $15,127.10\nRipple (-1.14): $3.15\nEthereum (3.06): $969.28\nBitcoin Cash (-0.41): $2,601.31\nCardano (-1.59): $1.04\nNEM (-0.31): $1.68\nStellar (-3.53): $0.84\nLitecoin (-0.74): $245.00\nIOTA (0.21): $4.03\nDash (0.82): $1,187.80\n",
         "text1": "Bitcoin (-0.32): $15,127.10\nRipple (-1.14): $3.15\nEthereum (3.06): $969.28\nBitcoin Cash (-0.41): $2,601.31\nCardano (-1.59): $1.04\nNEM (-0.31): $1.68\nStellar (-3.53): $0.84\nLitecoin (-0.74): $245.00\nIOTA (0.21): $4.03\nDash (0.82): $1,187.80\n",
         "timestamp": "2018-01-03 22:00:02+00",
         "url": " ",
         "user": "top_3_coin",
         "vol": "BULL",
         "year": 2018
        },
        {
         "Unnamed: 0": 57657,
         "_deepnote_index_column": 57657,
         "clean": "bitcoin january usd idr",
         "comp": false,
         "date": "2018-01-03",
         "day": 3,
         "fullname": "XRateUS",
         "id": 948687314817036400,
         "index": 751446,
         "lang": "en",
         "likes": 0,
         "month": 1,
         "pr": 2.814739477057233e-06,
         "promote": " ",
         "replies": 0,
         "retweets": 0,
         "sent": "BEAR",
         "tags": "Bitcoin",
         "text": "#Bitcoin 04 January 2018, 05:00 | USD: 15.077,8100 (-42,8100 / -0.28 %) | IDR: 203.520.279 (-577.849 / -0.28 %) | http://hargabitcoin.net \n",
         "text1": "#Bitcoin 04 January 2018, 05:00 | USD: 15.077,8100 (-42,8100 / -0.28 %) | IDR: 203.520.279 (-577.849 / -0.28 %) | http://hargabitcoin.net \n",
         "timestamp": "2018-01-03 21:47:36+00",
         "url": "http://hargabitcoin.net",
         "user": "XRateUS",
         "vol": "BULL",
         "year": 2018
        },
        {
         "Unnamed: 0": 57658,
         "_deepnote_index_column": 57658,
         "clean": "sell payment method sepa offer id qurxc amount btc price eur maximum eur distance",
         "comp": false,
         "date": "2018-01-03",
         "day": 3,
         "fullname": "Ar Viraj",
         "id": 948688018159923200,
         "index": 751447,
         "lang": "en",
         "likes": 0,
         "month": 1,
         "pr": 2.814739477057233e-06,
         "promote": " ",
         "replies": 0,
         "retweets": 0,
         "sent": "BEAR",
         "tags": " ",
         "text": "SELL\nPayment method: SEPA\nOffer ID: QUrXc\nAmount: 0.1 - 0.25 BTC\nPrice for 1: 12550.00 EUR\nMaximum: 3137.50 EUR\nDistance: -0.03%\n",
         "text1": "SELL\nPayment method: SEPA\nOffer ID: QUrXc\nAmount: 0.1 - 0.25 BTC\nPrice for 1: 12550.00 EUR\nMaximum: 3137.50 EUR\nDistance: -0.03%\n",
         "timestamp": "2018-01-03 21:50:23+00",
         "url": " ",
         "user": "BisqArviraj",
         "vol": "BULL",
         "year": 2018
        },
        {
         "Unnamed: 0": 57659,
         "_deepnote_index_column": 57659,
         "clean": "btc average bitfinex poloniex bitstamp coinbase binance cexio kraken cryptopia api problems bittrex gatecoin btc bitcoin exchanges price",
         "comp": false,
         "date": "2018-01-03",
         "day": 3,
         "fullname": "CoinSight",
         "id": 948689710989348900,
         "index": 751448,
         "lang": "en",
         "likes": 0,
         "month": 1,
         "pr": 7.146489959081101e-05,
         "promote": " ",
         "replies": 0,
         "retweets": 0,
         "sent": "BEAR",
         "tags": "Bitcoin Exchanges BTC Price",
         "text": "BTC Average: 15187.50$\n\nBitfinex - 14915.00$\nPoloniex - 14927.00$\nBitstamp - 14864.50$\nCoinbase - 15001.00$\nBinance - 14810.05$\nCEXio - 15860.00$\nKraken - 15036.00$\nCryptopia - API problems\nBittrex - 14873.92$\nGateCoin - 16400.00$\n\n#BTC #Bitcoin #Exchanges #Price\n",
         "text1": "BTC Average: 15187.50$\n\nBitfinex - 14915.00$\nPoloniex - 14927.00$\nBitstamp - 14864.50$\nCoinbase - 15001.00$\nBinance - 14810.05$\nCEXio - 15860.00$\nKraken - 15036.00$\nCryptopia - API problems\nBittrex - 14873.92$\nGateCoin - 16400.00$\n\n#BTC #Bitcoin #Exchanges #Price\n",
         "timestamp": "2018-01-03 21:57:07+00",
         "url": " ",
         "user": "coin_sight",
         "vol": "BULL",
         "year": 2018
        },
        {
         "Unnamed: 0": 57660,
         "_deepnote_index_column": 57660,
         "clean": "現在 bitcoin 円 ↓ nem xem 円 ↓ monacoin 円 ↑ ethereum 円 ↑ zaif 円 ↓",
         "comp": false,
         "date": "2018-01-03",
         "day": 3,
         "fullname": "ASENS inc.",
         "id": 948690443285360600,
         "index": 751449,
         "lang": "en",
         "likes": 0,
         "month": 1,
         "pr": 5.083290738092612e-05,
         "promote": " ",
         "replies": 0,
         "retweets": 0,
         "sent": "BEAR",
         "tags": "Monacoin Bitcoin Zaif Ethereum NEM XEM",
         "text": "01/04 08:00現在\n\n#Bitcoin : 1,747,125円↓\n#NEM #XEM : 194.9499円↓\n#Monacoin : 1123.8円↑\n#Ethereum : 118,580円↑\n#Zaif : 1.5612円↓\n",
         "text1": "01/04 08:00現在\n\n#Bitcoin : 1,747,125円↓\n#NEM #XEM : 194.9499円↓\n#Monacoin : 1123.8円↑\n#Ethereum : 118,580円↑\n#Zaif : 1.5612円↓\n",
         "timestamp": "2018-01-03 22:00:02+00",
         "url": " ",
         "user": "asens_inc",
         "vol": "BULL",
         "year": 2018
        },
        {
         "Unnamed: 0": 57661,
         "_deepnote_index_column": 57661,
         "clean": "おはようございます ！ 現在のレート情報 ♪ btc ： ↑ eth ： ↑ bch ： ↓ xrp ： ↑ ltc ： ↓ btc",
         "comp": false,
         "date": "2018-01-03",
         "day": 3,
         "fullname": "CoinChoice-ビットコイン・仮想通貨ニュース",
         "id": 948690445164470400,
         "index": 751450,
         "lang": "en",
         "likes": 1,
         "month": 1,
         "pr": 4.228506822704226e-05,
         "promote": " ",
         "replies": 0,
         "retweets": 1,
         "sent": "BEAR",
         "tags": "BTC",
         "text": "おはようございます！2018-01-04 08:00現在のレート情報♪\nBTC：1,744,804 (↑0.3%)\nETH：110,836 (↑8.1%)\nBCH：296,930 (↓-1.8%)\nXRP：318.658 (↑4.6%)\nLTC：28,541 (↓-1.1%)\n\n#BTC\n",
         "text1": "おはようございます！2018-01-04 08:00現在のレート情報♪\nBTC：1,744,804 (↑0.3%)\nETH：110,836 (↑8.1%)\nBCH：296,930 (↓-1.8%)\nXRP：318.658 (↑4.6%)\nLTC：28,541 (↓-1.1%)\n\n#BTC\n",
         "timestamp": "2018-01-03 22:00:02+00",
         "url": " ",
         "user": "coin_choice",
         "vol": "BULL",
         "year": 2018
        },
        {
         "Unnamed: 0": 57662,
         "_deepnote_index_column": 57662,
         "clean": "bitcoin btc price change h market cap ranking bitcoin btc",
         "comp": false,
         "date": "2018-01-03",
         "day": 3,
         "fullname": "Coinstats",
         "id": 948690444182995000,
         "index": 751451,
         "lang": "en",
         "likes": 2,
         "month": 1,
         "pr": 3.5708158977936167e-05,
         "promote": " ",
         "replies": 0,
         "retweets": 0,
         "sent": "BEAR",
         "tags": "Bitcoin BTC",
         "text": "Bitcoin - BTC\nPrice: $15,114.80\nChange in 1h: -0.45%\nMarket cap: $253,632,389,920.00\nRanking: 1\n#Bitcoin #BTC\n",
         "text1": "Bitcoin - BTC\nPrice: $15,114.80\nChange in 1h: -0.45%\nMarket cap: $253,632,389,920.00\nRanking: 1\n#Bitcoin #BTC\n",
         "timestamp": "2018-01-03 22:00:02+00",
         "url": " ",
         "user": "coinstats",
         "vol": "BULL",
         "year": 2018
        },
        {
         "Unnamed: 0": 57663,
         "_deepnote_index_column": 57663,
         "clean": "bitcoin january usd idr",
         "comp": false,
         "date": "2018-01-03",
         "day": 3,
         "fullname": "XRateTH",
         "id": 948687313198035000,
         "index": 751452,
         "lang": "en",
         "likes": 0,
         "month": 1,
         "pr": 1.8168641161054715e-05,
         "promote": " ",
         "replies": 0,
         "retweets": 0,
         "sent": "BEAR",
         "tags": "Bitcoin",
         "text": "#Bitcoin 04 January 2018, 05:00 | USD: 15.077,8100 (-42,8100 / -0.28 %) | IDR: 203.520.279 (-577.849 / -0.28 %) | http://hargabitcoin.net \n",
         "text1": "#Bitcoin 04 January 2018, 05:00 | USD: 15.077,8100 (-42,8100 / -0.28 %) | IDR: 203.520.279 (-577.849 / -0.28 %) | http://hargabitcoin.net \n",
         "timestamp": "2018-01-03 21:47:35+00",
         "url": "http://hargabitcoin.net",
         "user": "XRateTH",
         "vol": "BULL",
         "year": 2018
        },
        {
         "Unnamed: 0": 57664,
         "_deepnote_index_column": 57664,
         "clean": "bitcoin january usd idr",
         "comp": false,
         "date": "2018-01-03",
         "day": 3,
         "fullname": "Ringgit ExchangeRate",
         "id": 948687300581609600,
         "index": 751453,
         "lang": "en",
         "likes": 0,
         "month": 1,
         "pr": 1.4701429756363538e-05,
         "promote": " ",
         "replies": 0,
         "retweets": 0,
         "sent": "BEAR",
         "tags": "Bitcoin",
         "text": "#Bitcoin 04 January 2018, 05:00 | USD: 15.077,8100 (-42,8100 / -0.28 %) | IDR: 203.520.279 (-577.849 / -0.28 %) | http://hargabitcoin.net \n",
         "text1": "#Bitcoin 04 January 2018, 05:00 | USD: 15.077,8100 (-42,8100 / -0.28 %) | IDR: 203.520.279 (-577.849 / -0.28 %) | http://hargabitcoin.net \n",
         "timestamp": "2018-01-03 21:47:32+00",
         "url": "http://hargabitcoin.net",
         "user": "RinggitExchange",
         "vol": "BULL",
         "year": 2018
        },
        {
         "Unnamed: 0": 57665,
         "_deepnote_index_column": 57665,
         "clean": "bitcoin currently worth usd",
         "comp": true,
         "date": "2018-01-03",
         "day": 3,
         "fullname": "CoinDorks",
         "id": 948697903236821000,
         "index": 751454,
         "lang": "en",
         "likes": 0,
         "month": 1,
         "pr": 2.814739477057233e-06,
         "promote": " ",
         "replies": 0,
         "retweets": 0,
         "sent": "BULL",
         "tags": " ",
         "text": "1 Bitcoin is currently worth 15,895.00 usd https://coindorks.com/ \n",
         "text1": "1 Bitcoin is currently worth 15,895.00 usd https://coindorks.com/ \n",
         "timestamp": "2018-01-03 22:29:40+00",
         "url": "https://coindorks.com/",
         "user": "bitcoindorks",
         "vol": "BULL",
         "year": 2018
        },
        {
         "Unnamed: 0": 57666,
         "_deepnote_index_column": 57666,
         "clean": "bitcoin january usd idr",
         "comp": false,
         "date": "2018-01-03",
         "day": 3,
         "fullname": "IHSG IDX",
         "id": 948687294990602200,
         "index": 751455,
         "lang": "en",
         "likes": 0,
         "month": 1,
         "pr": 1.7913782804297755e-05,
         "promote": " ",
         "replies": 0,
         "retweets": 0,
         "sent": "BEAR",
         "tags": "Bitcoin",
         "text": "#Bitcoin 04 January 2018, 05:00 | USD: 15.077,8100 (-42,8100 / -0.28 %) | IDR: 203.520.279 (-577.849 / -0.28 %) | http://hargabitcoin.net \n",
         "text1": "#Bitcoin 04 January 2018, 05:00 | USD: 15.077,8100 (-42,8100 / -0.28 %) | IDR: 203.520.279 (-577.849 / -0.28 %) | http://hargabitcoin.net \n",
         "timestamp": "2018-01-03 21:47:31+00",
         "url": "http://hargabitcoin.net",
         "user": "InfoIHSG",
         "vol": "BULL",
         "year": 2018
        },
        {
         "Unnamed: 0": 57667,
         "_deepnote_index_column": 57667,
         "clean": "btc average bitfinex poloniex bitstamp coinbase binance cexio kraken cryptopia api problems bittrex gatecoin btc bitcoin exchanges price",
         "comp": false,
         "date": "2018-01-03",
         "day": 3,
         "fullname": "CoinSight",
         "id": 948682047333204000,
         "index": 751458,
         "lang": "en",
         "likes": 0,
         "month": 1,
         "pr": 7.146489959081101e-05,
         "promote": " ",
         "replies": 0,
         "retweets": 0,
         "sent": "BEAR",
         "tags": "Bitcoin Exchanges BTC Price",
         "text": "BTC Average: 15306.85$\n\nBitfinex - 15032.00$\nPoloniex - 15046.03$\nBitstamp - 15037.60$\nCoinbase - 15048.82$\nBinance - 14936.91$\nCEXio - 15974.95$\nKraken - 15210.00$\nCryptopia - API problems\nBittrex - 15075.31$\nGateCoin - 16400.00$\n\n#BTC #Bitcoin #Exchanges #Price\n",
         "text1": "BTC Average: 15306.85$\n\nBitfinex - 15032.00$\nPoloniex - 15046.03$\nBitstamp - 15037.60$\nCoinbase - 15048.82$\nBinance - 14936.91$\nCEXio - 15974.95$\nKraken - 15210.00$\nCryptopia - API problems\nBittrex - 15075.31$\nGateCoin - 16400.00$\n\n#BTC #Bitcoin #Exchanges #Price\n",
         "timestamp": "2018-01-03 21:26:40+00",
         "url": " ",
         "user": "coin_sight",
         "vol": "BULL",
         "year": 2018
        },
        {
         "Unnamed: 0": 57668,
         "_deepnote_index_column": 57668,
         "clean": "sold butter lost made far bitcoin",
         "comp": false,
         "date": "2018-01-03",
         "day": 3,
         "fullname": "Butter Trader",
         "id": 948629554075242400,
         "index": 751459,
         "lang": "en",
         "likes": 0,
         "month": 1,
         "pr": 2.243939253667598e-05,
         "promote": " ",
         "replies": 0,
         "retweets": 0,
         "sent": "BEAR",
         "tags": "bitcoin",
         "text": "I sold some butter for $14,870.00 and lost $40.01. I've made $3,136.22 so far! #bitcoin\n",
         "text1": "I sold some butter for $14,870.00 and lost $40.01. I've made $3,136.22 so far! #bitcoin\n",
         "timestamp": "2018-01-03 17:58:05+00",
         "url": " ",
         "user": "buttertrader",
         "vol": "BULL",
         "year": 2018
        },
        {
         "Unnamed: 0": 57669,
         "_deepnote_index_column": 57669,
         "clean": "btc coinbase eur eur h ago cryptocurrency ticker btc",
         "comp": false,
         "date": "2018-01-03",
         "day": 3,
         "fullname": "El Polako",
         "id": 948690449929293800,
         "index": 751460,
         "lang": "en",
         "likes": 0,
         "month": 1,
         "pr": 1.3771547561263787e-05,
         "promote": " ",
         "replies": 0,
         "retweets": 0,
         "sent": "BEAR",
         "tags": "Coinbase cryptocurrency BTC eur ticker",
         "text": "BTC on #Coinbase is now 12372.50 #eur\n\n(was 12584.00 eur 6h ago / -1.68%)\n\n#cryptocurrency #ticker #BTC\n",
         "text1": "BTC on #Coinbase is now 12372.50 #eur\n\n(was 12584.00 eur 6h ago / -1.68%)\n\n#cryptocurrency #ticker #BTC\n",
         "timestamp": "2018-01-03 22:00:03+00",
         "url": " ",
         "user": "BtcPolako",
         "vol": "BULL",
         "year": 2018
        }
       ]
      },
      "text/html": [
       "<div>\n",
       "<style scoped>\n",
       "    .dataframe tbody tr th:only-of-type {\n",
       "        vertical-align: middle;\n",
       "    }\n",
       "\n",
       "    .dataframe tbody tr th {\n",
       "        vertical-align: top;\n",
       "    }\n",
       "\n",
       "    .dataframe thead th {\n",
       "        text-align: right;\n",
       "    }\n",
       "</style>\n",
       "<table border=\"1\" class=\"dataframe\">\n",
       "  <thead>\n",
       "    <tr style=\"text-align: right;\">\n",
       "      <th></th>\n",
       "      <th>Unnamed: 0</th>\n",
       "      <th>index</th>\n",
       "      <th>date</th>\n",
       "      <th>id</th>\n",
       "      <th>user</th>\n",
       "      <th>fullname</th>\n",
       "      <th>url</th>\n",
       "      <th>timestamp</th>\n",
       "      <th>replies</th>\n",
       "      <th>likes</th>\n",
       "      <th>...</th>\n",
       "      <th>month</th>\n",
       "      <th>day</th>\n",
       "      <th>text1</th>\n",
       "      <th>tags</th>\n",
       "      <th>promote</th>\n",
       "      <th>clean</th>\n",
       "      <th>pr</th>\n",
       "      <th>vol</th>\n",
       "      <th>sent</th>\n",
       "      <th>comp</th>\n",
       "    </tr>\n",
       "  </thead>\n",
       "  <tbody>\n",
       "    <tr>\n",
       "      <th>57650</th>\n",
       "      <td>57650</td>\n",
       "      <td>751439</td>\n",
       "      <td>2018-01-03</td>\n",
       "      <td>9.486873e+17</td>\n",
       "      <td>XRateMalaysia</td>\n",
       "      <td>Exchange-Rate.me</td>\n",
       "      <td>http://hargabitcoin.net</td>\n",
       "      <td>2018-01-03 21:47:34+00</td>\n",
       "      <td>0.0</td>\n",
       "      <td>0.0</td>\n",
       "      <td>...</td>\n",
       "      <td>1</td>\n",
       "      <td>3</td>\n",
       "      <td>#Bitcoin 04 January 2018, 05:00 | USD: 15.077,...</td>\n",
       "      <td>Bitcoin</td>\n",
       "      <td></td>\n",
       "      <td>bitcoin january usd idr</td>\n",
       "      <td>0.000003</td>\n",
       "      <td>BULL</td>\n",
       "      <td>BEAR</td>\n",
       "      <td>False</td>\n",
       "    </tr>\n",
       "    <tr>\n",
       "      <th>57651</th>\n",
       "      <td>57651</td>\n",
       "      <td>751440</td>\n",
       "      <td>2018-01-03</td>\n",
       "      <td>9.486873e+17</td>\n",
       "      <td>UOBGoldPrice</td>\n",
       "      <td>UOB Gold Price</td>\n",
       "      <td>http://hargabitcoin.net</td>\n",
       "      <td>2018-01-03 21:47:33+00</td>\n",
       "      <td>0.0</td>\n",
       "      <td>0.0</td>\n",
       "      <td>...</td>\n",
       "      <td>1</td>\n",
       "      <td>3</td>\n",
       "      <td>#Bitcoin 04 January 2018, 05:00 | USD: 15.077,...</td>\n",
       "      <td>Bitcoin</td>\n",
       "      <td></td>\n",
       "      <td>bitcoin january usd idr</td>\n",
       "      <td>0.000003</td>\n",
       "      <td>BULL</td>\n",
       "      <td>BEAR</td>\n",
       "      <td>False</td>\n",
       "    </tr>\n",
       "    <tr>\n",
       "      <th>57652</th>\n",
       "      <td>57652</td>\n",
       "      <td>751441</td>\n",
       "      <td>2018-01-03</td>\n",
       "      <td>9.486873e+17</td>\n",
       "      <td>XRateAU</td>\n",
       "      <td>XRateAU</td>\n",
       "      <td>http://hargabitcoin.net</td>\n",
       "      <td>2018-01-03 21:47:33+00</td>\n",
       "      <td>0.0</td>\n",
       "      <td>0.0</td>\n",
       "      <td>...</td>\n",
       "      <td>1</td>\n",
       "      <td>3</td>\n",
       "      <td>#Bitcoin 04 January 2018, 05:00 | USD: 15.077,...</td>\n",
       "      <td>Bitcoin</td>\n",
       "      <td></td>\n",
       "      <td>bitcoin january usd idr</td>\n",
       "      <td>0.000003</td>\n",
       "      <td>BULL</td>\n",
       "      <td>BEAR</td>\n",
       "      <td>False</td>\n",
       "    </tr>\n",
       "    <tr>\n",
       "      <th>57653</th>\n",
       "      <td>57653</td>\n",
       "      <td>751442</td>\n",
       "      <td>2018-01-03</td>\n",
       "      <td>9.486873e+17</td>\n",
       "      <td>XRateCA</td>\n",
       "      <td>XRateCA</td>\n",
       "      <td>http://hargabitcoin.net</td>\n",
       "      <td>2018-01-03 21:47:34+00</td>\n",
       "      <td>0.0</td>\n",
       "      <td>0.0</td>\n",
       "      <td>...</td>\n",
       "      <td>1</td>\n",
       "      <td>3</td>\n",
       "      <td>#Bitcoin 04 January 2018, 05:00 | USD: 15.077,...</td>\n",
       "      <td>Bitcoin</td>\n",
       "      <td></td>\n",
       "      <td>bitcoin january usd idr</td>\n",
       "      <td>0.000003</td>\n",
       "      <td>BULL</td>\n",
       "      <td>BEAR</td>\n",
       "      <td>False</td>\n",
       "    </tr>\n",
       "    <tr>\n",
       "      <th>57654</th>\n",
       "      <td>57654</td>\n",
       "      <td>751443</td>\n",
       "      <td>2018-01-03</td>\n",
       "      <td>9.486873e+17</td>\n",
       "      <td>XRateID</td>\n",
       "      <td>XRateID</td>\n",
       "      <td>http://hargabitcoin.net</td>\n",
       "      <td>2018-01-03 21:47:34+00</td>\n",
       "      <td>0.0</td>\n",
       "      <td>0.0</td>\n",
       "      <td>...</td>\n",
       "      <td>1</td>\n",
       "      <td>3</td>\n",
       "      <td>#Bitcoin 04 January 2018, 05:00 | USD: 15.077,...</td>\n",
       "      <td>Bitcoin</td>\n",
       "      <td></td>\n",
       "      <td>bitcoin january usd idr</td>\n",
       "      <td>0.000003</td>\n",
       "      <td>BULL</td>\n",
       "      <td>BEAR</td>\n",
       "      <td>False</td>\n",
       "    </tr>\n",
       "    <tr>\n",
       "      <th>...</th>\n",
       "      <td>...</td>\n",
       "      <td>...</td>\n",
       "      <td>...</td>\n",
       "      <td>...</td>\n",
       "      <td>...</td>\n",
       "      <td>...</td>\n",
       "      <td>...</td>\n",
       "      <td>...</td>\n",
       "      <td>...</td>\n",
       "      <td>...</td>\n",
       "      <td>...</td>\n",
       "      <td>...</td>\n",
       "      <td>...</td>\n",
       "      <td>...</td>\n",
       "      <td>...</td>\n",
       "      <td>...</td>\n",
       "      <td>...</td>\n",
       "      <td>...</td>\n",
       "      <td>...</td>\n",
       "      <td>...</td>\n",
       "      <td>...</td>\n",
       "    </tr>\n",
       "    <tr>\n",
       "      <th>332456</th>\n",
       "      <td>332456</td>\n",
       "      <td>1324380</td>\n",
       "      <td>2019-05-14</td>\n",
       "      <td>1.128253e+18</td>\n",
       "      <td>cointrend_jp</td>\n",
       "      <td>COINTREND</td>\n",
       "      <td>https://cointrend.jp/</td>\n",
       "      <td>2019-05-14 08:58:01+00</td>\n",
       "      <td>0.0</td>\n",
       "      <td>0.0</td>\n",
       "      <td>...</td>\n",
       "      <td>5</td>\n",
       "      <td>14</td>\n",
       "      <td>ツイート数の多かった仮想通貨\\n1位 $BTC 650 Tweets\\n2位 $TRX 26...</td>\n",
       "      <td></td>\n",
       "      <td></td>\n",
       "      <td>ツイート数の多かった仮想通貨 位 btc tweets 位 trx tweets 位 xrp...</td>\n",
       "      <td>0.000093</td>\n",
       "      <td>BULL</td>\n",
       "      <td>BEAR</td>\n",
       "      <td>False</td>\n",
       "    </tr>\n",
       "    <tr>\n",
       "      <th>332457</th>\n",
       "      <td>332457</td>\n",
       "      <td>1324381</td>\n",
       "      <td>2019-05-14</td>\n",
       "      <td>1.128249e+18</td>\n",
       "      <td>SssaPTAMUo5R7RE</td>\n",
       "      <td>Александр Свечкар</td>\n",
       "      <td>https://bi.city/s/KU0Gf</td>\n",
       "      <td>2019-05-14 08:41:43+00</td>\n",
       "      <td>0.0</td>\n",
       "      <td>0.0</td>\n",
       "      <td>...</td>\n",
       "      <td>5</td>\n",
       "      <td>14</td>\n",
       "      <td>[BTC Dips Below 8000 USDT]\\n\\nCiting data from...</td>\n",
       "      <td></td>\n",
       "      <td></td>\n",
       "      <td>btc dips usdt citing data binance price bitcoi...</td>\n",
       "      <td>0.000003</td>\n",
       "      <td>BULL</td>\n",
       "      <td>BEAR</td>\n",
       "      <td>False</td>\n",
       "    </tr>\n",
       "    <tr>\n",
       "      <th>332458</th>\n",
       "      <td>332458</td>\n",
       "      <td>1324382</td>\n",
       "      <td>2019-05-14</td>\n",
       "      <td>1.128251e+18</td>\n",
       "      <td>tr_ticker</td>\n",
       "      <td>Tr Ticker Bot</td>\n",
       "      <td></td>\n",
       "      <td>2019-05-14 08:50:40+00</td>\n",
       "      <td>0.0</td>\n",
       "      <td>0.0</td>\n",
       "      <td>...</td>\n",
       "      <td>5</td>\n",
       "      <td>14</td>\n",
       "      <td>#Doviz\\n-------------------\\n#USD : 6.1077\\n#E...</td>\n",
       "      <td>Doviz BtcTurk BTC EUR Koinim Paribu GBP Gobaba...</td>\n",
       "      <td></td>\n",
       "      <td>doviz usd eur gbp btc gobaba btcturk koinim pa...</td>\n",
       "      <td>0.000027</td>\n",
       "      <td>BULL</td>\n",
       "      <td>BEAR</td>\n",
       "      <td>False</td>\n",
       "    </tr>\n",
       "    <tr>\n",
       "      <th>332459</th>\n",
       "      <td>332459</td>\n",
       "      <td>1324383</td>\n",
       "      <td>2019-05-14</td>\n",
       "      <td>1.128249e+18</td>\n",
       "      <td>EconomiesCom</td>\n",
       "      <td>Economies.com</td>\n",
       "      <td>http://dlvr.it/R4g63l</td>\n",
       "      <td>2019-05-14 08:41:02+00</td>\n",
       "      <td>0.0</td>\n",
       "      <td>0.0</td>\n",
       "      <td>...</td>\n",
       "      <td>5</td>\n",
       "      <td>14</td>\n",
       "      <td>Midday update for bitcoin 14-05-2019: Bitcoin ...</td>\n",
       "      <td></td>\n",
       "      <td></td>\n",
       "      <td>midday update bitcoin bitcoin price resumes po...</td>\n",
       "      <td>0.000010</td>\n",
       "      <td>BULL</td>\n",
       "      <td>BULL</td>\n",
       "      <td>True</td>\n",
       "    </tr>\n",
       "    <tr>\n",
       "      <th>332460</th>\n",
       "      <td>332460</td>\n",
       "      <td>1324384</td>\n",
       "      <td>2019-05-22</td>\n",
       "      <td>1.131211e+18</td>\n",
       "      <td>sylviaNargaard1</td>\n",
       "      <td>sylvia Nargaard</td>\n",
       "      <td></td>\n",
       "      <td>2019-05-22 12:51:23+00</td>\n",
       "      <td>0.0</td>\n",
       "      <td>5.0</td>\n",
       "      <td>...</td>\n",
       "      <td>5</td>\n",
       "      <td>22</td>\n",
       "      <td>Happy pizza Day!\\nBack in 2010, Hanyecz bought...</td>\n",
       "      <td>btc bitcoin</td>\n",
       "      <td></td>\n",
       "      <td>happy pizza day back hanyecz bought two papa j...</td>\n",
       "      <td>0.000014</td>\n",
       "      <td>BEAR</td>\n",
       "      <td>BULL</td>\n",
       "      <td>False</td>\n",
       "    </tr>\n",
       "  </tbody>\n",
       "</table>\n",
       "<p>274811 rows × 24 columns</p>\n",
       "</div>"
      ],
      "text/plain": [
       "        Unnamed: 0    index        date            id             user  \\\n",
       "57650        57650   751439  2018-01-03  9.486873e+17    XRateMalaysia   \n",
       "57651        57651   751440  2018-01-03  9.486873e+17     UOBGoldPrice   \n",
       "57652        57652   751441  2018-01-03  9.486873e+17          XRateAU   \n",
       "57653        57653   751442  2018-01-03  9.486873e+17          XRateCA   \n",
       "57654        57654   751443  2018-01-03  9.486873e+17          XRateID   \n",
       "...            ...      ...         ...           ...              ...   \n",
       "332456      332456  1324380  2019-05-14  1.128253e+18     cointrend_jp   \n",
       "332457      332457  1324381  2019-05-14  1.128249e+18  SssaPTAMUo5R7RE   \n",
       "332458      332458  1324382  2019-05-14  1.128251e+18        tr_ticker   \n",
       "332459      332459  1324383  2019-05-14  1.128249e+18     EconomiesCom   \n",
       "332460      332460  1324384  2019-05-22  1.131211e+18  sylviaNargaard1   \n",
       "\n",
       "                 fullname                      url               timestamp  \\\n",
       "57650    Exchange-Rate.me  http://hargabitcoin.net  2018-01-03 21:47:34+00   \n",
       "57651      UOB Gold Price  http://hargabitcoin.net  2018-01-03 21:47:33+00   \n",
       "57652             XRateAU  http://hargabitcoin.net  2018-01-03 21:47:33+00   \n",
       "57653             XRateCA  http://hargabitcoin.net  2018-01-03 21:47:34+00   \n",
       "57654             XRateID  http://hargabitcoin.net  2018-01-03 21:47:34+00   \n",
       "...                   ...                      ...                     ...   \n",
       "332456          COINTREND    https://cointrend.jp/  2019-05-14 08:58:01+00   \n",
       "332457  Александр Свечкар  https://bi.city/s/KU0Gf  2019-05-14 08:41:43+00   \n",
       "332458      Tr Ticker Bot                           2019-05-14 08:50:40+00   \n",
       "332459      Economies.com    http://dlvr.it/R4g63l  2019-05-14 08:41:02+00   \n",
       "332460    sylvia Nargaard                           2019-05-22 12:51:23+00   \n",
       "\n",
       "        replies  likes  ...  month day  \\\n",
       "57650       0.0    0.0  ...      1   3   \n",
       "57651       0.0    0.0  ...      1   3   \n",
       "57652       0.0    0.0  ...      1   3   \n",
       "57653       0.0    0.0  ...      1   3   \n",
       "57654       0.0    0.0  ...      1   3   \n",
       "...         ...    ...  ...    ...  ..   \n",
       "332456      0.0    0.0  ...      5  14   \n",
       "332457      0.0    0.0  ...      5  14   \n",
       "332458      0.0    0.0  ...      5  14   \n",
       "332459      0.0    0.0  ...      5  14   \n",
       "332460      0.0    5.0  ...      5  22   \n",
       "\n",
       "                                                    text1  \\\n",
       "57650   #Bitcoin 04 January 2018, 05:00 | USD: 15.077,...   \n",
       "57651   #Bitcoin 04 January 2018, 05:00 | USD: 15.077,...   \n",
       "57652   #Bitcoin 04 January 2018, 05:00 | USD: 15.077,...   \n",
       "57653   #Bitcoin 04 January 2018, 05:00 | USD: 15.077,...   \n",
       "57654   #Bitcoin 04 January 2018, 05:00 | USD: 15.077,...   \n",
       "...                                                   ...   \n",
       "332456  ツイート数の多かった仮想通貨\\n1位 $BTC 650 Tweets\\n2位 $TRX 26...   \n",
       "332457  [BTC Dips Below 8000 USDT]\\n\\nCiting data from...   \n",
       "332458  #Doviz\\n-------------------\\n#USD : 6.1077\\n#E...   \n",
       "332459  Midday update for bitcoin 14-05-2019: Bitcoin ...   \n",
       "332460  Happy pizza Day!\\nBack in 2010, Hanyecz bought...   \n",
       "\n",
       "                                                     tags  promote  \\\n",
       "57650                                             Bitcoin            \n",
       "57651                                             Bitcoin            \n",
       "57652                                             Bitcoin            \n",
       "57653                                             Bitcoin            \n",
       "57654                                             Bitcoin            \n",
       "...                                                   ...      ...   \n",
       "332456                                                               \n",
       "332457                                                               \n",
       "332458  Doviz BtcTurk BTC EUR Koinim Paribu GBP Gobaba...            \n",
       "332459                                                               \n",
       "332460                                        btc bitcoin            \n",
       "\n",
       "                                                    clean        pr   vol  \\\n",
       "57650                             bitcoin january usd idr  0.000003  BULL   \n",
       "57651                             bitcoin january usd idr  0.000003  BULL   \n",
       "57652                             bitcoin january usd idr  0.000003  BULL   \n",
       "57653                             bitcoin january usd idr  0.000003  BULL   \n",
       "57654                             bitcoin january usd idr  0.000003  BULL   \n",
       "...                                                   ...       ...   ...   \n",
       "332456  ツイート数の多かった仮想通貨 位 btc tweets 位 trx tweets 位 xrp...  0.000093  BULL   \n",
       "332457  btc dips usdt citing data binance price bitcoi...  0.000003  BULL   \n",
       "332458  doviz usd eur gbp btc gobaba btcturk koinim pa...  0.000027  BULL   \n",
       "332459  midday update bitcoin bitcoin price resumes po...  0.000010  BULL   \n",
       "332460  happy pizza day back hanyecz bought two papa j...  0.000014  BEAR   \n",
       "\n",
       "        sent   comp  \n",
       "57650   BEAR  False  \n",
       "57651   BEAR  False  \n",
       "57652   BEAR  False  \n",
       "57653   BEAR  False  \n",
       "57654   BEAR  False  \n",
       "...      ...    ...  \n",
       "332456  BEAR  False  \n",
       "332457  BEAR  False  \n",
       "332458  BEAR  False  \n",
       "332459  BULL   True  \n",
       "332460  BULL  False  \n",
       "\n",
       "[274811 rows x 24 columns]"
      ]
     },
     "execution_count": 19,
     "metadata": {},
     "output_type": "execute_result"
    }
   ],
   "source": [
    "train_set"
   ]
  },
  {
   "cell_type": "code",
   "execution_count": null,
   "metadata": {
    "cell_id": "00011-5f10b67d-b5f0-4660-9abd-df3b754545b5",
    "deepnote_cell_type": "code",
    "deepnote_to_be_reexecuted": false,
    "execution_millis": 2,
    "execution_start": 1619493487044,
    "source_hash": "902e212d",
    "tags": []
   },
   "outputs": [],
   "source": [
    "train_rel_cols = train_set[[\"date\", \"user\", \"comp\"]]\n",
    "test_rel_cols = test_set[[\"date\", \"user\", \"comp\"]]"
   ]
  },
  {
   "cell_type": "code",
   "execution_count": null,
   "metadata": {
    "cell_id": "00012-46d9a93a-763d-44fe-946c-c2b279e0863c",
    "deepnote_cell_type": "code",
    "deepnote_to_be_reexecuted": false,
    "execution_millis": 152,
    "execution_start": 1619493488753,
    "source_hash": "2b1ece07",
    "tags": []
   },
   "outputs": [
    {
     "name": "stderr",
     "output_type": "stream",
     "text": [
      "/shared-libs/python3.7/py-core/lib/python3.7/site-packages/ipykernel_launcher.py:1: SettingWithCopyWarning: \n",
      "A value is trying to be set on a copy of a slice from a DataFrame.\n",
      "Try using .loc[row_indexer,col_indexer] = value instead\n",
      "\n",
      "See the caveats in the documentation: https://pandas.pydata.org/pandas-docs/stable/user_guide/indexing.html#returning-a-view-versus-a-copy\n",
      "  \"\"\"Entry point for launching an IPython kernel.\n"
     ]
    }
   ],
   "source": [
    "train_rel_cols[\"comp2\"] = train_rel_cols[\"comp\"]\n",
    "train_agg = train_rel_cols.groupby(\"user\").agg({\"comp\":\"sum\", \"comp2\":\"count\"})"
   ]
  },
  {
   "cell_type": "code",
   "execution_count": null,
   "metadata": {
    "cell_id": "00013-b4d64834-2e7d-4738-bdf5-44fa40121d3d",
    "deepnote_cell_type": "code",
    "deepnote_to_be_reexecuted": false,
    "execution_millis": 7,
    "execution_start": 1619493490108,
    "source_hash": "f9c064cb",
    "tags": []
   },
   "outputs": [
    {
     "data": {
      "application/vnd.deepnote.dataframe.v2+json": {
       "column_count": 2,
       "columns": [
        {
         "dtype": "int64",
         "name": "comp",
         "stats": {
          "histogram": [
           {
            "bin_end": 0.2,
            "bin_start": 0,
            "count": 2
           },
           {
            "bin_end": 0.4,
            "bin_start": 0.2,
            "count": 0
           },
           {
            "bin_end": 0.6000000000000001,
            "bin_start": 0.4,
            "count": 0
           },
           {
            "bin_end": 0.8,
            "bin_start": 0.6000000000000001,
            "count": 0
           },
           {
            "bin_end": 1,
            "bin_start": 0.8,
            "count": 0
           },
           {
            "bin_end": 1.2000000000000002,
            "bin_start": 1,
            "count": 2
           },
           {
            "bin_end": 1.4000000000000001,
            "bin_start": 1.2000000000000002,
            "count": 0
           },
           {
            "bin_end": 1.6,
            "bin_start": 1.4000000000000001,
            "count": 0
           },
           {
            "bin_end": 1.8,
            "bin_start": 1.6,
            "count": 0
           },
           {
            "bin_end": 2,
            "bin_start": 1.8,
            "count": 1
           }
          ],
          "max": "2",
          "min": "0",
          "nan_count": 0,
          "unique_count": 3
         }
        },
        {
         "dtype": "int64",
         "name": "comp2",
         "stats": {
          "histogram": [
           {
            "bin_end": 1.1,
            "bin_start": 1,
            "count": 4
           },
           {
            "bin_end": 1.2,
            "bin_start": 1.1,
            "count": 0
           },
           {
            "bin_end": 1.3,
            "bin_start": 1.2,
            "count": 0
           },
           {
            "bin_end": 1.4,
            "bin_start": 1.3,
            "count": 0
           },
           {
            "bin_end": 1.5,
            "bin_start": 1.4,
            "count": 0
           },
           {
            "bin_end": 1.6,
            "bin_start": 1.5,
            "count": 0
           },
           {
            "bin_end": 1.7000000000000002,
            "bin_start": 1.6,
            "count": 0
           },
           {
            "bin_end": 1.8,
            "bin_start": 1.7000000000000002,
            "count": 0
           },
           {
            "bin_end": 1.9,
            "bin_start": 1.8,
            "count": 0
           },
           {
            "bin_end": 2,
            "bin_start": 1.9,
            "count": 1
           }
          ],
          "max": "2",
          "min": "1",
          "nan_count": 0,
          "unique_count": 2
         }
        },
        {
         "dtype": "object",
         "name": "_deepnote_index_column"
        }
       ],
       "row_count": 5,
       "rows_bottom": null,
       "rows_top": [
        {
         "_deepnote_index_column": "000Bloger",
         "comp": 1,
         "comp2": 1
        },
        {
         "_deepnote_index_column": "000kkrish",
         "comp": 2,
         "comp2": 2
        },
        {
         "_deepnote_index_column": "002stefanie",
         "comp": 1,
         "comp2": 1
        },
        {
         "_deepnote_index_column": "002yt",
         "comp": 0,
         "comp2": 1
        },
        {
         "_deepnote_index_column": "0065Hiro",
         "comp": 0,
         "comp2": 1
        }
       ]
      },
      "text/html": [
       "<div>\n",
       "<style scoped>\n",
       "    .dataframe tbody tr th:only-of-type {\n",
       "        vertical-align: middle;\n",
       "    }\n",
       "\n",
       "    .dataframe tbody tr th {\n",
       "        vertical-align: top;\n",
       "    }\n",
       "\n",
       "    .dataframe thead th {\n",
       "        text-align: right;\n",
       "    }\n",
       "</style>\n",
       "<table border=\"1\" class=\"dataframe\">\n",
       "  <thead>\n",
       "    <tr style=\"text-align: right;\">\n",
       "      <th></th>\n",
       "      <th>comp</th>\n",
       "      <th>comp2</th>\n",
       "    </tr>\n",
       "    <tr>\n",
       "      <th>user</th>\n",
       "      <th></th>\n",
       "      <th></th>\n",
       "    </tr>\n",
       "  </thead>\n",
       "  <tbody>\n",
       "    <tr>\n",
       "      <th>000Bloger</th>\n",
       "      <td>1</td>\n",
       "      <td>1</td>\n",
       "    </tr>\n",
       "    <tr>\n",
       "      <th>000kkrish</th>\n",
       "      <td>2</td>\n",
       "      <td>2</td>\n",
       "    </tr>\n",
       "    <tr>\n",
       "      <th>002stefanie</th>\n",
       "      <td>1</td>\n",
       "      <td>1</td>\n",
       "    </tr>\n",
       "    <tr>\n",
       "      <th>002yt</th>\n",
       "      <td>0</td>\n",
       "      <td>1</td>\n",
       "    </tr>\n",
       "    <tr>\n",
       "      <th>0065Hiro</th>\n",
       "      <td>0</td>\n",
       "      <td>1</td>\n",
       "    </tr>\n",
       "  </tbody>\n",
       "</table>\n",
       "</div>"
      ],
      "text/plain": [
       "             comp  comp2\n",
       "user                    \n",
       "000Bloger       1      1\n",
       "000kkrish       2      2\n",
       "002stefanie     1      1\n",
       "002yt           0      1\n",
       "0065Hiro        0      1"
      ]
     },
     "execution_count": 22,
     "metadata": {},
     "output_type": "execute_result"
    }
   ],
   "source": [
    "len(train_agg)\n",
    "train_agg.head()"
   ]
  },
  {
   "cell_type": "code",
   "execution_count": null,
   "metadata": {
    "cell_id": "00014-ff8496c3-10a7-4d90-9667-3ec8cbbec138",
    "deepnote_cell_type": "code",
    "deepnote_to_be_reexecuted": false,
    "execution_millis": 20,
    "execution_start": 1619493491183,
    "source_hash": "99c181ed",
    "tags": []
   },
   "outputs": [
    {
     "data": {
      "application/vnd.deepnote.dataframe.v2+json": {
       "column_count": 3,
       "columns": [
        {
         "dtype": "int64",
         "name": "comp",
         "stats": {
          "histogram": [
           {
            "bin_end": 0.2,
            "bin_start": 0,
            "count": 2
           },
           {
            "bin_end": 0.4,
            "bin_start": 0.2,
            "count": 0
           },
           {
            "bin_end": 0.6000000000000001,
            "bin_start": 0.4,
            "count": 0
           },
           {
            "bin_end": 0.8,
            "bin_start": 0.6000000000000001,
            "count": 0
           },
           {
            "bin_end": 1,
            "bin_start": 0.8,
            "count": 0
           },
           {
            "bin_end": 1.2000000000000002,
            "bin_start": 1,
            "count": 2
           },
           {
            "bin_end": 1.4000000000000001,
            "bin_start": 1.2000000000000002,
            "count": 0
           },
           {
            "bin_end": 1.6,
            "bin_start": 1.4000000000000001,
            "count": 0
           },
           {
            "bin_end": 1.8,
            "bin_start": 1.6,
            "count": 0
           },
           {
            "bin_end": 2,
            "bin_start": 1.8,
            "count": 1
           }
          ],
          "max": "2",
          "min": "0",
          "nan_count": 0,
          "unique_count": 3
         }
        },
        {
         "dtype": "int64",
         "name": "comp2",
         "stats": {
          "histogram": [
           {
            "bin_end": 1.1,
            "bin_start": 1,
            "count": 4
           },
           {
            "bin_end": 1.2,
            "bin_start": 1.1,
            "count": 0
           },
           {
            "bin_end": 1.3,
            "bin_start": 1.2,
            "count": 0
           },
           {
            "bin_end": 1.4,
            "bin_start": 1.3,
            "count": 0
           },
           {
            "bin_end": 1.5,
            "bin_start": 1.4,
            "count": 0
           },
           {
            "bin_end": 1.6,
            "bin_start": 1.5,
            "count": 0
           },
           {
            "bin_end": 1.7000000000000002,
            "bin_start": 1.6,
            "count": 0
           },
           {
            "bin_end": 1.8,
            "bin_start": 1.7000000000000002,
            "count": 0
           },
           {
            "bin_end": 1.9,
            "bin_start": 1.8,
            "count": 0
           },
           {
            "bin_end": 2,
            "bin_start": 1.9,
            "count": 1
           }
          ],
          "max": "2",
          "min": "1",
          "nan_count": 0,
          "unique_count": 2
         }
        },
        {
         "dtype": "float64",
         "name": "matched_normalized",
         "stats": {
          "histogram": [
           {
            "bin_end": 5.1826898160145116e-05,
            "bin_start": 0,
            "count": 2
           },
           {
            "bin_end": 0.00010365379632029023,
            "bin_start": 5.1826898160145116e-05,
            "count": 0
           },
           {
            "bin_end": 0.00015548069448043534,
            "bin_start": 0.00010365379632029023,
            "count": 0
           },
           {
            "bin_end": 0.00020730759264058046,
            "bin_start": 0.00015548069448043534,
            "count": 0
           },
           {
            "bin_end": 0.0002591344908007256,
            "bin_start": 0.00020730759264058046,
            "count": 0
           },
           {
            "bin_end": 0.0003109613889608707,
            "bin_start": 0.0002591344908007256,
            "count": 2
           },
           {
            "bin_end": 0.00036278828712101583,
            "bin_start": 0.0003109613889608707,
            "count": 0
           },
           {
            "bin_end": 0.0004146151852811609,
            "bin_start": 0.00036278828712101583,
            "count": 0
           },
           {
            "bin_end": 0.000466442083441306,
            "bin_start": 0.0004146151852811609,
            "count": 0
           },
           {
            "bin_end": 0.0005182689816014512,
            "bin_start": 0.000466442083441306,
            "count": 1
           }
          ],
          "max": "0.0005182689816014512",
          "min": "0.0",
          "nan_count": 0,
          "unique_count": 3
         }
        },
        {
         "dtype": "object",
         "name": "_deepnote_index_column"
        }
       ],
       "row_count": 5,
       "rows_bottom": null,
       "rows_top": [
        {
         "_deepnote_index_column": "000Bloger",
         "comp": 1,
         "comp2": 1,
         "matched_normalized": 0.0002591344908007256
        },
        {
         "_deepnote_index_column": "000kkrish",
         "comp": 2,
         "comp2": 2,
         "matched_normalized": 0.0005182689816014512
        },
        {
         "_deepnote_index_column": "002stefanie",
         "comp": 1,
         "comp2": 1,
         "matched_normalized": 0.0002591344908007256
        },
        {
         "_deepnote_index_column": "002yt",
         "comp": 0,
         "comp2": 1,
         "matched_normalized": 0
        },
        {
         "_deepnote_index_column": "0065Hiro",
         "comp": 0,
         "comp2": 1,
         "matched_normalized": 0
        }
       ]
      },
      "text/html": [
       "<div>\n",
       "<style scoped>\n",
       "    .dataframe tbody tr th:only-of-type {\n",
       "        vertical-align: middle;\n",
       "    }\n",
       "\n",
       "    .dataframe tbody tr th {\n",
       "        vertical-align: top;\n",
       "    }\n",
       "\n",
       "    .dataframe thead th {\n",
       "        text-align: right;\n",
       "    }\n",
       "</style>\n",
       "<table border=\"1\" class=\"dataframe\">\n",
       "  <thead>\n",
       "    <tr style=\"text-align: right;\">\n",
       "      <th></th>\n",
       "      <th>comp</th>\n",
       "      <th>comp2</th>\n",
       "      <th>matched_normalized</th>\n",
       "    </tr>\n",
       "    <tr>\n",
       "      <th>user</th>\n",
       "      <th></th>\n",
       "      <th></th>\n",
       "      <th></th>\n",
       "    </tr>\n",
       "  </thead>\n",
       "  <tbody>\n",
       "    <tr>\n",
       "      <th>000Bloger</th>\n",
       "      <td>1</td>\n",
       "      <td>1</td>\n",
       "      <td>0.000259</td>\n",
       "    </tr>\n",
       "    <tr>\n",
       "      <th>000kkrish</th>\n",
       "      <td>2</td>\n",
       "      <td>2</td>\n",
       "      <td>0.000518</td>\n",
       "    </tr>\n",
       "    <tr>\n",
       "      <th>002stefanie</th>\n",
       "      <td>1</td>\n",
       "      <td>1</td>\n",
       "      <td>0.000259</td>\n",
       "    </tr>\n",
       "    <tr>\n",
       "      <th>002yt</th>\n",
       "      <td>0</td>\n",
       "      <td>1</td>\n",
       "      <td>0.000000</td>\n",
       "    </tr>\n",
       "    <tr>\n",
       "      <th>0065Hiro</th>\n",
       "      <td>0</td>\n",
       "      <td>1</td>\n",
       "      <td>0.000000</td>\n",
       "    </tr>\n",
       "  </tbody>\n",
       "</table>\n",
       "</div>"
      ],
      "text/plain": [
       "             comp  comp2  matched_normalized\n",
       "user                                        \n",
       "000Bloger       1      1            0.000259\n",
       "000kkrish       2      2            0.000518\n",
       "002stefanie     1      1            0.000259\n",
       "002yt           0      1            0.000000\n",
       "0065Hiro        0      1            0.000000"
      ]
     },
     "execution_count": 23,
     "metadata": {},
     "output_type": "execute_result"
    }
   ],
   "source": [
    "matched_counts = train_agg[\"comp\"].values.reshape(len(train_agg),1)\n",
    "matched_counts_norm = matched_counts / np.max(matched_counts)\n",
    "train_agg[\"matched_normalized\"] = matched_counts_norm\n",
    "train_agg.head(5)"
   ]
  },
  {
   "cell_type": "code",
   "execution_count": null,
   "metadata": {
    "cell_id": "00016-0f08b2d4-e7ee-4fc8-bafb-a66233196de3",
    "deepnote_cell_type": "code",
    "deepnote_to_be_reexecuted": false,
    "execution_millis": 10,
    "execution_start": 1619493491790,
    "source_hash": "ce8084cd",
    "tags": []
   },
   "outputs": [],
   "source": [
    "train_agg_sort = train_agg.sort_values(by=\"matched_normalized\", ascending=False)"
   ]
  },
  {
   "cell_type": "code",
   "execution_count": null,
   "metadata": {
    "cell_id": "00017-1deed9a3-1996-4bf2-91fa-3e21b9b5c647",
    "deepnote_cell_type": "code",
    "deepnote_to_be_reexecuted": false,
    "execution_millis": 258,
    "execution_start": 1619493567746,
    "source_hash": "39c1fa42",
    "tags": []
   },
   "outputs": [
    {
     "ename": "NameError",
     "evalue": "name 'train_agg_sort' is not defined",
     "output_type": "error",
     "traceback": [
      "\u001b[0;31m---------------------------------------------------------------------------\u001b[0m",
      "\u001b[0;31mNameError\u001b[0m                                 Traceback (most recent call last)",
      "\u001b[0;32m<ipython-input-3-333159f94a78>\u001b[0m in \u001b[0;36m<module>\u001b[0;34m\u001b[0m\n\u001b[0;32m----> 1\u001b[0;31m \u001b[0mtrain_agg_sort\u001b[0m\u001b[0;34m.\u001b[0m\u001b[0mto_csv\u001b[0m\u001b[0;34m(\u001b[0m\u001b[0;34m\"train_agg_with_score.csv\"\u001b[0m\u001b[0;34m)\u001b[0m\u001b[0;34m\u001b[0m\u001b[0;34m\u001b[0m\u001b[0m\n\u001b[0m\u001b[1;32m      2\u001b[0m \u001b[0mtrain_set\u001b[0m\u001b[0;34m.\u001b[0m\u001b[0mto_csv\u001b[0m\u001b[0;34m(\u001b[0m\u001b[0;34m\"train_set.csv\"\u001b[0m\u001b[0;34m)\u001b[0m\u001b[0;34m\u001b[0m\u001b[0;34m\u001b[0m\u001b[0m\n\u001b[1;32m      3\u001b[0m \u001b[0mtest_set\u001b[0m\u001b[0;34m.\u001b[0m\u001b[0mto_csv\u001b[0m\u001b[0;34m(\u001b[0m\u001b[0;34m\"test_set.csv\"\u001b[0m\u001b[0;34m)\u001b[0m\u001b[0;34m\u001b[0m\u001b[0;34m\u001b[0m\u001b[0m\n\u001b[1;32m      4\u001b[0m \u001b[0mdf\u001b[0m\u001b[0;34m.\u001b[0m\u001b[0mto_csv\u001b[0m\u001b[0;34m(\u001b[0m\u001b[0;34m\"df.csv\"\u001b[0m\u001b[0;34m)\u001b[0m\u001b[0;34m\u001b[0m\u001b[0;34m\u001b[0m\u001b[0m\n",
      "\u001b[0;31mNameError\u001b[0m: name 'train_agg_sort' is not defined"
     ]
    }
   ],
   "source": [
    "train_agg_sort.to_csv(\"train_agg_with_score.csv\")\n",
    "train_set.to_csv(\"train_set.csv\")\n",
    "test_set.to_csv(\"test_set.csv\")\n",
    "df.to_csv(\"df.csv\")"
   ]
  },
  {
   "cell_type": "code",
   "execution_count": null,
   "metadata": {
    "cell_id": "00019-68a774ee-4205-4ec3-9fa3-341e7da2f354",
    "deepnote_cell_type": "code",
    "deepnote_to_be_reexecuted": false,
    "execution_millis": 2,
    "execution_start": 1619493512729,
    "source_hash": "7fffcada",
    "tags": []
   },
   "outputs": [],
   "source": [
    "train_pr_df = pd.DataFrame(df, columns=[\"user\",\"pr\"])"
   ]
  },
  {
   "cell_type": "code",
   "execution_count": null,
   "metadata": {
    "cell_id": "00020-716e1ee9-90eb-40ae-a524-fdc77ba7fd42",
    "deepnote_cell_type": "code",
    "deepnote_to_be_reexecuted": false,
    "execution_millis": 48,
    "execution_start": 1619493513518,
    "source_hash": "94bc7d3a",
    "tags": []
   },
   "outputs": [
    {
     "data": {
      "application/vnd.deepnote.dataframe.v2+json": {
       "column_count": 2,
       "columns": [
        {
         "dtype": "object",
         "name": "user"
        },
        {
         "dtype": "float64",
         "name": "pr"
        },
        {
         "dtype": "int64",
         "name": "_deepnote_index_column"
        }
       ],
       "row_count": 332461,
       "rows_bottom": [
        {
         "_deepnote_index_column": 332211,
         "pr": 2.8675739388480776e-05,
         "user": "TalentaSG"
        },
        {
         "_deepnote_index_column": 332212,
         "pr": 3.582738152735985e-05,
         "user": "CryptoPriceCall"
        },
        {
         "_deepnote_index_column": 332213,
         "pr": 0.0003405127552918,
         "user": "marketcapbot"
        },
        {
         "_deepnote_index_column": 332214,
         "pr": 6.126447221582924e-05,
         "user": "jpy"
        },
        {
         "_deepnote_index_column": 332215,
         "pr": 9.2518903930625e-05,
         "user": "cointrend_jp"
        },
        {
         "_deepnote_index_column": 332216,
         "pr": 6.302231865267951e-05,
         "user": "short_vs_long"
        },
        {
         "_deepnote_index_column": 332217,
         "pr": 6.302231865267951e-05,
         "user": "short_vs_long"
        },
        {
         "_deepnote_index_column": 332218,
         "pr": 2.1338295831723083e-05,
         "user": "ccg_btc"
        },
        {
         "_deepnote_index_column": 332219,
         "pr": 2.9353383211083483e-05,
         "user": "cryptoticker247"
        },
        {
         "_deepnote_index_column": 332220,
         "pr": 1.2643416555071744e-05,
         "user": "btc_ticker"
        },
        {
         "_deepnote_index_column": 332221,
         "pr": 2.60554107083834e-05,
         "user": "current_price_v"
        },
        {
         "_deepnote_index_column": 332222,
         "pr": 1.2579702208934373e-05,
         "user": "coinok"
        },
        {
         "_deepnote_index_column": 332223,
         "pr": 1.3777568213119557e-05,
         "user": "BTCMarkets"
        },
        {
         "_deepnote_index_column": 332224,
         "pr": 2.7219351894336337e-05,
         "user": "tr_ticker"
        },
        {
         "_deepnote_index_column": 332225,
         "pr": 1.082916701469627e-05,
         "user": "DomainAddress4u"
        },
        {
         "_deepnote_index_column": 332226,
         "pr": 1.8958791816815004e-05,
         "user": "cripto_informe"
        },
        {
         "_deepnote_index_column": 332227,
         "pr": 0.0001943289206326,
         "user": "NowBitcoinPrice"
        },
        {
         "_deepnote_index_column": 332228,
         "pr": 6.126447221582924e-05,
         "user": "jpy"
        },
        {
         "_deepnote_index_column": 332229,
         "pr": 1.9237785848614933e-05,
         "user": "BitcoinSpreads"
        },
        {
         "_deepnote_index_column": 332230,
         "pr": 1.380942550771418e-05,
         "user": "manbai_izh"
        },
        {
         "_deepnote_index_column": 332231,
         "pr": 2.7219351894336337e-05,
         "user": "tr_ticker"
        },
        {
         "_deepnote_index_column": 332232,
         "pr": 0.0003405127552918,
         "user": "marketcapbot"
        },
        {
         "_deepnote_index_column": 332233,
         "pr": 2.0176290363984804e-05,
         "user": "spd_price"
        },
        {
         "_deepnote_index_column": 332234,
         "pr": 9.2518903930625e-05,
         "user": "cointrend_jp"
        },
        {
         "_deepnote_index_column": 332235,
         "pr": 2.814739477057233e-06,
         "user": "MobileStarts"
        },
        {
         "_deepnote_index_column": 332236,
         "pr": 3.917560425379204e-05,
         "user": "CoinallU"
        },
        {
         "_deepnote_index_column": 332237,
         "pr": 2.60554107083834e-05,
         "user": "current_price_v"
        },
        {
         "_deepnote_index_column": 332238,
         "pr": 1.157744702763709e-05,
         "user": "BlockChainZero"
        },
        {
         "_deepnote_index_column": 332239,
         "pr": 1.0180172027183393e-05,
         "user": "BTC_Stats"
        },
        {
         "_deepnote_index_column": 332240,
         "pr": 1.287703740407925e-05,
         "user": "sbtravel20"
        },
        {
         "_deepnote_index_column": 332241,
         "pr": 1.174071669029485e-05,
         "user": "KoinKnight"
        },
        {
         "_deepnote_index_column": 332242,
         "pr": 1.2579702330460304e-05,
         "user": "hanamaru8"
        },
        {
         "_deepnote_index_column": 332243,
         "pr": 5.083290738092612e-05,
         "user": "asens_inc"
        },
        {
         "_deepnote_index_column": 332244,
         "pr": 0.0003405127552918,
         "user": "marketcapbot"
        },
        {
         "_deepnote_index_column": 332245,
         "pr": 0.0001943289206326,
         "user": "NowBitcoinPrice"
        },
        {
         "_deepnote_index_column": 332246,
         "pr": 1.1617858816811026e-05,
         "user": "PUNPUNinu"
        },
        {
         "_deepnote_index_column": 332247,
         "pr": 2.560742147726665e-05,
         "user": "alykhansatchu"
        },
        {
         "_deepnote_index_column": 332248,
         "pr": 0.0001943289206326,
         "user": "NowBitcoinPrice"
        },
        {
         "_deepnote_index_column": 332249,
         "pr": 2.814739477057233e-06,
         "user": "Coong92"
        },
        {
         "_deepnote_index_column": 332250,
         "pr": 1.7985905127819945e-05,
         "user": "robostopia"
        },
        {
         "_deepnote_index_column": 332251,
         "pr": 1.0180172027183393e-05,
         "user": "BTC_Stats"
        },
        {
         "_deepnote_index_column": 332252,
         "pr": 1.404995411689501e-05,
         "user": "syelinetrivena"
        },
        {
         "_deepnote_index_column": 332253,
         "pr": 2.7219351894336337e-05,
         "user": "tr_ticker"
        },
        {
         "_deepnote_index_column": 332254,
         "pr": 1.8423499517811672e-05,
         "user": "Bitcoin_HODLer"
        },
        {
         "_deepnote_index_column": 332255,
         "pr": 3.4522355758199774e-05,
         "user": "CoinTrendz"
        },
        {
         "_deepnote_index_column": 332256,
         "pr": 2.60554107083834e-05,
         "user": "current_price_v"
        },
        {
         "_deepnote_index_column": 332257,
         "pr": 2.0176290363984804e-05,
         "user": "spd_price"
        },
        {
         "_deepnote_index_column": 332258,
         "pr": 5.250787148725111e-05,
         "user": "CoinCapsAi"
        },
        {
         "_deepnote_index_column": 332259,
         "pr": 1.0180172027183393e-05,
         "user": "BTC_Stats"
        },
        {
         "_deepnote_index_column": 332260,
         "pr": 5.670798808088023e-05,
         "user": "coin_chart"
        },
        {
         "_deepnote_index_column": 332261,
         "pr": 6.126447221582924e-05,
         "user": "jpy"
        },
        {
         "_deepnote_index_column": 332262,
         "pr": 2.204609120073302e-05,
         "user": "passivecash101"
        },
        {
         "_deepnote_index_column": 332263,
         "pr": 0.0001943289206326,
         "user": "NowBitcoinPrice"
        },
        {
         "_deepnote_index_column": 332264,
         "pr": 1.943940413695697e-05,
         "user": "OKEx"
        },
        {
         "_deepnote_index_column": 332265,
         "pr": 2.0796097797743823e-05,
         "user": "incoinsbot"
        },
        {
         "_deepnote_index_column": 332266,
         "pr": 2.7219351894336337e-05,
         "user": "tr_ticker"
        },
        {
         "_deepnote_index_column": 332267,
         "pr": 1.9889926396246053e-05,
         "user": "DragoonZytl"
        },
        {
         "_deepnote_index_column": 332268,
         "pr": 1.1374726806717792e-05,
         "user": "TRONfollower"
        },
        {
         "_deepnote_index_column": 332269,
         "pr": 1.7850068215108516e-05,
         "user": "iPhonismo"
        },
        {
         "_deepnote_index_column": 332270,
         "pr": 1.7850068215108516e-05,
         "user": "iPhonismo"
        },
        {
         "_deepnote_index_column": 332271,
         "pr": 2.60554107083834e-05,
         "user": "current_price_v"
        },
        {
         "_deepnote_index_column": 332272,
         "pr": 2.7219351894336337e-05,
         "user": "tr_ticker"
        },
        {
         "_deepnote_index_column": 332273,
         "pr": 1.3777568213119557e-05,
         "user": "guru_ico"
        },
        {
         "_deepnote_index_column": 332274,
         "pr": 2.814739477057233e-06,
         "user": "UPasmenik"
        },
        {
         "_deepnote_index_column": 332275,
         "pr": 9.2518903930625e-05,
         "user": "cointrend_jp"
        },
        {
         "_deepnote_index_column": 332276,
         "pr": 1.3777568213119557e-05,
         "user": "starcontract"
        },
        {
         "_deepnote_index_column": 332277,
         "pr": 6.126447221582924e-05,
         "user": "jpy"
        },
        {
         "_deepnote_index_column": 332278,
         "pr": 2.0176290363984804e-05,
         "user": "spd_price"
        },
        {
         "_deepnote_index_column": 332279,
         "pr": 1.3777568213119557e-05,
         "user": "starcontract"
        },
        {
         "_deepnote_index_column": 332280,
         "pr": 6.302231865267951e-05,
         "user": "short_vs_long"
        },
        {
         "_deepnote_index_column": 332281,
         "pr": 6.302231865267951e-05,
         "user": "short_vs_long"
        },
        {
         "_deepnote_index_column": 332282,
         "pr": 1.0180172027183393e-05,
         "user": "BTC_Stats"
        },
        {
         "_deepnote_index_column": 332283,
         "pr": 5.083290738092612e-05,
         "user": "asens_inc"
        },
        {
         "_deepnote_index_column": 332284,
         "pr": 2.7219351894336337e-05,
         "user": "tr_ticker"
        },
        {
         "_deepnote_index_column": 332285,
         "pr": 1.9237785848614933e-05,
         "user": "BitcoinSpreads"
        },
        {
         "_deepnote_index_column": 332286,
         "pr": 2.814739477057233e-06,
         "user": "Hextris5"
        },
        {
         "_deepnote_index_column": 332287,
         "pr": 0.0001943289206326,
         "user": "NowBitcoinPrice"
        },
        {
         "_deepnote_index_column": 332288,
         "pr": 1.7850068215108516e-05,
         "user": "BitWiseCapital1"
        },
        {
         "_deepnote_index_column": 332289,
         "pr": 1.869631196849119e-05,
         "user": "top7ico"
        },
        {
         "_deepnote_index_column": 332290,
         "pr": 1.1602450631331189e-05,
         "user": "MoneyhealthF"
        },
        {
         "_deepnote_index_column": 332291,
         "pr": 1.804121198267624e-05,
         "user": "EthereumPriceCa"
        },
        {
         "_deepnote_index_column": 332292,
         "pr": 2.7219351894336337e-05,
         "user": "tr_ticker"
        },
        {
         "_deepnote_index_column": 332293,
         "pr": 2.086006087209392e-05,
         "user": "seanneylon"
        },
        {
         "_deepnote_index_column": 332294,
         "pr": 0.0003405127552918,
         "user": "marketcapbot"
        },
        {
         "_deepnote_index_column": 332295,
         "pr": 3.433121199063206e-05,
         "user": "IGSquawk"
        },
        {
         "_deepnote_index_column": 332296,
         "pr": 1.7850068215108516e-05,
         "user": "TRON_AR"
        },
        {
         "_deepnote_index_column": 332297,
         "pr": 1.7850068215108516e-05,
         "user": "BitWiseCapital1"
        },
        {
         "_deepnote_index_column": 332298,
         "pr": 1.0180172027183393e-05,
         "user": "BTC_Stats"
        },
        {
         "_deepnote_index_column": 332299,
         "pr": 1.2420068212456572e-05,
         "user": "kurneoldu"
        },
        {
         "_deepnote_index_column": 332300,
         "pr": 6.302231865267951e-05,
         "user": "short_vs_long"
        },
        {
         "_deepnote_index_column": 332301,
         "pr": 5.670798808088023e-05,
         "user": "coin_chart"
        },
        {
         "_deepnote_index_column": 332302,
         "pr": 1.1295783949034396e-05,
         "user": "GemCharting"
        },
        {
         "_deepnote_index_column": 332303,
         "pr": 6.126447221582924e-05,
         "user": "jpy"
        },
        {
         "_deepnote_index_column": 332304,
         "pr": 2.1338295831723083e-05,
         "user": "ccg_btc"
        },
        {
         "_deepnote_index_column": 332305,
         "pr": 9.2518903930625e-05,
         "user": "cointrend_jp"
        },
        {
         "_deepnote_index_column": 332306,
         "pr": 4.29808165975617e-05,
         "user": "cryptoc_cheap"
        },
        {
         "_deepnote_index_column": 332307,
         "pr": 3.196125567708224e-05,
         "user": "CNMonitor"
        },
        {
         "_deepnote_index_column": 332308,
         "pr": 6.302231865267951e-05,
         "user": "short_vs_long"
        },
        {
         "_deepnote_index_column": 332309,
         "pr": 2.9353383211083483e-05,
         "user": "cryptoticker247"
        },
        {
         "_deepnote_index_column": 332310,
         "pr": 1.2643416555071744e-05,
         "user": "btc_ticker"
        },
        {
         "_deepnote_index_column": 332311,
         "pr": 0.0001943289206326,
         "user": "NowBitcoinPrice"
        },
        {
         "_deepnote_index_column": 332312,
         "pr": 2.814739477057233e-06,
         "user": "Everycryptoday"
        },
        {
         "_deepnote_index_column": 332313,
         "pr": 1.0180172027183393e-05,
         "user": "BTC_Stats"
        },
        {
         "_deepnote_index_column": 332314,
         "pr": 1.1805032801314324e-05,
         "user": "GopaxID"
        },
        {
         "_deepnote_index_column": 332315,
         "pr": 1.0964385949198069e-05,
         "user": "CryptoToit"
        },
        {
         "_deepnote_index_column": 332316,
         "pr": 0.0001943289206326,
         "user": "NowBitcoinPrice"
        },
        {
         "_deepnote_index_column": 332317,
         "pr": 1.406428386447114e-05,
         "user": "ZAQSBusiness"
        },
        {
         "_deepnote_index_column": 332318,
         "pr": 3.4522355758199774e-05,
         "user": "CoinTrendz"
        },
        {
         "_deepnote_index_column": 332319,
         "pr": 1.2310263832180152e-05,
         "user": "alsancakmne"
        },
        {
         "_deepnote_index_column": 332320,
         "pr": 2.1299436703855692e-05,
         "user": "enigmapi_one"
        },
        {
         "_deepnote_index_column": 332321,
         "pr": 2.7219351894336337e-05,
         "user": "tr_ticker"
        },
        {
         "_deepnote_index_column": 332322,
         "pr": 9.2518903930625e-05,
         "user": "cointrend_jp"
        },
        {
         "_deepnote_index_column": 332323,
         "pr": 1.1669549955550974e-05,
         "user": "TechAnalyses"
        },
        {
         "_deepnote_index_column": 332324,
         "pr": 5.670798808088023e-05,
         "user": "coin_chart"
        },
        {
         "_deepnote_index_column": 332325,
         "pr": 4.329209391325944e-05,
         "user": "analyst5_bot"
        },
        {
         "_deepnote_index_column": 332326,
         "pr": 3.44501992085613e-05,
         "user": "DovizKur"
        },
        {
         "_deepnote_index_column": 332327,
         "pr": 9.2518903930625e-05,
         "user": "cointrend_jp"
        },
        {
         "_deepnote_index_column": 332328,
         "pr": 1.1608712618327335e-05,
         "user": "Digiinno"
        },
        {
         "_deepnote_index_column": 332329,
         "pr": 1.994379144294408e-05,
         "user": "T45Investments"
        },
        {
         "_deepnote_index_column": 332330,
         "pr": 1.0180172027183393e-05,
         "user": "BTC_Stats"
        },
        {
         "_deepnote_index_column": 332331,
         "pr": 1.2643416555071744e-05,
         "user": "btc_ticker"
        },
        {
         "_deepnote_index_column": 332332,
         "pr": 6.302231865267951e-05,
         "user": "short_vs_long"
        },
        {
         "_deepnote_index_column": 332333,
         "pr": 0.0003405127552918,
         "user": "marketcapbot"
        },
        {
         "_deepnote_index_column": 332334,
         "pr": 6.302231865267951e-05,
         "user": "short_vs_long"
        },
        {
         "_deepnote_index_column": 332335,
         "pr": 2.814739477057233e-06,
         "user": "M_RappaCEO"
        },
        {
         "_deepnote_index_column": 332336,
         "pr": 2.60554107083834e-05,
         "user": "current_price_v"
        },
        {
         "_deepnote_index_column": 332337,
         "pr": 0.0001943289206326,
         "user": "NowBitcoinPrice"
        },
        {
         "_deepnote_index_column": 332338,
         "pr": 2.814739477057233e-06,
         "user": "akhisarhaber"
        },
        {
         "_deepnote_index_column": 332339,
         "pr": 1.2579702208934373e-05,
         "user": "CryptoBaseNews1"
        },
        {
         "_deepnote_index_column": 332340,
         "pr": 0.0001943289206326,
         "user": "NowBitcoinPrice"
        },
        {
         "_deepnote_index_column": 332341,
         "pr": 1.0180172027183393e-05,
         "user": "BTC_Stats"
        },
        {
         "_deepnote_index_column": 332342,
         "pr": 1.174071669029485e-05,
         "user": "KoinKnight"
        },
        {
         "_deepnote_index_column": 332343,
         "pr": 0.0001943289206326,
         "user": "NowBitcoinPrice"
        },
        {
         "_deepnote_index_column": 332344,
         "pr": 1.2310263832180152e-05,
         "user": "alsancakmne"
        },
        {
         "_deepnote_index_column": 332345,
         "pr": 5.083290738092612e-05,
         "user": "asens_inc"
        },
        {
         "_deepnote_index_column": 332346,
         "pr": 2.186866388484836e-05,
         "user": "MoonXwithEOS"
        },
        {
         "_deepnote_index_column": 332347,
         "pr": 0.0003405127552918,
         "user": "marketcapbot"
        },
        {
         "_deepnote_index_column": 332348,
         "pr": 1.0180172027183393e-05,
         "user": "BTC_Stats"
        },
        {
         "_deepnote_index_column": 332349,
         "pr": 2.7219351894336337e-05,
         "user": "tr_ticker"
        },
        {
         "_deepnote_index_column": 332350,
         "pr": 2.60554107083834e-05,
         "user": "current_price_v"
        },
        {
         "_deepnote_index_column": 332351,
         "pr": 2.3439006924176995e-05,
         "user": "thestockmench"
        },
        {
         "_deepnote_index_column": 332352,
         "pr": 2.4059722354206982e-05,
         "user": "BitcoinBolt"
        },
        {
         "_deepnote_index_column": 332353,
         "pr": 0.0001943289206326,
         "user": "NowBitcoinPrice"
        },
        {
         "_deepnote_index_column": 332354,
         "pr": 1.0180172027183393e-05,
         "user": "BTC_Stats"
        },
        {
         "_deepnote_index_column": 332355,
         "pr": 2.0796097797743823e-05,
         "user": "incoinsbot"
        },
        {
         "_deepnote_index_column": 332356,
         "pr": 2.7219351894336337e-05,
         "user": "tr_ticker"
        },
        {
         "_deepnote_index_column": 332357,
         "pr": 7.004737754113177e-05,
         "user": "KumaKumatw"
        },
        {
         "_deepnote_index_column": 332358,
         "pr": 2.814739477057233e-06,
         "user": "MacauTron"
        },
        {
         "_deepnote_index_column": 332359,
         "pr": 1.882500767399952e-05,
         "user": "WhatsappEmoji"
        },
        {
         "_deepnote_index_column": 332360,
         "pr": 1.1005197785225518e-05,
         "user": "AltinaDair"
        },
        {
         "_deepnote_index_column": 332361,
         "pr": 1.3777568213119557e-05,
         "user": "MSquid92"
        },
        {
         "_deepnote_index_column": 332362,
         "pr": 1.380942550771418e-05,
         "user": "Peer2PeerCrypto"
        },
        {
         "_deepnote_index_column": 332363,
         "pr": 1.3777568213119557e-05,
         "user": "cceasy33"
        },
        {
         "_deepnote_index_column": 332364,
         "pr": 7.004737754113177e-05,
         "user": "KumaKumatw"
        },
        {
         "_deepnote_index_column": 332365,
         "pr": 2.814739477057233e-06,
         "user": "6xsempre"
        },
        {
         "_deepnote_index_column": 332366,
         "pr": 3.196125567708224e-05,
         "user": "CNMonitor"
        },
        {
         "_deepnote_index_column": 332367,
         "pr": 1.1237814122505294e-05,
         "user": "OvZnv"
        },
        {
         "_deepnote_index_column": 332368,
         "pr": 2.6058782808275663e-05,
         "user": "analytics_delta"
        },
        {
         "_deepnote_index_column": 332369,
         "pr": 2.60554107083834e-05,
         "user": "current_price_v"
        },
        {
         "_deepnote_index_column": 332370,
         "pr": 6.126447221582924e-05,
         "user": "jpy"
        },
        {
         "_deepnote_index_column": 332371,
         "pr": 1.0613918230451223e-05,
         "user": "S4FE_i0"
        },
        {
         "_deepnote_index_column": 332372,
         "pr": 1.7850068215108516e-05,
         "user": "BitWiseCapital1"
        },
        {
         "_deepnote_index_column": 332373,
         "pr": 1.8958791816815004e-05,
         "user": "cripto_informe"
        },
        {
         "_deepnote_index_column": 332374,
         "pr": 1.0180172027183393e-05,
         "user": "BTC_Stats"
        },
        {
         "_deepnote_index_column": 332375,
         "pr": 6.302231865267951e-05,
         "user": "short_vs_long"
        },
        {
         "_deepnote_index_column": 332376,
         "pr": 2.0176290363984804e-05,
         "user": "spd_price"
        },
        {
         "_deepnote_index_column": 332377,
         "pr": 2.1931129470064465e-05,
         "user": "yadio_io"
        },
        {
         "_deepnote_index_column": 332378,
         "pr": 0.0001943289206326,
         "user": "NowBitcoinPrice"
        },
        {
         "_deepnote_index_column": 332379,
         "pr": 0.0001943289206326,
         "user": "NowBitcoinPrice"
        },
        {
         "_deepnote_index_column": 332380,
         "pr": 1.7850068215108516e-05,
         "user": "CriptoPasion"
        },
        {
         "_deepnote_index_column": 332381,
         "pr": 1.0180172027183393e-05,
         "user": "BTC_Stats"
        },
        {
         "_deepnote_index_column": 332382,
         "pr": 2.7219351894336337e-05,
         "user": "tr_ticker"
        },
        {
         "_deepnote_index_column": 332383,
         "pr": 1.8226640123600595e-05,
         "user": "harmongreg"
        },
        {
         "_deepnote_index_column": 332384,
         "pr": 2.7219351894336337e-05,
         "user": "tr_ticker"
        },
        {
         "_deepnote_index_column": 332385,
         "pr": 2.644107034341111e-05,
         "user": "Info_Set2012"
        },
        {
         "_deepnote_index_column": 332386,
         "pr": 2.814739477057233e-06,
         "user": "piyasaguncel"
        },
        {
         "_deepnote_index_column": 332387,
         "pr": 1.763741996155193e-05,
         "user": "DTradingAcademy"
        },
        {
         "_deepnote_index_column": 332388,
         "pr": 6.126447221582924e-05,
         "user": "jpy"
        },
        {
         "_deepnote_index_column": 332389,
         "pr": 1.7850068215108516e-05,
         "user": "CoinMonitor_AR"
        },
        {
         "_deepnote_index_column": 332390,
         "pr": 1.0180172027183393e-05,
         "user": "BTC_Stats"
        },
        {
         "_deepnote_index_column": 332391,
         "pr": 1.8958791816815004e-05,
         "user": "cripto_informe"
        },
        {
         "_deepnote_index_column": 332392,
         "pr": 0.0001943289206326,
         "user": "NowBitcoinPrice"
        },
        {
         "_deepnote_index_column": 332393,
         "pr": 2.814739477057233e-06,
         "user": "JOBSAeK"
        },
        {
         "_deepnote_index_column": 332394,
         "pr": 6.302231865267951e-05,
         "user": "short_vs_long"
        },
        {
         "_deepnote_index_column": 332395,
         "pr": 2.54035584360068e-05,
         "user": "stratumHKBot"
        },
        {
         "_deepnote_index_column": 332396,
         "pr": 1.8168641161054715e-05,
         "user": "SamuelAkins12"
        },
        {
         "_deepnote_index_column": 332397,
         "pr": 2.1931129470064465e-05,
         "user": "yadio_io"
        },
        {
         "_deepnote_index_column": 332398,
         "pr": 1.965283830388976e-05,
         "user": "KushMansPicks"
        },
        {
         "_deepnote_index_column": 332399,
         "pr": 2.60554107083834e-05,
         "user": "current_price_v"
        },
        {
         "_deepnote_index_column": 332400,
         "pr": 2.0176290363984804e-05,
         "user": "spd_price"
        },
        {
         "_deepnote_index_column": 332401,
         "pr": 2.7219351894336337e-05,
         "user": "tr_ticker"
        },
        {
         "_deepnote_index_column": 332402,
         "pr": 5.083290738092612e-05,
         "user": "asens_inc"
        },
        {
         "_deepnote_index_column": 332403,
         "pr": 2.9353383211083483e-05,
         "user": "cryptoticker247"
        },
        {
         "_deepnote_index_column": 332404,
         "pr": 1.0180172027183393e-05,
         "user": "BTC_Stats"
        },
        {
         "_deepnote_index_column": 332405,
         "pr": 1.7850068215108516e-05,
         "user": "TraderMikabot"
        },
        {
         "_deepnote_index_column": 332406,
         "pr": 5.670798808088023e-05,
         "user": "coin_chart"
        },
        {
         "_deepnote_index_column": 332407,
         "pr": 1.2420068212456572e-05,
         "user": "kurneoldu"
        },
        {
         "_deepnote_index_column": 332408,
         "pr": 9.2518903930625e-05,
         "user": "cointrend_jp"
        },
        {
         "_deepnote_index_column": 332409,
         "pr": 6.126447221582924e-05,
         "user": "jpy"
        },
        {
         "_deepnote_index_column": 332410,
         "pr": 0.0001943289206326,
         "user": "NowBitcoinPrice"
        },
        {
         "_deepnote_index_column": 332411,
         "pr": 1.1768893801224038e-05,
         "user": "coinpocalypse"
        },
        {
         "_deepnote_index_column": 332412,
         "pr": 4.329209391325944e-05,
         "user": "analyst5_bot"
        },
        {
         "_deepnote_index_column": 332413,
         "pr": 2.814739477057233e-06,
         "user": "serkanozadli"
        },
        {
         "_deepnote_index_column": 332414,
         "pr": 1.7850068215108516e-05,
         "user": "BitWiseCapital1"
        },
        {
         "_deepnote_index_column": 332415,
         "pr": 2.4500919498585504e-05,
         "user": "m9lB4R6nRVEBs2m"
        },
        {
         "_deepnote_index_column": 332416,
         "pr": 0.0001943289206326,
         "user": "NowBitcoinPrice"
        },
        {
         "_deepnote_index_column": 332417,
         "pr": 1.994379144294408e-05,
         "user": "T45Investments"
        },
        {
         "_deepnote_index_column": 332418,
         "pr": 2.201820232215984e-05,
         "user": "Doviz724"
        },
        {
         "_deepnote_index_column": 332419,
         "pr": 1.7850068215108516e-05,
         "user": "alert_bitcoin"
        },
        {
         "_deepnote_index_column": 332420,
         "pr": 2.6058782808275663e-05,
         "user": "sahokun"
        },
        {
         "_deepnote_index_column": 332421,
         "pr": 1.0180172027183393e-05,
         "user": "BTC_Stats"
        },
        {
         "_deepnote_index_column": 332422,
         "pr": 5.670798808088023e-05,
         "user": "coin_chart"
        },
        {
         "_deepnote_index_column": 332423,
         "pr": 5.083290738092612e-05,
         "user": "asens_inc"
        },
        {
         "_deepnote_index_column": 332424,
         "pr": 6.126447221582924e-05,
         "user": "jpy"
        },
        {
         "_deepnote_index_column": 332425,
         "pr": 2.0176290363984804e-05,
         "user": "spd_price"
        },
        {
         "_deepnote_index_column": 332426,
         "pr": 1.2420068212456572e-05,
         "user": "kurneoldu"
        },
        {
         "_deepnote_index_column": 332427,
         "pr": 1.7850068215108516e-05,
         "user": "bitcoworld"
        },
        {
         "_deepnote_index_column": 332428,
         "pr": 9.2518903930625e-05,
         "user": "cointrend_jp"
        },
        {
         "_deepnote_index_column": 332429,
         "pr": 2.60554107083834e-05,
         "user": "current_price_v"
        },
        {
         "_deepnote_index_column": 332430,
         "pr": 0.0001943289206326,
         "user": "NowBitcoinPrice"
        },
        {
         "_deepnote_index_column": 332431,
         "pr": 1.0180172027183393e-05,
         "user": "BTC_Stats"
        },
        {
         "_deepnote_index_column": 332432,
         "pr": 0.0002279107573778,
         "user": "KuCoinUpdates"
        },
        {
         "_deepnote_index_column": 332433,
         "pr": 2.7219351894336337e-05,
         "user": "tr_ticker"
        },
        {
         "_deepnote_index_column": 332434,
         "pr": 2.60554107083834e-05,
         "user": "current_price_v"
        },
        {
         "_deepnote_index_column": 332435,
         "pr": 1.1784821639262228e-05,
         "user": "BitcoinNewsCom"
        },
        {
         "_deepnote_index_column": 332436,
         "pr": 0.0001943289206326,
         "user": "NowBitcoinPrice"
        },
        {
         "_deepnote_index_column": 332437,
         "pr": 1.9237785848614933e-05,
         "user": "BitcoinSpreads"
        },
        {
         "_deepnote_index_column": 332438,
         "pr": 1.0754754152964938e-05,
         "user": "mobilenewsflash"
        },
        {
         "_deepnote_index_column": 332439,
         "pr": 3.582738152735985e-05,
         "user": "CryptoPriceCall"
        },
        {
         "_deepnote_index_column": 332440,
         "pr": 1.0180172027183393e-05,
         "user": "BTC_Stats"
        },
        {
         "_deepnote_index_column": 332441,
         "pr": 0.0001943289206326,
         "user": "NowBitcoinPrice"
        },
        {
         "_deepnote_index_column": 332442,
         "pr": 2.7219351894336337e-05,
         "user": "tr_ticker"
        },
        {
         "_deepnote_index_column": 332443,
         "pr": 1.2622178804270422e-05,
         "user": "aus_bitcoin"
        },
        {
         "_deepnote_index_column": 332444,
         "pr": 2.423078971359556e-05,
         "user": "crypcited"
        },
        {
         "_deepnote_index_column": 332445,
         "pr": 1.0180172027183393e-05,
         "user": "BTC_Stats"
        },
        {
         "_deepnote_index_column": 332446,
         "pr": 1.174071669029485e-05,
         "user": "KoinKnight"
        },
        {
         "_deepnote_index_column": 332447,
         "pr": 2.60554107083834e-05,
         "user": "current_price_v"
        },
        {
         "_deepnote_index_column": 332448,
         "pr": 1.3104079825399502e-05,
         "user": "Airdroptodeals"
        },
        {
         "_deepnote_index_column": 332449,
         "pr": 0.0003405127552918,
         "user": "marketcapbot"
        },
        {
         "_deepnote_index_column": 332450,
         "pr": 6.126447221582924e-05,
         "user": "jpy"
        },
        {
         "_deepnote_index_column": 332451,
         "pr": 6.302231865267951e-05,
         "user": "short_vs_long"
        },
        {
         "_deepnote_index_column": 332452,
         "pr": 2.0176290363984804e-05,
         "user": "spd_price"
        },
        {
         "_deepnote_index_column": 332453,
         "pr": 3.5708158977936167e-05,
         "user": "coinstats"
        },
        {
         "_deepnote_index_column": 332454,
         "pr": 1.2420068212456572e-05,
         "user": "kurneoldu"
        },
        {
         "_deepnote_index_column": 332455,
         "pr": 5.670798808088023e-05,
         "user": "coin_chart"
        },
        {
         "_deepnote_index_column": 332456,
         "pr": 9.2518903930625e-05,
         "user": "cointrend_jp"
        },
        {
         "_deepnote_index_column": 332457,
         "pr": 2.814739477057233e-06,
         "user": "SssaPTAMUo5R7RE"
        },
        {
         "_deepnote_index_column": 332458,
         "pr": 2.7219351894336337e-05,
         "user": "tr_ticker"
        },
        {
         "_deepnote_index_column": 332459,
         "pr": 1.0459407537091906e-05,
         "user": "EconomiesCom"
        },
        {
         "_deepnote_index_column": 332460,
         "pr": 1.3777568213119557e-05,
         "user": "sylviaNargaard1"
        }
       ],
       "rows_top": [
        {
         "_deepnote_index_column": 0,
         "pr": 2.814739477057233e-06,
         "user": "BisqArviraj"
        },
        {
         "_deepnote_index_column": 1,
         "pr": 1.1883750513643218e-05,
         "user": "cryptolligence"
        },
        {
         "_deepnote_index_column": 2,
         "pr": 1.1883750513643218e-05,
         "user": "cryptolligence"
        },
        {
         "_deepnote_index_column": 3,
         "pr": 3.5708158977936167e-05,
         "user": "coinstats"
        },
        {
         "_deepnote_index_column": 4,
         "pr": 1.7913782804297755e-05,
         "user": "TNFXtrading"
        },
        {
         "_deepnote_index_column": 5,
         "pr": 5.083290738092612e-05,
         "user": "asens_inc"
        },
        {
         "_deepnote_index_column": 6,
         "pr": 1.1315986033466788e-05,
         "user": "BitcoinPRlCE"
        },
        {
         "_deepnote_index_column": 7,
         "pr": 1.9237785848614933e-05,
         "user": "BitcoinSpreads"
        },
        {
         "_deepnote_index_column": 8,
         "pr": 1.1900149482748018e-05,
         "user": "SrCastelo"
        },
        {
         "_deepnote_index_column": 9,
         "pr": 2.201820232215984e-05,
         "user": "Doviz724"
        },
        {
         "_deepnote_index_column": 10,
         "pr": 0.0001943289206326,
         "user": "NowBitcoinPrice"
        },
        {
         "_deepnote_index_column": 11,
         "pr": 9.4461818063872e-06,
         "user": "ergoinfo"
        },
        {
         "_deepnote_index_column": 12,
         "pr": 9.4461818063872e-06,
         "user": "ergoinfo"
        },
        {
         "_deepnote_index_column": 13,
         "pr": 9.4461818063872e-06,
         "user": "ergoinfo"
        },
        {
         "_deepnote_index_column": 14,
         "pr": 9.4461818063872e-06,
         "user": "ergoinfo"
        },
        {
         "_deepnote_index_column": 15,
         "pr": 9.4461818063872e-06,
         "user": "ergoinfo"
        },
        {
         "_deepnote_index_column": 16,
         "pr": 9.4461818063872e-06,
         "user": "ergoinfo"
        },
        {
         "_deepnote_index_column": 17,
         "pr": 9.4461818063872e-06,
         "user": "ergoinfo"
        },
        {
         "_deepnote_index_column": 18,
         "pr": 9.4461818063872e-06,
         "user": "ergoinfo"
        },
        {
         "_deepnote_index_column": 19,
         "pr": 9.4461818063872e-06,
         "user": "ergoinfo"
        },
        {
         "_deepnote_index_column": 20,
         "pr": 9.4461818063872e-06,
         "user": "ergoinfo"
        },
        {
         "_deepnote_index_column": 21,
         "pr": 9.4461818063872e-06,
         "user": "ergoinfo"
        },
        {
         "_deepnote_index_column": 22,
         "pr": 9.4461818063872e-06,
         "user": "ergoinfo"
        },
        {
         "_deepnote_index_column": 23,
         "pr": 9.4461818063872e-06,
         "user": "ergoinfo"
        },
        {
         "_deepnote_index_column": 24,
         "pr": 9.4461818063872e-06,
         "user": "ergoinfo"
        },
        {
         "_deepnote_index_column": 25,
         "pr": 9.4461818063872e-06,
         "user": "ergoinfo"
        },
        {
         "_deepnote_index_column": 26,
         "pr": 9.4461818063872e-06,
         "user": "ergoinfo"
        },
        {
         "_deepnote_index_column": 27,
         "pr": 9.4461818063872e-06,
         "user": "ergoinfo"
        },
        {
         "_deepnote_index_column": 28,
         "pr": 9.4461818063872e-06,
         "user": "ergoinfo"
        },
        {
         "_deepnote_index_column": 29,
         "pr": 9.4461818063872e-06,
         "user": "ergoinfo"
        },
        {
         "_deepnote_index_column": 30,
         "pr": 9.4461818063872e-06,
         "user": "ergoinfo"
        },
        {
         "_deepnote_index_column": 31,
         "pr": 1.864508907680781e-05,
         "user": "BTCPriceBot"
        },
        {
         "_deepnote_index_column": 32,
         "pr": 1.1883750513643218e-05,
         "user": "cryptolligence"
        },
        {
         "_deepnote_index_column": 33,
         "pr": 2.157550278616728e-05,
         "user": "digi_cash_chart"
        },
        {
         "_deepnote_index_column": 34,
         "pr": 2.14545190551183e-05,
         "user": "btc0in"
        },
        {
         "_deepnote_index_column": 35,
         "pr": 3.165049875444414e-05,
         "user": "Bitty_Bot"
        },
        {
         "_deepnote_index_column": 36,
         "pr": 2.14545190551183e-05,
         "user": "btc0in"
        },
        {
         "_deepnote_index_column": 37,
         "pr": 1.7888522052827375e-05,
         "user": "TheEnogie"
        },
        {
         "_deepnote_index_column": 38,
         "pr": 2.0585805975203224e-05,
         "user": "bitcoin_service"
        },
        {
         "_deepnote_index_column": 39,
         "pr": 4.167902382563454e-05,
         "user": "cryptoUSD"
        },
        {
         "_deepnote_index_column": 40,
         "pr": 0.0001943289206326,
         "user": "NowBitcoinPrice"
        },
        {
         "_deepnote_index_column": 41,
         "pr": 3.0115308660315076e-05,
         "user": "TheBitcoinPizza"
        },
        {
         "_deepnote_index_column": 42,
         "pr": 2.814739477057233e-06,
         "user": "Fogden81"
        },
        {
         "_deepnote_index_column": 43,
         "pr": 1.7850068215108516e-05,
         "user": "RaniLaneNF"
        },
        {
         "_deepnote_index_column": 44,
         "pr": 1.3777568213119557e-05,
         "user": "TopTrendThai"
        },
        {
         "_deepnote_index_column": 45,
         "pr": 1.115046618434189e-05,
         "user": "BitcoinVEmundo"
        },
        {
         "_deepnote_index_column": 46,
         "pr": 1.7850068215108516e-05,
         "user": "tymorapro"
        },
        {
         "_deepnote_index_column": 47,
         "pr": 1.7977497393486994e-05,
         "user": "MGieselmann"
        },
        {
         "_deepnote_index_column": 48,
         "pr": 2.814739477057233e-06,
         "user": "cfdportal"
        },
        {
         "_deepnote_index_column": 49,
         "pr": 5.083290738092612e-05,
         "user": "asens_inc"
        },
        {
         "_deepnote_index_column": 50,
         "pr": 3.5708158977936167e-05,
         "user": "coinstats"
        },
        {
         "_deepnote_index_column": 51,
         "pr": 2.3521845326332388e-05,
         "user": "JDNumismaticCor"
        },
        {
         "_deepnote_index_column": 52,
         "pr": 1.021092851250046e-05,
         "user": "munex007"
        },
        {
         "_deepnote_index_column": 53,
         "pr": 0.0001943289206326,
         "user": "NowBitcoinPrice"
        },
        {
         "_deepnote_index_column": 54,
         "pr": 2.814739477057233e-06,
         "user": "BisqArviraj"
        },
        {
         "_deepnote_index_column": 55,
         "pr": 2.0585805975203224e-05,
         "user": "bitcoin_service"
        },
        {
         "_deepnote_index_column": 56,
         "pr": 1.170028287053904e-05,
         "user": "forexistanbul"
        },
        {
         "_deepnote_index_column": 57,
         "pr": 2.157550278616728e-05,
         "user": "digi_cash_chart"
        },
        {
         "_deepnote_index_column": 58,
         "pr": 1.3777568213119557e-05,
         "user": "PoloniexPrice"
        },
        {
         "_deepnote_index_column": 59,
         "pr": 1.7985905127819945e-05,
         "user": "robostopia"
        },
        {
         "_deepnote_index_column": 60,
         "pr": 1.864508907680781e-05,
         "user": "BTCPriceBot"
        },
        {
         "_deepnote_index_column": 61,
         "pr": 2.201820232215984e-05,
         "user": "Doviz724"
        },
        {
         "_deepnote_index_column": 62,
         "pr": 0.0001943289206326,
         "user": "NowBitcoinPrice"
        },
        {
         "_deepnote_index_column": 63,
         "pr": 1.2951023122366906e-05,
         "user": "BitcoinFR"
        },
        {
         "_deepnote_index_column": 64,
         "pr": 1.9237785848614933e-05,
         "user": "BitcoinSpreads"
        },
        {
         "_deepnote_index_column": 65,
         "pr": 1.2441306408852989e-05,
         "user": "PeterNBlogger"
        },
        {
         "_deepnote_index_column": 66,
         "pr": 1.9237785848614933e-05,
         "user": "BitcoinSpreads"
        },
        {
         "_deepnote_index_column": 67,
         "pr": 2.201820232215984e-05,
         "user": "Doviz724"
        },
        {
         "_deepnote_index_column": 68,
         "pr": 0.0001943289206326,
         "user": "NowBitcoinPrice"
        },
        {
         "_deepnote_index_column": 69,
         "pr": 2.0585805975203224e-05,
         "user": "bitcoin_service"
        },
        {
         "_deepnote_index_column": 70,
         "pr": 1.1883750513643218e-05,
         "user": "cryptolligence"
        },
        {
         "_deepnote_index_column": 71,
         "pr": 1.3936854686092658e-05,
         "user": "Digital_Deals_"
        },
        {
         "_deepnote_index_column": 72,
         "pr": 1.115046618434189e-05,
         "user": "BitcoinVEmundo"
        },
        {
         "_deepnote_index_column": 73,
         "pr": 9.4461818063872e-06,
         "user": "ergoinfo"
        },
        {
         "_deepnote_index_column": 74,
         "pr": 2.157550278616728e-05,
         "user": "digi_cash_chart"
        },
        {
         "_deepnote_index_column": 75,
         "pr": 2.8793667963878396e-05,
         "user": "TickerCrypto"
        },
        {
         "_deepnote_index_column": 76,
         "pr": 2.03626163794558e-05,
         "user": "coinjinja"
        },
        {
         "_deepnote_index_column": 77,
         "pr": 1.1473018185024526e-05,
         "user": "HourlyBTC"
        },
        {
         "_deepnote_index_column": 78,
         "pr": 1.1282575415422844e-05,
         "user": "MonnaiesD"
        },
        {
         "_deepnote_index_column": 79,
         "pr": 1.864508907680781e-05,
         "user": "BTCPriceBot"
        },
        {
         "_deepnote_index_column": 80,
         "pr": 0.0001943289206326,
         "user": "NowBitcoinPrice"
        },
        {
         "_deepnote_index_column": 81,
         "pr": 1.1883750513643218e-05,
         "user": "cryptolligence"
        },
        {
         "_deepnote_index_column": 82,
         "pr": 9.4461818063872e-06,
         "user": "ergoinfo"
        },
        {
         "_deepnote_index_column": 83,
         "pr": 9.4461818063872e-06,
         "user": "ergoinfo"
        },
        {
         "_deepnote_index_column": 84,
         "pr": 9.4461818063872e-06,
         "user": "ergoinfo"
        },
        {
         "_deepnote_index_column": 85,
         "pr": 1.9237785848614933e-05,
         "user": "BitcoinSpreads"
        },
        {
         "_deepnote_index_column": 86,
         "pr": 5.083290738092612e-05,
         "user": "asens_inc"
        },
        {
         "_deepnote_index_column": 87,
         "pr": 4.228506822704226e-05,
         "user": "coin_choice"
        },
        {
         "_deepnote_index_column": 88,
         "pr": 4.63490258251035e-05,
         "user": "cryptcoin_trade"
        },
        {
         "_deepnote_index_column": 89,
         "pr": 3.0485838624461795e-05,
         "user": "bitcoinprice_"
        },
        {
         "_deepnote_index_column": 90,
         "pr": 3.5708158977936167e-05,
         "user": "coinstats"
        },
        {
         "_deepnote_index_column": 91,
         "pr": 4.63490258251035e-05,
         "user": "cryptcoin_trade"
        },
        {
         "_deepnote_index_column": 92,
         "pr": 2.75523452966303e-05,
         "user": "top_3_coin"
        },
        {
         "_deepnote_index_column": 93,
         "pr": 1.057088794675696e-05,
         "user": "JohnCrypto12"
        },
        {
         "_deepnote_index_column": 94,
         "pr": 2.814739477057233e-06,
         "user": "Mohamad03319863"
        },
        {
         "_deepnote_index_column": 95,
         "pr": 2.814739477057233e-06,
         "user": "BitcoinerCo"
        },
        {
         "_deepnote_index_column": 96,
         "pr": 1.3936854686092658e-05,
         "user": "Digital_Deals_"
        },
        {
         "_deepnote_index_column": 97,
         "pr": 2.0585805975203224e-05,
         "user": "bitcoin_service"
        },
        {
         "_deepnote_index_column": 98,
         "pr": 1.3777568213119557e-05,
         "user": "TopTrendThai"
        },
        {
         "_deepnote_index_column": 99,
         "pr": 1.115046618434189e-05,
         "user": "BitcoinVEmundo"
        },
        {
         "_deepnote_index_column": 100,
         "pr": 1.8742072463757872e-05,
         "user": "MmatlouLebogang"
        },
        {
         "_deepnote_index_column": 101,
         "pr": 2.157550278616728e-05,
         "user": "digi_cash_chart"
        },
        {
         "_deepnote_index_column": 102,
         "pr": 1.1473018185024526e-05,
         "user": "HourlyBTC"
        },
        {
         "_deepnote_index_column": 103,
         "pr": 1.864508907680781e-05,
         "user": "BTCPriceBot"
        },
        {
         "_deepnote_index_column": 104,
         "pr": 0.0001943289206326,
         "user": "NowBitcoinPrice"
        },
        {
         "_deepnote_index_column": 105,
         "pr": 1.1315986033466788e-05,
         "user": "BitcoinPRlCE"
        },
        {
         "_deepnote_index_column": 106,
         "pr": 3.369978751071204e-05,
         "user": "crypto_paraguay"
        },
        {
         "_deepnote_index_column": 107,
         "pr": 1.115046618434189e-05,
         "user": "BitcoinVEmundo"
        },
        {
         "_deepnote_index_column": 108,
         "pr": 2.135894717133444e-05,
         "user": "ThomasPepperz"
        },
        {
         "_deepnote_index_column": 109,
         "pr": 2.6695928700168062e-05,
         "user": "FvNGreyling"
        },
        {
         "_deepnote_index_column": 110,
         "pr": 2.8827615879988684e-05,
         "user": "huge_gold"
        },
        {
         "_deepnote_index_column": 111,
         "pr": 1.057088794675696e-05,
         "user": "JohnCrypto12"
        },
        {
         "_deepnote_index_column": 112,
         "pr": 2.2661336464631125e-05,
         "user": "Blacktradelines"
        },
        {
         "_deepnote_index_column": 113,
         "pr": 0.0001943289206326,
         "user": "NowBitcoinPrice"
        },
        {
         "_deepnote_index_column": 114,
         "pr": 2.0585805975203224e-05,
         "user": "bitcoin_service"
        },
        {
         "_deepnote_index_column": 115,
         "pr": 1.2951023122366906e-05,
         "user": "BitcoinFR"
        },
        {
         "_deepnote_index_column": 116,
         "pr": 1.057088794675696e-05,
         "user": "JohnCrypto12"
        },
        {
         "_deepnote_index_column": 117,
         "pr": 3.267805532582976e-05,
         "user": "Bitcoin444"
        },
        {
         "_deepnote_index_column": 118,
         "pr": 2.814739477057233e-06,
         "user": "DagamaJack"
        },
        {
         "_deepnote_index_column": 119,
         "pr": 2.157550278616728e-05,
         "user": "digi_cash_chart"
        },
        {
         "_deepnote_index_column": 120,
         "pr": 2.03626163794558e-05,
         "user": "coinjinja"
        },
        {
         "_deepnote_index_column": 121,
         "pr": 8.780373228762199e-05,
         "user": "DolarTrue_"
        },
        {
         "_deepnote_index_column": 122,
         "pr": 1.864508907680781e-05,
         "user": "BTCPriceBot"
        },
        {
         "_deepnote_index_column": 123,
         "pr": 2.201820232215984e-05,
         "user": "Doviz724"
        },
        {
         "_deepnote_index_column": 124,
         "pr": 0.0001943289206326,
         "user": "NowBitcoinPrice"
        },
        {
         "_deepnote_index_column": 125,
         "pr": 1.1106728489385198e-05,
         "user": "gabrielosio"
        },
        {
         "_deepnote_index_column": 126,
         "pr": 4.63490258251035e-05,
         "user": "cryptcoin_trade"
        },
        {
         "_deepnote_index_column": 127,
         "pr": 2.8793667963878396e-05,
         "user": "TickerCrypto"
        },
        {
         "_deepnote_index_column": 128,
         "pr": 0.0001943289206326,
         "user": "NowBitcoinPrice"
        },
        {
         "_deepnote_index_column": 129,
         "pr": 5.083290738092612e-05,
         "user": "asens_inc"
        },
        {
         "_deepnote_index_column": 130,
         "pr": 1.115046618434189e-05,
         "user": "BitcoinVEmundo"
        },
        {
         "_deepnote_index_column": 131,
         "pr": 3.5708158977936167e-05,
         "user": "coinstats"
        },
        {
         "_deepnote_index_column": 132,
         "pr": 2.650478493260035e-05,
         "user": "VittaGam"
        },
        {
         "_deepnote_index_column": 133,
         "pr": 1.1883750513643218e-05,
         "user": "cryptolligence"
        },
        {
         "_deepnote_index_column": 134,
         "pr": 2.814739477057233e-06,
         "user": "MarkJ0ker"
        },
        {
         "_deepnote_index_column": 135,
         "pr": 9.4461818063872e-06,
         "user": "ergoinfo"
        },
        {
         "_deepnote_index_column": 136,
         "pr": 9.4461818063872e-06,
         "user": "ergoinfo"
        },
        {
         "_deepnote_index_column": 137,
         "pr": 9.4461818063872e-06,
         "user": "ergoinfo"
        },
        {
         "_deepnote_index_column": 138,
         "pr": 2.14545190551183e-05,
         "user": "btc0in"
        },
        {
         "_deepnote_index_column": 139,
         "pr": 5.083290738092612e-05,
         "user": "asens_inc"
        },
        {
         "_deepnote_index_column": 140,
         "pr": 9.4461818063872e-06,
         "user": "ergoinfo"
        },
        {
         "_deepnote_index_column": 141,
         "pr": 9.4461818063872e-06,
         "user": "ergoinfo"
        },
        {
         "_deepnote_index_column": 142,
         "pr": 9.4461818063872e-06,
         "user": "ergoinfo"
        },
        {
         "_deepnote_index_column": 143,
         "pr": 9.4461818063872e-06,
         "user": "ergoinfo"
        },
        {
         "_deepnote_index_column": 144,
         "pr": 9.4461818063872e-06,
         "user": "ergoinfo"
        },
        {
         "_deepnote_index_column": 145,
         "pr": 9.4461818063872e-06,
         "user": "ergoinfo"
        },
        {
         "_deepnote_index_column": 146,
         "pr": 9.4461818063872e-06,
         "user": "ergoinfo"
        },
        {
         "_deepnote_index_column": 147,
         "pr": 9.4461818063872e-06,
         "user": "ergoinfo"
        },
        {
         "_deepnote_index_column": 148,
         "pr": 9.4461818063872e-06,
         "user": "ergoinfo"
        },
        {
         "_deepnote_index_column": 149,
         "pr": 1.3777568213119557e-05,
         "user": "TopTrendThai"
        },
        {
         "_deepnote_index_column": 150,
         "pr": 9.4461818063872e-06,
         "user": "ergoinfo"
        },
        {
         "_deepnote_index_column": 151,
         "pr": 9.4461818063872e-06,
         "user": "ergoinfo"
        },
        {
         "_deepnote_index_column": 152,
         "pr": 4.63490258251035e-05,
         "user": "cryptcoin_trade"
        },
        {
         "_deepnote_index_column": 153,
         "pr": 1.1251895901947456e-05,
         "user": "rimbit"
        },
        {
         "_deepnote_index_column": 154,
         "pr": 0.0001943289206326,
         "user": "NowBitcoinPrice"
        },
        {
         "_deepnote_index_column": 155,
         "pr": 3.99911905635603e-05,
         "user": "BitcoinEdu"
        },
        {
         "_deepnote_index_column": 156,
         "pr": 2.1994845138265875e-05,
         "user": "btcreports"
        },
        {
         "_deepnote_index_column": 157,
         "pr": 5.083290738092612e-05,
         "user": "asens_inc"
        },
        {
         "_deepnote_index_column": 158,
         "pr": 4.63490258251035e-05,
         "user": "cryptcoin_trade"
        },
        {
         "_deepnote_index_column": 159,
         "pr": 3.5708158977936167e-05,
         "user": "coinstats"
        },
        {
         "_deepnote_index_column": 160,
         "pr": 1.377756821311956e-05,
         "user": "Ethereum247"
        },
        {
         "_deepnote_index_column": 161,
         "pr": 1.1883750513643218e-05,
         "user": "cryptolligence"
        },
        {
         "_deepnote_index_column": 162,
         "pr": 1.057088794675696e-05,
         "user": "JohnCrypto12"
        },
        {
         "_deepnote_index_column": 163,
         "pr": 1.057088794675696e-05,
         "user": "JohnCrypto12"
        },
        {
         "_deepnote_index_column": 164,
         "pr": 2.6058782808275667e-05,
         "user": "guzellinkler"
        },
        {
         "_deepnote_index_column": 165,
         "pr": 0.0001943289206326,
         "user": "NowBitcoinPrice"
        },
        {
         "_deepnote_index_column": 166,
         "pr": 2.0585805975203224e-05,
         "user": "bitcoin_service"
        },
        {
         "_deepnote_index_column": 167,
         "pr": 1.7985905127819945e-05,
         "user": "robostopia"
        },
        {
         "_deepnote_index_column": 168,
         "pr": 0.0001142530055857,
         "user": "HuobiGlobal"
        },
        {
         "_deepnote_index_column": 169,
         "pr": 1.3777568213119557e-05,
         "user": "TopTrendThai"
        },
        {
         "_deepnote_index_column": 170,
         "pr": 2.157550278616728e-05,
         "user": "digi_cash_chart"
        },
        {
         "_deepnote_index_column": 171,
         "pr": 2.03626163794558e-05,
         "user": "coinjinja"
        },
        {
         "_deepnote_index_column": 172,
         "pr": 1.3777568213119557e-05,
         "user": "PoloniexPrice"
        },
        {
         "_deepnote_index_column": 173,
         "pr": 1.864508907680781e-05,
         "user": "BTCPriceBot"
        },
        {
         "_deepnote_index_column": 174,
         "pr": 2.201820232215984e-05,
         "user": "Doviz724"
        },
        {
         "_deepnote_index_column": 175,
         "pr": 9.4461818063872e-06,
         "user": "ergoinfo"
        },
        {
         "_deepnote_index_column": 176,
         "pr": 1.9469115668440852e-05,
         "user": "fugoji"
        },
        {
         "_deepnote_index_column": 177,
         "pr": 1.804121198267624e-05,
         "user": "cryptobeard"
        },
        {
         "_deepnote_index_column": 178,
         "pr": 3.5708158977936167e-05,
         "user": "coinstats"
        },
        {
         "_deepnote_index_column": 179,
         "pr": 5.083290738092612e-05,
         "user": "asens_inc"
        },
        {
         "_deepnote_index_column": 180,
         "pr": 1.7850068215108516e-05,
         "user": "Uberbills"
        },
        {
         "_deepnote_index_column": 181,
         "pr": 3.5708158977936167e-05,
         "user": "coinstats"
        },
        {
         "_deepnote_index_column": 182,
         "pr": 2.814739477057233e-06,
         "user": "BernardParent"
        },
        {
         "_deepnote_index_column": 183,
         "pr": 2.8730716998745296e-05,
         "user": "notquitemozart"
        },
        {
         "_deepnote_index_column": 184,
         "pr": 0.0001943289206326,
         "user": "NowBitcoinPrice"
        },
        {
         "_deepnote_index_column": 185,
         "pr": 1.115046618434189e-05,
         "user": "BitcoinVEmundo"
        },
        {
         "_deepnote_index_column": 186,
         "pr": 1.1883750513643218e-05,
         "user": "cryptolligence"
        },
        {
         "_deepnote_index_column": 187,
         "pr": 1.9237785848614933e-05,
         "user": "BitcoinSpreads"
        },
        {
         "_deepnote_index_column": 188,
         "pr": 2.0585805975203224e-05,
         "user": "bitcoin_service"
        },
        {
         "_deepnote_index_column": 189,
         "pr": 1.3936854686092658e-05,
         "user": "Digital_Deals_"
        },
        {
         "_deepnote_index_column": 190,
         "pr": 2.03626163794558e-05,
         "user": "coinjinja"
        },
        {
         "_deepnote_index_column": 191,
         "pr": 2.157550278616728e-05,
         "user": "digi_cash_chart"
        },
        {
         "_deepnote_index_column": 192,
         "pr": 2.6313641165032624e-05,
         "user": "BitcoinSqueeze"
        },
        {
         "_deepnote_index_column": 193,
         "pr": 1.1473018185024526e-05,
         "user": "HourlyBTC"
        },
        {
         "_deepnote_index_column": 194,
         "pr": 1.1315986033466788e-05,
         "user": "BitcoinPRlCE"
        },
        {
         "_deepnote_index_column": 195,
         "pr": 2.0585805975203224e-05,
         "user": "bitcoin_service"
        },
        {
         "_deepnote_index_column": 196,
         "pr": 1.3936854686092658e-05,
         "user": "Digital_Deals_"
        },
        {
         "_deepnote_index_column": 197,
         "pr": 1.3777568213119557e-05,
         "user": "AayushJs"
        },
        {
         "_deepnote_index_column": 198,
         "pr": 1.1883750513643218e-05,
         "user": "cryptolligence"
        },
        {
         "_deepnote_index_column": 199,
         "pr": 1.7977497393486994e-05,
         "user": "BradSabbath"
        },
        {
         "_deepnote_index_column": 200,
         "pr": 3.99911905635603e-05,
         "user": "BitcoinEdu"
        },
        {
         "_deepnote_index_column": 201,
         "pr": 2.157550278616728e-05,
         "user": "digi_cash_chart"
        },
        {
         "_deepnote_index_column": 202,
         "pr": 1.864508907680781e-05,
         "user": "BTCPriceBot"
        },
        {
         "_deepnote_index_column": 203,
         "pr": 2.201820232215984e-05,
         "user": "Doviz724"
        },
        {
         "_deepnote_index_column": 204,
         "pr": 0.0001943289206326,
         "user": "NowBitcoinPrice"
        },
        {
         "_deepnote_index_column": 205,
         "pr": 2.128280589044709e-05,
         "user": "zweed4u_crypto"
        },
        {
         "_deepnote_index_column": 206,
         "pr": 5.487650257713277e-05,
         "user": "WatsonsReports"
        },
        {
         "_deepnote_index_column": 207,
         "pr": 3.572538392402881e-05,
         "user": "FeesBitcoin"
        },
        {
         "_deepnote_index_column": 208,
         "pr": 2.8793667963878396e-05,
         "user": "TickerCrypto"
        },
        {
         "_deepnote_index_column": 209,
         "pr": 3.776269979491605e-05,
         "user": "Bitcoin_Bullet"
        },
        {
         "_deepnote_index_column": 210,
         "pr": 2.8793667963878396e-05,
         "user": "TickerCrypto"
        },
        {
         "_deepnote_index_column": 211,
         "pr": 1.864508907680781e-05,
         "user": "BTCPriceBot"
        },
        {
         "_deepnote_index_column": 212,
         "pr": 2.814739477057233e-06,
         "user": "extraperaneur"
        },
        {
         "_deepnote_index_column": 213,
         "pr": 1.7850068215108516e-05,
         "user": "LTC_To_The_Moon"
        },
        {
         "_deepnote_index_column": 214,
         "pr": 1.0688389993060723e-05,
         "user": "GuaripeteSol"
        },
        {
         "_deepnote_index_column": 215,
         "pr": 1.8991542096491704e-05,
         "user": "bch_bot"
        },
        {
         "_deepnote_index_column": 216,
         "pr": 1.3936854686092658e-05,
         "user": "Digital_Deals_"
        },
        {
         "_deepnote_index_column": 217,
         "pr": 1.262217843969262e-05,
         "user": "IC_Markets"
        },
        {
         "_deepnote_index_column": 218,
         "pr": 1.3936854686092658e-05,
         "user": "Digital_Deals_"
        },
        {
         "_deepnote_index_column": 219,
         "pr": 1.7850068215108516e-05,
         "user": "LTC_To_The_Moon"
        },
        {
         "_deepnote_index_column": 220,
         "pr": 0.0001943289206326,
         "user": "NowBitcoinPrice"
        },
        {
         "_deepnote_index_column": 221,
         "pr": 2.0585805975203224e-05,
         "user": "bitcoin_service"
        },
        {
         "_deepnote_index_column": 222,
         "pr": 1.7850068215108516e-05,
         "user": "BITCOIN_pany"
        },
        {
         "_deepnote_index_column": 223,
         "pr": 1.7850068215108516e-05,
         "user": "LTC_To_The_Moon"
        },
        {
         "_deepnote_index_column": 224,
         "pr": 2.814739477057233e-06,
         "user": "danhantam"
        },
        {
         "_deepnote_index_column": 225,
         "pr": 3.165049875444414e-05,
         "user": "Bitty_Bot"
        },
        {
         "_deepnote_index_column": 226,
         "pr": 1.829835962008106e-05,
         "user": "StephenPKendal"
        },
        {
         "_deepnote_index_column": 227,
         "pr": 1.333498761513332e-05,
         "user": "TiffanyTrades"
        },
        {
         "_deepnote_index_column": 228,
         "pr": 1.390499739149804e-05,
         "user": "rodulfox"
        },
        {
         "_deepnote_index_column": 229,
         "pr": 2.8827615879988684e-05,
         "user": "huge_gold"
        },
        {
         "_deepnote_index_column": 230,
         "pr": 2.157550278616728e-05,
         "user": "digi_cash_chart"
        },
        {
         "_deepnote_index_column": 231,
         "pr": 0.0001943289206326,
         "user": "NowBitcoinPrice"
        },
        {
         "_deepnote_index_column": 232,
         "pr": 5.487650257713277e-05,
         "user": "WatsonsReports"
        },
        {
         "_deepnote_index_column": 233,
         "pr": 5.083290738092612e-05,
         "user": "asens_inc"
        },
        {
         "_deepnote_index_column": 234,
         "pr": 3.5708158977936167e-05,
         "user": "coinstats"
        },
        {
         "_deepnote_index_column": 235,
         "pr": 1.1473018185024526e-05,
         "user": "HourlyBTC"
        },
        {
         "_deepnote_index_column": 236,
         "pr": 3.5708158977936167e-05,
         "user": "coinstats"
        },
        {
         "_deepnote_index_column": 237,
         "pr": 1.9469115668440852e-05,
         "user": "fugoji"
        },
        {
         "_deepnote_index_column": 238,
         "pr": 1.1315986033466788e-05,
         "user": "BitcoinPRlCE"
        },
        {
         "_deepnote_index_column": 239,
         "pr": 1.1776064060131496e-05,
         "user": "c_coins2017"
        },
        {
         "_deepnote_index_column": 240,
         "pr": 1.9898779839380373e-05,
         "user": "kobocoindev"
        },
        {
         "_deepnote_index_column": 241,
         "pr": 5.083290738092612e-05,
         "user": "asens_inc"
        },
        {
         "_deepnote_index_column": 242,
         "pr": 1.7850068215108516e-05,
         "user": "LTC_To_The_Moon"
        },
        {
         "_deepnote_index_column": 243,
         "pr": 0.0001943289206326,
         "user": "NowBitcoinPrice"
        },
        {
         "_deepnote_index_column": 244,
         "pr": 1.864508907680781e-05,
         "user": "BTCPriceBot"
        },
        {
         "_deepnote_index_column": 245,
         "pr": 2.201820232215984e-05,
         "user": "Doviz724"
        },
        {
         "_deepnote_index_column": 246,
         "pr": 1.1883750513643218e-05,
         "user": "cryptolligence"
        },
        {
         "_deepnote_index_column": 247,
         "pr": 1.3777568213119557e-05,
         "user": "PoloniexPrice"
        },
        {
         "_deepnote_index_column": 248,
         "pr": 0.0001943289206326,
         "user": "NowBitcoinPrice"
        },
        {
         "_deepnote_index_column": 249,
         "pr": 5.083290738092612e-05,
         "user": "asens_inc"
        }
       ]
      },
      "text/html": [
       "<div>\n",
       "<style scoped>\n",
       "    .dataframe tbody tr th:only-of-type {\n",
       "        vertical-align: middle;\n",
       "    }\n",
       "\n",
       "    .dataframe tbody tr th {\n",
       "        vertical-align: top;\n",
       "    }\n",
       "\n",
       "    .dataframe thead th {\n",
       "        text-align: right;\n",
       "    }\n",
       "</style>\n",
       "<table border=\"1\" class=\"dataframe\">\n",
       "  <thead>\n",
       "    <tr style=\"text-align: right;\">\n",
       "      <th></th>\n",
       "      <th>user</th>\n",
       "      <th>pr</th>\n",
       "    </tr>\n",
       "  </thead>\n",
       "  <tbody>\n",
       "    <tr>\n",
       "      <th>0</th>\n",
       "      <td>BisqArviraj</td>\n",
       "      <td>0.000003</td>\n",
       "    </tr>\n",
       "    <tr>\n",
       "      <th>1</th>\n",
       "      <td>cryptolligence</td>\n",
       "      <td>0.000012</td>\n",
       "    </tr>\n",
       "    <tr>\n",
       "      <th>2</th>\n",
       "      <td>cryptolligence</td>\n",
       "      <td>0.000012</td>\n",
       "    </tr>\n",
       "    <tr>\n",
       "      <th>3</th>\n",
       "      <td>coinstats</td>\n",
       "      <td>0.000036</td>\n",
       "    </tr>\n",
       "    <tr>\n",
       "      <th>4</th>\n",
       "      <td>TNFXtrading</td>\n",
       "      <td>0.000018</td>\n",
       "    </tr>\n",
       "    <tr>\n",
       "      <th>...</th>\n",
       "      <td>...</td>\n",
       "      <td>...</td>\n",
       "    </tr>\n",
       "    <tr>\n",
       "      <th>332456</th>\n",
       "      <td>cointrend_jp</td>\n",
       "      <td>0.000093</td>\n",
       "    </tr>\n",
       "    <tr>\n",
       "      <th>332457</th>\n",
       "      <td>SssaPTAMUo5R7RE</td>\n",
       "      <td>0.000003</td>\n",
       "    </tr>\n",
       "    <tr>\n",
       "      <th>332458</th>\n",
       "      <td>tr_ticker</td>\n",
       "      <td>0.000027</td>\n",
       "    </tr>\n",
       "    <tr>\n",
       "      <th>332459</th>\n",
       "      <td>EconomiesCom</td>\n",
       "      <td>0.000010</td>\n",
       "    </tr>\n",
       "    <tr>\n",
       "      <th>332460</th>\n",
       "      <td>sylviaNargaard1</td>\n",
       "      <td>0.000014</td>\n",
       "    </tr>\n",
       "  </tbody>\n",
       "</table>\n",
       "<p>332461 rows × 2 columns</p>\n",
       "</div>"
      ],
      "text/plain": [
       "                   user        pr\n",
       "0           BisqArviraj  0.000003\n",
       "1        cryptolligence  0.000012\n",
       "2        cryptolligence  0.000012\n",
       "3             coinstats  0.000036\n",
       "4           TNFXtrading  0.000018\n",
       "...                 ...       ...\n",
       "332456     cointrend_jp  0.000093\n",
       "332457  SssaPTAMUo5R7RE  0.000003\n",
       "332458        tr_ticker  0.000027\n",
       "332459     EconomiesCom  0.000010\n",
       "332460  sylviaNargaard1  0.000014\n",
       "\n",
       "[332461 rows x 2 columns]"
      ]
     },
     "execution_count": 27,
     "metadata": {},
     "output_type": "execute_result"
    }
   ],
   "source": [
    "train_pr_df"
   ]
  },
  {
   "cell_type": "code",
   "execution_count": 2,
   "metadata": {
    "cell_id": "00021-01b571a1-19cf-46c4-aa19-79614622f3da",
    "deepnote_cell_type": "code",
    "deepnote_to_be_reexecuted": false,
    "execution_millis": 10657,
    "execution_start": 1619493592460,
    "source_hash": "3a462057",
    "tags": []
   },
   "outputs": [],
   "source": [
    "train_agg_sort = pd.read_csv('train_agg_with_score.csv')\n",
    "train_set = pd.read_csv(\"train_set.csv\")\n",
    "test_set = pd.read_csv(\"test_set.csv\")\n",
    "df = pd.read_csv(\"df.csv\")\n",
    "train_pr_df = pd.DataFrame(df, columns=[\"user\",\"pr\"])"
   ]
  },
  {
   "cell_type": "code",
   "execution_count": 3,
   "metadata": {
    "cell_id": "00020-cff160a8-08cc-4513-aced-9a85d646ce9c",
    "deepnote_cell_type": "code",
    "deepnote_to_be_reexecuted": false,
    "execution_millis": 3,
    "execution_start": 1619493605373,
    "source_hash": "2497266",
    "tags": []
   },
   "outputs": [],
   "source": [
    "le = preprocessing.LabelEncoder()"
   ]
  },
  {
   "cell_type": "code",
   "execution_count": null,
   "metadata": {
    "cell_id": "00022-66de32ba-fdae-42ba-962e-c3c3f9e5f7b6",
    "deepnote_cell_type": "code",
    "deepnote_to_be_reexecuted": false,
    "execution_millis": 67,
    "execution_start": 1619493659685,
    "source_hash": "88873ab3",
    "tags": []
   },
   "outputs": [
    {
     "data": {
      "application/vnd.deepnote.dataframe.v2+json": {
       "column_count": 25,
       "columns": [
        {
         "dtype": "int64",
         "name": "Unnamed: 0",
         "stats": {
          "histogram": [
           {
            "bin_end": 57650.4,
            "bin_start": 57650,
            "count": 1
           },
           {
            "bin_end": 57650.8,
            "bin_start": 57650.4,
            "count": 0
           },
           {
            "bin_end": 57651.2,
            "bin_start": 57650.8,
            "count": 1
           },
           {
            "bin_end": 57651.6,
            "bin_start": 57651.2,
            "count": 0
           },
           {
            "bin_end": 57652,
            "bin_start": 57651.6,
            "count": 0
           },
           {
            "bin_end": 57652.4,
            "bin_start": 57652,
            "count": 1
           },
           {
            "bin_end": 57652.8,
            "bin_start": 57652.4,
            "count": 0
           },
           {
            "bin_end": 57653.2,
            "bin_start": 57652.8,
            "count": 1
           },
           {
            "bin_end": 57653.6,
            "bin_start": 57653.2,
            "count": 0
           },
           {
            "bin_end": 57654,
            "bin_start": 57653.6,
            "count": 1
           }
          ],
          "max": "57654",
          "min": "57650",
          "nan_count": 0,
          "unique_count": 5
         }
        },
        {
         "dtype": "int64",
         "name": "Unnamed: 0.1",
         "stats": {
          "histogram": [
           {
            "bin_end": 57650.4,
            "bin_start": 57650,
            "count": 1
           },
           {
            "bin_end": 57650.8,
            "bin_start": 57650.4,
            "count": 0
           },
           {
            "bin_end": 57651.2,
            "bin_start": 57650.8,
            "count": 1
           },
           {
            "bin_end": 57651.6,
            "bin_start": 57651.2,
            "count": 0
           },
           {
            "bin_end": 57652,
            "bin_start": 57651.6,
            "count": 0
           },
           {
            "bin_end": 57652.4,
            "bin_start": 57652,
            "count": 1
           },
           {
            "bin_end": 57652.8,
            "bin_start": 57652.4,
            "count": 0
           },
           {
            "bin_end": 57653.2,
            "bin_start": 57652.8,
            "count": 1
           },
           {
            "bin_end": 57653.6,
            "bin_start": 57653.2,
            "count": 0
           },
           {
            "bin_end": 57654,
            "bin_start": 57653.6,
            "count": 1
           }
          ],
          "max": "57654",
          "min": "57650",
          "nan_count": 0,
          "unique_count": 5
         }
        },
        {
         "dtype": "int64",
         "name": "index",
         "stats": {
          "histogram": [
           {
            "bin_end": 751439.4,
            "bin_start": 751439,
            "count": 1
           },
           {
            "bin_end": 751439.8,
            "bin_start": 751439.4,
            "count": 0
           },
           {
            "bin_end": 751440.2,
            "bin_start": 751439.8,
            "count": 1
           },
           {
            "bin_end": 751440.6,
            "bin_start": 751440.2,
            "count": 0
           },
           {
            "bin_end": 751441,
            "bin_start": 751440.6,
            "count": 0
           },
           {
            "bin_end": 751441.4,
            "bin_start": 751441,
            "count": 1
           },
           {
            "bin_end": 751441.8,
            "bin_start": 751441.4,
            "count": 0
           },
           {
            "bin_end": 751442.2,
            "bin_start": 751441.8,
            "count": 1
           },
           {
            "bin_end": 751442.6,
            "bin_start": 751442.2,
            "count": 0
           },
           {
            "bin_end": 751443,
            "bin_start": 751442.6,
            "count": 1
           }
          ],
          "max": "751443",
          "min": "751439",
          "nan_count": 0,
          "unique_count": 5
         }
        },
        {
         "dtype": "object",
         "name": "date",
         "stats": {
          "categories": [
           {
            "count": 5,
            "name": "2018-01-03"
           }
          ],
          "nan_count": 0,
          "unique_count": 1
         }
        },
        {
         "dtype": "float64",
         "name": "id",
         "stats": {
          "histogram": [
           {
            "bin_end": 948687302664938400,
            "bin_start": 948687301995106400,
            "count": 1
           },
           {
            "bin_end": 948687303334770400,
            "bin_start": 948687302664938400,
            "count": 0
           },
           {
            "bin_end": 948687304004602400,
            "bin_start": 948687303334770400,
            "count": 0
           },
           {
            "bin_end": 948687304674434300,
            "bin_start": 948687304004602400,
            "count": 1
           },
           {
            "bin_end": 948687305344266200,
            "bin_start": 948687304674434300,
            "count": 0
           },
           {
            "bin_end": 948687306014098300,
            "bin_start": 948687305344266200,
            "count": 1
           },
           {
            "bin_end": 948687306683930200,
            "bin_start": 948687306014098300,
            "count": 0
           },
           {
            "bin_end": 948687307353762200,
            "bin_start": 948687306683930200,
            "count": 0
           },
           {
            "bin_end": 948687308023594200,
            "bin_start": 948687307353762200,
            "count": 1
           },
           {
            "bin_end": 948687308693426200,
            "bin_start": 948687308023594200,
            "count": 1
           }
          ],
          "max": "9.486873086934262e+17",
          "min": "9.486873019951064e+17",
          "nan_count": 0,
          "unique_count": 5
         }
        },
        {
         "dtype": "object",
         "name": "user",
         "stats": {
          "categories": [
           {
            "count": 1,
            "name": "XRateMalaysia"
           },
           {
            "count": 1,
            "name": "UOBGoldPrice"
           },
           {
            "count": 3,
            "name": "3 others"
           }
          ],
          "nan_count": 0,
          "unique_count": 5
         }
        },
        {
         "dtype": "object",
         "name": "fullname",
         "stats": {
          "categories": [
           {
            "count": 1,
            "name": "Exchange-Rate.me"
           },
           {
            "count": 1,
            "name": "UOB Gold Price"
           },
           {
            "count": 3,
            "name": "3 others"
           }
          ],
          "nan_count": 0,
          "unique_count": 5
         }
        },
        {
         "dtype": "object",
         "name": "url",
         "stats": {
          "categories": [
           {
            "count": 5,
            "name": "http://hargabitcoin.net"
           }
          ],
          "nan_count": 0,
          "unique_count": 1
         }
        },
        {
         "dtype": "object",
         "name": "timestamp",
         "stats": {
          "categories": [
           {
            "count": 3,
            "name": "2018-01-03 21:47:34+00"
           },
           {
            "count": 2,
            "name": "2018-01-03 21:47:33+00"
           }
          ],
          "nan_count": 0,
          "unique_count": 2
         }
        },
        {
         "dtype": "float64",
         "name": "replies",
         "stats": {
          "histogram": [
           {
            "bin_end": -0.4,
            "bin_start": -0.5,
            "count": 0
           },
           {
            "bin_end": -0.3,
            "bin_start": -0.4,
            "count": 0
           },
           {
            "bin_end": -0.19999999999999996,
            "bin_start": -0.3,
            "count": 0
           },
           {
            "bin_end": -0.09999999999999998,
            "bin_start": -0.19999999999999996,
            "count": 0
           },
           {
            "bin_end": 0,
            "bin_start": -0.09999999999999998,
            "count": 0
           },
           {
            "bin_end": 0.10000000000000009,
            "bin_start": 0,
            "count": 5
           },
           {
            "bin_end": 0.20000000000000007,
            "bin_start": 0.10000000000000009,
            "count": 0
           },
           {
            "bin_end": 0.30000000000000004,
            "bin_start": 0.20000000000000007,
            "count": 0
           },
           {
            "bin_end": 0.4,
            "bin_start": 0.30000000000000004,
            "count": 0
           },
           {
            "bin_end": 0.5,
            "bin_start": 0.4,
            "count": 0
           }
          ],
          "max": "0.0",
          "min": "0.0",
          "nan_count": 0,
          "unique_count": 1
         }
        },
        {
         "dtype": "float64",
         "name": "likes",
         "stats": {
          "histogram": [
           {
            "bin_end": -0.4,
            "bin_start": -0.5,
            "count": 0
           },
           {
            "bin_end": -0.3,
            "bin_start": -0.4,
            "count": 0
           },
           {
            "bin_end": -0.19999999999999996,
            "bin_start": -0.3,
            "count": 0
           },
           {
            "bin_end": -0.09999999999999998,
            "bin_start": -0.19999999999999996,
            "count": 0
           },
           {
            "bin_end": 0,
            "bin_start": -0.09999999999999998,
            "count": 0
           },
           {
            "bin_end": 0.10000000000000009,
            "bin_start": 0,
            "count": 5
           },
           {
            "bin_end": 0.20000000000000007,
            "bin_start": 0.10000000000000009,
            "count": 0
           },
           {
            "bin_end": 0.30000000000000004,
            "bin_start": 0.20000000000000007,
            "count": 0
           },
           {
            "bin_end": 0.4,
            "bin_start": 0.30000000000000004,
            "count": 0
           },
           {
            "bin_end": 0.5,
            "bin_start": 0.4,
            "count": 0
           }
          ],
          "max": "0.0",
          "min": "0.0",
          "nan_count": 0,
          "unique_count": 1
         }
        },
        {
         "dtype": "float64",
         "name": "retweets",
         "stats": {
          "histogram": [
           {
            "bin_end": -0.4,
            "bin_start": -0.5,
            "count": 0
           },
           {
            "bin_end": -0.3,
            "bin_start": -0.4,
            "count": 0
           },
           {
            "bin_end": -0.19999999999999996,
            "bin_start": -0.3,
            "count": 0
           },
           {
            "bin_end": -0.09999999999999998,
            "bin_start": -0.19999999999999996,
            "count": 0
           },
           {
            "bin_end": 0,
            "bin_start": -0.09999999999999998,
            "count": 0
           },
           {
            "bin_end": 0.10000000000000009,
            "bin_start": 0,
            "count": 5
           },
           {
            "bin_end": 0.20000000000000007,
            "bin_start": 0.10000000000000009,
            "count": 0
           },
           {
            "bin_end": 0.30000000000000004,
            "bin_start": 0.20000000000000007,
            "count": 0
           },
           {
            "bin_end": 0.4,
            "bin_start": 0.30000000000000004,
            "count": 0
           },
           {
            "bin_end": 0.5,
            "bin_start": 0.4,
            "count": 0
           }
          ],
          "max": "0.0",
          "min": "0.0",
          "nan_count": 0,
          "unique_count": 1
         }
        },
        {
         "dtype": "object",
         "name": "text",
         "stats": {
          "categories": [
           {
            "count": 5,
            "name": "#Bitcoin 04 January 2018, 05:00 | USD: 15.077,8100 (-42,8100 / -0.28 %) | IDR: 203.520.279 (-577.849 / -0.28 %) | http://hargabitcoin.net \n"
           }
          ],
          "nan_count": 0,
          "unique_count": 1
         }
        },
        {
         "dtype": "object",
         "name": "lang",
         "stats": {
          "categories": [
           {
            "count": 5,
            "name": "en"
           }
          ],
          "nan_count": 0,
          "unique_count": 1
         }
        },
        {
         "dtype": "int64",
         "name": "year",
         "stats": {
          "histogram": [
           {
            "bin_end": 2017.6,
            "bin_start": 2017.5,
            "count": 0
           },
           {
            "bin_end": 2017.7,
            "bin_start": 2017.6,
            "count": 0
           },
           {
            "bin_end": 2017.8,
            "bin_start": 2017.7,
            "count": 0
           },
           {
            "bin_end": 2017.9,
            "bin_start": 2017.8,
            "count": 0
           },
           {
            "bin_end": 2018,
            "bin_start": 2017.9,
            "count": 0
           },
           {
            "bin_end": 2018.1,
            "bin_start": 2018,
            "count": 5
           },
           {
            "bin_end": 2018.2,
            "bin_start": 2018.1,
            "count": 0
           },
           {
            "bin_end": 2018.3,
            "bin_start": 2018.2,
            "count": 0
           },
           {
            "bin_end": 2018.4,
            "bin_start": 2018.3,
            "count": 0
           },
           {
            "bin_end": 2018.5,
            "bin_start": 2018.4,
            "count": 0
           }
          ],
          "max": "2018",
          "min": "2018",
          "nan_count": 0,
          "unique_count": 1
         }
        },
        {
         "dtype": "int64",
         "name": "month",
         "stats": {
          "histogram": [
           {
            "bin_end": 0.6,
            "bin_start": 0.5,
            "count": 0
           },
           {
            "bin_end": 0.7,
            "bin_start": 0.6,
            "count": 0
           },
           {
            "bin_end": 0.8,
            "bin_start": 0.7,
            "count": 0
           },
           {
            "bin_end": 0.9,
            "bin_start": 0.8,
            "count": 0
           },
           {
            "bin_end": 1,
            "bin_start": 0.9,
            "count": 0
           },
           {
            "bin_end": 1.1,
            "bin_start": 1,
            "count": 5
           },
           {
            "bin_end": 1.2000000000000002,
            "bin_start": 1.1,
            "count": 0
           },
           {
            "bin_end": 1.3,
            "bin_start": 1.2000000000000002,
            "count": 0
           },
           {
            "bin_end": 1.4,
            "bin_start": 1.3,
            "count": 0
           },
           {
            "bin_end": 1.5,
            "bin_start": 1.4,
            "count": 0
           }
          ],
          "max": "1",
          "min": "1",
          "nan_count": 0,
          "unique_count": 1
         }
        },
        {
         "dtype": "int64",
         "name": "day",
         "stats": {
          "histogram": [
           {
            "bin_end": 2.6,
            "bin_start": 2.5,
            "count": 0
           },
           {
            "bin_end": 2.7,
            "bin_start": 2.6,
            "count": 0
           },
           {
            "bin_end": 2.8,
            "bin_start": 2.7,
            "count": 0
           },
           {
            "bin_end": 2.9,
            "bin_start": 2.8,
            "count": 0
           },
           {
            "bin_end": 3,
            "bin_start": 2.9,
            "count": 0
           },
           {
            "bin_end": 3.1,
            "bin_start": 3,
            "count": 5
           },
           {
            "bin_end": 3.2,
            "bin_start": 3.1,
            "count": 0
           },
           {
            "bin_end": 3.3,
            "bin_start": 3.2,
            "count": 0
           },
           {
            "bin_end": 3.4,
            "bin_start": 3.3,
            "count": 0
           },
           {
            "bin_end": 3.5,
            "bin_start": 3.4,
            "count": 0
           }
          ],
          "max": "3",
          "min": "3",
          "nan_count": 0,
          "unique_count": 1
         }
        },
        {
         "dtype": "object",
         "name": "text1",
         "stats": {
          "categories": [
           {
            "count": 5,
            "name": "#Bitcoin 04 January 2018, 05:00 | USD: 15.077,8100 (-42,8100 / -0.28 %) | IDR: 203.520.279 (-577.849 / -0.28 %) | http://hargabitcoin.net \n"
           }
          ],
          "nan_count": 0,
          "unique_count": 1
         }
        },
        {
         "dtype": "object",
         "name": "tags",
         "stats": {
          "categories": [
           {
            "count": 5,
            "name": "Bitcoin"
           }
          ],
          "nan_count": 0,
          "unique_count": 1
         }
        },
        {
         "dtype": "object",
         "name": "promote",
         "stats": {
          "categories": [
           {
            "count": 5,
            "name": " "
           }
          ],
          "nan_count": 0,
          "unique_count": 1
         }
        },
        {
         "dtype": "object",
         "name": "clean",
         "stats": {
          "categories": [
           {
            "count": 5,
            "name": "bitcoin january usd idr"
           }
          ],
          "nan_count": 0,
          "unique_count": 1
         }
        },
        {
         "dtype": "float64",
         "name": "pr",
         "stats": {
          "histogram": [
           {
            "bin_end": -0.39999718526052297,
            "bin_start": -0.49999718526052295,
            "count": 0
           },
           {
            "bin_end": -0.29999718526052294,
            "bin_start": -0.39999718526052297,
            "count": 0
           },
           {
            "bin_end": -0.1999971852605229,
            "bin_start": -0.29999718526052294,
            "count": 0
           },
           {
            "bin_end": -0.09999718526052292,
            "bin_start": -0.1999971852605229,
            "count": 0
           },
           {
            "bin_end": 2.8147394770527967e-06,
            "bin_start": -0.09999718526052292,
            "count": 0
           },
           {
            "bin_end": 0.10000281473947714,
            "bin_start": 2.8147394770527967e-06,
            "count": 5
           },
           {
            "bin_end": 0.20000281473947712,
            "bin_start": 0.10000281473947714,
            "count": 0
           },
           {
            "bin_end": 0.3000028147394771,
            "bin_start": 0.20000281473947712,
            "count": 0
           },
           {
            "bin_end": 0.4000028147394771,
            "bin_start": 0.3000028147394771,
            "count": 0
           },
           {
            "bin_end": 0.500002814739477,
            "bin_start": 0.4000028147394771,
            "count": 0
           }
          ],
          "max": "2.814739477057233e-06",
          "min": "2.814739477057233e-06",
          "nan_count": 0,
          "unique_count": 1
         }
        },
        {
         "dtype": "object",
         "name": "vol",
         "stats": {
          "categories": [
           {
            "count": 5,
            "name": "BULL"
           }
          ],
          "nan_count": 0,
          "unique_count": 1
         }
        },
        {
         "dtype": "object",
         "name": "sent",
         "stats": {
          "categories": [
           {
            "count": 5,
            "name": "BEAR"
           }
          ],
          "nan_count": 0,
          "unique_count": 1
         }
        },
        {
         "dtype": "bool",
         "name": "comp",
         "stats": {
          "categories": [
           {
            "count": 5,
            "name": "False"
           }
          ],
          "nan_count": 0,
          "unique_count": 1
         }
        },
        {
         "dtype": "int64",
         "name": "_deepnote_index_column"
        }
       ],
       "row_count": 5,
       "rows_bottom": null,
       "rows_top": [
        {
         "Unnamed: 0": 57650,
         "Unnamed: 0.1": 57650,
         "_deepnote_index_column": 0,
         "clean": "bitcoin january usd idr",
         "comp": false,
         "date": "2018-01-03",
         "day": 3,
         "fullname": "Exchange-Rate.me",
         "id": 948687308693426200,
         "index": 751439,
         "lang": "en",
         "likes": 0,
         "month": 1,
         "pr": 2.814739477057233e-06,
         "promote": " ",
         "replies": 0,
         "retweets": 0,
         "sent": "BEAR",
         "tags": "Bitcoin",
         "text": "#Bitcoin 04 January 2018, 05:00 | USD: 15.077,8100 (-42,8100 / -0.28 %) | IDR: 203.520.279 (-577.849 / -0.28 %) | http://hargabitcoin.net \n",
         "text1": "#Bitcoin 04 January 2018, 05:00 | USD: 15.077,8100 (-42,8100 / -0.28 %) | IDR: 203.520.279 (-577.849 / -0.28 %) | http://hargabitcoin.net \n",
         "timestamp": "2018-01-03 21:47:34+00",
         "url": "http://hargabitcoin.net",
         "user": "XRateMalaysia",
         "vol": "BULL",
         "year": 2018
        },
        {
         "Unnamed: 0": 57651,
         "Unnamed: 0.1": 57651,
         "_deepnote_index_column": 1,
         "clean": "bitcoin january usd idr",
         "comp": false,
         "date": "2018-01-03",
         "day": 3,
         "fullname": "UOB Gold Price",
         "id": 948687301995106400,
         "index": 751440,
         "lang": "en",
         "likes": 0,
         "month": 1,
         "pr": 2.814739477057233e-06,
         "promote": " ",
         "replies": 0,
         "retweets": 0,
         "sent": "BEAR",
         "tags": "Bitcoin",
         "text": "#Bitcoin 04 January 2018, 05:00 | USD: 15.077,8100 (-42,8100 / -0.28 %) | IDR: 203.520.279 (-577.849 / -0.28 %) | http://hargabitcoin.net \n",
         "text1": "#Bitcoin 04 January 2018, 05:00 | USD: 15.077,8100 (-42,8100 / -0.28 %) | IDR: 203.520.279 (-577.849 / -0.28 %) | http://hargabitcoin.net \n",
         "timestamp": "2018-01-03 21:47:33+00",
         "url": "http://hargabitcoin.net",
         "user": "UOBGoldPrice",
         "vol": "BULL",
         "year": 2018
        },
        {
         "Unnamed: 0": 57652,
         "Unnamed: 0.1": 57652,
         "_deepnote_index_column": 2,
         "clean": "bitcoin january usd idr",
         "comp": false,
         "date": "2018-01-03",
         "day": 3,
         "fullname": "XRateAU",
         "id": 948687304532611200,
         "index": 751441,
         "lang": "en",
         "likes": 0,
         "month": 1,
         "pr": 2.814739477057233e-06,
         "promote": " ",
         "replies": 0,
         "retweets": 0,
         "sent": "BEAR",
         "tags": "Bitcoin",
         "text": "#Bitcoin 04 January 2018, 05:00 | USD: 15.077,8100 (-42,8100 / -0.28 %) | IDR: 203.520.279 (-577.849 / -0.28 %) | http://hargabitcoin.net \n",
         "text1": "#Bitcoin 04 January 2018, 05:00 | USD: 15.077,8100 (-42,8100 / -0.28 %) | IDR: 203.520.279 (-577.849 / -0.28 %) | http://hargabitcoin.net \n",
         "timestamp": "2018-01-03 21:47:33+00",
         "url": "http://hargabitcoin.net",
         "user": "XRateAU",
         "vol": "BULL",
         "year": 2018
        },
        {
         "Unnamed: 0": 57653,
         "Unnamed: 0.1": 57653,
         "_deepnote_index_column": 3,
         "clean": "bitcoin january usd idr",
         "comp": false,
         "date": "2018-01-03",
         "day": 3,
         "fullname": "XRateCA",
         "id": 948687305925120000,
         "index": 751442,
         "lang": "en",
         "likes": 0,
         "month": 1,
         "pr": 2.814739477057233e-06,
         "promote": " ",
         "replies": 0,
         "retweets": 0,
         "sent": "BEAR",
         "tags": "Bitcoin",
         "text": "#Bitcoin 04 January 2018, 05:00 | USD: 15.077,8100 (-42,8100 / -0.28 %) | IDR: 203.520.279 (-577.849 / -0.28 %) | http://hargabitcoin.net \n",
         "text1": "#Bitcoin 04 January 2018, 05:00 | USD: 15.077,8100 (-42,8100 / -0.28 %) | IDR: 203.520.279 (-577.849 / -0.28 %) | http://hargabitcoin.net \n",
         "timestamp": "2018-01-03 21:47:34+00",
         "url": "http://hargabitcoin.net",
         "user": "XRateCA",
         "vol": "BULL",
         "year": 2018
        },
        {
         "Unnamed: 0": 57654,
         "Unnamed: 0.1": 57654,
         "_deepnote_index_column": 4,
         "clean": "bitcoin january usd idr",
         "comp": false,
         "date": "2018-01-03",
         "day": 3,
         "fullname": "XRateID",
         "id": 948687307497967600,
         "index": 751443,
         "lang": "en",
         "likes": 0,
         "month": 1,
         "pr": 2.814739477057233e-06,
         "promote": " ",
         "replies": 0,
         "retweets": 0,
         "sent": "BEAR",
         "tags": "Bitcoin",
         "text": "#Bitcoin 04 January 2018, 05:00 | USD: 15.077,8100 (-42,8100 / -0.28 %) | IDR: 203.520.279 (-577.849 / -0.28 %) | http://hargabitcoin.net \n",
         "text1": "#Bitcoin 04 January 2018, 05:00 | USD: 15.077,8100 (-42,8100 / -0.28 %) | IDR: 203.520.279 (-577.849 / -0.28 %) | http://hargabitcoin.net \n",
         "timestamp": "2018-01-03 21:47:34+00",
         "url": "http://hargabitcoin.net",
         "user": "XRateID",
         "vol": "BULL",
         "year": 2018
        }
       ]
      },
      "text/html": [
       "<div>\n",
       "<style scoped>\n",
       "    .dataframe tbody tr th:only-of-type {\n",
       "        vertical-align: middle;\n",
       "    }\n",
       "\n",
       "    .dataframe tbody tr th {\n",
       "        vertical-align: top;\n",
       "    }\n",
       "\n",
       "    .dataframe thead th {\n",
       "        text-align: right;\n",
       "    }\n",
       "</style>\n",
       "<table border=\"1\" class=\"dataframe\">\n",
       "  <thead>\n",
       "    <tr style=\"text-align: right;\">\n",
       "      <th></th>\n",
       "      <th>Unnamed: 0</th>\n",
       "      <th>Unnamed: 0.1</th>\n",
       "      <th>index</th>\n",
       "      <th>date</th>\n",
       "      <th>id</th>\n",
       "      <th>user</th>\n",
       "      <th>fullname</th>\n",
       "      <th>url</th>\n",
       "      <th>timestamp</th>\n",
       "      <th>replies</th>\n",
       "      <th>...</th>\n",
       "      <th>month</th>\n",
       "      <th>day</th>\n",
       "      <th>text1</th>\n",
       "      <th>tags</th>\n",
       "      <th>promote</th>\n",
       "      <th>clean</th>\n",
       "      <th>pr</th>\n",
       "      <th>vol</th>\n",
       "      <th>sent</th>\n",
       "      <th>comp</th>\n",
       "    </tr>\n",
       "  </thead>\n",
       "  <tbody>\n",
       "    <tr>\n",
       "      <th>0</th>\n",
       "      <td>57650</td>\n",
       "      <td>57650</td>\n",
       "      <td>751439</td>\n",
       "      <td>2018-01-03</td>\n",
       "      <td>9.486873e+17</td>\n",
       "      <td>XRateMalaysia</td>\n",
       "      <td>Exchange-Rate.me</td>\n",
       "      <td>http://hargabitcoin.net</td>\n",
       "      <td>2018-01-03 21:47:34+00</td>\n",
       "      <td>0.0</td>\n",
       "      <td>...</td>\n",
       "      <td>1</td>\n",
       "      <td>3</td>\n",
       "      <td>#Bitcoin 04 January 2018, 05:00 | USD: 15.077,...</td>\n",
       "      <td>Bitcoin</td>\n",
       "      <td></td>\n",
       "      <td>bitcoin january usd idr</td>\n",
       "      <td>0.000003</td>\n",
       "      <td>BULL</td>\n",
       "      <td>BEAR</td>\n",
       "      <td>False</td>\n",
       "    </tr>\n",
       "    <tr>\n",
       "      <th>1</th>\n",
       "      <td>57651</td>\n",
       "      <td>57651</td>\n",
       "      <td>751440</td>\n",
       "      <td>2018-01-03</td>\n",
       "      <td>9.486873e+17</td>\n",
       "      <td>UOBGoldPrice</td>\n",
       "      <td>UOB Gold Price</td>\n",
       "      <td>http://hargabitcoin.net</td>\n",
       "      <td>2018-01-03 21:47:33+00</td>\n",
       "      <td>0.0</td>\n",
       "      <td>...</td>\n",
       "      <td>1</td>\n",
       "      <td>3</td>\n",
       "      <td>#Bitcoin 04 January 2018, 05:00 | USD: 15.077,...</td>\n",
       "      <td>Bitcoin</td>\n",
       "      <td></td>\n",
       "      <td>bitcoin january usd idr</td>\n",
       "      <td>0.000003</td>\n",
       "      <td>BULL</td>\n",
       "      <td>BEAR</td>\n",
       "      <td>False</td>\n",
       "    </tr>\n",
       "    <tr>\n",
       "      <th>2</th>\n",
       "      <td>57652</td>\n",
       "      <td>57652</td>\n",
       "      <td>751441</td>\n",
       "      <td>2018-01-03</td>\n",
       "      <td>9.486873e+17</td>\n",
       "      <td>XRateAU</td>\n",
       "      <td>XRateAU</td>\n",
       "      <td>http://hargabitcoin.net</td>\n",
       "      <td>2018-01-03 21:47:33+00</td>\n",
       "      <td>0.0</td>\n",
       "      <td>...</td>\n",
       "      <td>1</td>\n",
       "      <td>3</td>\n",
       "      <td>#Bitcoin 04 January 2018, 05:00 | USD: 15.077,...</td>\n",
       "      <td>Bitcoin</td>\n",
       "      <td></td>\n",
       "      <td>bitcoin january usd idr</td>\n",
       "      <td>0.000003</td>\n",
       "      <td>BULL</td>\n",
       "      <td>BEAR</td>\n",
       "      <td>False</td>\n",
       "    </tr>\n",
       "    <tr>\n",
       "      <th>3</th>\n",
       "      <td>57653</td>\n",
       "      <td>57653</td>\n",
       "      <td>751442</td>\n",
       "      <td>2018-01-03</td>\n",
       "      <td>9.486873e+17</td>\n",
       "      <td>XRateCA</td>\n",
       "      <td>XRateCA</td>\n",
       "      <td>http://hargabitcoin.net</td>\n",
       "      <td>2018-01-03 21:47:34+00</td>\n",
       "      <td>0.0</td>\n",
       "      <td>...</td>\n",
       "      <td>1</td>\n",
       "      <td>3</td>\n",
       "      <td>#Bitcoin 04 January 2018, 05:00 | USD: 15.077,...</td>\n",
       "      <td>Bitcoin</td>\n",
       "      <td></td>\n",
       "      <td>bitcoin january usd idr</td>\n",
       "      <td>0.000003</td>\n",
       "      <td>BULL</td>\n",
       "      <td>BEAR</td>\n",
       "      <td>False</td>\n",
       "    </tr>\n",
       "    <tr>\n",
       "      <th>4</th>\n",
       "      <td>57654</td>\n",
       "      <td>57654</td>\n",
       "      <td>751443</td>\n",
       "      <td>2018-01-03</td>\n",
       "      <td>9.486873e+17</td>\n",
       "      <td>XRateID</td>\n",
       "      <td>XRateID</td>\n",
       "      <td>http://hargabitcoin.net</td>\n",
       "      <td>2018-01-03 21:47:34+00</td>\n",
       "      <td>0.0</td>\n",
       "      <td>...</td>\n",
       "      <td>1</td>\n",
       "      <td>3</td>\n",
       "      <td>#Bitcoin 04 January 2018, 05:00 | USD: 15.077,...</td>\n",
       "      <td>Bitcoin</td>\n",
       "      <td></td>\n",
       "      <td>bitcoin january usd idr</td>\n",
       "      <td>0.000003</td>\n",
       "      <td>BULL</td>\n",
       "      <td>BEAR</td>\n",
       "      <td>False</td>\n",
       "    </tr>\n",
       "  </tbody>\n",
       "</table>\n",
       "<p>5 rows × 25 columns</p>\n",
       "</div>"
      ],
      "text/plain": [
       "   Unnamed: 0  Unnamed: 0.1   index        date            id           user  \\\n",
       "0       57650         57650  751439  2018-01-03  9.486873e+17  XRateMalaysia   \n",
       "1       57651         57651  751440  2018-01-03  9.486873e+17   UOBGoldPrice   \n",
       "2       57652         57652  751441  2018-01-03  9.486873e+17        XRateAU   \n",
       "3       57653         57653  751442  2018-01-03  9.486873e+17        XRateCA   \n",
       "4       57654         57654  751443  2018-01-03  9.486873e+17        XRateID   \n",
       "\n",
       "           fullname                      url               timestamp  replies  \\\n",
       "0  Exchange-Rate.me  http://hargabitcoin.net  2018-01-03 21:47:34+00      0.0   \n",
       "1    UOB Gold Price  http://hargabitcoin.net  2018-01-03 21:47:33+00      0.0   \n",
       "2           XRateAU  http://hargabitcoin.net  2018-01-03 21:47:33+00      0.0   \n",
       "3           XRateCA  http://hargabitcoin.net  2018-01-03 21:47:34+00      0.0   \n",
       "4           XRateID  http://hargabitcoin.net  2018-01-03 21:47:34+00      0.0   \n",
       "\n",
       "   ...  month  day                                              text1  \\\n",
       "0  ...      1    3  #Bitcoin 04 January 2018, 05:00 | USD: 15.077,...   \n",
       "1  ...      1    3  #Bitcoin 04 January 2018, 05:00 | USD: 15.077,...   \n",
       "2  ...      1    3  #Bitcoin 04 January 2018, 05:00 | USD: 15.077,...   \n",
       "3  ...      1    3  #Bitcoin 04 January 2018, 05:00 | USD: 15.077,...   \n",
       "4  ...      1    3  #Bitcoin 04 January 2018, 05:00 | USD: 15.077,...   \n",
       "\n",
       "      tags  promote                    clean        pr   vol  sent   comp  \n",
       "0  Bitcoin           bitcoin january usd idr  0.000003  BULL  BEAR  False  \n",
       "1  Bitcoin           bitcoin january usd idr  0.000003  BULL  BEAR  False  \n",
       "2  Bitcoin           bitcoin january usd idr  0.000003  BULL  BEAR  False  \n",
       "3  Bitcoin           bitcoin january usd idr  0.000003  BULL  BEAR  False  \n",
       "4  Bitcoin           bitcoin january usd idr  0.000003  BULL  BEAR  False  \n",
       "\n",
       "[5 rows x 25 columns]"
      ]
     },
     "execution_count": 8,
     "metadata": {},
     "output_type": "execute_result"
    }
   ],
   "source": [
    "train_set.head()"
   ]
  },
  {
   "cell_type": "code",
   "execution_count": null,
   "metadata": {
    "cell_id": "00021-aae75fd4-a585-4c07-bf0d-42bab7f268c9",
    "deepnote_cell_type": "code",
    "deepnote_to_be_reexecuted": false,
    "execution_millis": 133,
    "execution_start": 1619493725286,
    "source_hash": "7d6043cc",
    "tags": []
   },
   "outputs": [],
   "source": [
    "lr_data_train = train_set.merge(train_pr_df,on=\"user\", how=\"left\")\n",
    "lr_data_train = lr_data_train.merge(train_agg_sort,on=\"user\", how=\"left\")\n",
    "lr_data_train = lr_data_train.groupby(\"date\").agg({\"pr\":\"mean\", \"matched_normalized\":\"mean\", \"user\":\"count\"})\n",
    "lr_data_train = lr_data_train.rename(columns={\"user\":\"count\"})\n",
    "lr_data_train = lr_data_train[[\"date\", \"pr\", \"matched_normalized\", \"count\", \"vol\"]]\n",
    "lr_data_train[\"vol\"] = le.fit_transform(lr_data_train[\"vol\"])"
   ]
  },
  {
   "cell_type": "code",
   "execution_count": null,
   "metadata": {
    "cell_id": "00021-3aeac6ff-0b95-4760-af1f-c63ee786aafa",
    "deepnote_cell_type": "code",
    "tags": []
   },
   "outputs": [],
   "source": [
    "lr_data_test = train_set.merge(train_pr_df,on=\"user\", how=\"left\")\n",
    "lr_data_test = lr_data_test.merge(train_agg_sort,on=\"user\", how=\"left\")\n",
    "lr_data_test = lr_data_test.groupby(\"date\").agg({\"pr\":\"mean\", \"matched_normalized\":\"mean\", \"user\":\"count\"})\n",
    "lr_data_test = lr_data_test.rename(columns={\"username\":\"count\"})\n",
    "lr_data_test = lr_data_test[[\"date\", \"pr\", \"matched_normalized\", \"count\", \"vol\"]]\n",
    "lr_data_test[\"vol\"] = le.fit_transform(lr_data_test[\"vol\"])"
   ]
  },
  {
   "cell_type": "code",
   "execution_count": null,
   "metadata": {
    "cell_id": "00021-706101d1-1626-435d-b190-15b501776085",
    "deepnote_cell_type": "code",
    "tags": []
   },
   "outputs": [],
   "source": [
    "lr_train_Vals = lr_data_train[[\"pr\", \"matched_normalized\"]].values\n",
    "lr_train_target = lr_data_train[[\"vol\"]].values"
   ]
  },
  {
   "cell_type": "code",
   "execution_count": null,
   "metadata": {
    "cell_id": "00022-046ede1c-20dd-4cbe-b763-73ae1eeb6baa",
    "deepnote_cell_type": "code",
    "tags": []
   },
   "outputs": [],
   "source": [
    "weights = dict(Counter(lr_train_target.reshape(1,len(lr_train_target)).tolist()[0]))\n",
    "total = sum(weights.values())\n",
    "print(weights.keys())\n",
    "for key_d in weights.keys():\n",
    "    weights[key_d] /= float(total)\n",
    "weights"
   ]
  },
  {
   "cell_type": "code",
   "execution_count": null,
   "metadata": {
    "cell_id": "00023-2301796a-7b17-467b-8543-ee29946a6eba",
    "deepnote_cell_type": "code",
    "tags": []
   },
   "outputs": [],
   "source": [
    "from sklearn.preprocessing import StandardScaler\n",
    "from sklearn.pipeline import make_pipeline\n",
    "from sklearn.svm import SVC\n",
    "clf = make_pipeline( StandardScaler(), SVC(gamma='scale',kernel=\"rbf\"))\n",
    "clf.fit(lr_train_Vals, np.ravel(lr_train_target))"
   ]
  },
  {
   "cell_type": "code",
   "execution_count": null,
   "metadata": {
    "cell_id": "00026-a3ad4a7c-cd24-48ac-a545-5dc79c4049df",
    "deepnote_cell_type": "code",
    "tags": []
   },
   "outputs": [],
   "source": [
    "lr_test_Vals = lr_data_test[[\"pr\", \"matched_normalized\"]].values\n",
    "lr_test_target = lr_data_test[[\"vol\"]].values"
   ]
  },
  {
   "cell_type": "code",
   "execution_count": null,
   "metadata": {
    "cell_id": "00027-373052a1-ce5a-4bbc-8d8f-c938113115af",
    "deepnote_cell_type": "code",
    "tags": []
   },
   "outputs": [],
   "source": [
    "preds = clf.predict(lr_test_Vals)\n",
    "from sklearn.metrics import accuracy_score, f1_score,confusion_matrix\n",
    "print(\"Accuracy: %.2f\" % accuracy_score(np.ravel(lr_test_target), preds))\n",
    "print(\"[tn, fp]\")\n",
    "print(\"[fn, tp]\")\n",
    "print(confusion_matrix(np.ravel(lr_test_target), preds))"
   ]
  },
  {
   "cell_type": "code",
   "execution_count": null,
   "metadata": {
    "cell_id": "00027-15a02582-d593-4f36-a6cc-02a0d6ba80cf",
    "deepnote_cell_type": "code",
    "id": "u1gneWtnx4OG"
   },
   "outputs": [],
   "source": [
    "#ON THE MODEL THAT SHOWS MOST ACCURACY, DIG ON ITS SPECS\n",
    "# Model Accuracy: how often is the classifier correct?\n",
    "print(\"Accuracy:\",metrics.accuracy_score(y_test, y_predict_svm))\n",
    "# Model Precision: what percentage of positive tuples are labeled as such?\n",
    "print(\"Precision:\",metrics.precision_score(y_test, y_predict_svm))\n",
    "# Model Recall: what percentage of positive tuples are labelled as such?\n",
    "print(\"Recall:\",metrics.recall_score(y_test, y_predict_svm))"
   ]
  },
  {
   "cell_type": "code",
   "execution_count": null,
   "metadata": {
    "cell_id": "00028-30d1f8c0-1f08-453d-b8bb-7a781e2cd304",
    "deepnote_cell_type": "code",
    "id": "fncVgLiRx6Ib"
   },
   "outputs": [],
   "source": []
  },
  {
   "cell_type": "markdown",
   "metadata": {
    "created_in_deepnote_cell": true,
    "deepnote_cell_type": "markdown",
    "tags": []
   },
   "source": [
    "<a style='text-decoration:none;line-height:16px;display:flex;color:#5B5B62;padding:10px;justify-content:end;' href='https://deepnote.com?utm_source=created-in-deepnote-cell&projectId=0147adb6-34ff-41f8-a148-e996b7669b04' target=\"_blank\">\n",
    "<img alt='Created in deepnote.com' style='display:inline;max-height:16px;margin:0px;margin-right:7.5px;' src='data:image/svg+xml;base64,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' > </img>\n",
    "Created in <span style='font-weight:600;margin-left:4px;'>Deepnote</span></a>"
   ]
  }
 ],
 "metadata": {
  "colab": {
   "name": "twitter_model.ipynb",
   "provenance": []
  },
  "deepnote": {},
  "deepnote_execution_queue": [],
  "deepnote_notebook_id": "73ec8ede-8365-4a3a-9e3b-721a22a17628",
  "kernelspec": {
   "display_name": "Python 3",
   "language": "python",
   "name": "python3"
  },
  "language_info": {
   "codemirror_mode": {
    "name": "ipython",
    "version": 3
   },
   "file_extension": ".py",
   "mimetype": "text/x-python",
   "name": "python",
   "nbconvert_exporter": "python",
   "pygments_lexer": "ipython3",
   "version": "3.7.1"
  }
 },
 "nbformat": 4,
 "nbformat_minor": 4
}
