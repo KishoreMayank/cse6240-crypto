{
 "cells": [
  {
   "cell_type": "code",
   "execution_count": 4,
   "metadata": {
    "id": "bhJJsyAFux9G"
   },
   "outputs": [],
   "source": [
    "# !pip3 install xgboost numpy textblob keras\n",
    "from time import time\n",
    "import pandas as pd\n",
    "import numpy as np\n",
    "import re\n",
    "import csv\n",
    "import matplotlib.pyplot as plt\n",
    "import seaborn as sns\n",
    "\n",
    "import itertools\n",
    "import datetime\n",
    "\n",
    "from sklearn.feature_extraction.text import CountVectorizer, TfidfVectorizer, TfidfTransformer\n",
    "from sklearn.ensemble import RandomForestClassifier, ExtraTreesClassifier,AdaBoostClassifier\n",
    "from sklearn.tree import DecisionTreeClassifier\n",
    "from sklearn import model_selection, preprocessing, linear_model, naive_bayes, metrics, svm\n",
    "from sklearn import decomposition, ensemble\n",
    "from sklearn.naive_bayes import MultinomialNB\n",
    "from sklearn.linear_model import LogisticRegression\n",
    "from sklearn.svm import SVC\n",
    "from sklearn.metrics import accuracy_score\n",
    "from sklearn.model_selection import train_test_split\n",
    "from sklearn import metrics\n",
    "# import pandas, xgboost, numpy, textblob, string\n",
    "from keras.preprocessing import text, sequence\n",
    "from keras import layers, models, optimizers"
   ]
  },
  {
   "cell_type": "code",
   "execution_count": 5,
   "metadata": {
    "id": "8TTI-j5EuyTa"
   },
   "outputs": [],
   "source": [
    "df = pd.read_csv('tweets_very_clean1.csv')"
   ]
  },
  {
   "cell_type": "code",
   "execution_count": 6,
   "metadata": {
    "id": "XSfIXDdt62VK"
   },
   "outputs": [],
   "source": [
    "vol = pd.read_csv('vol.csv')"
   ]
  },
  {
   "cell_type": "code",
   "execution_count": 7,
   "metadata": {
    "colab": {
     "base_uri": "https://localhost:8080/",
     "height": 606
    },
    "id": "ZQwQUV3z6-U_",
    "outputId": "157b88ce-3fa7-4024-e9db-6fa41b94d12f"
   },
   "outputs": [
    {
     "data": {
      "text/html": [
       "<div>\n",
       "<style scoped>\n",
       "    .dataframe tbody tr th:only-of-type {\n",
       "        vertical-align: middle;\n",
       "    }\n",
       "\n",
       "    .dataframe tbody tr th {\n",
       "        vertical-align: top;\n",
       "    }\n",
       "\n",
       "    .dataframe thead th {\n",
       "        text-align: right;\n",
       "    }\n",
       "</style>\n",
       "<table border=\"1\" class=\"dataframe\">\n",
       "  <thead>\n",
       "    <tr style=\"text-align: right;\">\n",
       "      <th></th>\n",
       "      <th>Unnamed: 0</th>\n",
       "      <th>index</th>\n",
       "      <th>date</th>\n",
       "      <th>id</th>\n",
       "      <th>user</th>\n",
       "      <th>fullname</th>\n",
       "      <th>url</th>\n",
       "      <th>timestamp</th>\n",
       "      <th>replies</th>\n",
       "      <th>likes</th>\n",
       "      <th>...</th>\n",
       "      <th>text</th>\n",
       "      <th>lang</th>\n",
       "      <th>year</th>\n",
       "      <th>month</th>\n",
       "      <th>day</th>\n",
       "      <th>text1</th>\n",
       "      <th>tags</th>\n",
       "      <th>promote</th>\n",
       "      <th>clean</th>\n",
       "      <th>vol</th>\n",
       "    </tr>\n",
       "  </thead>\n",
       "  <tbody>\n",
       "    <tr>\n",
       "      <th>0</th>\n",
       "      <td>0</td>\n",
       "      <td>0</td>\n",
       "      <td>2017-12-05</td>\n",
       "      <td>9.379548e+17</td>\n",
       "      <td>BisqArviraj</td>\n",
       "      <td>Ar Viraj</td>\n",
       "      <td></td>\n",
       "      <td>2017-12-05 07:00:16+00</td>\n",
       "      <td>0.0</td>\n",
       "      <td>0.0</td>\n",
       "      <td>...</td>\n",
       "      <td>SELL\\nPayment method: SEPA\\nOffer ID: 90196354...</td>\n",
       "      <td>en</td>\n",
       "      <td>2017</td>\n",
       "      <td>12</td>\n",
       "      <td>5</td>\n",
       "      <td>SELL\\nPayment method: SEPA\\nOffer ID: 90196354...</td>\n",
       "      <td></td>\n",
       "      <td></td>\n",
       "      <td>sell payment method sepa offer id amount btc p...</td>\n",
       "      <td>BULL</td>\n",
       "    </tr>\n",
       "    <tr>\n",
       "      <th>1</th>\n",
       "      <td>1</td>\n",
       "      <td>1</td>\n",
       "      <td>2017-12-05</td>\n",
       "      <td>9.379497e+17</td>\n",
       "      <td>cryptolligence</td>\n",
       "      <td>Cryptolligence</td>\n",
       "      <td></td>\n",
       "      <td>2017-12-05 06:40:05+00</td>\n",
       "      <td>0.0</td>\n",
       "      <td>0.0</td>\n",
       "      <td>...</td>\n",
       "      <td>Buy!  (11:40:05 pm PDT)\\nPrice: 11720.00 (+/-...</td>\n",
       "      <td>en</td>\n",
       "      <td>2017</td>\n",
       "      <td>12</td>\n",
       "      <td>5</td>\n",
       "      <td>Buy!  (11:40:05 pm PDT)\\nPrice: 11720.00 (+/-...</td>\n",
       "      <td>coinbase gdax btc bitcoin trading</td>\n",
       "      <td></td>\n",
       "      <td>buy pm pdt price close stop gdax coinbase btc ...</td>\n",
       "      <td>BULL</td>\n",
       "    </tr>\n",
       "    <tr>\n",
       "      <th>2</th>\n",
       "      <td>2</td>\n",
       "      <td>2</td>\n",
       "      <td>2017-12-05</td>\n",
       "      <td>9.379497e+17</td>\n",
       "      <td>cryptolligence</td>\n",
       "      <td>Cryptolligence</td>\n",
       "      <td></td>\n",
       "      <td>2017-12-05 06:40:10+00</td>\n",
       "      <td>0.0</td>\n",
       "      <td>0.0</td>\n",
       "      <td>...</td>\n",
       "      <td>Buy!  (11:40:10 pm PDT)\\nPrice: 11721.00 (+/-...</td>\n",
       "      <td>en</td>\n",
       "      <td>2017</td>\n",
       "      <td>12</td>\n",
       "      <td>5</td>\n",
       "      <td>Buy!  (11:40:10 pm PDT)\\nPrice: 11721.00 (+/-...</td>\n",
       "      <td>coinbase gdax btc bitcoin trading</td>\n",
       "      <td></td>\n",
       "      <td>buy pm pdt price close stop gdax coinbase btc ...</td>\n",
       "      <td>BULL</td>\n",
       "    </tr>\n",
       "    <tr>\n",
       "      <th>3</th>\n",
       "      <td>3</td>\n",
       "      <td>3</td>\n",
       "      <td>2017-12-05</td>\n",
       "      <td>9.379547e+17</td>\n",
       "      <td>coinstats</td>\n",
       "      <td>Coinstats</td>\n",
       "      <td></td>\n",
       "      <td>2017-12-05 07:00:01+00</td>\n",
       "      <td>0.0</td>\n",
       "      <td>0.0</td>\n",
       "      <td>...</td>\n",
       "      <td>Bitcoin - BTC\\nPrice: $11,861.80\\nChange in 1h...</td>\n",
       "      <td>en</td>\n",
       "      <td>2017</td>\n",
       "      <td>12</td>\n",
       "      <td>5</td>\n",
       "      <td>Bitcoin - BTC\\nPrice: $11,861.80\\nChange in 1h...</td>\n",
       "      <td>Bitcoin BTC</td>\n",
       "      <td></td>\n",
       "      <td>bitcoin btc price change h market cap ranking ...</td>\n",
       "      <td>BULL</td>\n",
       "    </tr>\n",
       "    <tr>\n",
       "      <th>4</th>\n",
       "      <td>4</td>\n",
       "      <td>4</td>\n",
       "      <td>2017-12-05</td>\n",
       "      <td>9.379536e+17</td>\n",
       "      <td>TNFXtrading</td>\n",
       "      <td>TNFX Trading</td>\n",
       "      <td>http://t.me/TNFXtrading</td>\n",
       "      <td>2017-12-05 06:55:38+00</td>\n",
       "      <td>0.0</td>\n",
       "      <td>0.0</td>\n",
       "      <td>...</td>\n",
       "      <td>تنحصر تداولات سعر بتكوين الأخيرة داخل نموذج عل...</td>\n",
       "      <td>en</td>\n",
       "      <td>2017</td>\n",
       "      <td>12</td>\n",
       "      <td>5</td>\n",
       "      <td>تنحصر تداولات سعر بتكوين الأخيرة داخل نموذج عل...</td>\n",
       "      <td>USDpic.twitter.com/oh8SKBx4DE BTC BTCUSD</td>\n",
       "      <td></td>\n",
       "      <td>تنحصر تداولات سعر بتكوين الأخيرة داخل نموذج عل...</td>\n",
       "      <td>BULL</td>\n",
       "    </tr>\n",
       "    <tr>\n",
       "      <th>...</th>\n",
       "      <td>...</td>\n",
       "      <td>...</td>\n",
       "      <td>...</td>\n",
       "      <td>...</td>\n",
       "      <td>...</td>\n",
       "      <td>...</td>\n",
       "      <td>...</td>\n",
       "      <td>...</td>\n",
       "      <td>...</td>\n",
       "      <td>...</td>\n",
       "      <td>...</td>\n",
       "      <td>...</td>\n",
       "      <td>...</td>\n",
       "      <td>...</td>\n",
       "      <td>...</td>\n",
       "      <td>...</td>\n",
       "      <td>...</td>\n",
       "      <td>...</td>\n",
       "      <td>...</td>\n",
       "      <td>...</td>\n",
       "      <td>...</td>\n",
       "    </tr>\n",
       "    <tr>\n",
       "      <th>332456</th>\n",
       "      <td>332456</td>\n",
       "      <td>1324380</td>\n",
       "      <td>2019-05-14</td>\n",
       "      <td>1.128253e+18</td>\n",
       "      <td>cointrend_jp</td>\n",
       "      <td>COINTREND</td>\n",
       "      <td>https://cointrend.jp/</td>\n",
       "      <td>2019-05-14 08:58:01+00</td>\n",
       "      <td>0.0</td>\n",
       "      <td>0.0</td>\n",
       "      <td>...</td>\n",
       "      <td>ツイート数の多かった仮想通貨\\n1位 $BTC 650 Tweets\\n2位 $TRX 26...</td>\n",
       "      <td>en</td>\n",
       "      <td>2019</td>\n",
       "      <td>5</td>\n",
       "      <td>14</td>\n",
       "      <td>ツイート数の多かった仮想通貨\\n1位 $BTC 650 Tweets\\n2位 $TRX 26...</td>\n",
       "      <td></td>\n",
       "      <td></td>\n",
       "      <td>ツイート数の多かった仮想通貨 位 btc tweets 位 trx tweets 位 xrp...</td>\n",
       "      <td>BULL</td>\n",
       "    </tr>\n",
       "    <tr>\n",
       "      <th>332457</th>\n",
       "      <td>332457</td>\n",
       "      <td>1324381</td>\n",
       "      <td>2019-05-14</td>\n",
       "      <td>1.128249e+18</td>\n",
       "      <td>SssaPTAMUo5R7RE</td>\n",
       "      <td>Александр Свечкар</td>\n",
       "      <td>https://bi.city/s/KU0Gf</td>\n",
       "      <td>2019-05-14 08:41:43+00</td>\n",
       "      <td>0.0</td>\n",
       "      <td>0.0</td>\n",
       "      <td>...</td>\n",
       "      <td>[BTC Dips Below 8000 USDT]\\n\\nCiting data from...</td>\n",
       "      <td>en</td>\n",
       "      <td>2019</td>\n",
       "      <td>5</td>\n",
       "      <td>14</td>\n",
       "      <td>[BTC Dips Below 8000 USDT]\\n\\nCiting data from...</td>\n",
       "      <td></td>\n",
       "      <td></td>\n",
       "      <td>btc dips usdt citing data binance price bitcoi...</td>\n",
       "      <td>BULL</td>\n",
       "    </tr>\n",
       "    <tr>\n",
       "      <th>332458</th>\n",
       "      <td>332458</td>\n",
       "      <td>1324382</td>\n",
       "      <td>2019-05-14</td>\n",
       "      <td>1.128251e+18</td>\n",
       "      <td>tr_ticker</td>\n",
       "      <td>Tr Ticker Bot</td>\n",
       "      <td></td>\n",
       "      <td>2019-05-14 08:50:40+00</td>\n",
       "      <td>0.0</td>\n",
       "      <td>0.0</td>\n",
       "      <td>...</td>\n",
       "      <td>#Doviz\\n-------------------\\n#USD : 6.1077\\n#E...</td>\n",
       "      <td>en</td>\n",
       "      <td>2019</td>\n",
       "      <td>5</td>\n",
       "      <td>14</td>\n",
       "      <td>#Doviz\\n-------------------\\n#USD : 6.1077\\n#E...</td>\n",
       "      <td>Doviz BtcTurk BTC EUR Koinim Paribu GBP Gobaba...</td>\n",
       "      <td></td>\n",
       "      <td>doviz usd eur gbp btc gobaba btcturk koinim pa...</td>\n",
       "      <td>BULL</td>\n",
       "    </tr>\n",
       "    <tr>\n",
       "      <th>332459</th>\n",
       "      <td>332459</td>\n",
       "      <td>1324383</td>\n",
       "      <td>2019-05-14</td>\n",
       "      <td>1.128249e+18</td>\n",
       "      <td>EconomiesCom</td>\n",
       "      <td>Economies.com</td>\n",
       "      <td>http://dlvr.it/R4g63l</td>\n",
       "      <td>2019-05-14 08:41:02+00</td>\n",
       "      <td>0.0</td>\n",
       "      <td>0.0</td>\n",
       "      <td>...</td>\n",
       "      <td>Midday update for bitcoin 14-05-2019: Bitcoin ...</td>\n",
       "      <td>en</td>\n",
       "      <td>2019</td>\n",
       "      <td>5</td>\n",
       "      <td>14</td>\n",
       "      <td>Midday update for bitcoin 14-05-2019: Bitcoin ...</td>\n",
       "      <td></td>\n",
       "      <td></td>\n",
       "      <td>midday update bitcoin bitcoin price resumes po...</td>\n",
       "      <td>BULL</td>\n",
       "    </tr>\n",
       "    <tr>\n",
       "      <th>332460</th>\n",
       "      <td>332460</td>\n",
       "      <td>1324384</td>\n",
       "      <td>2019-05-22</td>\n",
       "      <td>1.131211e+18</td>\n",
       "      <td>sylviaNargaard1</td>\n",
       "      <td>sylvia Nargaard</td>\n",
       "      <td></td>\n",
       "      <td>2019-05-22 12:51:23+00</td>\n",
       "      <td>0.0</td>\n",
       "      <td>5.0</td>\n",
       "      <td>...</td>\n",
       "      <td>Happy pizza Day!\\nBack in 2010, Hanyecz bought...</td>\n",
       "      <td>en</td>\n",
       "      <td>2019</td>\n",
       "      <td>5</td>\n",
       "      <td>22</td>\n",
       "      <td>Happy pizza Day!\\nBack in 2010, Hanyecz bought...</td>\n",
       "      <td>btc bitcoin</td>\n",
       "      <td></td>\n",
       "      <td>happy pizza day back hanyecz bought two papa j...</td>\n",
       "      <td>BEAR</td>\n",
       "    </tr>\n",
       "  </tbody>\n",
       "</table>\n",
       "<p>332461 rows × 21 columns</p>\n",
       "</div>"
      ],
      "text/plain": [
       "        Unnamed: 0    index        date            id             user  \\\n",
       "0                0        0  2017-12-05  9.379548e+17      BisqArviraj   \n",
       "1                1        1  2017-12-05  9.379497e+17   cryptolligence   \n",
       "2                2        2  2017-12-05  9.379497e+17   cryptolligence   \n",
       "3                3        3  2017-12-05  9.379547e+17        coinstats   \n",
       "4                4        4  2017-12-05  9.379536e+17      TNFXtrading   \n",
       "...            ...      ...         ...           ...              ...   \n",
       "332456      332456  1324380  2019-05-14  1.128253e+18     cointrend_jp   \n",
       "332457      332457  1324381  2019-05-14  1.128249e+18  SssaPTAMUo5R7RE   \n",
       "332458      332458  1324382  2019-05-14  1.128251e+18        tr_ticker   \n",
       "332459      332459  1324383  2019-05-14  1.128249e+18     EconomiesCom   \n",
       "332460      332460  1324384  2019-05-22  1.131211e+18  sylviaNargaard1   \n",
       "\n",
       "                 fullname                      url               timestamp  \\\n",
       "0                Ar Viraj                           2017-12-05 07:00:16+00   \n",
       "1          Cryptolligence                           2017-12-05 06:40:05+00   \n",
       "2          Cryptolligence                           2017-12-05 06:40:10+00   \n",
       "3               Coinstats                           2017-12-05 07:00:01+00   \n",
       "4            TNFX Trading  http://t.me/TNFXtrading  2017-12-05 06:55:38+00   \n",
       "...                   ...                      ...                     ...   \n",
       "332456          COINTREND    https://cointrend.jp/  2019-05-14 08:58:01+00   \n",
       "332457  Александр Свечкар  https://bi.city/s/KU0Gf  2019-05-14 08:41:43+00   \n",
       "332458      Tr Ticker Bot                           2019-05-14 08:50:40+00   \n",
       "332459      Economies.com    http://dlvr.it/R4g63l  2019-05-14 08:41:02+00   \n",
       "332460    sylvia Nargaard                           2019-05-22 12:51:23+00   \n",
       "\n",
       "        replies  likes  ...  \\\n",
       "0           0.0    0.0  ...   \n",
       "1           0.0    0.0  ...   \n",
       "2           0.0    0.0  ...   \n",
       "3           0.0    0.0  ...   \n",
       "4           0.0    0.0  ...   \n",
       "...         ...    ...  ...   \n",
       "332456      0.0    0.0  ...   \n",
       "332457      0.0    0.0  ...   \n",
       "332458      0.0    0.0  ...   \n",
       "332459      0.0    0.0  ...   \n",
       "332460      0.0    5.0  ...   \n",
       "\n",
       "                                                     text lang  year  month  \\\n",
       "0       SELL\\nPayment method: SEPA\\nOffer ID: 90196354...   en  2017     12   \n",
       "1        Buy!  (11:40:05 pm PDT)\\nPrice: 11720.00 (+/-...   en  2017     12   \n",
       "2        Buy!  (11:40:10 pm PDT)\\nPrice: 11721.00 (+/-...   en  2017     12   \n",
       "3       Bitcoin - BTC\\nPrice: $11,861.80\\nChange in 1h...   en  2017     12   \n",
       "4       تنحصر تداولات سعر بتكوين الأخيرة داخل نموذج عل...   en  2017     12   \n",
       "...                                                   ...  ...   ...    ...   \n",
       "332456  ツイート数の多かった仮想通貨\\n1位 $BTC 650 Tweets\\n2位 $TRX 26...   en  2019      5   \n",
       "332457  [BTC Dips Below 8000 USDT]\\n\\nCiting data from...   en  2019      5   \n",
       "332458  #Doviz\\n-------------------\\n#USD : 6.1077\\n#E...   en  2019      5   \n",
       "332459  Midday update for bitcoin 14-05-2019: Bitcoin ...   en  2019      5   \n",
       "332460  Happy pizza Day!\\nBack in 2010, Hanyecz bought...   en  2019      5   \n",
       "\n",
       "        day                                              text1  \\\n",
       "0         5  SELL\\nPayment method: SEPA\\nOffer ID: 90196354...   \n",
       "1         5   Buy!  (11:40:05 pm PDT)\\nPrice: 11720.00 (+/-...   \n",
       "2         5   Buy!  (11:40:10 pm PDT)\\nPrice: 11721.00 (+/-...   \n",
       "3         5  Bitcoin - BTC\\nPrice: $11,861.80\\nChange in 1h...   \n",
       "4         5  تنحصر تداولات سعر بتكوين الأخيرة داخل نموذج عل...   \n",
       "...     ...                                                ...   \n",
       "332456   14  ツイート数の多かった仮想通貨\\n1位 $BTC 650 Tweets\\n2位 $TRX 26...   \n",
       "332457   14  [BTC Dips Below 8000 USDT]\\n\\nCiting data from...   \n",
       "332458   14  #Doviz\\n-------------------\\n#USD : 6.1077\\n#E...   \n",
       "332459   14  Midday update for bitcoin 14-05-2019: Bitcoin ...   \n",
       "332460   22  Happy pizza Day!\\nBack in 2010, Hanyecz bought...   \n",
       "\n",
       "                                                     tags promote  \\\n",
       "0                                                                   \n",
       "1                       coinbase gdax btc bitcoin trading           \n",
       "2                       coinbase gdax btc bitcoin trading           \n",
       "3                                             Bitcoin BTC           \n",
       "4                USDpic.twitter.com/oh8SKBx4DE BTC BTCUSD           \n",
       "...                                                   ...     ...   \n",
       "332456                                                              \n",
       "332457                                                              \n",
       "332458  Doviz BtcTurk BTC EUR Koinim Paribu GBP Gobaba...           \n",
       "332459                                                              \n",
       "332460                                        btc bitcoin           \n",
       "\n",
       "                                                    clean   vol  \n",
       "0       sell payment method sepa offer id amount btc p...  BULL  \n",
       "1       buy pm pdt price close stop gdax coinbase btc ...  BULL  \n",
       "2       buy pm pdt price close stop gdax coinbase btc ...  BULL  \n",
       "3       bitcoin btc price change h market cap ranking ...  BULL  \n",
       "4       تنحصر تداولات سعر بتكوين الأخيرة داخل نموذج عل...  BULL  \n",
       "...                                                   ...   ...  \n",
       "332456  ツイート数の多かった仮想通貨 位 btc tweets 位 trx tweets 位 xrp...  BULL  \n",
       "332457  btc dips usdt citing data binance price bitcoi...  BULL  \n",
       "332458  doviz usd eur gbp btc gobaba btcturk koinim pa...  BULL  \n",
       "332459  midday update bitcoin bitcoin price resumes po...  BULL  \n",
       "332460  happy pizza day back hanyecz bought two papa j...  BEAR  \n",
       "\n",
       "[332461 rows x 21 columns]"
      ]
     },
     "execution_count": 7,
     "metadata": {},
     "output_type": "execute_result"
    }
   ],
   "source": [
    "df.merge(vol, on='date', how='left')"
   ]
  },
  {
   "cell_type": "code",
   "execution_count": 8,
   "metadata": {
    "colab": {
     "base_uri": "https://localhost:8080/"
    },
    "id": "SH53O8AT7uV0",
    "outputId": "c88b34bc-cdd8-45d6-8f0b-79138798a8d9"
   },
   "outputs": [
    {
     "name": "stderr",
     "output_type": "stream",
     "text": [
      "[nltk_data] Downloading package vader_lexicon to\n",
      "[nltk_data]     /home/user/nltk_data...\n"
     ]
    },
    {
     "data": {
      "text/plain": [
       "True"
      ]
     },
     "execution_count": 8,
     "metadata": {},
     "output_type": "execute_result"
    }
   ],
   "source": [
    "import nltk\n",
    "from nltk.sentiment.vader import SentimentIntensityAnalyzer\n",
    "nltk.download('vader_lexicon')"
   ]
  },
  {
   "cell_type": "code",
   "execution_count": 9,
   "metadata": {
    "id": "697kGvVJ7whl"
   },
   "outputs": [],
   "source": [
    "def vader_compound(text):\n",
    "    sid = SentimentIntensityAnalyzer()\n",
    "    ss = sid.polarity_scores(text)\n",
    "    compound, positive, negative, neutral = ss[\"compound\"], ss[\"pos\"], ss[\"neg\"], ss[\"neu\"]\n",
    "    if compound > 0:\n",
    "      return \"BULL\"\n",
    "    return \"BEAR\""
   ]
  },
  {
   "cell_type": "code",
   "execution_count": 11,
   "metadata": {
    "colab": {
     "base_uri": "https://localhost:8080/",
     "height": 341
    },
    "id": "NaFfHD4v70UL",
    "outputId": "d0fcd467-3d23-41b0-d2c8-eadf1befccc6"
   },
   "outputs": [],
   "source": [
    "df['sent'] = df['clean'].apply(lambda x: vader_compound(str(x)))"
   ]
  },
  {
   "cell_type": "code",
   "execution_count": 15,
   "metadata": {
    "id": "YpP5Hsfz8Hpq"
   },
   "outputs": [
    {
     "data": {
      "text/html": [
       "<div>\n",
       "<style scoped>\n",
       "    .dataframe tbody tr th:only-of-type {\n",
       "        vertical-align: middle;\n",
       "    }\n",
       "\n",
       "    .dataframe tbody tr th {\n",
       "        vertical-align: top;\n",
       "    }\n",
       "\n",
       "    .dataframe thead th {\n",
       "        text-align: right;\n",
       "    }\n",
       "</style>\n",
       "<table border=\"1\" class=\"dataframe\">\n",
       "  <thead>\n",
       "    <tr style=\"text-align: right;\">\n",
       "      <th></th>\n",
       "      <th>Unnamed: 0</th>\n",
       "      <th>index</th>\n",
       "      <th>date</th>\n",
       "      <th>id</th>\n",
       "      <th>user</th>\n",
       "      <th>fullname</th>\n",
       "      <th>url</th>\n",
       "      <th>timestamp</th>\n",
       "      <th>replies</th>\n",
       "      <th>likes</th>\n",
       "      <th>...</th>\n",
       "      <th>lang</th>\n",
       "      <th>year</th>\n",
       "      <th>month</th>\n",
       "      <th>day</th>\n",
       "      <th>text1</th>\n",
       "      <th>tags</th>\n",
       "      <th>promote</th>\n",
       "      <th>clean</th>\n",
       "      <th>sent</th>\n",
       "      <th>vol</th>\n",
       "    </tr>\n",
       "  </thead>\n",
       "  <tbody>\n",
       "    <tr>\n",
       "      <th>332458</th>\n",
       "      <td>332458</td>\n",
       "      <td>1324382</td>\n",
       "      <td>2019-05-14</td>\n",
       "      <td>1.128251e+18</td>\n",
       "      <td>tr_ticker</td>\n",
       "      <td>Tr Ticker Bot</td>\n",
       "      <td></td>\n",
       "      <td>2019-05-14 08:50:40+00</td>\n",
       "      <td>0.0</td>\n",
       "      <td>0.0</td>\n",
       "      <td>...</td>\n",
       "      <td>en</td>\n",
       "      <td>2019</td>\n",
       "      <td>5</td>\n",
       "      <td>14</td>\n",
       "      <td>#Doviz\\n-------------------\\n#USD : 6.1077\\n#E...</td>\n",
       "      <td>Doviz BtcTurk BTC EUR Koinim Paribu GBP Gobaba...</td>\n",
       "      <td></td>\n",
       "      <td>doviz usd eur gbp btc gobaba btcturk koinim pa...</td>\n",
       "      <td>BEAR</td>\n",
       "      <td>BULL</td>\n",
       "    </tr>\n",
       "    <tr>\n",
       "      <th>332459</th>\n",
       "      <td>332459</td>\n",
       "      <td>1324383</td>\n",
       "      <td>2019-05-14</td>\n",
       "      <td>1.128249e+18</td>\n",
       "      <td>EconomiesCom</td>\n",
       "      <td>Economies.com</td>\n",
       "      <td>http://dlvr.it/R4g63l</td>\n",
       "      <td>2019-05-14 08:41:02+00</td>\n",
       "      <td>0.0</td>\n",
       "      <td>0.0</td>\n",
       "      <td>...</td>\n",
       "      <td>en</td>\n",
       "      <td>2019</td>\n",
       "      <td>5</td>\n",
       "      <td>14</td>\n",
       "      <td>Midday update for bitcoin 14-05-2019: Bitcoin ...</td>\n",
       "      <td></td>\n",
       "      <td></td>\n",
       "      <td>midday update bitcoin bitcoin price resumes po...</td>\n",
       "      <td>BULL</td>\n",
       "      <td>BULL</td>\n",
       "    </tr>\n",
       "    <tr>\n",
       "      <th>332460</th>\n",
       "      <td>332460</td>\n",
       "      <td>1324384</td>\n",
       "      <td>2019-05-22</td>\n",
       "      <td>1.131211e+18</td>\n",
       "      <td>sylviaNargaard1</td>\n",
       "      <td>sylvia Nargaard</td>\n",
       "      <td></td>\n",
       "      <td>2019-05-22 12:51:23+00</td>\n",
       "      <td>0.0</td>\n",
       "      <td>5.0</td>\n",
       "      <td>...</td>\n",
       "      <td>en</td>\n",
       "      <td>2019</td>\n",
       "      <td>5</td>\n",
       "      <td>22</td>\n",
       "      <td>Happy pizza Day!\\nBack in 2010, Hanyecz bought...</td>\n",
       "      <td>btc bitcoin</td>\n",
       "      <td></td>\n",
       "      <td>happy pizza day back hanyecz bought two papa j...</td>\n",
       "      <td>BULL</td>\n",
       "      <td>BEAR</td>\n",
       "    </tr>\n",
       "  </tbody>\n",
       "</table>\n",
       "<p>3 rows × 22 columns</p>\n",
       "</div>"
      ],
      "text/plain": [
       "        Unnamed: 0    index        date            id             user  \\\n",
       "332458      332458  1324382  2019-05-14  1.128251e+18        tr_ticker   \n",
       "332459      332459  1324383  2019-05-14  1.128249e+18     EconomiesCom   \n",
       "332460      332460  1324384  2019-05-22  1.131211e+18  sylviaNargaard1   \n",
       "\n",
       "               fullname                    url               timestamp  \\\n",
       "332458    Tr Ticker Bot                         2019-05-14 08:50:40+00   \n",
       "332459    Economies.com  http://dlvr.it/R4g63l  2019-05-14 08:41:02+00   \n",
       "332460  sylvia Nargaard                         2019-05-22 12:51:23+00   \n",
       "\n",
       "        replies  likes  ...  lang  year month  day  \\\n",
       "332458      0.0    0.0  ...    en  2019     5   14   \n",
       "332459      0.0    0.0  ...    en  2019     5   14   \n",
       "332460      0.0    5.0  ...    en  2019     5   22   \n",
       "\n",
       "                                                    text1  \\\n",
       "332458  #Doviz\\n-------------------\\n#USD : 6.1077\\n#E...   \n",
       "332459  Midday update for bitcoin 14-05-2019: Bitcoin ...   \n",
       "332460  Happy pizza Day!\\nBack in 2010, Hanyecz bought...   \n",
       "\n",
       "                                                     tags promote  \\\n",
       "332458  Doviz BtcTurk BTC EUR Koinim Paribu GBP Gobaba...           \n",
       "332459                                                              \n",
       "332460                                        btc bitcoin           \n",
       "\n",
       "                                                    clean  sent   vol  \n",
       "332458  doviz usd eur gbp btc gobaba btcturk koinim pa...  BEAR  BULL  \n",
       "332459  midday update bitcoin bitcoin price resumes po...  BULL  BULL  \n",
       "332460  happy pizza day back hanyecz bought two papa j...  BULL  BEAR  \n",
       "\n",
       "[3 rows x 22 columns]"
      ]
     },
     "execution_count": 15,
     "metadata": {},
     "output_type": "execute_result"
    }
   ],
   "source": [
    "df = df.merge(vol, on='date', how='left')\n",
    "df.tail(3)"
   ]
  },
  {
   "cell_type": "code",
   "execution_count": 16,
   "metadata": {
    "id": "9ylHaeUU8fce"
   },
   "outputs": [
    {
     "name": "stdout",
     "output_type": "stream",
     "text": [
      "0.5116148961833117\n"
     ]
    }
   ],
   "source": [
    "correct = 0\n",
    "count = 0  \n",
    "for o, c in zip(df['sent'].iteritems(), df['vol'].iteritems()):\n",
    "  index = o[0]\n",
    "  op = o[1]\n",
    "  cl = c[1]\n",
    "  if op == cl:\n",
    "    correct += 1\n",
    "  count += 1\n",
    "accuracy = float(correct) / float(count)\n",
    "print(accuracy)"
   ]
  },
  {
   "cell_type": "code",
   "execution_count": null,
   "metadata": {
    "id": "EOJTqEaIw0KE"
   },
   "outputs": [],
   "source": [
    "df = df.dropna(subset=['clean'])"
   ]
  },
  {
   "cell_type": "code",
   "execution_count": null,
   "metadata": {
    "id": "MW4LfUYDvNHB"
   },
   "outputs": [],
   "source": [
    "bow_vectorizer = CountVectorizer(max_df=0.90, min_df=2, max_features=500, stop_words='english',analyzer='word', token_pattern=r'\\w{1,}')\n",
    "bow = bow_vectorizer.fit_transform(df['clean'])\n",
    "bow.shape"
   ]
  },
  {
   "cell_type": "code",
   "execution_count": null,
   "metadata": {
    "id": "L15JxnKmwohi"
   },
   "outputs": [],
   "source": [
    "ditc= bow_vectorizer.vocabulary_\n",
    "print(ditc)"
   ]
  },
  {
   "cell_type": "code",
   "execution_count": null,
   "metadata": {},
   "outputs": [],
   "source": []
  },
  {
   "cell_type": "code",
   "execution_count": null,
   "metadata": {
    "id": "igohS8LUxZQU"
   },
   "outputs": [],
   "source": [
    "print(bow_vectorizer.get_feature_names())"
   ]
  },
  {
   "cell_type": "code",
   "execution_count": null,
   "metadata": {
    "id": "0Qd70xW3xat_"
   },
   "outputs": [],
   "source": [
    "tfidf_vectorizer = TfidfVectorizer(max_df=0.90, min_df=2, max_features=500, stop_words='english',analyzer='word', token_pattern=r'\\w{1,}')\n",
    "tfidf = tfidf_vectorizer.fit_transform(df['clean'])\n",
    "tfidf.shape"
   ]
  },
  {
   "cell_type": "code",
   "execution_count": null,
   "metadata": {
    "id": "OnpK0FbTxdST"
   },
   "outputs": [],
   "source": [
    "ditc2 = tfidf_vectorizer.vocabulary_\n",
    "print(ditc2)"
   ]
  },
  {
   "cell_type": "code",
   "execution_count": null,
   "metadata": {
    "id": "4ph9ySDixeyO"
   },
   "outputs": [],
   "source": [
    "print(tfidf_vectorizer.get_feature_names())"
   ]
  },
  {
   "cell_type": "code",
   "execution_count": null,
   "metadata": {
    "id": "2_ro6ePfxhLN"
   },
   "outputs": [],
   "source": [
    "vect_ngram = TfidfVectorizer(analyzer='word', token_pattern=r'\\w{1,}', ngram_range=(2,3), max_features=500)\n",
    "ngram = vect_ngram.fit_transform(df['clean'])\n",
    "ngram.shape"
   ]
  },
  {
   "cell_type": "code",
   "execution_count": null,
   "metadata": {
    "id": "ZOcaBKn1xiqF"
   },
   "outputs": [],
   "source": [
    "#2- CREATING a FAKE Y\n",
    "#ate 11 dec 2017\n",
    "#ate 10 dec 2018\n",
    "#ate end\n",
    "\n",
    "def senti(x):\n",
    "  if x < 2018:\n",
    "    return 'BULL'\n",
    "  elif x > 2018:\n",
    "    return 'BULL'\n",
    "  else:\n",
    "    return 'BEAR'\n",
    "\n",
    "df['sent'] = df['year'].apply(lambda x: senti(x) )\n",
    "df.tail(3)"
   ]
  },
  {
   "cell_type": "code",
   "execution_count": null,
   "metadata": {
    "id": "w2W4Nc__xmOJ"
   },
   "outputs": [],
   "source": [
    "df['sent'].value_counts()"
   ]
  },
  {
   "cell_type": "code",
   "execution_count": null,
   "metadata": {
    "id": "UiAUd5q4xofz"
   },
   "outputs": [],
   "source": [
    "from sklearn.preprocessing import LabelEncoder\n",
    "le = LabelEncoder()\n",
    "y = le.fit_transform(df['sent'])"
   ]
  },
  {
   "cell_type": "code",
   "execution_count": null,
   "metadata": {
    "id": "9_h3VnmLxq9Z"
   },
   "outputs": [],
   "source": [
    "def train_model(classifier, feature_vector_train, label, feature_vector_valid, is_neural_net=False):\n",
    "    # fit the training dataset on the classifier\n",
    "    classifier.fit(feature_vector_train, label)\n",
    "    \n",
    "    # predict the labels on validation dataset\n",
    "    predictions = classifier.predict(feature_vector_valid)\n",
    "    \n",
    "    if is_neural_net:\n",
    "        predictions = predictions.argmax(axis=-1)\n",
    "    \n",
    "    return (metrics.accuracy_score(predictions, y_test), metrics.precision_score(predictions, y_test))"
   ]
  },
  {
   "cell_type": "code",
   "execution_count": null,
   "metadata": {
    "id": "GcWiX_AUxtf8"
   },
   "outputs": [],
   "source": [
    "# Naive Bayes on Count Vectors\n",
    "accuracy = train_model(naive_bayes.MultinomialNB(), X_count_train, y_train, X_count_test)\n",
    "print(\"NB, on Bag of Words : Accuracy, Precision \", accuracy)\n",
    "\n",
    "# Naive Bayes on Word Level TF IDF Vectors\n",
    "accuracy = train_model(naive_bayes.MultinomialNB(), X_tfidf_train, y_train, X_tfidf_test)\n",
    "print(\"NB, on TF-IDF  : Accuracy, Precision \", accuracy)"
   ]
  },
  {
   "cell_type": "code",
   "execution_count": null,
   "metadata": {
    "id": "jevWTzqzxwTM"
   },
   "outputs": [],
   "source": [
    "# Log Reg Classifier on Count Vectors - takes 4 min\n",
    "accuracy = train_model(linear_model.LogisticRegression(), X_count_train, y_train, X_count_test)\n",
    "print(\"LR, Bag of Words: : Accuracy, Precision \", accuracy)\n",
    "\n",
    "# Log Reg Classifier on Word Level TF IDF Vectors\n",
    "accuracy = train_model(linear_model.LogisticRegression(solver='lbfgs', max_iter=100), X_tfidf_train, y_train, X_tfidf_test)\n",
    "print(\"LR, on TF-IDF  : Accuracy, Precision \", accuracy)"
   ]
  },
  {
   "cell_type": "code",
   "execution_count": null,
   "metadata": {
    "id": "LCUyHcdJxySP"
   },
   "outputs": [],
   "source": [
    "# SVM on Ngram Level TF IDF Vectors - takes forever to calculate MORE THAN 10 MN\n",
    "accuracy = train_model(svm.SVC(kernel='linear'), X_ngram_train, y_train, X_ngram_test)\n",
    "print(\"SVM,  on NGRAM  : Accuracy, Precision, Recall \", accuracy)"
   ]
  },
  {
   "cell_type": "code",
   "execution_count": null,
   "metadata": {
    "id": "386FdS6Px0lk"
   },
   "outputs": [],
   "source": [
    "# RF on Count Vectors - takes more than 20 min, never finished\n",
    "accuracy = train_model(ensemble.RandomForestClassifier(n_estimators = 100),X_count_train, y_train, X_count_test)\n",
    "print(\"RF, on Bag of Words : Accuracy, Precision, Recall \", accuracy)\n",
    "\n",
    "# RF on Word Level TF IDF Vectors\n",
    "accuracy = train_model(ensemble.RandomForestClassifier(), X_tfidf_train, y_train, X_tfidf_test)\n",
    "print(\"RF, on TF-IDF  : Accuracy, Precision, Recall \", accuracy)"
   ]
  },
  {
   "cell_type": "code",
   "execution_count": null,
   "metadata": {
    "id": "bMwJ5HVEx2h5"
   },
   "outputs": [],
   "source": [
    "# Extereme Gradient Boosting on Count Vectors - 31 mn for bag of words results and counting\n",
    "accuracy = train_model(xgboost.XGBClassifier(), X_count_train.tocsc(), y_train, X_count_test.tocsc())\n",
    "print(\"Xgb, on Bag of Words : Accuracy, Precision, Recall \", accuracy)\n",
    "\n",
    "# Extereme Gradient Boosting on Word Level TF IDF Vectors\n",
    "accuracy = train_model(xgboost.XGBClassifier(), X_tfidf_train.tocsc(), y_train, X_tfidf_test.tocsc())\n",
    "print(\"Xgb, on TF-IDF  : Accuracy, Precision, Recall \", accuracy)"
   ]
  },
  {
   "cell_type": "code",
   "execution_count": null,
   "metadata": {
    "id": "u1gneWtnx4OG"
   },
   "outputs": [],
   "source": [
    "#ON THE MODEL THAT SHOWS MOST ACCURACY, DIG ON ITS SPECS\n",
    "# Model Accuracy: how often is the classifier correct?\n",
    "print(\"Accuracy:\",metrics.accuracy_score(y_test, y_predict_svm))\n",
    "# Model Precision: what percentage of positive tuples are labeled as such?\n",
    "print(\"Precision:\",metrics.precision_score(y_test, y_predict_svm))\n",
    "# Model Recall: what percentage of positive tuples are labelled as such?\n",
    "print(\"Recall:\",metrics.recall_score(y_test, y_predict_svm))"
   ]
  },
  {
   "cell_type": "code",
   "execution_count": null,
   "metadata": {
    "id": "fncVgLiRx6Ib"
   },
   "outputs": [],
   "source": []
  }
 ],
 "metadata": {
  "colab": {
   "name": "twitter_model.ipynb",
   "provenance": []
  },
  "kernelspec": {
   "display_name": "Python 3",
   "language": "python",
   "name": "python3"
  },
  "language_info": {
   "codemirror_mode": {
    "name": "ipython",
    "version": 3
   },
   "file_extension": ".py",
   "mimetype": "text/x-python",
   "name": "python",
   "nbconvert_exporter": "python",
   "pygments_lexer": "ipython3",
   "version": "3.7.1"
  }
 },
 "nbformat": 4,
 "nbformat_minor": 4
}
