{
 "cells": [
  {
   "cell_type": "code",
   "execution_count": null,
   "metadata": {
    "id": "Cz0K9l3UI1ee"
   },
   "outputs": [],
   "source": [
    "from time import time\n",
    "import pandas as pd\n",
    "import numpy as np\n",
    "import re\n",
    "import sys\n",
    "import csv\n",
    "csv.field_size_limit(sys.maxsize)\n",
    "\n",
    "import matplotlib.pyplot as plt\n",
    "from matplotlib import rcParams\n",
    "import seaborn as sns"
   ]
  },
  {
   "cell_type": "markdown",
   "metadata": {
    "id": "azmvfEyrI1eg"
   },
   "source": [
    "## Data Loading and Cleaning\n",
    "In this first step we will be loading the data and cleaning it as well "
   ]
  },
  {
   "cell_type": "code",
   "execution_count": null,
   "metadata": {
    "colab": {
     "base_uri": "https://localhost:8080/",
     "height": 392
    },
    "id": "R-M4ccIpI1eg",
    "outputId": "ae6327c5-e741-4082-e5eb-21ee69baf236"
   },
   "outputs": [],
   "source": [
    "df_raw = pd.read_csv('tweets.csv', delimiter=';', skiprows=0, lineterminator='\\n' )"
   ]
  },
  {
   "cell_type": "code",
   "execution_count": 3,
   "metadata": {
    "id": "2uaYF0VnI1ei"
   },
   "outputs": [
    {
     "name": "stdout",
     "output_type": "stream",
     "text": [
      "             id           user             fullname  url  \\\n",
      "0  1.132977e+18   KamdemAbdiel        Abdiel kamdem  NaN   \n",
      "1  1.132977e+18      bitcointe            Bitcointe  NaN   \n",
      "2  1.132977e+18      3eyedbran  Bran - 3 Eyed Raven  NaN   \n",
      "3  1.132977e+18  DetroitCrypto          J. Scardina  NaN   \n",
      "4  1.132977e+18   mmursaleen72   Muhammad Mursaleen  NaN   \n",
      "\n",
      "                timestamp  replies  likes  retweets  \\\n",
      "0  2019-05-27 11:49:14+00        0      0         0   \n",
      "1  2019-05-27 11:49:18+00        0      0         0   \n",
      "2  2019-05-27 11:49:06+00        0      2         1   \n",
      "3  2019-05-27 11:49:22+00        0      0         0   \n",
      "4  2019-05-27 11:49:23+00        0      0         0   \n",
      "\n",
      "                                                text  \n",
      "0  È appena uscito un nuovo video! LES CRYPTOMONN...  \n",
      "1  Cardano: Digitize Currencies; EOS https://t.co...  \n",
      "2  Another Test tweet that wasn't caught in the s...  \n",
      "3  Current Crypto Prices! \\n\\nBTC: $8721.99 USD\\n...  \n",
      "4  Spiv (Nosar Baz): BITCOIN Is An Asset &amp; NO...  \n"
     ]
    }
   ],
   "source": [
    "df_raw.columns = [\"id\", \"user\", \"fullname\", \"url\", \"timestamp\", \"replies\",\"likes\",\"retweets\",\"text\"]\n",
    "print(df_raw.head())"
   ]
  },
  {
   "cell_type": "code",
   "execution_count": 4,
   "metadata": {
    "id": "a_rIolXoI1ei"
   },
   "outputs": [
    {
     "name": "stdout",
     "output_type": "stream",
     "text": [
      "                    id             user             fullname  url  \\\n",
      "8291697   1.150480e+18     AndrewKiguel        Andrew Kiguel  NaN   \n",
      "12600655  1.172777e+18     MrMichaelNye                  Nye  NaN   \n",
      "14825758  1.185992e+18   coolLaTechJobs         Tech Jobs LA  NaN   \n",
      "15583152  1.190200e+18       vochung333             仮想通貨★さゆみ  NaN   \n",
      "8983943   1.153780e+18  DTradingAcademy  Day Trading Academy  NaN   \n",
      "\n",
      "                       timestamp  replies  likes  retweets  \\\n",
      "8291697   2019-07-14 19:00:13+00        0      0         0   \n",
      "12600655  2019-09-14 07:41:41+00        0      0         0   \n",
      "14825758  2019-10-20 18:51:10+00        0      0         0   \n",
      "15583152  2019-11-01 09:31:02+00        0      0         0   \n",
      "8983943   2019-07-23 21:33:21+00        0      0         0   \n",
      "\n",
      "                                                       text  \n",
      "8291697   If you have an optimistic mindset about where ...  \n",
      "12600655  I can’t even remember the last time $BTC had a...  \n",
      "14825758  Insurance Representative - Customer Service Ex...  \n",
      "15583152               BTC唾付け\\n踏み上げは覚悟の上\\n本玉はもうちょい上で仕込みたい\\r  \n",
      "8983943   Cryptocurrency Bitcoin -5.4% at $9,932.00 befo...  \n"
     ]
    }
   ],
   "source": [
    "# We only need the timestamp and the text from the dataset\n",
    "# df = df_raw[['timestamp','text']]\n",
    "df = df_raw\n",
    "print(df.sample(5))"
   ]
  },
  {
   "cell_type": "code",
   "execution_count": 5,
   "metadata": {
    "id": "RiGoWDNHI1ej"
   },
   "outputs": [
    {
     "data": {
      "text/plain": [
       "dtype('O')"
      ]
     },
     "execution_count": 5,
     "metadata": {},
     "output_type": "execute_result"
    }
   ],
   "source": [
    "df.timestamp.dtypes"
   ]
  },
  {
   "cell_type": "code",
   "execution_count": 6,
   "metadata": {
    "id": "cv9c7CW1I1ej"
   },
   "outputs": [
    {
     "name": "stdout",
     "output_type": "stream",
     "text": [
      "Index(['id', 'user', 'fullname', 'url', 'timestamp', 'replies', 'likes',\n",
      "       'retweets', 'text', 'date'],\n",
      "      dtype='object')\n"
     ]
    },
    {
     "data": {
      "text/plain": [
       "0           2019-05-27\n",
       "1           2019-05-27\n",
       "2           2019-05-27\n",
       "3           2019-05-27\n",
       "4           2019-05-27\n",
       "               ...    \n",
       "16889760    2019-11-23\n",
       "16889761    2019-11-23\n",
       "16889762    2019-11-23\n",
       "16889763    2019-11-23\n",
       "16889764    2019-11-23\n",
       "Name: date, Length: 16889765, dtype: object"
      ]
     },
     "execution_count": 6,
     "metadata": {},
     "output_type": "execute_result"
    }
   ],
   "source": [
    "# Transform the dates to a more friendly format (only care about the day)\n",
    "df['date'] = pd.to_datetime(df['timestamp'],format= '%Y-%m-%d').dt.date\n",
    "print(df.columns)\n",
    "df['date']"
   ]
  },
  {
   "cell_type": "code",
   "execution_count": 7,
   "metadata": {
    "id": "w17QY6U4I1ek"
   },
   "outputs": [
    {
     "name": "stdout",
     "output_type": "stream",
     "text": [
      "                      id          user   fullname  url  \\\n",
      "date                                                     \n",
      "2007-04-19  3.286741e+07  chrispychong    chrispy  NaN   \n",
      "2009-01-11  1.110303e+09        halfin     halfin  NaN   \n",
      "2009-01-21  1.136750e+09        halfin     halfin  NaN   \n",
      "2009-01-27  1.153097e+09        halfin     halfin  NaN   \n",
      "2009-01-29  1.158417e+09   fafcffacfff  GoldLover  NaN   \n",
      "\n",
      "                         timestamp  replies  likes  retweets  \\\n",
      "date                                                           \n",
      "2007-04-19  2007-04-19 07:14:38+00        0      0         2   \n",
      "2009-01-11  2009-01-11 03:33:52+00      790  14470      5542   \n",
      "2009-01-21  2009-01-21 17:29:40+00       55   1544       392   \n",
      "2009-01-27  2009-01-27 20:14:10+00       44   1042       277   \n",
      "2009-01-29  2009-01-29 13:37:53+00        0     28        16   \n",
      "\n",
      "                                                         text  \n",
      "date                                                           \n",
      "2007-04-19  is happily mugging at BTC where she will hook ...  \n",
      "2009-01-11                                  Running bitcoin\\r  \n",
      "2009-01-21  Looking at ways to add more anonymity to bitco...  \n",
      "2009-01-27  Thinking about how to reduce CO2 emissions fro...  \n",
      "2009-01-29  From: Satoshi Nakamoto - 2009-01-11 22:32 Bitc...  \n"
     ]
    }
   ],
   "source": [
    "# Sort the dataframe by the date\n",
    "df = df.set_index('date')\n",
    "df = df.sort_values(by='date')\n",
    "print(df.head())"
   ]
  },
  {
   "cell_type": "code",
   "execution_count": 8,
   "metadata": {
    "id": "GzYE94DjI1ek"
   },
   "outputs": [
    {
     "name": "stdout",
     "output_type": "stream",
     "text": [
      "                      id             user          fullname  url  \\\n",
      "date                                                               \n",
      "2019-11-23  1.198116e+18        ScrapeINT  AutomatedReports  NaN   \n",
      "2019-11-23  1.198114e+18       holmesyoyo          あけみ☆仮想通貨  NaN   \n",
      "2019-11-23  1.198114e+18  MasterminingNet     Master Mining  NaN   \n",
      "2019-11-23  1.198114e+18      xrp36636596          エビマヨコロリン  NaN   \n",
      "2019-11-23  1.198266e+18       HaraldoXRP             Harry  NaN   \n",
      "\n",
      "                         timestamp  replies  likes  retweets  \\\n",
      "date                                                           \n",
      "2019-11-23  2019-11-23 05:47:01+00        0      0         0   \n",
      "2019-11-23  2019-11-23 05:40:05+00        0      0         0   \n",
      "2019-11-23  2019-11-23 05:40:05+00        0      0         0   \n",
      "2019-11-23  2019-11-23 05:39:55+00        1      8         3   \n",
      "2019-11-23  2019-11-23 15:45:06+00        0      2         1   \n",
      "\n",
      "                                                         text  \n",
      "date                                                           \n",
      "2019-11-23  Bitcoin:$7231.27732436\\nEthereum:$150.48909214...  \n",
      "2019-11-23  BTC\\n\\nfinexの乖離がまだ異常水域です。\\n\\nペナントの収束タイミングに合わせた...  \n",
      "2019-11-23  #BTC New Hub, we have relaunch our #NEWYORKCOI...  \n",
      "2019-11-23  トランザクション収入がまともにないBitcoinさんのマイナーは単価に依存するからこうなるん...  \n",
      "2019-11-23  $BTC - an update on the longer term view for B...  \n",
      "Index(['id', 'user', 'fullname', 'url', 'timestamp', 'replies', 'likes',\n",
      "       'retweets', 'text'],\n",
      "      dtype='object')\n"
     ]
    }
   ],
   "source": [
    "startdate = pd.to_datetime(\"2017-12-01\").date()\n",
    "df = df.loc[startdate:]\n",
    "print(df.tail())\n",
    "print(df.columns)"
   ]
  },
  {
   "cell_type": "code",
   "execution_count": 9,
   "metadata": {
    "id": "iRPwNCkcI1ek"
   },
   "outputs": [],
   "source": [
    "#pip install whatthelang\n",
    "#!pip install swifter"
   ]
  },
  {
   "cell_type": "code",
   "execution_count": 10,
   "metadata": {
    "id": "H1-D4l0pI1em"
   },
   "outputs": [
    {
     "name": "stdout",
     "output_type": "stream",
     "text": [
      "15549700\n"
     ]
    },
    {
     "name": "stderr",
     "output_type": "stream",
     "text": [
      "/Users/mayankkishore/opt/anaconda3/envs/cs7643/lib/python3.7/site-packages/pandas/core/strings/accessor.py:101: UserWarning: This pattern has match groups. To actually get the groups, use str.extract.\n",
      "  return func(self, *args, **kwargs)\n"
     ]
    },
    {
     "name": "stdout",
     "output_type": "stream",
     "text": [
      "15083594\n"
     ]
    }
   ],
   "source": [
    "from langdetect import detect\n",
    "lang = ''\n",
    "print(len(df['text']))\n",
    "i = 0\n",
    "# df['text'].replace('', np.nan, inplace=True)\n",
    "# df.dropna(subset=['text'], inplace=True)\n",
    "re = '^((https?|ftp|smtp):\\/\\/)?(www.)?[a-z0-9]+\\.[a-z]+(\\/[a-zA-Z0-9#]+\\/?)*$'\n",
    "re = '/https?:\\/\\/w{0,3}\\w*?\\.(\\w*?\\.)?\\w{2,3}\\S*|www\\.(\\w*?\\.)?\\w*?\\.\\w{2,3}\\S*|(\\w*?\\.)?\\w*?\\.\\w{2,3}[\\/\\?]\\S*/'\n",
    "filter = df['text'].str.contains(re)\n",
    "# mask = df['text'].str.match(re)\n",
    "df_new = df[~filter]\n",
    "print(len(df_new['text']))"
   ]
  },
  {
   "cell_type": "code",
   "execution_count": null,
   "metadata": {
    "id": "2HlMfyUgI1em"
   },
   "outputs": [
    {
     "name": "stderr",
     "output_type": "stream",
     "text": [
      "552201it [35:55, 253.29it/s]"
     ]
    }
   ],
   "source": [
    "# import swifter\n",
    "import tqdm\n",
    "from langdetect import detect\n",
    "# df_new['lang'] = df_new['text'].apply(lambda x: detect(x))\n",
    "i = 0\n",
    "df_en = df\n",
    "for index, row in tqdm.tqdm(df_en['text'].iteritems()):\n",
    "  if i % 100 == 0:\n",
    "    try:\n",
    "      lang = detect(row) #detecting each row\n",
    "    except:\n",
    "      lang = 'no'\n",
    "    df_en.loc[index, 'lang'] = lang\n",
    "  i += 1"
   ]
  },
  {
   "cell_type": "code",
   "execution_count": null,
   "metadata": {
    "id": "TD0MHZI9U7zH"
   },
   "outputs": [],
   "source": [
    "print(df_en)"
   ]
  },
  {
   "cell_type": "code",
   "execution_count": null,
   "metadata": {
    "id": "-_sT2a9EcISR"
   },
   "outputs": [],
   "source": [
    "df_en_clean = df_en[df_en[\"lang\"] == 'en']\n",
    "print(df_en_clean)"
   ]
  },
  {
   "cell_type": "code",
   "execution_count": null,
   "metadata": {
    "id": "bmpQVZvhhLKV"
   },
   "outputs": [],
   "source": [
    "# checking for null values, if any\n",
    "df_en_clean.isnull().sum()"
   ]
  },
  {
   "cell_type": "code",
   "execution_count": null,
   "metadata": {
    "id": "NEBmZ4fchRb4"
   },
   "outputs": [],
   "source": [
    "#ditching all row when text is null, as need text for analysis\n",
    "df_en_clean.dropna(how='any', inplace=True)\n",
    "df_en_clean.sample(3)"
   ]
  },
  {
   "cell_type": "code",
   "execution_count": null,
   "metadata": {
    "id": "Cs2ySzeahTu5"
   },
   "outputs": [],
   "source": [
    "df_en_clean.info()"
   ]
  },
  {
   "cell_type": "code",
   "execution_count": null,
   "metadata": {
    "id": "mayTj0NZhXfn"
   },
   "outputs": [],
   "source": [
    "df_en_clean.to_csv('tweets_clean.csv')\n"
   ]
  }
 ],
 "metadata": {
  "colab": {
   "collapsed_sections": [],
   "name": "twitter.ipynb",
   "provenance": [],
   "toc_visible": true
  },
  "kernelspec": {
   "display_name": "Python 3",
   "language": "python",
   "name": "python3"
  },
  "language_info": {
   "codemirror_mode": {
    "name": "ipython",
    "version": 3
   },
   "file_extension": ".py",
   "mimetype": "text/x-python",
   "name": "python",
   "nbconvert_exporter": "python",
   "pygments_lexer": "ipython3",
   "version": "3.7.1"
  }
 },
 "nbformat": 4,
 "nbformat_minor": 4
}
