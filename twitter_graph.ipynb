{
  "cells": [
    {
      "cell_type": "code",
      "metadata": {
        "cell_id": "00000-753d0786-8fbc-48cd-815c-f66a5244a0b0",
        "deepnote_to_be_reexecuted": false,
        "source_hash": "bb3de4c7",
        "execution_millis": 1209,
        "execution_start": 1619476316415,
        "deepnote_cell_type": "code"
      },
      "source": "# !pip3 install networkx\nfrom time import time\nimport pandas as pd\nimport numpy as np\nimport re\nimport sys\nimport csv\nimport networkx as nx\ncsv.field_size_limit(sys.maxsize)\nfrom collections import defaultdict\n\nimport matplotlib.pyplot as plt\nfrom matplotlib import rcParams\nimport seaborn as sns",
      "execution_count": null,
      "outputs": []
    },
    {
      "cell_type": "code",
      "metadata": {
        "cell_id": "00001-581a7741-8f8a-422b-83c2-ab10bc600ee3",
        "deepnote_to_be_reexecuted": false,
        "source_hash": "78db4c2e",
        "execution_millis": 2,
        "execution_start": 1619476317624,
        "deepnote_cell_type": "code"
      },
      "source": "def wordCheck(text):\n    importantwords = [\"BITCOIN\", \"BTC\", \"$\", \"MONEY\", \"UP\", \"DOWN\"]\n    for word in importantwords:\n        if word in text.upper():\n            return True\n    return False",
      "execution_count": null,
      "outputs": []
    },
    {
      "cell_type": "code",
      "metadata": {
        "cell_id": "00002-b91cbaea-84f8-46b8-a9ad-e2aa45958027",
        "deepnote_to_be_reexecuted": false,
        "source_hash": "bb1b9d29",
        "execution_millis": 4656,
        "execution_start": 1619476317628,
        "deepnote_cell_type": "code"
      },
      "source": "df = pd.read_csv('tweets_very_clean1.csv')",
      "execution_count": null,
      "outputs": []
    },
    {
      "cell_type": "code",
      "metadata": {
        "cell_id": "00003-8e06539c-652d-4482-9301-cbdc2f3e1efe",
        "deepnote_to_be_reexecuted": false,
        "source_hash": "95490f6e",
        "execution_millis": 25082,
        "execution_start": 1619476322490,
        "deepnote_cell_type": "code"
      },
      "source": "import collections\nuserandupvotes = collections.defaultdict(int)\nfor index, row in df.iterrows():\n    userandupvotes[row['user']] += row['likes']",
      "execution_count": null,
      "outputs": []
    },
    {
      "cell_type": "code",
      "metadata": {
        "cell_id": "00005-532d414e-ab3b-456f-a597-436462f0f40c",
        "deepnote_to_be_reexecuted": false,
        "source_hash": "2003a01",
        "execution_millis": 95,
        "execution_start": 1619476347617,
        "deepnote_cell_type": "code"
      },
      "source": "G = nx.Graph()\nfor user, like in userandupvotes.items():\n    G.add_node(user, upvotes=like)\nG.nodes[\"cryptolligence\"]",
      "execution_count": null,
      "outputs": [
        {
          "output_type": "execute_result",
          "execution_count": 5,
          "data": {
            "text/plain": "{'upvotes': 3.0}"
          },
          "metadata": {}
        }
      ]
    },
    {
      "cell_type": "code",
      "metadata": {
        "tags": [],
        "cell_id": "00005-ce4fcd42-38ba-4c00-9400-4c4c0755b313",
        "deepnote_to_be_reexecuted": false,
        "source_hash": "c085b6ba",
        "execution_millis": 49,
        "execution_start": 1619476347730,
        "deepnote_cell_type": "code"
      },
      "source": "df.head()",
      "execution_count": null,
      "outputs": [
        {
          "output_type": "execute_result",
          "execution_count": 6,
          "data": {
            "application/vnd.deepnote.dataframe.v2+json": {
              "row_count": 5,
              "column_count": 20,
              "columns": [
                {
                  "name": "Unnamed: 0",
                  "dtype": "int64",
                  "stats": {
                    "unique_count": 5,
                    "nan_count": 0,
                    "min": "0",
                    "max": "4",
                    "histogram": [
                      {
                        "bin_start": 0,
                        "bin_end": 0.4,
                        "count": 1
                      },
                      {
                        "bin_start": 0.4,
                        "bin_end": 0.8,
                        "count": 0
                      },
                      {
                        "bin_start": 0.8,
                        "bin_end": 1.2000000000000002,
                        "count": 1
                      },
                      {
                        "bin_start": 1.2000000000000002,
                        "bin_end": 1.6,
                        "count": 0
                      },
                      {
                        "bin_start": 1.6,
                        "bin_end": 2,
                        "count": 0
                      },
                      {
                        "bin_start": 2,
                        "bin_end": 2.4000000000000004,
                        "count": 1
                      },
                      {
                        "bin_start": 2.4000000000000004,
                        "bin_end": 2.8000000000000003,
                        "count": 0
                      },
                      {
                        "bin_start": 2.8000000000000003,
                        "bin_end": 3.2,
                        "count": 1
                      },
                      {
                        "bin_start": 3.2,
                        "bin_end": 3.6,
                        "count": 0
                      },
                      {
                        "bin_start": 3.6,
                        "bin_end": 4,
                        "count": 1
                      }
                    ]
                  }
                },
                {
                  "name": "index",
                  "dtype": "int64",
                  "stats": {
                    "unique_count": 5,
                    "nan_count": 0,
                    "min": "0",
                    "max": "4",
                    "histogram": [
                      {
                        "bin_start": 0,
                        "bin_end": 0.4,
                        "count": 1
                      },
                      {
                        "bin_start": 0.4,
                        "bin_end": 0.8,
                        "count": 0
                      },
                      {
                        "bin_start": 0.8,
                        "bin_end": 1.2000000000000002,
                        "count": 1
                      },
                      {
                        "bin_start": 1.2000000000000002,
                        "bin_end": 1.6,
                        "count": 0
                      },
                      {
                        "bin_start": 1.6,
                        "bin_end": 2,
                        "count": 0
                      },
                      {
                        "bin_start": 2,
                        "bin_end": 2.4000000000000004,
                        "count": 1
                      },
                      {
                        "bin_start": 2.4000000000000004,
                        "bin_end": 2.8000000000000003,
                        "count": 0
                      },
                      {
                        "bin_start": 2.8000000000000003,
                        "bin_end": 3.2,
                        "count": 1
                      },
                      {
                        "bin_start": 3.2,
                        "bin_end": 3.6,
                        "count": 0
                      },
                      {
                        "bin_start": 3.6,
                        "bin_end": 4,
                        "count": 1
                      }
                    ]
                  }
                },
                {
                  "name": "date",
                  "dtype": "object",
                  "stats": {
                    "unique_count": 1,
                    "nan_count": 0,
                    "categories": [
                      {
                        "name": "2017-12-05",
                        "count": 5
                      }
                    ]
                  }
                },
                {
                  "name": "id",
                  "dtype": "float64",
                  "stats": {
                    "unique_count": 5,
                    "nan_count": 0,
                    "min": "9.379496831958508e+17",
                    "max": "9.379547630602732e+17",
                    "histogram": [
                      {
                        "bin_start": 937949683195850800,
                        "bin_end": 937950191182293000,
                        "count": 2
                      },
                      {
                        "bin_start": 937950191182293000,
                        "bin_end": 937950699168735200,
                        "count": 0
                      },
                      {
                        "bin_start": 937950699168735200,
                        "bin_end": 937951207155177500,
                        "count": 0
                      },
                      {
                        "bin_start": 937951207155177500,
                        "bin_end": 937951715141619700,
                        "count": 0
                      },
                      {
                        "bin_start": 937951715141619700,
                        "bin_end": 937952223128062000,
                        "count": 0
                      },
                      {
                        "bin_start": 937952223128062000,
                        "bin_end": 937952731114504200,
                        "count": 0
                      },
                      {
                        "bin_start": 937952731114504200,
                        "bin_end": 937953239100946400,
                        "count": 0
                      },
                      {
                        "bin_start": 937953239100946400,
                        "bin_end": 937953747087388700,
                        "count": 1
                      },
                      {
                        "bin_start": 937953747087388700,
                        "bin_end": 937954255073830900,
                        "count": 0
                      },
                      {
                        "bin_start": 937954255073830900,
                        "bin_end": 937954763060273200,
                        "count": 2
                      }
                    ]
                  }
                },
                {
                  "name": "user",
                  "dtype": "object",
                  "stats": {
                    "unique_count": 4,
                    "nan_count": 0,
                    "categories": [
                      {
                        "name": "cryptolligence",
                        "count": 2
                      },
                      {
                        "name": "BisqArviraj",
                        "count": 1
                      },
                      {
                        "name": "2 others",
                        "count": 2
                      }
                    ]
                  }
                },
                {
                  "name": "fullname",
                  "dtype": "object",
                  "stats": {
                    "unique_count": 4,
                    "nan_count": 0,
                    "categories": [
                      {
                        "name": "Cryptolligence",
                        "count": 2
                      },
                      {
                        "name": "Ar Viraj",
                        "count": 1
                      },
                      {
                        "name": "2 others",
                        "count": 2
                      }
                    ]
                  }
                },
                {
                  "name": "url",
                  "dtype": "object",
                  "stats": {
                    "unique_count": 2,
                    "nan_count": 0,
                    "categories": [
                      {
                        "name": " ",
                        "count": 4
                      },
                      {
                        "name": "http://t.me/TNFXtrading",
                        "count": 1
                      }
                    ]
                  }
                },
                {
                  "name": "timestamp",
                  "dtype": "object",
                  "stats": {
                    "unique_count": 5,
                    "nan_count": 0,
                    "categories": [
                      {
                        "name": "2017-12-05 07:00:16+00",
                        "count": 1
                      },
                      {
                        "name": "2017-12-05 06:40:05+00",
                        "count": 1
                      },
                      {
                        "name": "3 others",
                        "count": 3
                      }
                    ]
                  }
                },
                {
                  "name": "replies",
                  "dtype": "float64",
                  "stats": {
                    "unique_count": 1,
                    "nan_count": 0,
                    "min": "0.0",
                    "max": "0.0",
                    "histogram": [
                      {
                        "bin_start": -0.5,
                        "bin_end": -0.4,
                        "count": 0
                      },
                      {
                        "bin_start": -0.4,
                        "bin_end": -0.3,
                        "count": 0
                      },
                      {
                        "bin_start": -0.3,
                        "bin_end": -0.19999999999999996,
                        "count": 0
                      },
                      {
                        "bin_start": -0.19999999999999996,
                        "bin_end": -0.09999999999999998,
                        "count": 0
                      },
                      {
                        "bin_start": -0.09999999999999998,
                        "bin_end": 0,
                        "count": 0
                      },
                      {
                        "bin_start": 0,
                        "bin_end": 0.10000000000000009,
                        "count": 5
                      },
                      {
                        "bin_start": 0.10000000000000009,
                        "bin_end": 0.20000000000000007,
                        "count": 0
                      },
                      {
                        "bin_start": 0.20000000000000007,
                        "bin_end": 0.30000000000000004,
                        "count": 0
                      },
                      {
                        "bin_start": 0.30000000000000004,
                        "bin_end": 0.4,
                        "count": 0
                      },
                      {
                        "bin_start": 0.4,
                        "bin_end": 0.5,
                        "count": 0
                      }
                    ]
                  }
                },
                {
                  "name": "likes",
                  "dtype": "float64",
                  "stats": {
                    "unique_count": 1,
                    "nan_count": 0,
                    "min": "0.0",
                    "max": "0.0",
                    "histogram": [
                      {
                        "bin_start": -0.5,
                        "bin_end": -0.4,
                        "count": 0
                      },
                      {
                        "bin_start": -0.4,
                        "bin_end": -0.3,
                        "count": 0
                      },
                      {
                        "bin_start": -0.3,
                        "bin_end": -0.19999999999999996,
                        "count": 0
                      },
                      {
                        "bin_start": -0.19999999999999996,
                        "bin_end": -0.09999999999999998,
                        "count": 0
                      },
                      {
                        "bin_start": -0.09999999999999998,
                        "bin_end": 0,
                        "count": 0
                      },
                      {
                        "bin_start": 0,
                        "bin_end": 0.10000000000000009,
                        "count": 5
                      },
                      {
                        "bin_start": 0.10000000000000009,
                        "bin_end": 0.20000000000000007,
                        "count": 0
                      },
                      {
                        "bin_start": 0.20000000000000007,
                        "bin_end": 0.30000000000000004,
                        "count": 0
                      },
                      {
                        "bin_start": 0.30000000000000004,
                        "bin_end": 0.4,
                        "count": 0
                      },
                      {
                        "bin_start": 0.4,
                        "bin_end": 0.5,
                        "count": 0
                      }
                    ]
                  }
                },
                {
                  "name": "retweets",
                  "dtype": "float64",
                  "stats": {
                    "unique_count": 2,
                    "nan_count": 0,
                    "min": "0.0",
                    "max": "1.0",
                    "histogram": [
                      {
                        "bin_start": 0,
                        "bin_end": 0.1,
                        "count": 4
                      },
                      {
                        "bin_start": 0.1,
                        "bin_end": 0.2,
                        "count": 0
                      },
                      {
                        "bin_start": 0.2,
                        "bin_end": 0.30000000000000004,
                        "count": 0
                      },
                      {
                        "bin_start": 0.30000000000000004,
                        "bin_end": 0.4,
                        "count": 0
                      },
                      {
                        "bin_start": 0.4,
                        "bin_end": 0.5,
                        "count": 0
                      },
                      {
                        "bin_start": 0.5,
                        "bin_end": 0.6000000000000001,
                        "count": 0
                      },
                      {
                        "bin_start": 0.6000000000000001,
                        "bin_end": 0.7000000000000001,
                        "count": 0
                      },
                      {
                        "bin_start": 0.7000000000000001,
                        "bin_end": 0.8,
                        "count": 0
                      },
                      {
                        "bin_start": 0.8,
                        "bin_end": 0.9,
                        "count": 0
                      },
                      {
                        "bin_start": 0.9,
                        "bin_end": 1,
                        "count": 1
                      }
                    ]
                  }
                },
                {
                  "name": "text",
                  "dtype": "object",
                  "stats": {
                    "unique_count": 5,
                    "nan_count": 0,
                    "categories": [
                      {
                        "name": "SELL\nPayment method: SEPA\nOffer ID: 90196354\nAmount: 0.1 BTC\nPrice for 1: 10000.00 EUR\nMaximum: 1000.00 EUR\nDistance: 0.45%\n",
                        "count": 1
                      },
                      {
                        "name": " Buy!  (11:40:05 pm PDT)\nPrice: 11720.00 (+/- 0.5)\nClose: 11724.49 (+/- 0.5)\nStop: 11717.00 (+/- 0.5)\n#gdax #coinbase #btc #trading #bitcoin\n",
                        "count": 1
                      },
                      {
                        "name": "3 others",
                        "count": 3
                      }
                    ]
                  }
                },
                {
                  "name": "lang",
                  "dtype": "object",
                  "stats": {
                    "unique_count": 1,
                    "nan_count": 0,
                    "categories": [
                      {
                        "name": "en",
                        "count": 5
                      }
                    ]
                  }
                },
                {
                  "name": "year",
                  "dtype": "int64",
                  "stats": {
                    "unique_count": 1,
                    "nan_count": 0,
                    "min": "2017",
                    "max": "2017",
                    "histogram": [
                      {
                        "bin_start": 2016.5,
                        "bin_end": 2016.6,
                        "count": 0
                      },
                      {
                        "bin_start": 2016.6,
                        "bin_end": 2016.7,
                        "count": 0
                      },
                      {
                        "bin_start": 2016.7,
                        "bin_end": 2016.8,
                        "count": 0
                      },
                      {
                        "bin_start": 2016.8,
                        "bin_end": 2016.9,
                        "count": 0
                      },
                      {
                        "bin_start": 2016.9,
                        "bin_end": 2017,
                        "count": 0
                      },
                      {
                        "bin_start": 2017,
                        "bin_end": 2017.1,
                        "count": 5
                      },
                      {
                        "bin_start": 2017.1,
                        "bin_end": 2017.2,
                        "count": 0
                      },
                      {
                        "bin_start": 2017.2,
                        "bin_end": 2017.3,
                        "count": 0
                      },
                      {
                        "bin_start": 2017.3,
                        "bin_end": 2017.4,
                        "count": 0
                      },
                      {
                        "bin_start": 2017.4,
                        "bin_end": 2017.5,
                        "count": 0
                      }
                    ]
                  }
                },
                {
                  "name": "month",
                  "dtype": "int64",
                  "stats": {
                    "unique_count": 1,
                    "nan_count": 0,
                    "min": "12",
                    "max": "12",
                    "histogram": [
                      {
                        "bin_start": 11.5,
                        "bin_end": 11.6,
                        "count": 0
                      },
                      {
                        "bin_start": 11.6,
                        "bin_end": 11.7,
                        "count": 0
                      },
                      {
                        "bin_start": 11.7,
                        "bin_end": 11.8,
                        "count": 0
                      },
                      {
                        "bin_start": 11.8,
                        "bin_end": 11.9,
                        "count": 0
                      },
                      {
                        "bin_start": 11.9,
                        "bin_end": 12,
                        "count": 0
                      },
                      {
                        "bin_start": 12,
                        "bin_end": 12.1,
                        "count": 5
                      },
                      {
                        "bin_start": 12.1,
                        "bin_end": 12.2,
                        "count": 0
                      },
                      {
                        "bin_start": 12.2,
                        "bin_end": 12.3,
                        "count": 0
                      },
                      {
                        "bin_start": 12.3,
                        "bin_end": 12.4,
                        "count": 0
                      },
                      {
                        "bin_start": 12.4,
                        "bin_end": 12.5,
                        "count": 0
                      }
                    ]
                  }
                },
                {
                  "name": "day",
                  "dtype": "int64",
                  "stats": {
                    "unique_count": 1,
                    "nan_count": 0,
                    "min": "5",
                    "max": "5",
                    "histogram": [
                      {
                        "bin_start": 4.5,
                        "bin_end": 4.6,
                        "count": 0
                      },
                      {
                        "bin_start": 4.6,
                        "bin_end": 4.7,
                        "count": 0
                      },
                      {
                        "bin_start": 4.7,
                        "bin_end": 4.8,
                        "count": 0
                      },
                      {
                        "bin_start": 4.8,
                        "bin_end": 4.9,
                        "count": 0
                      },
                      {
                        "bin_start": 4.9,
                        "bin_end": 5,
                        "count": 0
                      },
                      {
                        "bin_start": 5,
                        "bin_end": 5.1,
                        "count": 5
                      },
                      {
                        "bin_start": 5.1,
                        "bin_end": 5.2,
                        "count": 0
                      },
                      {
                        "bin_start": 5.2,
                        "bin_end": 5.3,
                        "count": 0
                      },
                      {
                        "bin_start": 5.3,
                        "bin_end": 5.4,
                        "count": 0
                      },
                      {
                        "bin_start": 5.4,
                        "bin_end": 5.5,
                        "count": 0
                      }
                    ]
                  }
                },
                {
                  "name": "text1",
                  "dtype": "object",
                  "stats": {
                    "unique_count": 5,
                    "nan_count": 0,
                    "categories": [
                      {
                        "name": "SELL\nPayment method: SEPA\nOffer ID: 90196354\nAmount: 0.1 BTC\nPrice for 1: 10000.00 EUR\nMaximum: 1000.00 EUR\nDistance: 0.45%\n",
                        "count": 1
                      },
                      {
                        "name": " Buy!  (11:40:05 pm PDT)\nPrice: 11720.00 (+/- 0.5)\nClose: 11724.49 (+/- 0.5)\nStop: 11717.00 (+/- 0.5)\n#gdax #coinbase #btc #trading #bitcoin\n",
                        "count": 1
                      },
                      {
                        "name": "3 others",
                        "count": 3
                      }
                    ]
                  }
                },
                {
                  "name": "tags",
                  "dtype": "object",
                  "stats": {
                    "unique_count": 4,
                    "nan_count": 0,
                    "categories": [
                      {
                        "name": "coinbase gdax btc bitcoin trading",
                        "count": 2
                      },
                      {
                        "name": " ",
                        "count": 1
                      },
                      {
                        "name": "2 others",
                        "count": 2
                      }
                    ]
                  }
                },
                {
                  "name": "promote",
                  "dtype": "object",
                  "stats": {
                    "unique_count": 1,
                    "nan_count": 0,
                    "categories": [
                      {
                        "name": " ",
                        "count": 5
                      }
                    ]
                  }
                },
                {
                  "name": "clean",
                  "dtype": "object",
                  "stats": {
                    "unique_count": 4,
                    "nan_count": 0,
                    "categories": [
                      {
                        "name": "buy pm pdt price close stop gdax coinbase btc trading bitcoin",
                        "count": 2
                      },
                      {
                        "name": "sell payment method sepa offer id amount btc price eur maximum eur distance",
                        "count": 1
                      },
                      {
                        "name": "2 others",
                        "count": 2
                      }
                    ]
                  }
                },
                {
                  "name": "_deepnote_index_column",
                  "dtype": "int64"
                }
              ],
              "rows_top": [
                {
                  "Unnamed: 0": 0,
                  "index": 0,
                  "date": "2017-12-05",
                  "id": 937954763060273200,
                  "user": "BisqArviraj",
                  "fullname": "Ar Viraj",
                  "url": " ",
                  "timestamp": "2017-12-05 07:00:16+00",
                  "replies": 0,
                  "likes": 0,
                  "retweets": 0,
                  "text": "SELL\nPayment method: SEPA\nOffer ID: 90196354\nAmount: 0.1 BTC\nPrice for 1: 10000.00 EUR\nMaximum: 1000.00 EUR\nDistance: 0.45%\n",
                  "lang": "en",
                  "year": 2017,
                  "month": 12,
                  "day": 5,
                  "text1": "SELL\nPayment method: SEPA\nOffer ID: 90196354\nAmount: 0.1 BTC\nPrice for 1: 10000.00 EUR\nMaximum: 1000.00 EUR\nDistance: 0.45%\n",
                  "tags": " ",
                  "promote": " ",
                  "clean": "sell payment method sepa offer id amount btc price eur maximum eur distance",
                  "_deepnote_index_column": 0
                },
                {
                  "Unnamed: 0": 1,
                  "index": 1,
                  "date": "2017-12-05",
                  "id": 937949683195850800,
                  "user": "cryptolligence",
                  "fullname": "Cryptolligence",
                  "url": " ",
                  "timestamp": "2017-12-05 06:40:05+00",
                  "replies": 0,
                  "likes": 0,
                  "retweets": 0,
                  "text": " Buy!  (11:40:05 pm PDT)\nPrice: 11720.00 (+/- 0.5)\nClose: 11724.49 (+/- 0.5)\nStop: 11717.00 (+/- 0.5)\n#gdax #coinbase #btc #trading #bitcoin\n",
                  "lang": "en",
                  "year": 2017,
                  "month": 12,
                  "day": 5,
                  "text1": " Buy!  (11:40:05 pm PDT)\nPrice: 11720.00 (+/- 0.5)\nClose: 11724.49 (+/- 0.5)\nStop: 11717.00 (+/- 0.5)\n#gdax #coinbase #btc #trading #bitcoin\n",
                  "tags": "coinbase gdax btc bitcoin trading",
                  "promote": " ",
                  "clean": "buy pm pdt price close stop gdax coinbase btc trading bitcoin",
                  "_deepnote_index_column": 1
                },
                {
                  "Unnamed: 0": 2,
                  "index": 2,
                  "date": "2017-12-05",
                  "id": 937949704263843800,
                  "user": "cryptolligence",
                  "fullname": "Cryptolligence",
                  "url": " ",
                  "timestamp": "2017-12-05 06:40:10+00",
                  "replies": 0,
                  "likes": 0,
                  "retweets": 0,
                  "text": " Buy!  (11:40:10 pm PDT)\nPrice: 11721.00 (+/- 0.5)\nClose: 11725.71 (+/- 0.5)\nStop: 11718.00 (+/- 0.5)\n#gdax #coinbase #btc #trading #bitcoin\n",
                  "lang": "en",
                  "year": 2017,
                  "month": 12,
                  "day": 5,
                  "text1": " Buy!  (11:40:10 pm PDT)\nPrice: 11721.00 (+/- 0.5)\nClose: 11725.71 (+/- 0.5)\nStop: 11718.00 (+/- 0.5)\n#gdax #coinbase #btc #trading #bitcoin\n",
                  "tags": "coinbase gdax btc bitcoin trading",
                  "promote": " ",
                  "clean": "buy pm pdt price close stop gdax coinbase btc trading bitcoin",
                  "_deepnote_index_column": 2
                },
                {
                  "Unnamed: 0": 3,
                  "index": 3,
                  "date": "2017-12-05",
                  "id": 937954701324070800,
                  "user": "coinstats",
                  "fullname": "Coinstats",
                  "url": " ",
                  "timestamp": "2017-12-05 07:00:01+00",
                  "replies": 0,
                  "likes": 0,
                  "retweets": 1,
                  "text": "Bitcoin - BTC\nPrice: $11,861.80\nChange in 1h: +1.3%\nMarket cap: $198,341,893,232.00\nRanking: 1\n#Bitcoin #BTC\n",
                  "lang": "en",
                  "year": 2017,
                  "month": 12,
                  "day": 5,
                  "text1": "Bitcoin - BTC\nPrice: $11,861.80\nChange in 1h: +1.3%\nMarket cap: $198,341,893,232.00\nRanking: 1\n#Bitcoin #BTC\n",
                  "tags": "Bitcoin BTC",
                  "promote": " ",
                  "clean": "bitcoin btc price change h market cap ranking bitcoin btc",
                  "_deepnote_index_column": 3
                },
                {
                  "Unnamed: 0": 4,
                  "index": 4,
                  "date": "2017-12-05",
                  "id": 937953596976566400,
                  "user": "TNFXtrading",
                  "fullname": "TNFX Trading",
                  "url": "http://t.me/TNFXtrading",
                  "timestamp": "2017-12-05 06:55:38+00",
                  "replies": 0,
                  "likes": 0,
                  "retweets": 0,
                  "text": "تنحصر تداولات سعر بتكوين الأخيرة داخل نموذج علم مثلثي صاعد وبالتالي، يحتاج السعر لاختراق مستوى 11660.00 لتفعيل التأثير الإيجابي لهذا النموذج ومن ثم الاندفاع لمواصلة تحقيق المكاسب\nhttp://t.me/TNFXtrading \n#BTCUSD #BTC #USDpic.twitter.com/oh8SKBx4DE\n",
                  "lang": "en",
                  "year": 2017,
                  "month": 12,
                  "day": 5,
                  "text1": "تنحصر تداولات سعر بتكوين الأخيرة داخل نموذج علم مثلثي صاعد وبالتالي، يحتاج السعر لاختراق مستوى 11660.00 لتفعيل التأثير الإيجابي لهذا النموذج ومن ثم الاندفاع لمواصلة تحقيق المكاسب\nhttp://t.me/TNFXtrading \n#BTCUSD #BTC #USDpic.twitter.com/oh8SKBx4DE\n",
                  "tags": "USDpic.twitter.com/oh8SKBx4DE BTC BTCUSD",
                  "promote": " ",
                  "clean": "تنحصر تداولات سعر بتكوين الأخيرة داخل نموذج علم مثلثي صاعد وبالتالي ، يحتاج السعر لاختراق مستوى لتفعيل التأثير الإيجابي لهذا النموذج ومن ثم الاندفاع لمواصلة تحقيق المكاسب btcusd btc usdpic twitter com ohskbxde",
                  "_deepnote_index_column": 4
                }
              ],
              "rows_bottom": null
            },
            "text/plain": "   Unnamed: 0  index        date            id            user  \\\n0           0      0  2017-12-05  9.379548e+17     BisqArviraj   \n1           1      1  2017-12-05  9.379497e+17  cryptolligence   \n2           2      2  2017-12-05  9.379497e+17  cryptolligence   \n3           3      3  2017-12-05  9.379547e+17       coinstats   \n4           4      4  2017-12-05  9.379536e+17     TNFXtrading   \n\n         fullname                      url               timestamp  replies  \\\n0        Ar Viraj                           2017-12-05 07:00:16+00      0.0   \n1  Cryptolligence                           2017-12-05 06:40:05+00      0.0   \n2  Cryptolligence                           2017-12-05 06:40:10+00      0.0   \n3       Coinstats                           2017-12-05 07:00:01+00      0.0   \n4    TNFX Trading  http://t.me/TNFXtrading  2017-12-05 06:55:38+00      0.0   \n\n   likes  retweets                                               text lang  \\\n0    0.0       0.0  SELL\\nPayment method: SEPA\\nOffer ID: 90196354...   en   \n1    0.0       0.0   Buy!  (11:40:05 pm PDT)\\nPrice: 11720.00 (+/-...   en   \n2    0.0       0.0   Buy!  (11:40:10 pm PDT)\\nPrice: 11721.00 (+/-...   en   \n3    0.0       1.0  Bitcoin - BTC\\nPrice: $11,861.80\\nChange in 1h...   en   \n4    0.0       0.0  تنحصر تداولات سعر بتكوين الأخيرة داخل نموذج عل...   en   \n\n   year  month  day                                              text1  \\\n0  2017     12    5  SELL\\nPayment method: SEPA\\nOffer ID: 90196354...   \n1  2017     12    5   Buy!  (11:40:05 pm PDT)\\nPrice: 11720.00 (+/-...   \n2  2017     12    5   Buy!  (11:40:10 pm PDT)\\nPrice: 11721.00 (+/-...   \n3  2017     12    5  Bitcoin - BTC\\nPrice: $11,861.80\\nChange in 1h...   \n4  2017     12    5  تنحصر تداولات سعر بتكوين الأخيرة داخل نموذج عل...   \n\n                                       tags promote  \\\n0                                                     \n1         coinbase gdax btc bitcoin trading           \n2         coinbase gdax btc bitcoin trading           \n3                               Bitcoin BTC           \n4  USDpic.twitter.com/oh8SKBx4DE BTC BTCUSD           \n\n                                               clean  \n0  sell payment method sepa offer id amount btc p...  \n1  buy pm pdt price close stop gdax coinbase btc ...  \n2  buy pm pdt price close stop gdax coinbase btc ...  \n3  bitcoin btc price change h market cap ranking ...  \n4  تنحصر تداولات سعر بتكوين الأخيرة داخل نموذج عل...  ",
            "text/html": "<div>\n<style scoped>\n    .dataframe tbody tr th:only-of-type {\n        vertical-align: middle;\n    }\n\n    .dataframe tbody tr th {\n        vertical-align: top;\n    }\n\n    .dataframe thead th {\n        text-align: right;\n    }\n</style>\n<table border=\"1\" class=\"dataframe\">\n  <thead>\n    <tr style=\"text-align: right;\">\n      <th></th>\n      <th>Unnamed: 0</th>\n      <th>index</th>\n      <th>date</th>\n      <th>id</th>\n      <th>user</th>\n      <th>fullname</th>\n      <th>url</th>\n      <th>timestamp</th>\n      <th>replies</th>\n      <th>likes</th>\n      <th>retweets</th>\n      <th>text</th>\n      <th>lang</th>\n      <th>year</th>\n      <th>month</th>\n      <th>day</th>\n      <th>text1</th>\n      <th>tags</th>\n      <th>promote</th>\n      <th>clean</th>\n    </tr>\n  </thead>\n  <tbody>\n    <tr>\n      <th>0</th>\n      <td>0</td>\n      <td>0</td>\n      <td>2017-12-05</td>\n      <td>9.379548e+17</td>\n      <td>BisqArviraj</td>\n      <td>Ar Viraj</td>\n      <td></td>\n      <td>2017-12-05 07:00:16+00</td>\n      <td>0.0</td>\n      <td>0.0</td>\n      <td>0.0</td>\n      <td>SELL\\nPayment method: SEPA\\nOffer ID: 90196354...</td>\n      <td>en</td>\n      <td>2017</td>\n      <td>12</td>\n      <td>5</td>\n      <td>SELL\\nPayment method: SEPA\\nOffer ID: 90196354...</td>\n      <td></td>\n      <td></td>\n      <td>sell payment method sepa offer id amount btc p...</td>\n    </tr>\n    <tr>\n      <th>1</th>\n      <td>1</td>\n      <td>1</td>\n      <td>2017-12-05</td>\n      <td>9.379497e+17</td>\n      <td>cryptolligence</td>\n      <td>Cryptolligence</td>\n      <td></td>\n      <td>2017-12-05 06:40:05+00</td>\n      <td>0.0</td>\n      <td>0.0</td>\n      <td>0.0</td>\n      <td>Buy!  (11:40:05 pm PDT)\\nPrice: 11720.00 (+/-...</td>\n      <td>en</td>\n      <td>2017</td>\n      <td>12</td>\n      <td>5</td>\n      <td>Buy!  (11:40:05 pm PDT)\\nPrice: 11720.00 (+/-...</td>\n      <td>coinbase gdax btc bitcoin trading</td>\n      <td></td>\n      <td>buy pm pdt price close stop gdax coinbase btc ...</td>\n    </tr>\n    <tr>\n      <th>2</th>\n      <td>2</td>\n      <td>2</td>\n      <td>2017-12-05</td>\n      <td>9.379497e+17</td>\n      <td>cryptolligence</td>\n      <td>Cryptolligence</td>\n      <td></td>\n      <td>2017-12-05 06:40:10+00</td>\n      <td>0.0</td>\n      <td>0.0</td>\n      <td>0.0</td>\n      <td>Buy!  (11:40:10 pm PDT)\\nPrice: 11721.00 (+/-...</td>\n      <td>en</td>\n      <td>2017</td>\n      <td>12</td>\n      <td>5</td>\n      <td>Buy!  (11:40:10 pm PDT)\\nPrice: 11721.00 (+/-...</td>\n      <td>coinbase gdax btc bitcoin trading</td>\n      <td></td>\n      <td>buy pm pdt price close stop gdax coinbase btc ...</td>\n    </tr>\n    <tr>\n      <th>3</th>\n      <td>3</td>\n      <td>3</td>\n      <td>2017-12-05</td>\n      <td>9.379547e+17</td>\n      <td>coinstats</td>\n      <td>Coinstats</td>\n      <td></td>\n      <td>2017-12-05 07:00:01+00</td>\n      <td>0.0</td>\n      <td>0.0</td>\n      <td>1.0</td>\n      <td>Bitcoin - BTC\\nPrice: $11,861.80\\nChange in 1h...</td>\n      <td>en</td>\n      <td>2017</td>\n      <td>12</td>\n      <td>5</td>\n      <td>Bitcoin - BTC\\nPrice: $11,861.80\\nChange in 1h...</td>\n      <td>Bitcoin BTC</td>\n      <td></td>\n      <td>bitcoin btc price change h market cap ranking ...</td>\n    </tr>\n    <tr>\n      <th>4</th>\n      <td>4</td>\n      <td>4</td>\n      <td>2017-12-05</td>\n      <td>9.379536e+17</td>\n      <td>TNFXtrading</td>\n      <td>TNFX Trading</td>\n      <td>http://t.me/TNFXtrading</td>\n      <td>2017-12-05 06:55:38+00</td>\n      <td>0.0</td>\n      <td>0.0</td>\n      <td>0.0</td>\n      <td>تنحصر تداولات سعر بتكوين الأخيرة داخل نموذج عل...</td>\n      <td>en</td>\n      <td>2017</td>\n      <td>12</td>\n      <td>5</td>\n      <td>تنحصر تداولات سعر بتكوين الأخيرة داخل نموذج عل...</td>\n      <td>USDpic.twitter.com/oh8SKBx4DE BTC BTCUSD</td>\n      <td></td>\n      <td>تنحصر تداولات سعر بتكوين الأخيرة داخل نموذج عل...</td>\n    </tr>\n  </tbody>\n</table>\n</div>"
          },
          "metadata": {}
        }
      ]
    },
    {
      "cell_type": "code",
      "metadata": {
        "cell_id": "00006-e610ce72-d01d-47fe-81c3-993d64579ccf",
        "deepnote_to_be_reexecuted": false,
        "source_hash": "d8e23029",
        "execution_millis": 25,
        "execution_start": 1619476347769,
        "deepnote_cell_type": "code"
      },
      "source": "print(len(pd.unique(df['id'])))\nprint(len(df['id']))",
      "execution_count": null,
      "outputs": [
        {
          "name": "stdout",
          "text": "332450\n332461\n",
          "output_type": "stream"
        }
      ]
    },
    {
      "cell_type": "code",
      "metadata": {
        "cell_id": "00007-a10d68d1-a8d6-4924-b9c0-e9ed1ffde66e",
        "deepnote_to_be_reexecuted": false,
        "source_hash": "83ebaee6",
        "execution_millis": 2269,
        "execution_start": 1619476347792,
        "deepnote_cell_type": "code"
      },
      "source": "print(type(df[\"tags\"][1]))\ndf[\"clean_hashtags\"] = df[\"tags\"].apply(lambda x: [t.lower() for t in str(x).split(\" \") if bool(re.match('^[a-zA-Z0-9]+$', t))])\ndf.head(5)",
      "execution_count": null,
      "outputs": [
        {
          "name": "stdout",
          "text": "<class 'str'>\n",
          "output_type": "stream"
        },
        {
          "output_type": "execute_result",
          "execution_count": 8,
          "data": {
            "application/vnd.deepnote.dataframe.v2+json": {
              "row_count": 5,
              "column_count": 21,
              "columns": [
                {
                  "name": "Unnamed: 0",
                  "dtype": "int64",
                  "stats": {
                    "unique_count": 5,
                    "nan_count": 0,
                    "min": "0",
                    "max": "4",
                    "histogram": [
                      {
                        "bin_start": 0,
                        "bin_end": 0.4,
                        "count": 1
                      },
                      {
                        "bin_start": 0.4,
                        "bin_end": 0.8,
                        "count": 0
                      },
                      {
                        "bin_start": 0.8,
                        "bin_end": 1.2000000000000002,
                        "count": 1
                      },
                      {
                        "bin_start": 1.2000000000000002,
                        "bin_end": 1.6,
                        "count": 0
                      },
                      {
                        "bin_start": 1.6,
                        "bin_end": 2,
                        "count": 0
                      },
                      {
                        "bin_start": 2,
                        "bin_end": 2.4000000000000004,
                        "count": 1
                      },
                      {
                        "bin_start": 2.4000000000000004,
                        "bin_end": 2.8000000000000003,
                        "count": 0
                      },
                      {
                        "bin_start": 2.8000000000000003,
                        "bin_end": 3.2,
                        "count": 1
                      },
                      {
                        "bin_start": 3.2,
                        "bin_end": 3.6,
                        "count": 0
                      },
                      {
                        "bin_start": 3.6,
                        "bin_end": 4,
                        "count": 1
                      }
                    ]
                  }
                },
                {
                  "name": "index",
                  "dtype": "int64",
                  "stats": {
                    "unique_count": 5,
                    "nan_count": 0,
                    "min": "0",
                    "max": "4",
                    "histogram": [
                      {
                        "bin_start": 0,
                        "bin_end": 0.4,
                        "count": 1
                      },
                      {
                        "bin_start": 0.4,
                        "bin_end": 0.8,
                        "count": 0
                      },
                      {
                        "bin_start": 0.8,
                        "bin_end": 1.2000000000000002,
                        "count": 1
                      },
                      {
                        "bin_start": 1.2000000000000002,
                        "bin_end": 1.6,
                        "count": 0
                      },
                      {
                        "bin_start": 1.6,
                        "bin_end": 2,
                        "count": 0
                      },
                      {
                        "bin_start": 2,
                        "bin_end": 2.4000000000000004,
                        "count": 1
                      },
                      {
                        "bin_start": 2.4000000000000004,
                        "bin_end": 2.8000000000000003,
                        "count": 0
                      },
                      {
                        "bin_start": 2.8000000000000003,
                        "bin_end": 3.2,
                        "count": 1
                      },
                      {
                        "bin_start": 3.2,
                        "bin_end": 3.6,
                        "count": 0
                      },
                      {
                        "bin_start": 3.6,
                        "bin_end": 4,
                        "count": 1
                      }
                    ]
                  }
                },
                {
                  "name": "date",
                  "dtype": "object",
                  "stats": {
                    "unique_count": 1,
                    "nan_count": 0,
                    "categories": [
                      {
                        "name": "2017-12-05",
                        "count": 5
                      }
                    ]
                  }
                },
                {
                  "name": "id",
                  "dtype": "float64",
                  "stats": {
                    "unique_count": 5,
                    "nan_count": 0,
                    "min": "9.379496831958508e+17",
                    "max": "9.379547630602732e+17",
                    "histogram": [
                      {
                        "bin_start": 937949683195850800,
                        "bin_end": 937950191182293000,
                        "count": 2
                      },
                      {
                        "bin_start": 937950191182293000,
                        "bin_end": 937950699168735200,
                        "count": 0
                      },
                      {
                        "bin_start": 937950699168735200,
                        "bin_end": 937951207155177500,
                        "count": 0
                      },
                      {
                        "bin_start": 937951207155177500,
                        "bin_end": 937951715141619700,
                        "count": 0
                      },
                      {
                        "bin_start": 937951715141619700,
                        "bin_end": 937952223128062000,
                        "count": 0
                      },
                      {
                        "bin_start": 937952223128062000,
                        "bin_end": 937952731114504200,
                        "count": 0
                      },
                      {
                        "bin_start": 937952731114504200,
                        "bin_end": 937953239100946400,
                        "count": 0
                      },
                      {
                        "bin_start": 937953239100946400,
                        "bin_end": 937953747087388700,
                        "count": 1
                      },
                      {
                        "bin_start": 937953747087388700,
                        "bin_end": 937954255073830900,
                        "count": 0
                      },
                      {
                        "bin_start": 937954255073830900,
                        "bin_end": 937954763060273200,
                        "count": 2
                      }
                    ]
                  }
                },
                {
                  "name": "user",
                  "dtype": "object",
                  "stats": {
                    "unique_count": 4,
                    "nan_count": 0,
                    "categories": [
                      {
                        "name": "cryptolligence",
                        "count": 2
                      },
                      {
                        "name": "BisqArviraj",
                        "count": 1
                      },
                      {
                        "name": "2 others",
                        "count": 2
                      }
                    ]
                  }
                },
                {
                  "name": "fullname",
                  "dtype": "object",
                  "stats": {
                    "unique_count": 4,
                    "nan_count": 0,
                    "categories": [
                      {
                        "name": "Cryptolligence",
                        "count": 2
                      },
                      {
                        "name": "Ar Viraj",
                        "count": 1
                      },
                      {
                        "name": "2 others",
                        "count": 2
                      }
                    ]
                  }
                },
                {
                  "name": "url",
                  "dtype": "object",
                  "stats": {
                    "unique_count": 2,
                    "nan_count": 0,
                    "categories": [
                      {
                        "name": " ",
                        "count": 4
                      },
                      {
                        "name": "http://t.me/TNFXtrading",
                        "count": 1
                      }
                    ]
                  }
                },
                {
                  "name": "timestamp",
                  "dtype": "object",
                  "stats": {
                    "unique_count": 5,
                    "nan_count": 0,
                    "categories": [
                      {
                        "name": "2017-12-05 07:00:16+00",
                        "count": 1
                      },
                      {
                        "name": "2017-12-05 06:40:05+00",
                        "count": 1
                      },
                      {
                        "name": "3 others",
                        "count": 3
                      }
                    ]
                  }
                },
                {
                  "name": "replies",
                  "dtype": "float64",
                  "stats": {
                    "unique_count": 1,
                    "nan_count": 0,
                    "min": "0.0",
                    "max": "0.0",
                    "histogram": [
                      {
                        "bin_start": -0.5,
                        "bin_end": -0.4,
                        "count": 0
                      },
                      {
                        "bin_start": -0.4,
                        "bin_end": -0.3,
                        "count": 0
                      },
                      {
                        "bin_start": -0.3,
                        "bin_end": -0.19999999999999996,
                        "count": 0
                      },
                      {
                        "bin_start": -0.19999999999999996,
                        "bin_end": -0.09999999999999998,
                        "count": 0
                      },
                      {
                        "bin_start": -0.09999999999999998,
                        "bin_end": 0,
                        "count": 0
                      },
                      {
                        "bin_start": 0,
                        "bin_end": 0.10000000000000009,
                        "count": 5
                      },
                      {
                        "bin_start": 0.10000000000000009,
                        "bin_end": 0.20000000000000007,
                        "count": 0
                      },
                      {
                        "bin_start": 0.20000000000000007,
                        "bin_end": 0.30000000000000004,
                        "count": 0
                      },
                      {
                        "bin_start": 0.30000000000000004,
                        "bin_end": 0.4,
                        "count": 0
                      },
                      {
                        "bin_start": 0.4,
                        "bin_end": 0.5,
                        "count": 0
                      }
                    ]
                  }
                },
                {
                  "name": "likes",
                  "dtype": "float64",
                  "stats": {
                    "unique_count": 1,
                    "nan_count": 0,
                    "min": "0.0",
                    "max": "0.0",
                    "histogram": [
                      {
                        "bin_start": -0.5,
                        "bin_end": -0.4,
                        "count": 0
                      },
                      {
                        "bin_start": -0.4,
                        "bin_end": -0.3,
                        "count": 0
                      },
                      {
                        "bin_start": -0.3,
                        "bin_end": -0.19999999999999996,
                        "count": 0
                      },
                      {
                        "bin_start": -0.19999999999999996,
                        "bin_end": -0.09999999999999998,
                        "count": 0
                      },
                      {
                        "bin_start": -0.09999999999999998,
                        "bin_end": 0,
                        "count": 0
                      },
                      {
                        "bin_start": 0,
                        "bin_end": 0.10000000000000009,
                        "count": 5
                      },
                      {
                        "bin_start": 0.10000000000000009,
                        "bin_end": 0.20000000000000007,
                        "count": 0
                      },
                      {
                        "bin_start": 0.20000000000000007,
                        "bin_end": 0.30000000000000004,
                        "count": 0
                      },
                      {
                        "bin_start": 0.30000000000000004,
                        "bin_end": 0.4,
                        "count": 0
                      },
                      {
                        "bin_start": 0.4,
                        "bin_end": 0.5,
                        "count": 0
                      }
                    ]
                  }
                },
                {
                  "name": "retweets",
                  "dtype": "float64",
                  "stats": {
                    "unique_count": 2,
                    "nan_count": 0,
                    "min": "0.0",
                    "max": "1.0",
                    "histogram": [
                      {
                        "bin_start": 0,
                        "bin_end": 0.1,
                        "count": 4
                      },
                      {
                        "bin_start": 0.1,
                        "bin_end": 0.2,
                        "count": 0
                      },
                      {
                        "bin_start": 0.2,
                        "bin_end": 0.30000000000000004,
                        "count": 0
                      },
                      {
                        "bin_start": 0.30000000000000004,
                        "bin_end": 0.4,
                        "count": 0
                      },
                      {
                        "bin_start": 0.4,
                        "bin_end": 0.5,
                        "count": 0
                      },
                      {
                        "bin_start": 0.5,
                        "bin_end": 0.6000000000000001,
                        "count": 0
                      },
                      {
                        "bin_start": 0.6000000000000001,
                        "bin_end": 0.7000000000000001,
                        "count": 0
                      },
                      {
                        "bin_start": 0.7000000000000001,
                        "bin_end": 0.8,
                        "count": 0
                      },
                      {
                        "bin_start": 0.8,
                        "bin_end": 0.9,
                        "count": 0
                      },
                      {
                        "bin_start": 0.9,
                        "bin_end": 1,
                        "count": 1
                      }
                    ]
                  }
                },
                {
                  "name": "text",
                  "dtype": "object",
                  "stats": {
                    "unique_count": 5,
                    "nan_count": 0,
                    "categories": [
                      {
                        "name": "SELL\nPayment method: SEPA\nOffer ID: 90196354\nAmount: 0.1 BTC\nPrice for 1: 10000.00 EUR\nMaximum: 1000.00 EUR\nDistance: 0.45%\n",
                        "count": 1
                      },
                      {
                        "name": " Buy!  (11:40:05 pm PDT)\nPrice: 11720.00 (+/- 0.5)\nClose: 11724.49 (+/- 0.5)\nStop: 11717.00 (+/- 0.5)\n#gdax #coinbase #btc #trading #bitcoin\n",
                        "count": 1
                      },
                      {
                        "name": "3 others",
                        "count": 3
                      }
                    ]
                  }
                },
                {
                  "name": "lang",
                  "dtype": "object",
                  "stats": {
                    "unique_count": 1,
                    "nan_count": 0,
                    "categories": [
                      {
                        "name": "en",
                        "count": 5
                      }
                    ]
                  }
                },
                {
                  "name": "year",
                  "dtype": "int64",
                  "stats": {
                    "unique_count": 1,
                    "nan_count": 0,
                    "min": "2017",
                    "max": "2017",
                    "histogram": [
                      {
                        "bin_start": 2016.5,
                        "bin_end": 2016.6,
                        "count": 0
                      },
                      {
                        "bin_start": 2016.6,
                        "bin_end": 2016.7,
                        "count": 0
                      },
                      {
                        "bin_start": 2016.7,
                        "bin_end": 2016.8,
                        "count": 0
                      },
                      {
                        "bin_start": 2016.8,
                        "bin_end": 2016.9,
                        "count": 0
                      },
                      {
                        "bin_start": 2016.9,
                        "bin_end": 2017,
                        "count": 0
                      },
                      {
                        "bin_start": 2017,
                        "bin_end": 2017.1,
                        "count": 5
                      },
                      {
                        "bin_start": 2017.1,
                        "bin_end": 2017.2,
                        "count": 0
                      },
                      {
                        "bin_start": 2017.2,
                        "bin_end": 2017.3,
                        "count": 0
                      },
                      {
                        "bin_start": 2017.3,
                        "bin_end": 2017.4,
                        "count": 0
                      },
                      {
                        "bin_start": 2017.4,
                        "bin_end": 2017.5,
                        "count": 0
                      }
                    ]
                  }
                },
                {
                  "name": "month",
                  "dtype": "int64",
                  "stats": {
                    "unique_count": 1,
                    "nan_count": 0,
                    "min": "12",
                    "max": "12",
                    "histogram": [
                      {
                        "bin_start": 11.5,
                        "bin_end": 11.6,
                        "count": 0
                      },
                      {
                        "bin_start": 11.6,
                        "bin_end": 11.7,
                        "count": 0
                      },
                      {
                        "bin_start": 11.7,
                        "bin_end": 11.8,
                        "count": 0
                      },
                      {
                        "bin_start": 11.8,
                        "bin_end": 11.9,
                        "count": 0
                      },
                      {
                        "bin_start": 11.9,
                        "bin_end": 12,
                        "count": 0
                      },
                      {
                        "bin_start": 12,
                        "bin_end": 12.1,
                        "count": 5
                      },
                      {
                        "bin_start": 12.1,
                        "bin_end": 12.2,
                        "count": 0
                      },
                      {
                        "bin_start": 12.2,
                        "bin_end": 12.3,
                        "count": 0
                      },
                      {
                        "bin_start": 12.3,
                        "bin_end": 12.4,
                        "count": 0
                      },
                      {
                        "bin_start": 12.4,
                        "bin_end": 12.5,
                        "count": 0
                      }
                    ]
                  }
                },
                {
                  "name": "day",
                  "dtype": "int64",
                  "stats": {
                    "unique_count": 1,
                    "nan_count": 0,
                    "min": "5",
                    "max": "5",
                    "histogram": [
                      {
                        "bin_start": 4.5,
                        "bin_end": 4.6,
                        "count": 0
                      },
                      {
                        "bin_start": 4.6,
                        "bin_end": 4.7,
                        "count": 0
                      },
                      {
                        "bin_start": 4.7,
                        "bin_end": 4.8,
                        "count": 0
                      },
                      {
                        "bin_start": 4.8,
                        "bin_end": 4.9,
                        "count": 0
                      },
                      {
                        "bin_start": 4.9,
                        "bin_end": 5,
                        "count": 0
                      },
                      {
                        "bin_start": 5,
                        "bin_end": 5.1,
                        "count": 5
                      },
                      {
                        "bin_start": 5.1,
                        "bin_end": 5.2,
                        "count": 0
                      },
                      {
                        "bin_start": 5.2,
                        "bin_end": 5.3,
                        "count": 0
                      },
                      {
                        "bin_start": 5.3,
                        "bin_end": 5.4,
                        "count": 0
                      },
                      {
                        "bin_start": 5.4,
                        "bin_end": 5.5,
                        "count": 0
                      }
                    ]
                  }
                },
                {
                  "name": "text1",
                  "dtype": "object",
                  "stats": {
                    "unique_count": 5,
                    "nan_count": 0,
                    "categories": [
                      {
                        "name": "SELL\nPayment method: SEPA\nOffer ID: 90196354\nAmount: 0.1 BTC\nPrice for 1: 10000.00 EUR\nMaximum: 1000.00 EUR\nDistance: 0.45%\n",
                        "count": 1
                      },
                      {
                        "name": " Buy!  (11:40:05 pm PDT)\nPrice: 11720.00 (+/- 0.5)\nClose: 11724.49 (+/- 0.5)\nStop: 11717.00 (+/- 0.5)\n#gdax #coinbase #btc #trading #bitcoin\n",
                        "count": 1
                      },
                      {
                        "name": "3 others",
                        "count": 3
                      }
                    ]
                  }
                },
                {
                  "name": "tags",
                  "dtype": "object",
                  "stats": {
                    "unique_count": 4,
                    "nan_count": 0,
                    "categories": [
                      {
                        "name": "coinbase gdax btc bitcoin trading",
                        "count": 2
                      },
                      {
                        "name": " ",
                        "count": 1
                      },
                      {
                        "name": "2 others",
                        "count": 2
                      }
                    ]
                  }
                },
                {
                  "name": "promote",
                  "dtype": "object",
                  "stats": {
                    "unique_count": 1,
                    "nan_count": 0,
                    "categories": [
                      {
                        "name": " ",
                        "count": 5
                      }
                    ]
                  }
                },
                {
                  "name": "clean",
                  "dtype": "object",
                  "stats": {
                    "unique_count": 4,
                    "nan_count": 0,
                    "categories": [
                      {
                        "name": "buy pm pdt price close stop gdax coinbase btc trading bitcoin",
                        "count": 2
                      },
                      {
                        "name": "sell payment method sepa offer id amount btc price eur maximum eur distance",
                        "count": 1
                      },
                      {
                        "name": "2 others",
                        "count": 2
                      }
                    ]
                  }
                },
                {
                  "name": "clean_hashtags",
                  "dtype": "object",
                  "stats": {
                    "unique_count": 5,
                    "nan_count": 0,
                    "categories": [
                      {
                        "name": "['coinbase', 'gdax', 'btc', 'bitcoin', 'trading']",
                        "count": 2
                      },
                      {
                        "name": "[]",
                        "count": 1
                      },
                      {
                        "name": "2 others",
                        "count": 2
                      }
                    ]
                  }
                },
                {
                  "name": "_deepnote_index_column",
                  "dtype": "int64"
                }
              ],
              "rows_top": [
                {
                  "Unnamed: 0": 0,
                  "index": 0,
                  "date": "2017-12-05",
                  "id": 937954763060273200,
                  "user": "BisqArviraj",
                  "fullname": "Ar Viraj",
                  "url": " ",
                  "timestamp": "2017-12-05 07:00:16+00",
                  "replies": 0,
                  "likes": 0,
                  "retweets": 0,
                  "text": "SELL\nPayment method: SEPA\nOffer ID: 90196354\nAmount: 0.1 BTC\nPrice for 1: 10000.00 EUR\nMaximum: 1000.00 EUR\nDistance: 0.45%\n",
                  "lang": "en",
                  "year": 2017,
                  "month": 12,
                  "day": 5,
                  "text1": "SELL\nPayment method: SEPA\nOffer ID: 90196354\nAmount: 0.1 BTC\nPrice for 1: 10000.00 EUR\nMaximum: 1000.00 EUR\nDistance: 0.45%\n",
                  "tags": " ",
                  "promote": " ",
                  "clean": "sell payment method sepa offer id amount btc price eur maximum eur distance",
                  "clean_hashtags": "[]",
                  "_deepnote_index_column": 0
                },
                {
                  "Unnamed: 0": 1,
                  "index": 1,
                  "date": "2017-12-05",
                  "id": 937949683195850800,
                  "user": "cryptolligence",
                  "fullname": "Cryptolligence",
                  "url": " ",
                  "timestamp": "2017-12-05 06:40:05+00",
                  "replies": 0,
                  "likes": 0,
                  "retweets": 0,
                  "text": " Buy!  (11:40:05 pm PDT)\nPrice: 11720.00 (+/- 0.5)\nClose: 11724.49 (+/- 0.5)\nStop: 11717.00 (+/- 0.5)\n#gdax #coinbase #btc #trading #bitcoin\n",
                  "lang": "en",
                  "year": 2017,
                  "month": 12,
                  "day": 5,
                  "text1": " Buy!  (11:40:05 pm PDT)\nPrice: 11720.00 (+/- 0.5)\nClose: 11724.49 (+/- 0.5)\nStop: 11717.00 (+/- 0.5)\n#gdax #coinbase #btc #trading #bitcoin\n",
                  "tags": "coinbase gdax btc bitcoin trading",
                  "promote": " ",
                  "clean": "buy pm pdt price close stop gdax coinbase btc trading bitcoin",
                  "clean_hashtags": "['coinbase', 'gdax', 'btc', 'bitcoin', 'trading']",
                  "_deepnote_index_column": 1
                },
                {
                  "Unnamed: 0": 2,
                  "index": 2,
                  "date": "2017-12-05",
                  "id": 937949704263843800,
                  "user": "cryptolligence",
                  "fullname": "Cryptolligence",
                  "url": " ",
                  "timestamp": "2017-12-05 06:40:10+00",
                  "replies": 0,
                  "likes": 0,
                  "retweets": 0,
                  "text": " Buy!  (11:40:10 pm PDT)\nPrice: 11721.00 (+/- 0.5)\nClose: 11725.71 (+/- 0.5)\nStop: 11718.00 (+/- 0.5)\n#gdax #coinbase #btc #trading #bitcoin\n",
                  "lang": "en",
                  "year": 2017,
                  "month": 12,
                  "day": 5,
                  "text1": " Buy!  (11:40:10 pm PDT)\nPrice: 11721.00 (+/- 0.5)\nClose: 11725.71 (+/- 0.5)\nStop: 11718.00 (+/- 0.5)\n#gdax #coinbase #btc #trading #bitcoin\n",
                  "tags": "coinbase gdax btc bitcoin trading",
                  "promote": " ",
                  "clean": "buy pm pdt price close stop gdax coinbase btc trading bitcoin",
                  "clean_hashtags": "['coinbase', 'gdax', 'btc', 'bitcoin', 'trading']",
                  "_deepnote_index_column": 2
                },
                {
                  "Unnamed: 0": 3,
                  "index": 3,
                  "date": "2017-12-05",
                  "id": 937954701324070800,
                  "user": "coinstats",
                  "fullname": "Coinstats",
                  "url": " ",
                  "timestamp": "2017-12-05 07:00:01+00",
                  "replies": 0,
                  "likes": 0,
                  "retweets": 1,
                  "text": "Bitcoin - BTC\nPrice: $11,861.80\nChange in 1h: +1.3%\nMarket cap: $198,341,893,232.00\nRanking: 1\n#Bitcoin #BTC\n",
                  "lang": "en",
                  "year": 2017,
                  "month": 12,
                  "day": 5,
                  "text1": "Bitcoin - BTC\nPrice: $11,861.80\nChange in 1h: +1.3%\nMarket cap: $198,341,893,232.00\nRanking: 1\n#Bitcoin #BTC\n",
                  "tags": "Bitcoin BTC",
                  "promote": " ",
                  "clean": "bitcoin btc price change h market cap ranking bitcoin btc",
                  "clean_hashtags": "['bitcoin', 'btc']",
                  "_deepnote_index_column": 3
                },
                {
                  "Unnamed: 0": 4,
                  "index": 4,
                  "date": "2017-12-05",
                  "id": 937953596976566400,
                  "user": "TNFXtrading",
                  "fullname": "TNFX Trading",
                  "url": "http://t.me/TNFXtrading",
                  "timestamp": "2017-12-05 06:55:38+00",
                  "replies": 0,
                  "likes": 0,
                  "retweets": 0,
                  "text": "تنحصر تداولات سعر بتكوين الأخيرة داخل نموذج علم مثلثي صاعد وبالتالي، يحتاج السعر لاختراق مستوى 11660.00 لتفعيل التأثير الإيجابي لهذا النموذج ومن ثم الاندفاع لمواصلة تحقيق المكاسب\nhttp://t.me/TNFXtrading \n#BTCUSD #BTC #USDpic.twitter.com/oh8SKBx4DE\n",
                  "lang": "en",
                  "year": 2017,
                  "month": 12,
                  "day": 5,
                  "text1": "تنحصر تداولات سعر بتكوين الأخيرة داخل نموذج علم مثلثي صاعد وبالتالي، يحتاج السعر لاختراق مستوى 11660.00 لتفعيل التأثير الإيجابي لهذا النموذج ومن ثم الاندفاع لمواصلة تحقيق المكاسب\nhttp://t.me/TNFXtrading \n#BTCUSD #BTC #USDpic.twitter.com/oh8SKBx4DE\n",
                  "tags": "USDpic.twitter.com/oh8SKBx4DE BTC BTCUSD",
                  "promote": " ",
                  "clean": "تنحصر تداولات سعر بتكوين الأخيرة داخل نموذج علم مثلثي صاعد وبالتالي ، يحتاج السعر لاختراق مستوى لتفعيل التأثير الإيجابي لهذا النموذج ومن ثم الاندفاع لمواصلة تحقيق المكاسب btcusd btc usdpic twitter com ohskbxde",
                  "clean_hashtags": "['btc', 'btcusd']",
                  "_deepnote_index_column": 4
                }
              ],
              "rows_bottom": null
            },
            "text/plain": "   Unnamed: 0  index        date            id            user  \\\n0           0      0  2017-12-05  9.379548e+17     BisqArviraj   \n1           1      1  2017-12-05  9.379497e+17  cryptolligence   \n2           2      2  2017-12-05  9.379497e+17  cryptolligence   \n3           3      3  2017-12-05  9.379547e+17       coinstats   \n4           4      4  2017-12-05  9.379536e+17     TNFXtrading   \n\n         fullname                      url               timestamp  replies  \\\n0        Ar Viraj                           2017-12-05 07:00:16+00      0.0   \n1  Cryptolligence                           2017-12-05 06:40:05+00      0.0   \n2  Cryptolligence                           2017-12-05 06:40:10+00      0.0   \n3       Coinstats                           2017-12-05 07:00:01+00      0.0   \n4    TNFX Trading  http://t.me/TNFXtrading  2017-12-05 06:55:38+00      0.0   \n\n   likes  ...                                               text lang  year  \\\n0    0.0  ...  SELL\\nPayment method: SEPA\\nOffer ID: 90196354...   en  2017   \n1    0.0  ...   Buy!  (11:40:05 pm PDT)\\nPrice: 11720.00 (+/-...   en  2017   \n2    0.0  ...   Buy!  (11:40:10 pm PDT)\\nPrice: 11721.00 (+/-...   en  2017   \n3    0.0  ...  Bitcoin - BTC\\nPrice: $11,861.80\\nChange in 1h...   en  2017   \n4    0.0  ...  تنحصر تداولات سعر بتكوين الأخيرة داخل نموذج عل...   en  2017   \n\n   month  day                                              text1  \\\n0     12    5  SELL\\nPayment method: SEPA\\nOffer ID: 90196354...   \n1     12    5   Buy!  (11:40:05 pm PDT)\\nPrice: 11720.00 (+/-...   \n2     12    5   Buy!  (11:40:10 pm PDT)\\nPrice: 11721.00 (+/-...   \n3     12    5  Bitcoin - BTC\\nPrice: $11,861.80\\nChange in 1h...   \n4     12    5  تنحصر تداولات سعر بتكوين الأخيرة داخل نموذج عل...   \n\n                                       tags promote  \\\n0                                                     \n1         coinbase gdax btc bitcoin trading           \n2         coinbase gdax btc bitcoin trading           \n3                               Bitcoin BTC           \n4  USDpic.twitter.com/oh8SKBx4DE BTC BTCUSD           \n\n                                               clean  \\\n0  sell payment method sepa offer id amount btc p...   \n1  buy pm pdt price close stop gdax coinbase btc ...   \n2  buy pm pdt price close stop gdax coinbase btc ...   \n3  bitcoin btc price change h market cap ranking ...   \n4  تنحصر تداولات سعر بتكوين الأخيرة داخل نموذج عل...   \n\n                            clean_hashtags  \n0                                       []  \n1  [coinbase, gdax, btc, bitcoin, trading]  \n2  [coinbase, gdax, btc, bitcoin, trading]  \n3                           [bitcoin, btc]  \n4                            [btc, btcusd]  \n\n[5 rows x 21 columns]",
            "text/html": "<div>\n<style scoped>\n    .dataframe tbody tr th:only-of-type {\n        vertical-align: middle;\n    }\n\n    .dataframe tbody tr th {\n        vertical-align: top;\n    }\n\n    .dataframe thead th {\n        text-align: right;\n    }\n</style>\n<table border=\"1\" class=\"dataframe\">\n  <thead>\n    <tr style=\"text-align: right;\">\n      <th></th>\n      <th>Unnamed: 0</th>\n      <th>index</th>\n      <th>date</th>\n      <th>id</th>\n      <th>user</th>\n      <th>fullname</th>\n      <th>url</th>\n      <th>timestamp</th>\n      <th>replies</th>\n      <th>likes</th>\n      <th>...</th>\n      <th>text</th>\n      <th>lang</th>\n      <th>year</th>\n      <th>month</th>\n      <th>day</th>\n      <th>text1</th>\n      <th>tags</th>\n      <th>promote</th>\n      <th>clean</th>\n      <th>clean_hashtags</th>\n    </tr>\n  </thead>\n  <tbody>\n    <tr>\n      <th>0</th>\n      <td>0</td>\n      <td>0</td>\n      <td>2017-12-05</td>\n      <td>9.379548e+17</td>\n      <td>BisqArviraj</td>\n      <td>Ar Viraj</td>\n      <td></td>\n      <td>2017-12-05 07:00:16+00</td>\n      <td>0.0</td>\n      <td>0.0</td>\n      <td>...</td>\n      <td>SELL\\nPayment method: SEPA\\nOffer ID: 90196354...</td>\n      <td>en</td>\n      <td>2017</td>\n      <td>12</td>\n      <td>5</td>\n      <td>SELL\\nPayment method: SEPA\\nOffer ID: 90196354...</td>\n      <td></td>\n      <td></td>\n      <td>sell payment method sepa offer id amount btc p...</td>\n      <td>[]</td>\n    </tr>\n    <tr>\n      <th>1</th>\n      <td>1</td>\n      <td>1</td>\n      <td>2017-12-05</td>\n      <td>9.379497e+17</td>\n      <td>cryptolligence</td>\n      <td>Cryptolligence</td>\n      <td></td>\n      <td>2017-12-05 06:40:05+00</td>\n      <td>0.0</td>\n      <td>0.0</td>\n      <td>...</td>\n      <td>Buy!  (11:40:05 pm PDT)\\nPrice: 11720.00 (+/-...</td>\n      <td>en</td>\n      <td>2017</td>\n      <td>12</td>\n      <td>5</td>\n      <td>Buy!  (11:40:05 pm PDT)\\nPrice: 11720.00 (+/-...</td>\n      <td>coinbase gdax btc bitcoin trading</td>\n      <td></td>\n      <td>buy pm pdt price close stop gdax coinbase btc ...</td>\n      <td>[coinbase, gdax, btc, bitcoin, trading]</td>\n    </tr>\n    <tr>\n      <th>2</th>\n      <td>2</td>\n      <td>2</td>\n      <td>2017-12-05</td>\n      <td>9.379497e+17</td>\n      <td>cryptolligence</td>\n      <td>Cryptolligence</td>\n      <td></td>\n      <td>2017-12-05 06:40:10+00</td>\n      <td>0.0</td>\n      <td>0.0</td>\n      <td>...</td>\n      <td>Buy!  (11:40:10 pm PDT)\\nPrice: 11721.00 (+/-...</td>\n      <td>en</td>\n      <td>2017</td>\n      <td>12</td>\n      <td>5</td>\n      <td>Buy!  (11:40:10 pm PDT)\\nPrice: 11721.00 (+/-...</td>\n      <td>coinbase gdax btc bitcoin trading</td>\n      <td></td>\n      <td>buy pm pdt price close stop gdax coinbase btc ...</td>\n      <td>[coinbase, gdax, btc, bitcoin, trading]</td>\n    </tr>\n    <tr>\n      <th>3</th>\n      <td>3</td>\n      <td>3</td>\n      <td>2017-12-05</td>\n      <td>9.379547e+17</td>\n      <td>coinstats</td>\n      <td>Coinstats</td>\n      <td></td>\n      <td>2017-12-05 07:00:01+00</td>\n      <td>0.0</td>\n      <td>0.0</td>\n      <td>...</td>\n      <td>Bitcoin - BTC\\nPrice: $11,861.80\\nChange in 1h...</td>\n      <td>en</td>\n      <td>2017</td>\n      <td>12</td>\n      <td>5</td>\n      <td>Bitcoin - BTC\\nPrice: $11,861.80\\nChange in 1h...</td>\n      <td>Bitcoin BTC</td>\n      <td></td>\n      <td>bitcoin btc price change h market cap ranking ...</td>\n      <td>[bitcoin, btc]</td>\n    </tr>\n    <tr>\n      <th>4</th>\n      <td>4</td>\n      <td>4</td>\n      <td>2017-12-05</td>\n      <td>9.379536e+17</td>\n      <td>TNFXtrading</td>\n      <td>TNFX Trading</td>\n      <td>http://t.me/TNFXtrading</td>\n      <td>2017-12-05 06:55:38+00</td>\n      <td>0.0</td>\n      <td>0.0</td>\n      <td>...</td>\n      <td>تنحصر تداولات سعر بتكوين الأخيرة داخل نموذج عل...</td>\n      <td>en</td>\n      <td>2017</td>\n      <td>12</td>\n      <td>5</td>\n      <td>تنحصر تداولات سعر بتكوين الأخيرة داخل نموذج عل...</td>\n      <td>USDpic.twitter.com/oh8SKBx4DE BTC BTCUSD</td>\n      <td></td>\n      <td>تنحصر تداولات سعر بتكوين الأخيرة داخل نموذج عل...</td>\n      <td>[btc, btcusd]</td>\n    </tr>\n  </tbody>\n</table>\n<p>5 rows × 21 columns</p>\n</div>"
          },
          "metadata": {}
        }
      ]
    },
    {
      "cell_type": "code",
      "metadata": {
        "tags": [],
        "cell_id": "00008-38569633-f87f-4a4d-b425-c33d0b2ae094",
        "deepnote_to_be_reexecuted": false,
        "source_hash": "fc6951f5",
        "execution_millis": 27899,
        "execution_start": 1619476350217,
        "deepnote_cell_type": "code"
      },
      "source": "tagsandusers = defaultdict(set)\nfor index, row in df.iterrows():\n    for tag in row[\"clean_hashtags\"]:\n        tagsandusers[tag].add(row[\"user\"])",
      "execution_count": null,
      "outputs": []
    },
    {
      "cell_type": "code",
      "metadata": {
        "tags": [],
        "cell_id": "00009-f6bfd9e1-6a37-43bc-bd07-3e82c0ec8a4b",
        "deepnote_to_be_reexecuted": false,
        "source_hash": "a07f2016",
        "execution_millis": 539034,
        "execution_start": 1619476825476,
        "deepnote_cell_type": "code"
      },
      "source": "# userandupvotes\nimport tqdm\nmax_likes = int(np.max([likes for user,likes in userandupvotes.items()]))\nallEdges = []\ndef edges(user, num_likes):\n    users = list(userandupvotes.keys())\n    edges = np.random.choice(users,int(np.ceil(num_likes/100)))\n    for e in edges:\n        allEdges.append([user, e])\n\nfor user,likes in tqdm.tqdm(userandupvotes.items()):\n    edges(user, likes)",
      "execution_count": null,
      "outputs": [
        {
          "name": "stderr",
          "text": "100%|██████████| 72829/72829 [08:58<00:00, 135.13it/s]\n",
          "output_type": "stream"
        }
      ]
    },
    {
      "cell_type": "code",
      "metadata": {
        "tags": [],
        "cell_id": "00007-0185da5d-931c-4069-be95-4971ffc4efc9",
        "deepnote_to_be_reexecuted": false,
        "source_hash": "c7b28e62",
        "execution_millis": 17,
        "execution_start": 1619477440325,
        "deepnote_cell_type": "code"
      },
      "source": "# import itertools\n# allEdges = []\n# for tag, userset in tagsandusers.items():\n#     currEdges = list(itertools.combinations(tagsandusers[tag],2))\n#     allEdges += currEdges\n# import tqdm\n# allEdges = []\n# for tag in tqdm.tqdm(tagsandusers.keys()):\n#     users = list(tagsandusers[tag])\n#     for i,user in enumerate(users):\n#         for edge in users[i:]:\n#             allEdges.append([user,edge])\n# for index, row in tqdm.tqdm(df.iterrows()):\n#     tags = row[\"clean_hashtags\"]\n#     users = tagsandusers[]\n#     for i, r in df.iterrows():\n#         if i <= index:\n#             continue\n#         if set(row[\"clean_hashtags\"]) & set(r[\"clean_hashtags\"]):\n#             allEdges.append([row[\"user\"], r[\"user\"]])\n\nprint(len(allEdges))",
      "execution_count": null,
      "outputs": [
        {
          "name": "stdout",
          "text": "38231\n",
          "output_type": "stream"
        }
      ]
    },
    {
      "cell_type": "code",
      "metadata": {
        "tags": [],
        "cell_id": "00009-191309ca-c27f-43fb-b5b0-5f6150a17341",
        "deepnote_to_be_reexecuted": false,
        "source_hash": "1d9cb671",
        "execution_millis": 151,
        "execution_start": 1619477445045,
        "deepnote_cell_type": "code"
      },
      "source": "G.add_edges_from(allEdges)\nprint(G.number_of_edges())\nprint(G.number_of_nodes())",
      "execution_count": null,
      "outputs": [
        {
          "name": "stdout",
          "text": "38231\n72829\n",
          "output_type": "stream"
        }
      ]
    },
    {
      "cell_type": "code",
      "metadata": {
        "tags": [],
        "cell_id": "00010-32283dce-c05f-46e7-bf78-364baa9a21b9",
        "deepnote_to_be_reexecuted": false,
        "source_hash": "d526eff6",
        "execution_start": 1619477457562,
        "execution_millis": 8525,
        "deepnote_cell_type": "code"
      },
      "source": "pr = nx.pagerank(G, alpha=0.85, nstart=userandupvotes)\npr",
      "execution_count": null,
      "outputs": [
        {
          "output_type": "execute_result",
          "execution_count": 22,
          "data": {
            "text/plain": "{'BisqArviraj': 2.814739477057233e-06,\n 'cryptolligence': 1.1883750513643218e-05,\n 'coinstats': 3.5708158977936167e-05,\n 'TNFXtrading': 1.7913782804297755e-05,\n 'asens_inc': 5.083290738092612e-05,\n 'BitcoinPRlCE': 1.1315986033466788e-05,\n 'BitcoinSpreads': 1.9237785848614933e-05,\n 'SrCastelo': 1.1900149482748018e-05,\n 'Doviz724': 2.2018202322159838e-05,\n 'NowBitcoinPrice': 0.00019432892063262652,\n 'ergoinfo': 9.446181806387201e-06,\n 'BTCPriceBot': 1.8645089076807815e-05,\n 'digi_cash_chart': 2.1575502786167276e-05,\n 'btc0in': 2.14545190551183e-05,\n 'Bitty_Bot': 3.165049875444414e-05,\n 'TheEnogie': 1.7888522052827375e-05,\n 'bitcoin_service': 2.0585805975203224e-05,\n 'cryptoUSD': 4.167902382563454e-05,\n 'TheBitcoinPizza': 3.0115308660315073e-05,\n 'Fogden81': 2.814739477057233e-06,\n 'RaniLaneNF': 1.7850068215108516e-05,\n 'TopTrendThai': 1.3777568213119557e-05,\n 'BitcoinVEmundo': 1.115046618434189e-05,\n 'tymorapro': 1.7850068215108516e-05,\n 'MGieselmann': 1.7977497393486994e-05,\n 'cfdportal': 2.814739477057233e-06,\n 'JDNumismaticCor': 2.3521845326332388e-05,\n 'munex007': 1.021092851250046e-05,\n 'forexistanbul': 1.170028287053904e-05,\n 'PoloniexPrice': 1.3777568213119557e-05,\n 'robostopia': 1.7985905127819945e-05,\n 'BitcoinFR': 1.2951023122366906e-05,\n 'PeterNBlogger': 1.2441306408852987e-05,\n 'Digital_Deals_': 1.3936854686092658e-05,\n 'TickerCrypto': 2.8793667963878393e-05,\n 'coinjinja': 2.0362616379455796e-05,\n 'HourlyBTC': 1.1473018185024526e-05,\n 'MonnaiesD': 1.1282575415422843e-05,\n 'coin_choice': 4.228506822704226e-05,\n 'cryptcoin_trade': 4.63490258251035e-05,\n 'bitcoinprice_': 3.0485838624461795e-05,\n 'top_3_coin': 2.75523452966303e-05,\n 'JohnCrypto12': 1.057088794675696e-05,\n 'Mohamad03319863': 2.814739477057233e-06,\n 'BitcoinerCo': 2.814739477057233e-06,\n 'MmatlouLebogang': 1.8742072463757872e-05,\n 'crypto_paraguay': 3.369978751071204e-05,\n 'ThomasPepperz': 2.135894717133444e-05,\n 'FvNGreyling': 2.6695928700168066e-05,\n 'huge_gold': 2.8827615879988684e-05,\n 'Blacktradelines': 2.2661336464631125e-05,\n 'Bitcoin444': 3.267805532582976e-05,\n 'DagamaJack': 2.814739477057233e-06,\n 'DolarTrue_': 8.780373228762199e-05,\n 'gabrielosio': 1.1106728489385198e-05,\n 'VittaGam': 2.650478493260035e-05,\n 'MarkJ0ker': 2.814739477057233e-06,\n 'rimbit': 1.1251895901947456e-05,\n 'BitcoinEdu': 3.99911905635603e-05,\n 'btcreports': 2.1994845138265875e-05,\n 'Ethereum247': 1.377756821311956e-05,\n 'guzellinkler': 2.6058782808275667e-05,\n 'HuobiGlobal': 0.00011425300558578508,\n 'fugoji': 1.9469115668440855e-05,\n 'cryptobeard': 1.8041211982676237e-05,\n 'Uberbills': 1.7850068215108516e-05,\n 'BernardParent': 2.814739477057233e-06,\n 'notquitemozart': 2.8730716998745296e-05,\n 'BitcoinSqueeze': 2.6313641165032624e-05,\n 'AayushJs': 1.3777568213119557e-05,\n 'BradSabbath': 1.7977497393486994e-05,\n 'zweed4u_crypto': 2.128280589044709e-05,\n 'WatsonsReports': 5.4876502577132764e-05,\n 'FeesBitcoin': 3.572538392402881e-05,\n 'Bitcoin_Bullet': 3.776269979491605e-05,\n 'extraperaneur': 2.814739477057233e-06,\n 'LTC_To_The_Moon': 1.7850068215108516e-05,\n 'GuaripeteSol': 1.0688389993060725e-05,\n 'bch_bot': 1.8991542096491704e-05,\n 'IC_Markets': 1.262217843969262e-05,\n 'BITCOIN_pany': 1.7850068215108516e-05,\n 'danhantam': 2.814739477057233e-06,\n 'StephenPKendal': 1.829835962008106e-05,\n 'TiffanyTrades': 1.333498761513332e-05,\n 'rodulfox': 1.390499739149804e-05,\n 'c_coins2017': 1.1776064060131496e-05,\n 'kobocoindev': 1.9898779839380373e-05,\n 'BitcoinBlockNtf': 1.3777568213119557e-05,\n 'Zizizach': 1.9751102636169638e-05,\n 'Coinbelly': 1.7850068215108516e-05,\n 'baijorge': 1.2487005596619767e-05,\n 'OChapiteau': 3.1913467307412944e-05,\n 'tipnem': 2.644107034341111e-05,\n 'OfficialNuBits': 1.380942550771418e-05,\n 'coinok': 1.2579702208934373e-05,\n 'daveolake': 2.814739477057233e-06,\n 'LaasMeer': 2.814739477057233e-06,\n 'sustainedmedia': 2.814739477057233e-06,\n 'thankrobot': 2.814739477057233e-06,\n 'bitcoindorks': 2.814739477057233e-06,\n 'xtac4u22': 3.0254352539169036e-05,\n 'VirtualMoneyBot': 1.8895406513638497e-05,\n 'Savio291203': 1.4765144345552778e-05,\n 'dingogo_12': 1.1231111662407263e-05,\n 'Bibox365': 3.6042359132857694e-05,\n 'btcoddschecker': 1.377756821311956e-05,\n 'EddisonRod': 2.1526773671218582e-05,\n 'Gopse1': 2.814739477057233e-06,\n 'SantosOchoaLog': 1.9377188523397716e-05,\n 'RealMrAlanC': 2.814739477057233e-06,\n 'infoclc': 1.307475933701908e-05,\n '3msseoexperts': 1.8104926571865473e-05,\n 'EinScan1': 2.814739477057233e-06,\n 'nelkinda': 1.24625446052494e-05,\n 'coinpricenow': 2.550551118629254e-05,\n 'benerkanoz': 6.79196607394036e-05,\n 'raincitykitty': 1.912435999889331e-05,\n 'JPMullerATFX': 2.8684936348805e-05,\n 'pensmileconcept': 2.814739477057233e-06,\n 'Bitcoin_Bipolar': 1.927205982748637e-05,\n 'CryptocoinCache': 1.7850068215108516e-05,\n 'BtcPolako': 1.3771547561263787e-05,\n 'rovinato': 2.3354054705712366e-05,\n 'funstuff_247': 4.280878929699788e-05,\n 'KingLutron': 1.3841282802308801e-05,\n 'Pcrepairlkn': 2.814739477057233e-06,\n 'daniel_primmer': 1.377756821311956e-05,\n 'emeka2k': 2.814739477057233e-06,\n 'CurrencyStudent': 1.2086843324195838e-05,\n 'BuiBluemix': 1.0700679209496178e-05,\n 'mywoodenshop': 1.0178477672296831e-05,\n 'BitcoinATHBot': 2.0623724869927803e-05,\n 'AKleut': 1.7850068215108516e-05,\n 'TheTechCrack': 1.0052785593816046e-05,\n 'lcastanon100': 1.0918088860920224e-05,\n 'PaulOnasanya': 2.814739477057233e-06,\n 'yuhock1166': 1.495838486382682e-05,\n 'coindorado': 1.7850068215108516e-05,\n 'KagameMustFall': 2.814739477057233e-06,\n 'MKucala': 2.814739477057233e-06,\n 'Uche_Peter5': 2.814739477057233e-06,\n 'IGSquawk': 3.433121199063206e-05,\n 'iamdlsamuels': 1.0841268259799985e-05,\n 'premabujh': 2.2050246280589974e-05,\n 'mystik3muse': 3.09732916800627e-05,\n 'faro_ntsinde': 2.814739477057233e-06,\n 'Whammeee': 1.0481825630596058e-05,\n 'Coinfloor': 1.2738641158402772e-05,\n 'AllCryptoInfo': 1.1768893801224038e-05,\n 'CoinMonitor_AR': 1.7850068215108516e-05,\n 'OLUE1': 2.814739477057233e-06,\n 'headsink': 2.6058782808275667e-05,\n 'DuyunovPartners': 1.7850068215108516e-05,\n 'TheMENATech': 1.958036482066629e-05,\n 'freeman4140': 2.814739477057233e-06,\n 'socialblocchain': 2.814739477057233e-06,\n 'Miles_Dei_Br': 2.814739477057233e-06,\n 'asrulfadzli': 2.814739477057233e-06,\n '1cleanteen': 1.7913782804297755e-05,\n 'DanCampos': 1.7850068215108516e-05,\n 'tonyquintela': 1.3841282802308801e-05,\n 'bit_gossip': 1.1445475303819367e-05,\n 'fullmetaliberty': 1.3777568213119557e-05,\n 'savvakisg': 1.377756821311956e-05,\n 'MurdaSay': 1.0922403145624548e-05,\n 'allbitcoin_news': 1.3777568213119557e-05,\n 'aphiwe8160397': 2.1660185910552e-05,\n 'cryptofinance24': 2.6249926575843388e-05,\n 'albert_pixelpro': 2.814739477057233e-06,\n 'AllTimeHighBot': 1.7913782804297755e-05,\n 'cpc1243': 2.814739477057233e-06,\n 'RubanPillay': 1.7913782804297755e-05,\n 'Alvaro04783929': 1.7850068215108516e-05,\n 'BNTrading': 1.390499739149804e-05,\n 'DimidDimidov': 2.7396789181249707e-05,\n 'BitcoinProfits': 2.814739477057233e-06,\n 'realsheepwolf': 3.426749740144281e-05,\n 'langanstocks': 2.814739477057233e-06,\n 'ferromu': 2.814739477057233e-06,\n 'BrianABaron': 2.814739477057233e-06,\n 'grahamctownsend': 2.31841488104719e-05,\n 'BtcBoi': 1.0844223824778712e-05,\n 'Ylechat': 1.1832609469425441e-05,\n 'netsoclab': 1.1060488303623662e-05,\n 'ThornyBastard1': 1.390499739149804e-05,\n 'BitcoinAlicante': 2.3396530450366873e-05,\n '1TWOLF': 1.1695287199084436e-05,\n 'CryptoAquarium': 1.1948458590950085e-05,\n 'tech2eets': 3.298190005342584e-05,\n 'tweetchristo': 2.814739477057233e-06,\n 'wolvesdenplus': 2.7396789181249707e-05,\n 'cholubaz': 2.814739477057233e-06,\n 'Petersenkim2Kim': 1.8104926571865473e-05,\n 'dodona777': 2.3226625162756084e-05,\n 'FirstAlias': 2.2198149141228467e-05,\n 'iilili': 1.304690820591708e-05,\n 'bitcoinaths': 2.663221411097883e-05,\n 'DeCryptografter': 3.0272980271636573e-05,\n 'BitcoinTotalBot': 2.5218947158773214e-05,\n 'kucoincom': 0.0010437978905568793,\n 'AtEase_ims': 1.7850068215108516e-05,\n 'Crypto_Devotee': 1.235072444563381e-05,\n 'TopDomainDeal': 2.2345293182507375e-05,\n 'DNDigest': 1.050633426613903e-05,\n 'hlalalamsaveni': 2.814739477057233e-06,\n 'TechHelp': 2.814739477057233e-06,\n 'hellocryptworld': 1.9739395518809275e-05,\n 'johntaiwo84': 2.814739477057233e-06,\n 'Anoniji': 1.8869501642136354e-05,\n 'Dhabolt': 1.3873140096903419e-05,\n 'fahedsec': 1.7913782804297755e-05,\n 'IncomeSharks': 4.241249740542074e-05,\n 'nem_xem_bot': 1.0810846856271015e-05,\n 'starcontract': 1.3777568213119557e-05,\n 'free_Staceyy': 2.814739477057233e-06,\n 'btc_alert': 1.3873140096903419e-05,\n 'lite_crypto': 4.752293339856777e-05,\n 'DavisBatchelor': 1.3936854686092658e-05,\n 'Altcoinbot_IO': 1.3777568213119557e-05,\n 'HipHopLobbyist': 2.814739477057233e-06,\n 'Curroquevedo': 3.184491580350494e-05,\n 'crowder_ron': 1.7850068215108516e-05,\n 'AT09_Trader': 1.2169585327734923e-05,\n 'chefcrypto1': 1.7850068215108516e-05,\n 'braveorsmart': 1.3180536562723323e-05,\n 'EligioC': 1.380942550771418e-05,\n 'MPCrypto': 2.814739477057233e-06,\n 'stopbeingfamous': 1.3841282802308801e-05,\n 'BThurstonCPTECH': 2.814739477057233e-06,\n 'PolitzOficial': 1.2102803082132398e-05,\n 'AnwarAdushe': 2.8706074850467397e-05,\n 'pauloretto': 2.814739477057233e-06,\n 'TweTThiago': 1.390499739149804e-05,\n 'Terrence_CFP': 1.3146373498715548e-05,\n 'thestockmench': 2.3439006924176995e-05,\n 'TheMarketQuote': 1.7850068215108516e-05,\n 'BitcoinToAMill1': 1.7850068215108516e-05,\n 'fanfare100': 2.043071505821674e-05,\n 'AdamkiewiczL': 3.688080520391296e-05,\n 'eclipsedave': 1.1768893801224038e-05,\n 'juliangonzz': 1.7977497393486994e-05,\n 'AlbertoTawil': 2.814739477057233e-06,\n 'seocompanyhtx': 2.814739477057233e-06,\n 'ADDDDKKKKKKKKKK': 1.0314797135720375e-05,\n 'eth_ethereumbot': 2.0097469596686333e-05,\n 'yuhanykamal': 2.3354054219608628e-05,\n 'LatiffNizam': 1.893321623132559e-05,\n 'Cynthi_Ritchie': 1.6794967076850514e-05,\n 'feeley_bill': 3.2047954192064216e-05,\n 'Foundry_esports': 2.814739477057233e-06,\n 'enigmapi_one': 2.1299436703855695e-05,\n 'ElixiumCapital': 4.990248130285263e-05,\n 'levelbest': 2.814739477057233e-06,\n 'ustc_otc': 1.9536390700858267e-05,\n 'passiveincomerd': 2.814739477057233e-06,\n 'Super1NYC': 1.380942550771418e-05,\n 'rcgmobi': 1.7913782804297755e-05,\n 'BoomBustRT': 2.9087117480075985e-05,\n 'viplav76': 1.7977497393486994e-05,\n 'Cryptotimer': 2.814739477057233e-06,\n 'Carlos1138': 1.7850068215108516e-05,\n 'statesone_com': 2.612249739746491e-05,\n 'dnedigital': 1.268589302888186e-05,\n 'cryptocoinister': 1.8008957689118032e-05,\n 'drilo1969': 1.1463315478210303e-05,\n 'brentonyoung_': 1.5370432942850553e-05,\n 'IvanTheK': 2.0562094242297584e-05,\n 'gxninja': 2.814739477057233e-06,\n 'tim_meh87': 2.814739477057233e-06,\n 'bjackrose': 2.3269101515040267e-05,\n 'CryptoInfoAlert': 1.1659588270206165e-05,\n 'BlockNewsKorea': 2.3226625284282018e-05,\n 'Humble_Moto': 1.9899875116338187e-05,\n 'ManmmothTrader': 2.2732912260495987e-05,\n 'SFL_Valencia': 1.2086905545474342e-05,\n 'DavidMcMasters2': 1.7850068215108516e-05,\n 'RoryBryce1121': 2.6313641165032624e-05,\n 'AliyuMohammedB5': 1.7913782804297755e-05,\n 'mtchan345': 2.1338744820992495e-05,\n 'LedererBen': 2.814739477057233e-06,\n 'pjcc777': 2.814739477057233e-06,\n 'DubMarx': 1.377756821311956e-05,\n 'itsmeUNKWN': 1.7850068215108516e-05,\n 'MarcelaHippe': 2.814739477057233e-06,\n 'cryptoMelea': 1.043971701651504e-05,\n 'MarietteBezuid1': 1.2095060941300902e-05,\n 'wickerrouge': 2.814739477057233e-06,\n 'thedave2006': 1.7850068215108516e-05,\n 'RiickyGrandao': 1.1442500829055843e-05,\n 'PaymentsMarket': 1.1754845546963599e-05,\n 'SmallBizRob': 2.814739477057233e-06,\n 'HearsayCrypto': 2.814739477057233e-06,\n 'Crypt_Analytics': 1.1622785815140072e-05,\n 'wintercooled': 2.612249739746491e-05,\n 'prospector477': 1.7850068215108516e-05,\n 'CryptoEnty': 1.1768894880236199e-05,\n 'nondualrandy': 3.210387745739289e-05,\n 'giftbac': 2.814739477057233e-06,\n 'kenmep': 2.814739477057233e-06,\n 'mpumehckzn': 2.814739477057233e-06,\n 'cryptaltd': 1.0730718433516632e-05,\n 'mcnicollme': 1.3163035116984112e-05,\n 'newsomenuggets': 1.7850068215108516e-05,\n 'RickRogersAZ': 1.412799845366038e-05,\n 'allenlubow1': 2.814739477057233e-06,\n 'kemalsoner322': 1.0572632717307095e-05,\n 'welt_japan': 1.7977497393486994e-05,\n 'landofcrypto': 1.2600940567365364e-05,\n 'g_liriano': 3.2316342591342726e-05,\n 'jorgesalcedo77': 1.1646887428854804e-05,\n 'PattiaGarder': 1.739883156576049e-05,\n 'DAVIDFERNANDES8': 2.814739477057233e-06,\n 'brucedkleinman': 2.2145195951588782e-05,\n 'SmlBizCloud': 1.1698736601631325e-05,\n 'BitcoinAntifa': 2.3226625284282018e-05,\n 'CryptoHourly': 1.7850068215108516e-05,\n 'memobarba': 2.9397306438361516e-05,\n 'jspeiser': 2.3269101758092133e-05,\n 'CryptoBartender': 2.814739477057233e-06,\n 'egor_kovl': 2.7333074592060465e-05,\n 'I1t2': 2.1163226852948987e-05,\n 'latinblocksok': 2.814739477057233e-06,\n 'cdotsport': 1.7850068215108516e-05,\n 'butterflyprofit': 2.814739477057233e-06,\n 'Ericreal9': 2.612249739746491e-05,\n 'CriptoNoticias': 4.3309044245023716e-05,\n 'rdmurer': 3.1961257295600476e-05,\n 'paidthruxchange': 3.3729302347459645e-05,\n 'fabriciobstos': 2.814739477057233e-06,\n 'kotsutre777': 1.1602889257064633e-05,\n 'pmullr': 1.7850068215108516e-05,\n 'cryptotrade_tv': 1.7850068215108516e-05,\n 'paynefulljessyk': 1.0634456257706214e-05,\n 'okabanele': 2.814739477057233e-06,\n 'roseana08': 1.7850068215108516e-05,\n 'Yamacoins': 1.7850068215108516e-05,\n 'oswinds_auth': 1.7850068215108516e-05,\n 'huichops': 1.7913782804297755e-05,\n 'RealtorInTheHam': 2.814739477057233e-06,\n 'MrTonyBones': 2.288807969891148e-05,\n 'BPGAG': 2.814739477057233e-06,\n 'SigP226': 2.814739477057233e-06,\n 'donny_yeoh': 1.4765144345552778e-05,\n 'pedrobaesso': 9.74273871128647e-06,\n 'neo4j': 2.9690031095841053e-05,\n 'CryptoYoda1338': 8.58188956986459e-05,\n 'sir_starr': 1.8423499517811672e-05,\n '32Trades': 1.7996080639312422e-05,\n 'jm602020': 1.396871198068728e-05,\n 'TracyBtc': 1.3046943420845651e-05,\n 'marksgzrl': 1.861464328537939e-05,\n 'am_delino': 2.814739477057233e-06,\n 'rtcsman1': 1.1522952381111079e-05,\n 'Info_Set2012': 2.644107034341111e-05,\n 'FR33Q': 1.899693082051483e-05,\n 'bitconomicsCom': 2.814739477057233e-06,\n 'CTA_Training': 1.8041211982676237e-05,\n 'NicholasdeVogel': 2.3311578110376317e-05,\n 'HurtPorterIII': 2.814739477057233e-06,\n 'LEELOOTrading': 2.814739477057233e-06,\n 'aBitcoinGirl': 2.2090419719580143e-05,\n 'wolf_unlock': 1.2855798438018587e-05,\n 'kenyanwalstreet': 1.1800749477300416e-05,\n '_RickJr_': 2.814739477057233e-06,\n 'papasone': 2.3184148688945966e-05,\n 'morenamosesi': 1.7913782804297755e-05,\n 'wealthdaily': 1.380942550771418e-05,\n 'LumLotus': 2.8289857437812513e-05,\n 'rayanmelo': 1.931550376646103e-05,\n 'criptobet': 2.814739477057233e-06,\n 'tonygreene113': 2.814739477057233e-06,\n 'badandbundy': 1.7850068215108516e-05,\n 'ParkBhai': 1.20715432251807e-05,\n 'seafarer124': 1.7850068215108516e-05,\n 'The_Mad_Oliver': 2.814739477057233e-06,\n 'Sachukwuma': 2.814739477057233e-06,\n 'merttokuc': 2.3269101515040267e-05,\n 'enw96321': 4.759098310100514e-05,\n 'Tibinki': 1.3841282802308801e-05,\n 'maui_manalo': 1.7913782804297755e-05,\n 'divianb': 3.1913468925931184e-05,\n 'BitBitCrypto': 1.9767870613560332e-05,\n 'SoNotHollyWood': 1.2643416798123612e-05,\n '1977mz_': 2.814739477057233e-06,\n 'covertress': 1.3777568213119557e-05,\n 'Rembrandt_972': 1.1539327322855522e-05,\n 'panoswoofer': 2.1158015780143186e-05,\n 'npr247': 1.7977497393486994e-05,\n 'lv_kekorian909': 1.7850068215108516e-05,\n 'CryptoLounge': 1.7850068215108516e-05,\n 'vyslmt': 2.042810044800915e-05,\n 'DigiEconomist': 1.7850068215108516e-05,\n 'debschleede': 2.2026706209403062e-05,\n 'SamOH1O': 1.8533702380802083e-05,\n 'ihatesprint81': 2.9816041122217353e-05,\n 'MAArildsen': 1.1004691017784406e-05,\n 'CapX': 1.3777568213119557e-05,\n 'mdiaak54': 1.7913782804297755e-05,\n 'PennyStocKingZ': 2.31841488104719e-05,\n 'marzzcsgo': 2.814739477057233e-06,\n 'bespoketwins': 3.0835458016709756e-05,\n 'Andre_Zsix': 2.814739477057233e-06,\n 'MacCrawf_': 1.7913782804297755e-05,\n 'GouldEric': 2.814739477057233e-06,\n 'Whtapl': 2.0334937193488866e-05,\n 'CJ_Today': 2.3396531057996546e-05,\n 'philip_kim83': 1.7913782804297755e-05,\n 'SVTVIPER': 2.0080453244573726e-05,\n 'elteenetwork': 2.814739477057233e-06,\n 'briankrebs': 1.7850068215108516e-05,\n 'VibinFM': 2.814739477057233e-06,\n 'MATRIXALIVE': 2.814739477057233e-06,\n 'Domie109': 1.2279763188522935e-05,\n 'Publica': 1.2579702330460305e-05,\n 'radar_crypto': 4.5407083097315013e-05,\n 'deepunomics': 2.06689303311236e-05,\n 'tangerinepw': 2.360891342704713e-05,\n 'TheCarCzarsPage': 2.814739477057233e-06,\n 'MercadoBitcoin': 2.9176941129785096e-05,\n 'pennystocKING13': 1.7977497393486994e-05,\n 'CazandoAirDrops': 1.8168641161054715e-05,\n 'Escape_Token': 1.0433918462482667e-05,\n 'Aquma': 2.488320314489104e-05,\n 'ElroyRadio': 2.814739477057233e-06,\n 'mhnzone': 2.6249926575843388e-05,\n 'ChaotixRocker': 1.1248324775869697e-05,\n 'kazzttor': 2.814739477057233e-06,\n 'ukala_flozof': 2.6313641165032624e-05,\n 'petcal55': 2.814739477057233e-06,\n 'cumispiss': 1.7850068215108516e-05,\n 'AfriFinance': 2.814739477057233e-06,\n 'sarathytweets': 2.814739477057233e-06,\n 'berne': 2.1568739334073805e-05,\n 'UpdatesBitcoin': 2.814739477057233e-06,\n 'kenc2001': 1.7850068215108516e-05,\n 'Khuzaim70020890': 2.814739477057233e-06,\n 'Gianpones': 1.1413111722278351e-05,\n 'twotoneams': 1.7850068215108516e-05,\n 'BitBily': 2.814739477057233e-06,\n 'ishamoney4568': 2.814739477057233e-06,\n 'GeorgeKrumm1': 1.7850068215108516e-05,\n 'ABAServes': 1.8232355750243955e-05,\n '0f9740119e16459': 2.6313641165032624e-05,\n 'CaptainBubba': 2.058746380820197e-05,\n 'BIEN22': 1.7850068215108516e-05,\n 'jgdthree': 2.814739477057233e-06,\n 'kaushikthallam': 1.7913782804297755e-05,\n 'GoudaOnMixer': 3.148249418385809e-05,\n 'KaKh90': 2.814739477057233e-06,\n 'dosgallos': 1.0117881511205719e-05,\n 'sagarghotekar': 1.7913782804297755e-05,\n 'ogunbiyiabel': 2.814739477057233e-06,\n 'stocks_twitte': 2.814739477057233e-06,\n 'Expz3': 2.814739477057233e-06,\n 'java_thahut': 1.889445955956211e-05,\n 'YowixClub': 2.6186211986654152e-05,\n 'Seymour60933801': 1.377756821311956e-05,\n 'massa_q': 2.814739477057233e-06,\n 'chiprodgers': 1.7850068215108516e-05,\n 'matt072': 2.814739477057233e-06,\n 'ricskinner': 2.612249739746491e-05,\n 'GetCoinAlerts': 2.3523959507219417e-05,\n 'MetatronInc': 2.0783601093426086e-05,\n 'AnAthenianToLDN': 2.0416533771190044e-05,\n 'Felipe_Polakie': 2.814739477057233e-06,\n 'Joyisaware': 1.9982301965650644e-05,\n 'MaisaCorp': 1.5627908152668712e-05,\n 'SumaCoins': 1.7934360080078718e-05,\n '_edilsonmoraes': 1.2643417041175481e-05,\n 'tonibrown': 1.7977497393486994e-05,\n 'iam_J3ff': 2.814739477057233e-06,\n 'OMGBryan123': 3.0334290348513493e-05,\n 'BullLogic': 1.7850068215108516e-05,\n '21_Million': 2.8428056252622707e-05,\n 'RyanJSod': 1.2502603582755376e-05,\n 'sharkcrypto': 4.3949040951116185e-05,\n 'e2echavez': 1.897667972420499e-05,\n 'zephel01_vc': 1.7913782804297755e-05,\n 'suibhnesuibhne': 1.8499299749246288e-05,\n 'wtfelisa': 1.2725712787742117e-05,\n 'TheNetwork4': 1.165855075537388e-05,\n 'donwar74': 1.377756821311956e-05,\n 'connect27': 1.8423499517811672e-05,\n 'MightyJoeYoung': 2.814739477057233e-06,\n 'brahanveda_diaz': 9.842592713400353e-06,\n 'oiguus': 1.377756821311956e-05,\n 'CharlieNewsome': 1.1832638406921826e-05,\n 'AbuLaaibah': 1.428728492663348e-05,\n 'kidmilwaukee1': 1.9716036134903418e-05,\n 'Trader_Richter': 2.2090421877604466e-05,\n 'Kamil_Wszolek': 1.052658791582371e-05,\n 'MiddleAmericaMe': 1.3841282802308801e-05,\n 'Decad3nce': 2.814739477057233e-06,\n 'doohnice': 2.814739477057233e-06,\n '45Trumpet': 2.339653081494468e-05,\n 'brunobar79': 2.814739477057233e-06,\n 'KingRippleXRP': 2.8311116691330136e-05,\n 'StheZweli': 1.396871198068728e-05,\n 'firdausneonexxa': 2.814739477057233e-06,\n 'ProTrader_Mike': 1.0818626086597263e-05,\n 'populationwatch': 1.7850068215108516e-05,\n 'raymondchung': 1.4000569275281901e-05,\n 'peteyarbro': 2.814739477057233e-06,\n 'IAmDoneUS': 2.814739477057233e-06,\n 'marklang9900': 1.2749607496545166e-05,\n 'BITECONOMY': 1.1540861534325608e-05,\n 'bradradio': 2.814739477057233e-06,\n 'estjpa59': 2.814739477057233e-06,\n 'didit218': 2.814739477057233e-06,\n 'GreekTrader777': 1.7850068215108516e-05,\n 'EvanRubinson': 2.0117342346825968e-05,\n 'ENIN_NewsWaver': 1.8041211982676237e-05,\n 'ZyiteGadgets': 2.3311577867324447e-05,\n 'CoindicatorBot': 1.995280289675531e-05,\n 'iamJaekwondo': 1.1649639161747468e-05,\n 'firatsimsek00': 1.7850068215108516e-05,\n 'theJessie21': 1.1784821639262227e-05,\n 'aaliyagoyel1': 2.814739477057233e-06,\n 'Beerhaze': 1.134018719547654e-05,\n 'ENIN_NW_Busines': 2.814739477057233e-06,\n 'engrMACpogi': 1.2648441260719389e-05,\n 'devnullant': 1.0721450042458696e-05,\n 'Bear_Randy': 1.7850068215108516e-05,\n 'BTRICorg': 2.6186211986654152e-05,\n 'rakMusali': 1.3406089360108187e-05,\n 'rajatdhar1': 2.814739477057233e-06,\n 'Odimarsilveira': 1.7850068215108516e-05,\n 'Si_Investor': 1.1845240889389673e-05,\n 'ErsunA': 2.814739477057233e-06,\n 'ShahulHame3d': 2.6186211986654152e-05,\n 'MarsKraaij': 2.814739477057233e-06,\n 'verretor': 1.2848238607730379e-05,\n 'Cloudunlock': 2.814739477057233e-06,\n 'hbatuhankurt': 2.814739477057233e-06,\n 'pulpmarkets': 2.2652557249061717e-05,\n 'VinceintheBay': 2.3388060478660763e-05,\n 'DamelonBCWS': 1.7850068215108516e-05,\n 'OysterProtocol': 1.2070883566259276e-05,\n 'KenOlohunloye': 2.814739477057233e-06,\n 'bananitin': 2.814739477057233e-06,\n 'sylvia769': 2.814739477057233e-06,\n 'BizInsiderMY': 2.814739477057233e-06,\n 'vraag_korting': 2.814739477057233e-06,\n 'icryptonian': 2.814739477057233e-06,\n 'bitcoinhardmon1': 2.7460503770438943e-05,\n 'kil3rer': 1.7977497393486994e-05,\n 'MHercie': 2.814739477057233e-06,\n 'vote_jack': 2.057064691819947e-05,\n 'FinanceBharata': 2.447917970307757e-05,\n 'mobis_philipose': 1.0525127125561234e-05,\n 'rajeshaj': 2.814739477057233e-06,\n 'Kirwin8888': 2.814739477057233e-06,\n 'F1_JV': 1.2081963432151618e-05,\n 'alex_paranahyba': 2.814739477057233e-06,\n 'shubhamdev': 2.814739477057233e-06,\n 'btc_ant': 2.814739477057233e-06,\n 'NilBrotto': 2.814739477057233e-06,\n 'VibeCS': 2.814739477057233e-06,\n 'antonreijinga': 2.814739477057233e-06,\n 'iwhosee': 1.9650155266137475e-05,\n 'EagleCrypto': 1.7850068215108516e-05,\n 'MeanHash': 2.1386891208727735e-05,\n 'pablo_gonzalez': 1.7850068215108516e-05,\n 'Hamsirou': 1.7850068215108516e-05,\n 'dewipress': 1.931550376646103e-05,\n 'ayrneto': 1.2150495692106572e-05,\n 'jhelst': 1.7850068215108516e-05,\n 'BTCpx': 1.212192839509605e-05,\n 'AllCoinEx': 1.390499739149804e-05,\n 'Craig_Pod': 2.814739477057233e-06,\n 'dmatrade': 1.7850068215108516e-05,\n 'cbillowes': 1.0964385949198069e-05,\n 'radit': 2.814739477057233e-06,\n 'AriffFaizal': 2.0701254941064757e-05,\n 'cryptoplankto': 2.814739477057233e-06,\n 'Aandrade_Rdz': 2.1098297389439795e-05,\n 'ViserCoin': 2.814739477057233e-06,\n 'smallpants_': 1.9663085790072947e-05,\n 'jlitwinetz': 1.3024679031434252e-05,\n 'FrankyDee1': 1.0341844567687865e-05,\n 'tribalchef73': 2.814739477057233e-06,\n 'TrnPhngTrng1': 2.814739477057233e-06,\n 'matheusbd': 1.1414947826674729e-05,\n 'chismiler1': 2.814739477057233e-06,\n 'yanksfb27': 1.1630845552975868e-05,\n 'PowerLunch': 1.7850068215108516e-05,\n 'TheGhosTMost': 1.1344371674038899e-05,\n 'MyCryptoDiary1': 2.814739477057233e-06,\n 'Da_Best_S': 1.1451988062670433e-05,\n 'DjJerryGarcia': 2.814739477057233e-06,\n 'contact_crypto': 1.7850068215108516e-05,\n 'robg426': 1.2616626047599111e-05,\n 'brick9589': 1.7850068215108516e-05,\n 'Nenetey_101': 2.814739477057233e-06,\n 'Nakoviak': 3.4189479157919485e-05,\n 'ArtofNoiseLove': 1.7850068215108516e-05,\n 'youyouxue': 1.2877037647131122e-05,\n 'w4yneKER': 1.7850068215108516e-05,\n 'jj__turner': 2.331157823190225e-05,\n 'mmurphy1234_m': 1.380942550771418e-05,\n 'thefutureisxrp': 1.7850068215108516e-05,\n 'hassiwebBitcoin': 2.814739477057233e-06,\n 'NkosiYamakosi': 1.8713324088561335e-05,\n 'LiveSquawk': 2.814739477057233e-06,\n 'TIGcommunity': 3.210460783794417e-05,\n 'jaimeotero_': 1.3777568213119557e-05,\n 'store_Hopee': 1.2086781102917333e-05,\n 'TopFiveTraders': 1.9736727724630084e-05,\n 'tristanervin_': 2.814739477057233e-06,\n 'OroniaAndy': 2.1135751065404687e-05,\n 'Dogecoin1dollar': 2.743731645605555e-05,\n 'MarcForrest': 2.814739477057233e-06,\n 'kaeruFX': 1.2520789640329873e-05,\n 'AndrewDev8383': 2.814739477057233e-06,\n 'VictorZubarev': 1.7850068215108516e-05,\n 'smfrick': 2.814739477057233e-06,\n 'tokyo_kanekisan': 2.814739477057233e-06,\n 'MsDarkz': 1.1788849268436971e-05,\n 'TALEB_AAD': 2.2415909614131014e-05,\n 'GRIPALITEBITCO': 2.814739477057233e-06,\n 'Lungu_Daniel': 1.4000569275281901e-05,\n 'Atulmaharaj': 3.1363272960232316e-05,\n 'mohitdujari': 1.3873140096903419e-05,\n 'jacksramos': 2.814739477057233e-06,\n '_495625260056': 1.2483782801645815e-05,\n 'billyskip': 2.1121666249145965e-05,\n 'ragranados': 1.8041211982676237e-05,\n 'bitcoinpoet': 1.7850068215108516e-05,\n 'd4ytrad3': 1.904634297261303e-05,\n 'tpopomaronis': 2.390624679930299e-05,\n 'MrSantana82': 2.814739477057233e-06,\n 'Lghara93': 1.3873140096903419e-05,\n 'Nux_90': 1.7977497393486994e-05,\n 'DaveNoh08': 2.814739477057233e-06,\n 'YourMomWantMe': 2.814739477057233e-06,\n 'Reddit_BTC': 1.7850068215108516e-05,\n 'ThePinkCrypto': 3.683837485477219e-05,\n 'ZuryLostBoyS': 1.7977497393486994e-05,\n 'successfullyhm': 2.814739477057233e-06,\n 'restoranbasha': 2.814739477057233e-06,\n 'CryptoChef_': 1.1390765178167228e-05,\n 'gigiiastrid': 1.7850068215108516e-05,\n 'RichTvAfrica': 2.276175935157917e-05,\n 'ViolinAndBit': 1.3873140096903419e-05,\n 'grauniad_news': 1.7913782804297755e-05,\n '_bitcoinmx': 1.8104926571865473e-05,\n 'EtherLink_ICO': 1.0404145780774234e-05,\n 'jjgiorgis': 2.814739477057233e-06,\n '_o__0_o_0__o_': 1.7850068215108516e-05,\n 'yashthakrar1996': 1.1236733998981878e-05,\n 'StafneLaw': 2.158807032699453e-05,\n 'UtilMktSource': 2.814739477057233e-06,\n 'DavidHodge': 1.84840050199434e-05,\n 'How2BuyCrypto': 1.7850068215108516e-05,\n 'Im_InkedUp': 2.6377355754221866e-05,\n 'xander76': 1.7850068215108516e-05,\n 'Bittylicious_': 2.814739477057233e-06,\n 'zedomax': 2.148637634971292e-05,\n 'Forbes': 9.384305667931107e-05,\n 'Doctor_Bitcoin': 1.380942550771418e-05,\n 'CryptoTony33': 1.7850068215108516e-05,\n 'Geysi_lora': 1.3777568213119557e-05,\n 'manuelegana': 2.09842774082299e-05,\n 'mrjleexx': 2.814739477057233e-06,\n 'SparkLabsCyber': 2.814739477057233e-06,\n 'ModMoneyMech': 1.0655638619261247e-05,\n 'GoldenRockTW': 2.814739477057233e-06,\n 'gunayfx': 1.2834560565691331e-05,\n 'ragsforex': 2.192804976426647e-05,\n 'snoopshalpy': 2.814739477057233e-06,\n 'Bitcoin_for_all': 2.132708987673982e-05,\n 'randalltemple': 2.814739477057233e-06,\n 'P_Pxx24': 1.7913782804297755e-05,\n 'SPrabhaker': 2.814739477057233e-06,\n 'BitcoinGlobes': 2.814739477057233e-06,\n 'Remi_Vladuceanu': 0.00011248521669782886,\n 'srbija_eu': 1.1210064757032421e-05,\n 'aaron_hoffman': 2.814739477057233e-06,\n 'RIGB2266': 1.7977497393486994e-05,\n 'CoinSignalBot': 2.3141672336661782e-05,\n 'Thildir': 1.7850068215108516e-05,\n 'EmPonthieu': 2.3566437074762946e-05,\n 'altcoinpapi': 1.895743483534942e-05,\n 'AkbarrShah': 1.178482271827439e-05,\n 'tbone019': 1.3841282802308801e-05,\n 'AmadoCruz': 2.814739477057233e-06,\n 'JSidersox': 1.9839473669324315e-05,\n 'penguwinwealth': 1.7913782804297755e-05,\n 'abhishinde99': 1.1795412589278435e-05,\n 'RYRODD': 1.1439344804636564e-05,\n 'debramurugun': 1.7977497393486994e-05,\n 'SaleemUsama': 2.2868779286145215e-05,\n 'DerekEastham83': 2.814739477057233e-06,\n 'patcologne11': 1.2210735811344153e-05,\n 'BitBlockReport': 1.7850068215108516e-05,\n 'tdybahamas': 2.6058782808275667e-05,\n 'OtterScotter': 1.908032396947313e-05,\n 'Tuff_Jon': 1.0430998987149229e-05,\n 'Rubencoin': 2.814739477057233e-06,\n 'ChrisDesutter': 1.0751168574874231e-05,\n 'BITertarian': 1.9818519235877224e-05,\n 'OWHopinion': 1.067677490996066e-05,\n 'Anri_NWFLT_TEST': 2.814739477057233e-06,\n 'Price_Alerts': 1.189098325354582e-05,\n 'RameezMir17': 2.814739477057233e-06,\n 'redakteur67': 1.3175936214557868e-05,\n 'racknine': 2.814739477057233e-06,\n 'FeryatBen': 2.3226625284282018e-05,\n 'BIGGESTPENNYST': 0.0003366806551996793,\n 'Shahinmridha6': 1.7850068215108516e-05,\n 'toutantic': 1.380942550771418e-05,\n 'Arabic_Group': 2.814739477057233e-06,\n 'CoinVedi': 2.814739477057233e-06,\n 'Patriciabe3003': 1.3841282802308801e-05,\n 'thealexgalaxy': 1.7850068215108516e-05,\n 'OhitsBIGRON': 1.2622178561218554e-05,\n 'silver_report': 1.380942550771418e-05,\n 'Jmcnasty7': 2.814739477057233e-06,\n '528Consulting': 2.6058782808275667e-05,\n 'CoinWaveIO': 2.814739477057233e-06,\n 'FM_20_20': 1.1127398884920635e-05,\n 'Shit4coin': 1.3841282802308801e-05,\n 'JerryChuay': 1.7913782804297755e-05,\n 'sanjeev8986': 1.390499739149804e-05,\n 'Bradley12293381': 2.3184148688945966e-05,\n 'PennyOaken': 1.3777568213119557e-05,\n 'sabbir2world': 1.377756821311956e-05,\n 'Lecturas24H': 1.4446571399606579e-05,\n 'ter_finansov': 2.814739477057233e-06,\n 'AirBitOfficial': 1.260094044583943e-05,\n 'AdamSinger': 1.268589278582999e-05,\n 'TommySikes': 2.6377355754221866e-05,\n 'MTIPodcast': 2.612249739746491e-05,\n 'nowires': 2.814739477057233e-06,\n 'bitcoinfirehose': 1.0726501784468513e-05,\n 'MamboLook': 2.814739477057233e-06,\n 'NoahConk': 1.3873140096903419e-05,\n 'amandajagg': 1.0471277913987373e-05,\n 'parabolictrav': 8.846250359349421e-05,\n 'BetivityGaming': 2.814739477057233e-06,\n 'Crypt_Oculto': 1.650084107039529e-05,\n 'GoldenGatewayUS': 1.380942550771418e-05,\n 'GetUdemyDeals': 1.3841282802308801e-05,\n 'Aquentson': 1.1384739123384692e-05,\n 'Kris39862610': 2.814739477057233e-06,\n 'profits_bitcoin': 1.1905681942664976e-05,\n 'renx025': 1.2111829331110916e-05,\n 'QuicksilverQR': 2.0650208180187367e-05,\n 'CryptooTrusted': 2.9516423739908918e-05,\n 'NAACPecon': 1.7913782804297755e-05,\n 'sen_axis': 2.1898719880027936e-05,\n 'galvileo': 1.1819841847536451e-05,\n 'FintechProwler': 1.174355283907128e-05,\n 'CryptoFuWealth': 2.814739477057233e-06,\n 'ant_tea': 2.9970326371843836e-05,\n '3X04N0N': 1.3841282802308801e-05,\n 'BloodDonation': 1.1624686239592892e-05,\n 'Veki551155': 2.797022048395286e-05,\n 'YiannisMiliatsi': 2.814739477057233e-06,\n 'realdoublebtcs': 2.6249926575843388e-05,\n 'mrtrhamilton': 2.814739477057233e-06,\n 'MarcPDumont': 1.1952862757003499e-05,\n 'RalfSuhr': 1.7913782804297755e-05,\n 'Intcomex_Mexico': 2.814739477057233e-06,\n '_criptoeconomia': 1.7850068215108516e-05,\n 'CNBCTradersFan': 1.1083953132316596e-05,\n 'YoCrypto': 1.1784821639262227e-05,\n 'ImpoweryWorld': 1.186962373137793e-05,\n 'BWResearch': 1.390499739149804e-05,\n 'AlexanderMike': 1.1847989510441374e-05,\n 'Darryl_108o': 1.1601668429313354e-05,\n 'LorolTrace': 2.814739477057233e-06,\n 'bitcoin_sokuhou': 3.44858054474163e-05,\n 'BryceWeiner': 3.9517683395558494e-05,\n 'FrancisCEllis': 1.3777568213119557e-05,\n 'Freddy6_figures': 2.814739477057233e-06,\n 'CryptoInvestido': 2.1932148945939166e-05,\n 'fuckCOINBASE': 2.814739477057233e-06,\n 'exame': 1.7850068215108516e-05,\n 'SoppyToffee': 1.7850068215108516e-05,\n 'FelixOHartmann': 2.869824319074668e-05,\n 'Cointelegraph': 0.0001293833682689063,\n 'ror_e13': 2.2368392126363918e-05,\n 'DCx7C5': 2.814739477057233e-06,\n 'JELtech_LLC': 2.1986345027565216e-05,\n 'swissgoldist': 1.7850068215108516e-05,\n 'CryptoisSexy': 1.2579702208934373e-05,\n 'peasantwizard': 1.7850068215108516e-05,\n 'messageboardusa': 1.377756821311956e-05,\n 'r_Buttcoin': 1.8970393084756226e-05,\n 'Mohitmcxkr': 2.814739477057233e-06,\n 'Hakhroid': 2.6058782808275667e-05,\n 'EricLagatta': 2.814739477057233e-06,\n 'factsnippet': 1.7977497393486994e-05,\n 'SempreVitorioso': 3.2366527138010415e-05,\n 'der_trader_at': 1.2579702330460305e-05,\n 'DeepikaBhushan': 1.7850068215108516e-05,\n 'DoomDumasZM': 2.163585165369086e-05,\n 'carlweston': 2.3226625162756084e-05,\n 'ACDANIELCO': 1.2508789965243367e-05,\n 'petersinguili': 1.8629610017149404e-05,\n 'DiddleRock': 1.8975712308725594e-05,\n 'alexchaps': 1.7850068215108516e-05,\n 'vcabs68': 2.814739477057233e-06,\n 'zachobront': 2.1138001224676634e-05,\n 'laboursen1': 2.814739477057233e-06,\n 'anti_minotaur': 2.063961308286753e-05,\n 'salahkhawaja': 1.7977497393486994e-05,\n 'BilalKamal18': 2.6313641165032624e-05,\n 'HavocGaming_YT': 2.0930633879197664e-05,\n 'MarvinStone': 2.9161299068770143e-05,\n 'TruePatriotNet': 1.1433076816807813e-05,\n 'AlgoryProject': 3.0517267673492874e-05,\n 'lydmila2502': 2.814739477057233e-06,\n 'thisnotatest': 2.218598351077278e-05,\n 'gaonkar_ashwin': 1.5988085207054e-05,\n '_DannyGibson': 1.2839559131995207e-05,\n 'wolf180888': 2.814739477057233e-06,\n 'tonyahardingjr': 2.046114855284786e-05,\n 'breakingknowlez': 2.814739477057233e-06,\n 'DevinSiebold': 2.3269101758092133e-05,\n 'marcosbernalpgh': 1.422357033744424e-05,\n 'ecoma_s': 2.814739477057233e-06,\n 'TectoGizmo': 2.814739477057233e-06,\n 'JeffEsTake': 3.8923081751748376e-05,\n 'CryptoCloth': 2.814739477057233e-06,\n 'philippedorier': 1.2813322936415945e-05,\n 'Dinesh_Budhrani': 2.814739477057233e-06,\n 'cyrus_moody': 1.7977497393486994e-05,\n 'paperghost': 1.7850068215108516e-05,\n 'gnudarwin': 2.814739477057233e-06,\n 'minzengwsj': 2.150215951474785e-05,\n 'mrapptech': 1.380942550771418e-05,\n 'paklungipin': 1.9466653629355084e-05,\n 'Fibozachi': 1.7850068215108516e-05,\n 'BitcoinBolt': 2.4059722354206982e-05,\n 'yogatahome': 2.814739477057233e-06,\n 'HKrammRealtor': 1.7913782804297755e-05,\n 'Resortfull': 2.612249739746491e-05,\n 'cryptoyoyo': 2.8515546911377013e-05,\n 'JoePotentier': 2.386377044701881e-05,\n 'MISTERO_MISTERI': 2.814739477057233e-06,\n 'nielsstrybos': 2.814739477057233e-06,\n 'DurvTM': 2.316673402607154e-05,\n 'francispouliot_': 5.688366460263542e-05,\n 'joshuanboles': 2.814739477057233e-06,\n 'RevaMarabunta': 3.49046432933352e-05,\n 'Bitcoin_NewsBTC': 1.9475865677247658e-05,\n 'McDuckCoin': 2.814739477057233e-06,\n 'ColetteDi': 2.122692028828224e-05,\n 'ryencookskicks': 2.814739477057233e-06,\n 'highertrust': 2.016278446094854e-05,\n 'sexpendable': 2.814739477057233e-06,\n 'Aarrun': 2.814739477057233e-06,\n 'FranzOrea': 2.6377355754221866e-05,\n 'apolloslater': 1.7850068215108516e-05,\n 'dannyrdee': 2.1376882682196723e-05,\n 'GabeStonewall': 1.2632450176420705e-05,\n 'josemperez': 1.1502946918154896e-05,\n 'ronrics': 2.814739477057233e-06,\n 'IzabelaFerraz19': 2.814739477057233e-06,\n 'Raghaven_Offl': 1.7913782804297755e-05,\n 'Lazariques': 2.814739477057233e-06,\n 'NeoNetWalker': 1.2095060941300902e-05,\n 'gpessia': 1.1509869164254245e-05,\n 'unfollow8151': 1.25113776974815e-05,\n '12MileGeo': 2.814739477057233e-06,\n 'mauriciob91': 3.56830607415524e-05,\n 'RealTimeCrypto': 3.653749152962749e-05,\n 'kennike1986': 2.1428816911865555e-05,\n 'bud56k': 1.5306718353661314e-05,\n 'BigRedMurphy': 2.6058782808275667e-05,\n 'bit_novosti': 3.2041508671820255e-05,\n 'BT0M': 2.814739477057233e-06,\n 'MoneyHealthFina': 1.1301029233675672e-05,\n 'chef_incali': 1.1013398118775544e-05,\n 'BColwell_ALT': 2.2018015658324326e-05,\n 'lifeoncoin': 1.5147431880688216e-05,\n 'RoyBit1': 2.814739477057233e-06,\n 'onchainfx': 1.1411537826718279e-05,\n 'vakibs': 2.814739477057233e-06,\n 'fintechfrank': 1.7850068215108516e-05,\n 'NotiPicante': 1.8742072463757872e-05,\n 'ronmc1': 2.178017981032443e-05,\n 'bestUStraders': 1.1168239904614057e-05,\n 'LosArticulistas': 1.0065793512650979e-05,\n 'TheyLive22': 1.2579702208934373e-05,\n 'BitcoinHerd': 2.814739477057233e-06,\n 'Gloeschi': 2.814739477057233e-06,\n 'bench_fashion': 2.886222473260222e-05,\n 'razingsages': 1.3777568213119557e-05,\n 'cryptosbuy': 1.0984668522100063e-05,\n 'wan0715': 1.2054782876744487e-05,\n 'WSBConsensus': 1.9050513463934676e-05,\n 'sampath_topc': 1.172034968812417e-05,\n 'timekord': 2.814739477057233e-06,\n 'Nysedaytraders': 1.1918215163369963e-05,\n 'MindfireXL': 2.814739477057233e-06,\n 'Flex__Trades': 3.01734945047684e-05,\n 'charlesaunger': 2.0792356226398328e-05,\n 'politicsngr': 2.814739477057233e-06,\n 'BitcoinBravado': 1.0383010310410547e-05,\n 'ngemberling': 1.3841282802308801e-05,\n 'InPennyStock': 1.1578752279438736e-05,\n 'MysticCrypto': 2.814739477057233e-06,\n 'TheBreen': 1.4478428694201199e-05,\n 'Austin_24': 4.3495645421637816e-05,\n 'SillyLilyPig': 1.380942550771418e-05,\n 'cryptomuse': 2.153166917133825e-05,\n 'Boxed08': 1.3777568213119557e-05,\n 'turbostocks': 1.0648590180090095e-05,\n 'RobThurlow': 1.632615178068915e-05,\n 'AlexParkerDC': 2.612249739746491e-05,\n 'REHAB_': 1.7913782804297755e-05,\n 'BitcoinsAcademy': 2.814739477057233e-06,\n 'halloussi': 2.814739477057233e-06,\n 'zoom2aditya': 1.3841282802308801e-05,\n 'CoachKorey3': 1.959599961503537e-05,\n 'tH3_GmAn': 1.7913782804297755e-05,\n 'luischacon': 1.605377248776835e-05,\n 'NotSeabass': 2.814739477057233e-06,\n 'BitcoinDiscover': 1.7913782804297755e-05,\n '_MisterSTEAPH': 1.3189984516981293e-05,\n 'BigMan_OnCampus': 2.348148400561678e-05,\n 'btc_manager': 2.6740458318041987e-05,\n 'manojpallai': 2.814739477057233e-06,\n 'erkankorkmaz': 1.7850068215108516e-05,\n 'bytesbymike': 2.814739477057233e-06,\n 'nubis_bruno': 2.9463520570337968e-05,\n 'AriDavidPaul': 3.022875689844277e-05,\n 'LuCaWAla': 2.814739477057233e-06,\n 'Decentralizd': 2.1532507582663573e-05,\n 'moonkiska': 1.1757246859422394e-05,\n 'WowCryptoMining': 2.447530183384309e-05,\n 'shindasingh': 2.675964328935731e-05,\n 'toomuch72': 1.390499739149804e-05,\n 'foxykodai': 1.2090711807820065e-05,\n 'TheBitZen': 1.7850068215108516e-05,\n 'lucas_simoesrj': 2.814739477057233e-06,\n 'Christine_S02': 1.9936485151949285e-05,\n 'BroadbandIowa': 1.1302950699865087e-05,\n 'TheMillennialMG': 1.5179289175282834e-05,\n 'BeerdHead': 1.967749848418515e-05,\n 'FomTarro': 2.814739477057233e-06,\n 'AltcoinJunky': 1.2036135999990088e-05,\n 'Winardi72804869': 1.1161296906988037e-05,\n 'CipheredBytes': 2.814739477057233e-06,\n 'KILLER77X': 1.7850068215108516e-05,\n 'DanielGschwend': 2.814739477057233e-06,\n 'MarketWatch': 3.38720923892374e-05,\n 'AndrianiLee': 1.3873140096903419e-05,\n 'TranLuffy': 2.814739477057233e-06,\n 'CyanWaves': 1.0971331724555658e-05,\n 'aWebAnalysis': 2.2018202322159838e-05,\n 'PetroOficial': 2.814739477057233e-06,\n 'yokonnson': 1.289827588403618e-05,\n 'brettarussell': 1.2600940324313495e-05,\n 'whotrades': 1.7913782804297755e-05,\n 'gordongreedgeko': 2.814739477057233e-06,\n 'MP281166': 2.814739477057233e-06,\n 'QuantofOne': 2.2070406733130714e-05,\n 'EdgardoWebDev': 2.814739477057233e-06,\n 'RyanPaisey': 1.0476665551336378e-05,\n 'BTC_Network': 2.814739477057233e-06,\n 'GladtobeSAHD': 2.814739477057233e-06,\n 'Invertia': 1.0791581433285022e-05,\n 'EconoCaos': 2.814739477057233e-06,\n 'digiruben': 1.7850068215108516e-05,\n 'Cryptopoker_': 1.7850068215108516e-05,\n 'cryptoknocks': 2.6355540104726057e-05,\n 'AlertCoin': 1.2420068212456572e-05,\n 'Kilgoar': 2.048540419572787e-05,\n 'sharawa14': 1.7977497393486994e-05,\n 'TJ_DiMarzio': 3.445864116901054e-05,\n 'DEW910126': 1.7913782804297755e-05,\n 'ThePacificast': 2.814739477057233e-06,\n 'antinoamuzu': 1.3873140096903419e-05,\n 'aktif_haber': 1.377756821311956e-05,\n 'ZorTrades': 1.380942550771418e-05,\n 'TheStatesmanLtd': 2.0099965372933968e-05,\n 'MehediAnisa5487': 1.7913782804297755e-05,\n '1210WPHT': 1.7913782804297755e-05,\n 'CasaDeCambioBTC': 1.7850068215108516e-05,\n 'TrackLess_': 1.7850068215108516e-05,\n 'pilitiano': 1.1754205337285488e-05,\n 'plaindude': 1.7913782804297755e-05,\n 'The_Economiss': 1.7850068215108516e-05,\n 'betterhn50': 1.2973730367510428e-05,\n 'GoldenBor26': 2.814739477057233e-06,\n 'WirtschaftDE': 2.814739477057233e-06,\n 'davidwbcutler': 2.644107034341111e-05,\n 'CaseiroP': 1.2685893393459663e-05,\n 'TiG2G': 1.7913782804297755e-05,\n 'Alexander2Turnt': 1.7850068215108516e-05,\n 'MrKatz': 2.117941484369374e-05,\n 'cryptoNoozzy': 1.380942550771418e-05,\n 'brianNphan': 1.7850068215108516e-05,\n 'politicalHEDGE': 1.2483782801645815e-05,\n 'EricaBocian': 2.814739477057233e-06,\n 'JanJohnsonFL': 2.814739477057233e-06,\n ...}"
          },
          "metadata": {}
        }
      ]
    },
    {
      "cell_type": "code",
      "metadata": {
        "tags": [],
        "cell_id": "00011-b0147804-1637-4e14-bbba-be1f78a46d93",
        "deepnote_to_be_reexecuted": false,
        "source_hash": "848d041a",
        "execution_start": 1619477497861,
        "execution_millis": 41,
        "deepnote_cell_type": "code"
      },
      "source": "pr_tuples = [(k, v) for k, v in pr.items()]\npr_tuples_sorted = sorted(pr_tuples, key=lambda x : x[1], reverse=True)",
      "execution_count": null,
      "outputs": []
    },
    {
      "cell_type": "code",
      "metadata": {
        "tags": [],
        "cell_id": "00014-84c1b9ec-657f-4610-8d05-e704a36ff772",
        "deepnote_to_be_reexecuted": false,
        "source_hash": "3e398a08",
        "execution_start": 1619477511821,
        "execution_millis": 9,
        "deepnote_cell_type": "code"
      },
      "source": "pr_tuples_sorted",
      "execution_count": null,
      "outputs": [
        {
          "output_type": "execute_result",
          "execution_count": 24,
          "data": {
            "text/plain": "[('kucoincom', 0.0010437978905568793),\n ('BitCoin_Invest_', 0.0005732812826451753),\n ('KEEMSTAR', 0.0005373791020401296),\n ('pixelatedboat', 0.0005098920411553563),\n ('Boogie2988', 0.0004938558535471415),\n ('ljxie', 0.0004838704686006639),\n ('RealJamesWoods', 0.0003636905375672835),\n ('SantManukyan', 0.0003409106936462122),\n ('marketcapbot', 0.00034051275529188417),\n ('justinsuntron', 0.0003388943157118996),\n ('BIGGESTPENNYST', 0.0003366806551996793),\n ('terracid', 0.0003017592623090677),\n ('ArminVanBitcoin', 0.0002967251599693826),\n ('coindesk', 0.0002566245158138176),\n ('xp_jpy', 0.00025277619715676283),\n ('CryptoMichNL', 0.0002453735897486776),\n ('SatoshiLite', 0.00023968236463094798),\n ('KuCoinUpdates', 0.00022791075737784423),\n ('TechnicallyRon', 0.00022462305245482393),\n ('bethereumteam', 0.00021376364942694335),\n ('jacksfilms', 0.0002109803752654071),\n ('spectatorindex', 0.0002053803752734518),\n ('PeterLBrandt', 0.00020175824735464682),\n ('NowBitcoinPrice', 0.00019432892063262652),\n ('MichaelSuppo', 0.0001886811922178796),\n ('pushpendrakum', 0.00018808546000423736),\n ('LukeDashjr', 0.00018009785458379565),\n ('squawkfox', 0.00017246316620596206),\n ('digifinex', 0.00017036837482627625),\n ('bennyjohnson', 0.00016645016833454341),\n ('dentcoin', 0.00016318551666535968),\n ('jebus911', 0.0001602233025085813),\n ('BSD_Masternode', 0.00015228997119412317),\n ('LandM_Marius', 0.00014742559995611977),\n ('maxkeiser', 0.00014192209160810847),\n ('MrMichaelNye', 0.00014177789328074925),\n ('oleganza', 0.0001377838527126528),\n ('edwardmorra_btc', 0.00013329035898618964),\n ('APompliano', 0.00013314479477896825),\n ('Cointelegraph', 0.0001293833682689063),\n ('coin_post', 0.00012898779228007578),\n ('ZeusZissou', 0.0001287821396533968),\n ('cryptomanran', 0.0001252425063490892),\n ('ToneVays', 0.00012458397435239073),\n ('cburniske', 0.00012203714497533535),\n ('Tradermayne', 0.00011952794509925506),\n ('BitcoinBirch', 0.00011699966681412728),\n ('saifedean', 0.00011677409081805805),\n ('WhalePanda', 0.00011635684966646849),\n ('HuobiGlobal', 0.00011425300558578508),\n ('etherflyercom', 0.00011368580269445953),\n ('DavidNdii', 0.00011363049187899608),\n ('CryptoCred', 0.00011350848559672853),\n ('DolarPromedio', 0.0001125080085493104),\n ('Remi_Vladuceanu', 0.00011248521669782886),\n ('greentoepalacio', 0.00010998436155278509),\n ('CryptoDonAlt', 0.00010957040226539555),\n ('EcexExchange', 0.0001091783957873801),\n ('Blockchainlife', 0.00010805028017819709),\n ('ColossusCoinXT', 0.00010699394571958059),\n ('business', 0.00010693223628936092),\n ('Andy_Hoffman_CG', 0.00010587236597022596),\n ('cryptoSqueeze', 0.00010474475060927066),\n ('skiIIer', 0.00010338594286102279),\n ('altcoinrookie', 0.0001031115144654371),\n ('pierre_rochard', 0.00010233382558670405),\n ('giacomozucco', 0.00010226484970668812),\n ('narumi_btc', 0.00010119418857257142),\n ('TraceMayer', 0.00010044211929513749),\n ('devonspinnler', 9.978859106064546e-05),\n ('xtiandela', 9.977426511248598e-05),\n ('onderseren', 9.845454998504408e-05),\n ('Poloniex', 9.761897832246301e-05),\n ('AirWireOfficial', 9.517280372872008e-05),\n ('johnkim77', 9.488428730263305e-05),\n ('loomdart', 9.473675447014167e-05),\n ('Forbes', 9.384305667931107e-05),\n ('JPB_crypto', 9.323182369886053e-05),\n ('rogerkver', 9.277941594256826e-05),\n ('cointrend_jp', 9.2518903930625e-05),\n ('bitstein', 9.132517003436545e-05),\n ('CoinDeskMarkets', 9.112346950960246e-05),\n ('alistairmilne', 9.015577537798425e-05),\n ('CobraBitcoin', 9.008908400925356e-05),\n ('parabolictrav', 8.846250359349421e-05),\n ('btcseminar', 8.82761931197448e-05),\n ('DolarTrue_', 8.780373228762199e-05),\n ('nvk', 8.778103088801184e-05),\n ('osiriscosmos', 8.775420422026277e-05),\n ('Kazmax_83', 8.77175461197285e-05),\n ('Blockshipping', 8.770324366875643e-05),\n ('HubrisOne', 8.763230873436855e-05),\n ('Beautyon_', 8.758578117811568e-05),\n ('CNBCFastMoney', 8.739507445516148e-05),\n ('theonevortex', 8.65336098987788e-05),\n ('internetofshit', 8.645547697123014e-05),\n ('BTCTN', 8.621085860926606e-05),\n ('merfymerf', 8.601392879620579e-05),\n ('CryptoYoda1338', 8.58188956986459e-05),\n ('Josh_Rager', 8.528435674058859e-05),\n ('aencoin', 8.407826964591095e-05),\n ('LeeR912', 8.35074500087082e-05),\n ('qurrex', 8.304005611863274e-05),\n ('fidelitas_lex', 8.302853048175106e-05),\n ('real_vijay', 8.194482789203618e-05),\n ('PandaofBinance', 8.192256339978068e-05),\n ('Selcoin', 8.142718328325492e-05),\n ('mikerelentless', 8.076113421714156e-05),\n ('RedditBTC', 8.065862482091755e-05),\n ('officialmcafee', 8.048961461351116e-05),\n ('gMAKcrypto', 7.976317162276311e-05),\n ('360_trader', 7.967059665799913e-05),\n ('murthaburke', 7.862227732458022e-05),\n ('crypto_bobby', 7.791090624806812e-05),\n ('InfoNebeus', 7.657794277522778e-05),\n ('Coin3t', 7.589963788695335e-05),\n ('TheGemClub', 7.555152450974149e-05),\n ('asymmetricinfo', 7.544918988379112e-05),\n ('joaoluisjr', 7.531046422222667e-05),\n ('Xentagz', 7.527329347032203e-05),\n ('holochainnews', 7.511337729627056e-05),\n ('Peurtoken', 7.510699088361287e-05),\n ('zerohedge', 7.503635350502837e-05),\n ('vc_koyori', 7.407444552633594e-05),\n ('CryptoCret', 7.405326241878499e-05),\n ('TheCryptomist', 7.405201803719216e-05),\n ('komochi4xamo', 7.402845569349131e-05),\n ('BitmainCash', 7.375236550448645e-05),\n ('lopp', 7.28311458329977e-05),\n ('bcrypt', 7.277741717642367e-05),\n ('jiatolentino', 7.225590626212773e-05),\n ('VentureCoinist', 7.19473525480115e-05),\n ('themattcastro', 7.19379468526287e-05),\n ('ftec_found', 7.18285703159617e-05),\n ('coin_sight', 7.146489959081101e-05),\n ('whalepool', 7.127165943181809e-05),\n ('kinky_cutie_', 7.086589017885597e-05),\n ('WeissRatings', 7.078827528873635e-05),\n ('gladiusIO', 7.061226760695769e-05),\n ('babybr4t', 7.012804585430938e-05),\n ('KumaKumatw', 7.004737754113177e-05),\n ('Egon_01', 6.981191549815134e-05),\n ('AceOfWallStreet', 6.944084795855836e-05),\n ('ProSyndicate', 6.81666735702489e-05),\n ('AvciBalinalar', 6.808972071435468e-05),\n ('benerkanoz', 6.79196607394036e-05),\n ('ReformedBroker', 6.781245828355018e-05),\n ('ErikVoorhees', 6.703655596382344e-05),\n ('_jonasschnelli_', 6.689677558305067e-05),\n ('obussmann', 6.613409495638375e-05),\n ('________jeremy', 6.59688803396998e-05),\n ('coin_comments', 6.594527537967248e-05),\n ('KillerpassBOTS', 6.59248283583362e-05),\n ('RNR_0', 6.583090787729793e-05),\n ('CryptoSays', 6.580569841221109e-05),\n ('OsmanAgzikara', 6.554183428140366e-05),\n ('BitMartExchange', 6.529294954861747e-05),\n ('globitex_', 6.48323978983839e-05),\n ('BelensayFinans', 6.465333760922413e-05),\n ('Shahidmasooddr', 6.46478722886618e-05),\n ('kickcity_io', 6.451429838424525e-05),\n ('MoneyToken', 6.442348087507379e-05),\n ('litebiteu', 6.41278413549085e-05),\n ('Fullbeerbottle', 6.323875382467203e-05),\n ('short_vs_long', 6.302231865267951e-05),\n ('CaribBusiness', 6.282229400459365e-05),\n ('sparkle_trader', 6.268819748031789e-05),\n ('Crypto_Ed_NL', 6.257786547507033e-05),\n ('BitcoinMagazine', 6.249601187226082e-05),\n ('AnkorusGlobal', 6.20167632437272e-05),\n ('bitcoin_token', 6.191332945829799e-05),\n ('StefanKRGR', 6.188759044857298e-05),\n ('Monarchtoken', 6.145580431191522e-05),\n ('BitcoinCom', 6.144433325807586e-05),\n ('jpy', 6.126447221582924e-05),\n ('MatiGreenspan', 6.081621912731537e-05),\n ('BigCheds', 6.009211260433846e-05),\n ('RipplePandaXRP', 5.973776576604403e-05),\n ('RichardHeartWin', 5.956068198637255e-05),\n ('misir_mahmudov', 5.937475294946015e-05),\n ('_samuel_swinton', 5.8596675654254204e-05),\n ('CNBC', 5.849937879582058e-05),\n ('Anirudh_Astro', 5.79299102370414e-05),\n ('CRYP7KEEPER', 5.783103558916438e-05),\n ('BigChonis', 5.7776306298098305e-05),\n ('TronColony', 5.7631788594388444e-05),\n ('Mr_CaptnObvious', 5.754899254093651e-05),\n ('zloadr', 5.733197308874132e-05),\n ('coinkafasi', 5.719352854323197e-05),\n ('LisaNEdwards', 5.6948083371255345e-05),\n ('francispouliot_', 5.688366460263542e-05),\n ('coin_chart', 5.670798808088023e-05),\n ('OnWindowly', 5.664593995333848e-05),\n ('CoinPulseEx', 5.637080002243033e-05),\n ('OdysseyOCN', 5.631303265832118e-05),\n ('conemaru_btc', 5.624243697039944e-05),\n ('uzmancoin', 5.6221562486804194e-05),\n ('CCNMarkets', 5.581378322336789e-05),\n ('MPCXPlatform', 5.571541958637533e-05),\n ('TheCryptoDog', 5.56808886411009e-05),\n ('FranciscoMemor', 5.5572280257901903e-05),\n ('devilscompiler', 5.550362416325262e-05),\n ('CarpeNoctom', 5.539516962278638e-05),\n ('nic__carter', 5.538072165473143e-05),\n ('fxcanli', 5.537651599919345e-05),\n ('btc', 5.53320172626114e-05),\n ('vedicnorm', 5.5331237042260545e-05),\n ('CryptoCoinsBoss', 5.529215349550999e-05),\n ('mhiconsult', 5.5252023181412335e-05),\n ('PhilakoneCrypto', 5.5096412197576374e-05),\n ('FRONZ1LLA', 5.506941298850589e-05),\n ('WatsonsReports', 5.4876502577132764e-05),\n ('erikfinman', 5.4830105946828725e-05),\n ('VinnyLingham', 5.4294521760659274e-05),\n ('M_R_X_4', 5.402307816293153e-05),\n ('bsmith12251960', 5.400711100014363e-05),\n ('CrbkOfficial', 5.3934370636428364e-05),\n ('neko03122', 5.3797936059386734e-05),\n ('_blockandchain_', 5.3740589580489793e-05),\n ('Forchielli', 5.3698348090540116e-05),\n ('BitcoinSofia', 5.3645307055023245e-05),\n ('MonitorDolarVe', 5.3556618107277255e-05),\n ('jennyhoff', 5.353251680771739e-05),\n ('xwaav', 5.330602392085707e-05),\n ('HsakaTrades', 5.2996634987868377e-05),\n ('coinexcom', 5.298193059354669e-05),\n ('Temroytoken', 5.2860455297312376e-05),\n ('lorenzofb', 5.2683527467419904e-05),\n ('getongab', 5.2660504281880814e-05),\n ('EthereumLimited', 5.256797603381604e-05),\n ('ryaneshea', 5.2562745670826005e-05),\n ('pacuum', 5.2553334563337575e-05),\n ('CoinCapsAi', 5.250787148725111e-05),\n ('onudabitirin', 5.2463919696202674e-05),\n ('SMcCullah', 5.2427917497264366e-05),\n ('Bitinvestor2', 5.2306140421426504e-05),\n ('TronSpark', 5.229821516444298e-05),\n ('kumar_farhan', 5.229538020174878e-05),\n ('BitcoinErrorLog', 5.22318167782867e-05),\n ('AktugTemel', 5.219158532382535e-05),\n ('LaloEscudero', 5.206106392487473e-05),\n ('swissborg', 5.2010647000031e-05),\n ('roshiyandi', 5.1973341530206e-05),\n ('JatanLodhi', 5.189550378237269e-05),\n ('TheStalwart', 5.178990516810637e-05),\n ('CanX1Y', 5.1763820078481874e-05),\n ('BenNuelle', 5.176052392403615e-05),\n ('kyletorpey', 5.1760011925040375e-05),\n ('HuobiJapan', 5.174126987528965e-05),\n ('mehmethamdibol', 5.161717416280738e-05),\n ('henashamp', 5.1581050045071704e-05),\n ('crypto_birb', 5.156953528252746e-05),\n ('jratcliff', 5.130621903893402e-05),\n ('Zeex_me', 5.125055468278128e-05),\n ('tokenpay', 5.097958182989653e-05),\n ('LiveSignalTrade', 5.092741173977999e-05),\n ('shu_BSV', 5.0916838551902366e-05),\n ('ercwl', 5.08428487336184e-05),\n ('sangye', 5.0842527200993173e-05),\n ('asens_inc', 5.083290738092612e-05),\n ('TrueCrypto28', 5.08171288539118e-05),\n ('JobsIzaya', 5.080112708927162e-05),\n ('LitecoinDotCom', 5.0722979106136255e-05),\n ('CryptoChoe', 5.0703155479444456e-05),\n ('BrilliantMarine', 5.067428866338098e-05),\n ('LilUziVertcoin', 5.0557497409398654e-05),\n ('mimarbella', 5.043458218804166e-05),\n ('SpritzCoin', 5.0430119008609055e-05),\n ('xtradeio', 5.0191672185968875e-05),\n ('SithuuN', 5.018915183914003e-05),\n ('kevingaspar', 5.0088369239566364e-05),\n ('crypto_sarah9', 4.992798322454448e-05),\n ('ElixiumCapital', 4.990248130285263e-05),\n ('WilliamIkiabo9', 4.983378769733967e-05),\n ('robsattler', 4.9816404563611736e-05),\n ('_capital_club', 4.981627530697729e-05),\n ('BBCSport', 4.972706795283638e-05),\n ('ojeconomico', 4.965845462828566e-05),\n ('LUGOL31646095', 4.9625962877297155e-05),\n ('6BillionPeople', 4.955827179785151e-05),\n ('brave_thunders', 4.954197048470195e-05),\n ('kripto_teknik', 4.9435175133913614e-05),\n ('crypto_mountain', 4.926730165163943e-05),\n ('ZeusOfCrypto', 4.919194142247185e-05),\n ('DougPolkPoker', 4.91850392055848e-05),\n ('KameronMazurek', 4.918095280462021e-05),\n ('DAJUAN_DON', 4.917985773878231e-05),\n ('Cj11197', 4.917769309972726e-05),\n ('asean_today', 4.9126031140360984e-05),\n ('decredproject', 4.908098017144284e-05),\n ('kraljulien', 4.895795327529518e-05),\n ('matyr3al', 4.891363804146535e-05),\n ('Tronfoundation', 4.886054811794006e-05),\n ('arp_network', 4.871652341845807e-05),\n ('bakuagecoin', 4.870433785757486e-05),\n ('RainerTD', 4.865661091904565e-05),\n ('Vertexplatform', 4.859983305298409e-05),\n ('ConTVReal', 4.859879861992975e-05),\n ('AlexSaundersAU', 4.846501254646184e-05),\n ('BitcoinGuruInfo', 4.8339655985072305e-05),\n ('C4liCrypto', 4.8262091413622636e-05),\n ('PACcoinOfficial', 4.825799984083314e-05),\n ('prettyplusmore', 4.822737456593206e-05),\n ('btc_future_', 4.8185818210010514e-05),\n ('pynk_io', 4.810932337933839e-05),\n ('dayapal84', 4.808578890597537e-05),\n ('xthedudeguyx', 4.78279462445246e-05),\n ('ITBP_official', 4.7762351342783976e-05),\n ('CasaHODL', 4.773186943019357e-05),\n ('enw96321', 4.759098310100514e-05),\n ('BitcointokenG', 4.7548749214780005e-05),\n ('lite_crypto', 4.752293339856777e-05),\n ('nickmacd89', 4.744594995137069e-05),\n ('bitlaunchio', 4.7189352588904e-05),\n ('FraudWatchZA', 4.713695549243118e-05),\n ('Pelina_btc', 4.707235919450667e-05),\n ('LegendOfCrypto', 4.693467981963608e-05),\n ('CoinDelisi', 4.687247336071595e-05),\n ('AscendedTrader', 4.685380911069718e-05),\n ('FuzzBuzzNL', 4.684095585740283e-05),\n ('xenzor1', 4.6801635888720194e-05),\n ('vulken17', 4.659125887391792e-05),\n ('itsrussh_', 4.653222009756414e-05),\n ('ETH1226', 4.650872209905412e-05),\n ('cdnstoxman', 4.650429281357431e-05),\n ('artech_digital', 4.6421058863928334e-05),\n ('CambridgeJBS', 4.641315152910846e-05),\n ('pavolrusnak', 4.638242071452609e-05),\n ('cryptcoin_trade', 4.63490258251035e-05),\n ('GymRewards', 4.6328328887487036e-05),\n ('Zeroformal', 4.632094815343685e-05),\n ('SGTreport', 4.629918715866179e-05),\n ('csuwildcat', 4.6261369027141916e-05),\n ('ChartVampire', 4.6199302667482395e-05),\n ('PeterMcCormack', 4.616953993765888e-05),\n ('TheCryptoMonk', 4.614588586286308e-05),\n ('mrjberlin', 4.6057702859175554e-05),\n ('Aoi_MAGA', 4.604709058961955e-05),\n ('Bitcoin_Beyond', 4.585717911665049e-05),\n ('CryptoCoinShee1', 4.5834915084576814e-05),\n ('CedexOfficial', 4.579926057306217e-05),\n ('DonCryptoDraper', 4.578833819595795e-05),\n ('hodlonaut', 4.573548650580434e-05),\n ('bitcoinprivate', 4.5730754491262636e-05),\n ('finbloq', 4.565188585284824e-05),\n ('BIGMONEYMIKE6', 4.564809118809967e-05),\n ('PhillipNunnUK', 4.564536232280472e-05),\n ('aapldotio', 4.561878276729569e-05),\n ('LisaLemieuxME', 4.5598226864882734e-05),\n ('IncProfit', 4.5511069454995315e-05),\n ('perrymalta', 4.5510411559734436e-05),\n ('GossiTheDog', 4.5497823643940264e-05),\n ('lucadroi70', 4.547110371498099e-05),\n ('juanpgarciac', 4.54542765645701e-05),\n ('Free17165732', 4.544114896448562e-05),\n ('radar_crypto', 4.5407083097315013e-05),\n ('Alelaptev', 4.5309496483434235e-05),\n ('BookcoinShop', 4.517097658249062e-05),\n ('Razbar_', 4.5159397222983014e-05),\n ('trunghieua25', 4.509644339929945e-05),\n ('CalvinAyre', 4.5085874140288474e-05),\n ('BitcoinVirus', 4.5065965999427804e-05),\n ('WPPFFNbIE7S0AJi', 4.5026386485231824e-05),\n ('Beccalynnohhayy', 4.5002522144757126e-05),\n ('oyeyemmy5', 4.484699359777052e-05),\n ('UltrascanKPO', 4.484456544197261e-05),\n ('WillyWonkaXRP', 4.483355340439207e-05),\n ('eBitcoinSilver', 4.481278890255819e-05),\n ('kizilprofil', 4.479675736079892e-05),\n ('x3CKSx', 4.472402984001166e-05),\n ('WorldCryptoNet', 4.468463206524687e-05),\n ('jchervinsky', 4.4645933486835957e-05),\n ('Coretex666', 4.461743863963281e-05),\n ('sacca', 4.4589565800904436e-05),\n ('AreaCripto', 4.4580235735353184e-05),\n ('RequestNetwork', 4.452786471071906e-05),\n ('KevinApproach', 4.4494381858769524e-05),\n ('FMunawwir', 4.4490384452421113e-05),\n ('nojitarou', 4.44324558415103e-05),\n ('Kieran_Owen1', 4.4429844704720075e-05),\n ('ThinkingUSD', 4.441487366160075e-05),\n ('CryptoPriceBot_', 4.440684878205934e-05),\n ('crypto_nak', 4.4402531925563424e-05),\n ('estebanglas', 4.4388983055614745e-05),\n ('_Peculium', 4.434954587635879e-05),\n ('FBlockchainCen', 4.4323935081097936e-05),\n ('ChartChampions', 4.4264229691614885e-05),\n ('EtheraCoin', 4.424966342901999e-05),\n ('jmagsKC1', 4.424339906281092e-05),\n ('HPB_Global', 4.424269310556705e-05),\n ('PekkaJunes', 4.421839907323162e-05),\n ('timfelsky', 4.417540556525336e-05),\n ('SDWouters', 4.4132791313530215e-05),\n ('GamalielBaer', 4.4132791313530195e-05),\n ('LucidInvestment', 4.412765452927368e-05),\n ('bitcoinist', 4.409346460794062e-05),\n ('bealiza', 4.407015033734555e-05),\n ('bitvalve', 4.400238827643187e-05),\n ('danielsills6', 4.397692984999732e-05),\n ('sharkcrypto', 4.3949040951116185e-05),\n ('CryptoBac', 4.3934550192156086e-05),\n ('Anakxtu', 4.390757300158814e-05),\n ('bitcoinstarzsa', 4.389334436541497e-05),\n ('vexanium', 4.389213834433044e-05),\n ('Reuters', 4.3885734088455446e-05),\n ('alenkamarti', 4.388515688673214e-05),\n ('whalewatchio', 4.3882989144520026e-05),\n ('BitcoinLinksNet', 4.387793295677325e-05),\n ('cryptsheets', 4.386467047979399e-05),\n ('BashCo_', 4.385897751482874e-05),\n ('Nastee79', 4.3847401320864225e-05),\n ('ImNotTheWolf', 4.383794579492128e-05),\n ('BTC_Macro', 4.382852638141105e-05),\n ('NoahSneider', 4.381421836758402e-05),\n ('Larsofhaus1', 4.3797850829647446e-05),\n ('asricardo', 4.376782333208009e-05),\n ('jcatino', 4.373136713154782e-05),\n ('btcWhaleclub', 4.372080328418494e-05),\n ('TccExpects', 4.3699966211281756e-05),\n ('TzMaropexzy', 4.3640595539911835e-05),\n ('jimcramer', 4.362364428220295e-05),\n ('BitfuryGeorge', 4.361527199959217e-05),\n ('cryptoWalk3r', 4.3614341630566467e-05),\n ('skierJP1', 4.3610172590937836e-05),\n ('AzulVerdadero1', 4.360844407622007e-05),\n ('cryptoarmy_jp', 4.3596470909647445e-05),\n ('salonium', 4.357998770651168e-05),\n ('Socal_crypto', 4.356942437952129e-05),\n ('RaphaFigueredo', 4.352985711574346e-05),\n ('ChristianDobrof', 4.352227870240706e-05),\n ('Austin_24', 4.3495645421637816e-05),\n ('FT', 4.3455494977289445e-05),\n ('obitlatam', 4.3429384104823936e-05),\n ('ABCC_Exchange', 4.339748171012094e-05),\n ('AngelSDI782', 4.3395902704418404e-05),\n ('YoloWorldorg', 4.333127314323747e-05),\n ('CriptoNoticias', 4.3309044245023716e-05),\n ('DamianProsa', 4.330149383729506e-05),\n ('t_gokuraku_1040', 4.329253496260319e-05),\n ('analyst5_bot', 4.3292093913259444e-05),\n ('SMToolsGo', 4.3265338512139455e-05),\n ('bitexlive', 4.325443254173363e-05),\n ('hodl_queen', 4.324078706488085e-05),\n ('opciones360', 4.324078706488084e-05),\n ('cischaba', 4.3217602559872085e-05),\n ('Rohman78358876', 4.319459613618142e-05),\n ('cronenburner', 4.3132032965251026e-05),\n ('tangleblog', 4.312871118818927e-05),\n ('arabdotorg', 4.3117102556936516e-05),\n ('FantomFDN_KR', 4.3113357886502374e-05),\n ('andrewmbarron', 4.299819181031107e-05),\n ('Thrillmex', 4.2996357230076906e-05),\n ('CaptinBitcoin', 4.2991012175922206e-05),\n ('cryptoc_cheap', 4.2980816597561704e-05),\n ('Dirkyyyy', 4.297293364115905e-05),\n ('Aylin26569153', 4.2963102195204585e-05),\n ('opensorceguinea', 4.292221411893464e-05),\n ('LeoBitman', 4.285849952974542e-05),\n ('saaaimen', 4.28348204952524e-05),\n ('Chart_Ace', 4.282739179737999e-05),\n ('RickyRoma0', 4.282545355706778e-05),\n ('HablandoBitcoin', 4.281661093568018e-05),\n ('chrisyeh', 4.280881732818893e-05),\n ('funstuff_247', 4.280878929699788e-05),\n ('mixkeepr', 4.280625803983735e-05),\n ('mimaraslan', 4.280618019238952e-05),\n ('IOStoken', 4.2802208331102696e-05),\n ('bharmalhtm', 4.2794784940556174e-05),\n ('jusilvads', 4.2794784940556174e-05),\n ('Trad3rG', 4.2794784940556174e-05),\n ('2DAIMETORAKICHI', 4.2781126795677306e-05),\n ('Socia1So1utions', 4.270147179100562e-05),\n ('niiklala', 4.266735576217769e-05),\n ('TusherKarhm', 4.266735576217769e-05),\n ('MedievalReviews', 4.265570048955913e-05),\n ('carlos061089', 4.2604913824068744e-05),\n ('PHideyano2', 4.260364117298845e-05),\n ('Sallan_Found', 4.260364117298845e-05),\n ('cryptolorean', 4.255679825776105e-05),\n ('rumi_btc', 4.2547842984673776e-05),\n ('Blonde20', 4.2539926583799224e-05),\n ('TheWillTommo', 4.2539926583799224e-05),\n ('RobJeffersonHay', 4.2539926583799224e-05),\n ('airlineathletic', 4.2539926583799224e-05),\n ('ElastosTroll', 4.2539926583799224e-05),\n ('kryptokeepers', 4.253299338197949e-05),\n ('gaborgurbacs', 4.2519374427839866e-05),\n ('hernzzzzzz', 4.251761328237253e-05),\n ('crypto_savior', 4.250346076998535e-05),\n ('ForbesCrypto', 4.247621199460998e-05),\n ('bitebtccom', 4.247621199460998e-05),\n ('AussieBhoy1978', 4.247621199460998e-05),\n ('MxnRipple', 4.247621199460998e-05),\n ('harjeng_7779', 4.247621199460997e-05),\n ('officialbitplay', 4.2475996886522166e-05),\n ('IncomeSharks', 4.241249740542074e-05),\n ('HiloCrypto', 4.2383340150743974e-05),\n ('Zcash_Fans', 4.235348110767554e-05),\n ('dajo1904', 4.234666585334018e-05),\n ('AcoCollective', 4.2346362214285994e-05),\n ('FinansTezlerim', 4.23431094508863e-05),\n ('Murfski_', 4.232993768330228e-05),\n ('CoinBene', 4.231548712388083e-05),\n ('9158Exchange', 4.228647668683605e-05),\n ('coin_choice', 4.228506822704226e-05),\n ('LINDA_COIN_BULL', 4.2285068227042254e-05),\n ('GraciasDiosTV', 4.225789577575946e-05),\n ('EIHN28', 4.222408282870766e-05),\n ('goblinbets', 4.22009354478688e-05),\n ('Just9nArr', 4.2197130003559603e-05),\n ('ru____xxxx', 4.2158542786722644e-05),\n ('AlphaCoinsMx', 4.2153614535720964e-05),\n ('darkcircled', 4.21379048353824e-05),\n ('dannylmasters', 4.211940650904279e-05),\n ('kriptoparacomtr', 4.210535025652591e-05),\n ('bitcourant', 4.209518776682446e-05),\n ('Krypto_Forum', 4.2056047649082595e-05),\n ('MSarcasticus', 4.201318722783333e-05),\n ('CNN', 4.2008952103191645e-05),\n ('VIMAtroymi', 4.200018410968728e-05),\n ('PRiVCY_COIN', 4.200017537181619e-05),\n ('IQFinexcom', 4.199051321344429e-05),\n ('bitcoin_pe', 4.194256997782699e-05),\n ('Armi555', 4.193022700690836e-05),\n ('pepperic123', 4.189842958072112e-05),\n ('sukmawanws', 4.189683120638704e-05),\n ('techcoachinguk', 4.1878896397820197e-05),\n ('Jonathan__NOWAK', 4.1835433607374875e-05),\n ('btcandjacksons', 4.1828210667643927e-05),\n ('Fatimah7575', 4.1825313378804243e-05),\n ('AmrasBTC', 4.180053910406966e-05),\n ('oopsiewally', 4.176538720836366e-05),\n ('TraderScarface', 4.1709217943581303e-05),\n ('cryptoUSD', 4.167902382563454e-05),\n ('avalaxia', 4.164812343616387e-05),\n ('tresdessert', 4.1636425905947296e-05),\n ('treykerby', 4.162990098807114e-05),\n ('Lesliejohn6', 4.160534493007836e-05),\n ('AlppIsik', 4.1569024296447085e-05),\n ('Ledger', 4.1551060953528875e-05),\n ('Bpaytool', 4.15217414910256e-05),\n ('hadrienblanc', 4.1505747241545994e-05),\n ('eL_I_be', 4.1505211238796444e-05),\n ('29dossryan', 4.150474666277635e-05),\n ('SpaceLabDetroit', 4.149809694355146e-05),\n ('JacaNews', 4.148016747389691e-05),\n ('maupanas', 4.145712539366179e-05),\n ('marioneururer', 4.1432531745557457e-05),\n ('Askcyber01', 4.143253174555745e-05),\n ('bokuranarakimi', 4.142271355689644e-05),\n ('PDATA_Token', 4.140002544208042e-05),\n ('ObiagwuChibuike', 4.1395338865061614e-05),\n ('HoldenSports', 4.138154886172965e-05),\n ('CryptoVanessa', 4.1330902366612515e-05),\n ('CINDXPlatform', 4.1279611125265053e-05),\n ('legrosjunior', 4.1253402841953886e-05),\n ('TheCryptoCandy', 4.12342941462767e-05),\n ('AlaAtitallah100', 4.122681979518047e-05),\n ('kjalln10', 4.118576803036339e-05),\n ('mrilirgashi', 4.117766871693531e-05),\n ('divergen_master', 4.116942731922229e-05),\n ('green18bean', 4.114819962380189e-05),\n ('eBTC_Official', 4.113507282500088e-05),\n ('leemy_tt', 4.111494480303515e-05),\n ('CRYPDOG', 4.1108569927898115e-05),\n ('tradingroomapp', 4.109365652544029e-05),\n ('Ooooooomin_365', 4.106302706189555e-05),\n ('Vert0let', 4.102473875291258e-05),\n ('MUTCoinCorner', 4.10247340810474e-05),\n ('Hodl8333', 4.102426467393386e-05),\n ('goodfilipino', 4.101028602058358e-05),\n ('MParsfield', 4.094298138590069e-05),\n ('LiskHQ', 4.094196158583067e-05),\n ('TGasper95', 4.092241284462272e-05),\n ('JWilliamsFstmed', 4.088634448563022e-05),\n ('PAYERAio', 4.0881403125936634e-05),\n ('SilverFox0155', 4.087182280448537e-05),\n ('TransportSecure', 4.087182280448536e-05),\n ('cryptonewsindi1', 4.0871813460755016e-05),\n ('political_war', 4.0871804117024644e-05),\n ('clothiersprings', 4.086469403448367e-05),\n ('QtumOfficial', 4.086203718843774e-05),\n ('wromany', 4.0836909229538603e-05),\n ('J_TaylorThomson', 4.082085393625307e-05),\n ('maha_yuga', 4.082081656133166e-05),\n ('Wittmann_14', 4.08127639550325e-05),\n ('Crypto17273463', 4.080867513426689e-05),\n ('confer_global', 4.076907447189104e-05),\n ('cryptevents', 4.0767810355117195e-05),\n ('rourecoin', 4.073574421499499e-05),\n ('LindaH44634153', 4.071890218419297e-05),\n ('bitscript_', 4.066791930036516e-05),\n ('ashiqurr2', 4.062115702942058e-05),\n ('WealthTrending', 4.061695977586323e-05),\n ('BTC_GAVEME_PTSD', 4.0604687753428196e-05),\n ('Kev21121Frases', 4.056598156390059e-05),\n ('piliax_pilas', 4.056598156390058e-05),\n ('Akinaboo', 4.054949275719979e-05),\n ('tapimaless', 4.0547825359405593e-05),\n ('market_demon', 4.05150126956683e-05),\n ('RedditVertcoin', 4.047040966985428e-05),\n ('TyeYoshiko', 4.045762402449004e-05),\n ('Patchaimalai3', 4.041306561547339e-05),\n ('Martin_AIM_77', 4.040966432263542e-05),\n ('ShitosaTomokana', 4.040248678035019e-05),\n ('Camilo_Cubides_', 4.03505534454833e-05),\n ('Vision365', 4.0320165318770216e-05),\n ('_theperfesser', 4.031111386341327e-05),\n ('BitraceToken', 4.0260144995180986e-05),\n ('Saint7kim', 4.025595911970992e-05),\n ('1nacoleon1', 4.022809333366747e-05),\n ('SteveKopack', 4.022790398096902e-05),\n ('JonnyAngel1', 4.0225506563777736e-05),\n ('Methionylhreony', 4.0217643463869696e-05),\n ('WSJCentralBanks', 4.0214338936993955e-05),\n ('jasonmsteele', 4.019295419604211e-05),\n ('peterktodd', 4.0191855721414574e-05),\n ('Bleeding_Crypto', 4.01710541958677e-05),\n ('xCryptoPress', 4.011724740444061e-05),\n ('token_drop', 4.011241949417953e-05),\n ('VechainMan', 4.009323003962869e-05),\n ('ABS_SH_TPOSTER', 4.005169232220923e-05),\n ('Krypto_Jack_', 4.0050672598242704e-05),\n ('evadiovergara', 4.004854008080608e-05),\n ('TaiwoIjaoye', 4.004163577558024e-05),\n ('LauraSanicola', 4.0040245532725177e-05),\n ('CryptoChartsJoe', 4.00335373477612e-05),\n ('CardealLucas', 4.002178675991655e-05),\n ('datareum', 4.000914873127733e-05),\n ('eltioyam', 4.000272827321869e-05),\n ('IHPosts2', 3.999178678785971e-05),\n ('BitcoinEdu', 3.99911905635603e-05),\n ('allmediagh', 3.9985794814178656e-05),\n ('McaT_Samus', 3.997980224291109e-05),\n ('CryptoBTC_Chris', 3.9960003599210655e-05),\n ('senbei0401', 3.994552445800272e-05),\n ('crypto_revolver', 3.994251675861337e-05),\n ('lcebarec', 3.9938095839285173e-05),\n ('JohnNajafi', 3.9938095839285173e-05),\n ('mdudas', 3.993159480833087e-05),\n ('Mr_Fulcanelli', 3.991911077251297e-05),\n ('titobejo', 3.9914493619501405e-05),\n ('Vindyne8', 3.9910264380229076e-05),\n ('Econobit', 3.9878295092657687e-05),\n ('SamsonSenrav', 3.9874381250095924e-05),\n ('woonomic', 3.9867060293723054e-05),\n ('XVGWhaleReal', 3.986172868203836e-05),\n ('AlexanderErber', 3.982608423572733e-05),\n ('Coinologue', 3.981059290026861e-05),\n ('newtrustseal', 3.9792324801220934e-05),\n ('Bimafebriann', 3.978167072103352e-05),\n ('SPASPAMAX', 3.973013353888124e-05),\n ('TheEconomist', 3.971063668047862e-05),\n ('elbouchtaouimed', 3.970004581129989e-05),\n ('WscCrypto', 3.9678062971866743e-05),\n ('SanderZago', 3.966686134384004e-05),\n ('nhayate_86', 3.965737450131631e-05),\n ('bcsoares1', 3.964507109308464e-05),\n ('hadleystern', 3.961952289333897e-05),\n ('patbtcbali', 3.9618183590049886e-05),\n ('0827e1979', 3.9569750806332985e-05),\n ('Payment_Online', 3.956174395905277e-05),\n ('JoshOlfert', 3.9559494089758485e-05),\n ('Yoseaderieru', 3.955580830414973e-05),\n ('IntrigoSys', 3.954592759048248e-05),\n ('BryceWeiner', 3.9517683395558494e-05),\n ('FinancialManna', 3.951399769745789e-05),\n ('somosmentores_', 3.951136489972266e-05),\n ('bakuto0423', 3.9494523669285044e-05),\n ('nin_jin96', 3.948753976282344e-05),\n ('tetricoins', 3.948297030978704e-05),\n ('satishracherla', 3.948178162141557e-05),\n ('nischalhp', 3.947558033043671e-05),\n ('cryptolenon', 3.946577385784635e-05),\n ('nebraskangooner', 3.944388451937031e-05),\n ('ico_picker', 3.940999009292144e-05),\n ('cryptonaire_com', 3.9399043381248335e-05),\n ('thembcpicks', 3.9394740820070046e-05),\n ('airdro7', 3.937751923420636e-05),\n ('PotsitiveMinds', 3.933647617166159e-05),\n ('gionkatana', 3.93191490301155e-05),\n ('youheihey69', 3.9283585340561845e-05),\n ('TheHempCoin', 3.927589999623875e-05),\n ('VictorErem', 3.9263841895470825e-05),\n ('RuthHay64857104', 3.925514338265201e-05),\n ('Fatherpeace2', 3.9254012440566197e-05),\n ('skors3', 3.924046458628567e-05),\n ('CryptocaCom', 3.923596265441857e-05),\n ('vidroms1', 3.922041670384139e-05),\n ('IoTJournal', 3.921303055925578e-05),\n ('diroangles', 3.920609951328313e-05),\n ('CoinallU', 3.917560425379204e-05),\n ('BlogModerateur', 3.9173520769014296e-05),\n ('ccit_tictac', 3.9151475841739944e-05),\n ('__kuzunoha__', 3.9145823590863096e-05),\n ('handcashapp', 3.914072527932816e-05),\n ('CryptoK1969', 3.9128056855718086e-05),\n ('UCHLSISTEMAS', 3.910725825978024e-05),\n ('AdayFive', 3.9104687794597064e-05),\n ('lzbthkdd', 3.909298740393697e-05),\n ('NubxMobile', 3.9081240439370624e-05),\n ('Azflux', 3.905718178971281e-05),\n ('crypt_flat', 3.905654892024557e-05),\n ('ticular_consult', 3.9046091590635804e-05),\n ('T21094', 3.9015611665294754e-05),\n ('doc_bitcoin', 3.9015451436390214e-05),\n ('TimJamesAuthor', 3.898869130449507e-05),\n ('coinkakaku_news', 3.8983259723612445e-05),\n ('BenjaminSargent', 3.898237700144657e-05),\n ('cryptokilgore', 3.8978417432444424e-05),\n ('Khonsu_TRADER', 3.8968268748128905e-05),\n ('jirosancoin', 3.895479855636134e-05),\n ('GENGARboi_', 3.8923081994800245e-05),\n ('JeffEsTake', 3.8923081751748376e-05),\n ('PKPGuna', 3.891866241225731e-05),\n ('PetroDivisa', 3.889726685012356e-05),\n ('cripcy_info', 3.888371029445673e-05),\n ('assumptes', 3.887862872432291e-05),\n ('blockmanity', 3.88769895069433e-05),\n ('jeffgirgenti', 3.8876672768105126e-05),\n ('Dave_Jonez_02', 3.8876013707362744e-05),\n ('Saurabh43757625', 3.8866135111744265e-05),\n ('Daikasahara1130', 3.885072222007709e-05),\n ('btcp_ambassador', 3.883812892565408e-05),\n ('unique_ptr_void', 3.8835772654159576e-05),\n ('imademyday', 3.8830976559717104e-05),\n ('HemirIX', 3.881836832389972e-05),\n ('cryptweeter', 3.881161099402687e-05),\n ('that_jeff_guy_', 3.87956525733699e-05),\n ('Thebarstooltoo', 3.8785171954344334e-05),\n ('Huym1992', 3.8783041259699255e-05),\n ('Kronn_AG', 3.876021866087289e-05),\n ('iamjosephyoung', 3.875317622108572e-05),\n ('Aswath_Silber', 3.8733360317702646e-05),\n ('fedemeinardo', 3.871486993190338e-05),\n ('mdoganBtc', 3.867403600273565e-05),\n ('Free_Ross', 3.866822351651735e-05),\n ('su5ef', 3.8658808212035994e-05),\n ('bitfloki', 3.8636519765071885e-05),\n ('jbcoates4', 3.862565123618064e-05),\n ('tetsu224422', 3.861877791582569e-05),\n ('notgrubles', 3.861378334700106e-05),\n ('cryptolosopher', 3.8606908953548004e-05),\n ('jakelong32years', 3.858903162866799e-05),\n ('Whiskey_bonbon_', 3.8582803436390196e-05),\n ('UmayangaLK', 3.857929949211455e-05),\n ('KingFollowUBack', 3.856981450113346e-05),\n ('NonameInJapan', 3.855560236189148e-05),\n ('mberberich56', 3.853637487712189e-05),\n ('H2biz', 3.849691038195638e-05),\n ('ManuOrtizOlave', 3.8489200987314984e-05),\n ('iMineBitcoin', 3.848595971440366e-05),\n ('Techvolutions', 3.847700710012326e-05),\n ('siluro8x8', 3.847266028793264e-05),\n ('NepetaDev', 3.8471076030819354e-05),\n ('MoneroWith', 3.846003371514411e-05),\n ('SolarisCoin', 3.8450202227920844e-05),\n ('dweebertology', 3.844782845562266e-05),\n ('C0inMagnet', 3.8436502790492654e-05),\n ('n3rdig', 3.842541841041818e-05),\n ('mike_wasyl', 3.841345043168044e-05),\n ('CryptoMedics', 3.841202001695212e-05),\n ('Ryo1301_gifu2', 3.837193160608973e-05),\n ('Crypto_Nikki', 3.835979068271559e-05),\n ('see_cowboy', 3.8358746270141496e-05),\n ('DaveMich89', 3.835365756578561e-05),\n ('cointrader1986', 3.83513669708648e-05),\n ('BitTorrent', 3.833212086897647e-05),\n ('LeftHouseRecord', 3.8315911185692845e-05),\n ('ravi_hir', 3.831069401371144e-05),\n ('helloqrius', 3.8304809916740985e-05),\n ('Chahali', 3.830465987375189e-05),\n ('KenyanTraffic', 3.8286510545293046e-05),\n ('LearnToBitcoin', 3.828151652036493e-05),\n ('jasinskm', 3.8281516520364926e-05),\n ('BusinessDayNg', 3.8277836844550856e-05),\n ('OKCoin', 3.827535203217866e-05),\n ('3_2_1_GOGO', 3.8263671701272216e-05),\n ('gamotan4crypto', 3.825875382200185e-05),\n ('VergeAddict', 3.825654536693521e-05),\n ('ElixiumCrypto', 3.8254269852550777e-05),\n ('Davinho9_', 3.825371289038009e-05),\n ('arulprakash', 3.824182657438256e-05),\n ('911Trades', 3.821368734688685e-05),\n ('btc_ThisGirlCan', 3.82109352996379e-05),\n ('MartyBent', 3.819588455721072e-05),\n ('pumpicobit', 3.818660202648088e-05),\n ('BTB_Exchange', 3.818255350356051e-05),\n ('NicTrades', 3.8159882920159474e-05),\n ('manyfacedgoddd', 3.8158138472486525e-05),\n ('CanesDavid', 3.8154301871470394e-05),\n ('King_Bobosco', 3.815408734198645e-05),\n ('bit22may2010', 3.813719351666756e-05),\n ('Henry__Oliver', 3.811447232523201e-05),\n ('lukajiwaraga', 3.81143050816544e-05),\n ('SCN_Token', 3.811001590884679e-05),\n ('AkumaldoCrypto', 3.8103104285622934e-05),\n ('adoudble212', 3.808762626859144e-05),\n ('blockchaindepot', 3.8067247678799155e-05),\n ('RampagingRainey', 3.8055776673930926e-05),\n ('geniuscryptobot', 3.804085417391236e-05),\n ('Bysahtrader1', 3.803485126066862e-05),\n ('crypto971', 3.802996913996708e-05),\n ('PutawanDe', 3.802665816360797e-05),\n ('NasserABDELLI', 3.8020688164458576e-05),\n ('afxnet', 3.801510062499133e-05),\n ('FXCMSouthAfrica', 3.8012536718342304e-05),\n ('DalioThe', 3.800654432872187e-05),\n ('squeezeb3', 3.799122654174987e-05),\n ('Eisenlauer', 3.798985413198891e-05),\n ('RussellBennetts', 3.7989747066080105e-05),\n ('TechArtHill', 3.797796621297469e-05),\n ('Pansyfaust', 3.7955544359302845e-05),\n ('BorgesCicero', 3.79534148734423e-05),\n ('Janicel8899', 3.794906023934561e-05),\n ('fermunizt1', 3.794596461145935e-05),\n ('Mehrzad_AA', 3.792930367172058e-05),\n ('pipimomo777', 3.792549891686918e-05),\n ('vires_numeris', 3.791081594418411e-05),\n ('study_web_dev', 3.790824749369266e-05),\n ('fx_marketnews', 3.790344518871844e-05),\n ('fourietiaan', 3.789922898522948e-05),\n ('FXstreetNews', 3.788015954137453e-05),\n ('_coin_otaku_', 3.7876575554031594e-05),\n ('kreat30D', 3.7867325457407737e-05),\n ('thomcanterbury', 3.785961960934816e-05),\n ('MrAdarshDwivedi', 3.785741300941404e-05),\n ('Laicthis', 3.785194592762679e-05),\n ('CoolCriSyS', 3.783812080281032e-05),\n ('NanocomNL', 3.7825384166620314e-05),\n ('octagonblog', 3.7821640191542806e-05),\n ('n_kostic', 3.781702475578021e-05),\n ('Mechaniccrypto', 3.781679846704566e-05),\n ('hundsnus', 3.7797228411771164e-05),\n ('squatch_crypto', 3.779254290584029e-05),\n ('Futures_Buddy', 3.777179980685101e-05),\n ('cashback_14', 3.777027691735441e-05),\n ('lovexrp', 3.776635999761053e-05),\n ('Bitcoin_Bullet', 3.776269979491605e-05),\n ('pixeldesu', 3.7759274274615534e-05),\n ('Faci_II', 3.770808521766177e-05),\n ('LDP_istanbul_il', 3.770808521766177e-05),\n ('ReddcoinCrypto', 3.770808521766177e-05),\n ('georgebenton247', 3.769296005747966e-05),\n ('SatoshiFlipper', 3.769248755110376e-05),\n ('drewbrownlee', 3.767970081883394e-05),\n ('LordRay23', 3.7661222835343355e-05),\n ('flawcsgo', 3.765678568054694e-05),\n ('Beetcoin', 3.7650592602621516e-05),\n ('EgoMyAttitude', 3.764856558408459e-05),\n ('tam_siam', 3.7646968079636547e-05),\n ('goldkorn', 3.764054503000407e-05),\n ('TheCryptoSniper', 3.763482950713729e-05),\n ('GeekySales', 3.76303663856718e-05),\n ('socialittt', 3.762858166448154e-05),\n ('kendallmiller', 3.761271315530594e-05),\n ('kedoyote', 3.757684907160244e-05),\n ('StartGrowthHack', 3.757554997155235e-05),\n ('m_a_SS_a', 3.7567545797993526e-05),\n ('CoinAmca', 3.75641245274773e-05),\n ('jlarkin353', 3.755816665217597e-05),\n ('ICO_advisor', 3.754370188438293e-05),\n ('ckurtbf', 3.753887367781251e-05),\n ('NetUniversityGr', 3.753506594147494e-05),\n ('neavvy550', 3.7531137460873146e-05),\n ('nikzh', 3.75311374606358e-05),\n ('MoHussein', 3.752134872503406e-05),\n ('ShawnSViveiros', 3.751694145009405e-05),\n ('studio1st', 3.751650552596533e-05),\n ('macengr', 3.75140606088264e-05),\n ('litecoindad', 3.7494729123990144e-05),\n ('dergigi', 3.74841269309607e-05),\n ('Gemma16042912', 3.748137700884378e-05),\n ('coinmedia2018', 3.746294057958618e-05),\n ('jumsumtak', 3.745322686090482e-05),\n ('tradewithoz', 3.744332231488806e-05),\n ('Bitcoin_Cambios', 3.743486168591575e-05),\n ('lone_ostrich', 3.7432182771012785e-05),\n ('Moadeeb100', 3.742817043089372e-05),\n ('Bitcoin_Erik', 3.7427994409832885e-05),\n ('JaredGaeta', 3.741765867942364e-05),\n ('ryan28adams', 3.740846489928174e-05),\n ('hubbplumbing', 3.73970147867931e-05),\n ('MaineBitcoinLLC', 3.7392802246248345e-05),\n ('AdamCa10', 3.7389512271715563e-05),\n ('SubstratumNet', 3.7381171613172945e-05),\n ('MarkTOByrne', 3.736624818934348e-05),\n ('KentaKazami', 3.736332882879437e-05),\n ('Myroforidis', 3.733830926717491e-05),\n ('Smightyx', 3.7334487247437566e-05),\n ('cryptolnw', 3.732579768252632e-05),\n ('FANIN5050', 3.732579768252632e-05),\n ('cryptonizer90', 3.7322610578710204e-05),\n ('Giuzzilla', 3.7320754570311435e-05),\n ('KmaDeno', 3.731842845582981e-05),\n ('iamabdullahawan', 3.731369151976654e-05),\n ('Ko_xCoin', 3.730209929318226e-05),\n ('btcscalper225', 3.7276918110462595e-05),\n ('_cheeseNwine', 3.7273763838978376e-05),\n ('MustacheTommy', 3.727107795201027e-05),\n ('kennethkroes_98', 3.7265403780805676e-05),\n ('cryptosunder', 3.72620830933371e-05),\n ('Novo21061642', 3.726208309333708e-05),\n ('mattyeshanghai', 3.72514329578831e-05),\n ('mikko', 3.722931236151705e-05),\n ('tracs80', 3.721674485990378e-05),\n ('1BittrexExchang', 3.721523171876534e-05),\n ('iamrandyellis', 3.720803096961647e-05),\n ('2g_btc', 3.720039983952774e-05),\n ('patrickrooney', 3.719836850414785e-05),\n ('WhiteHatScum', 3.719836850414785e-05),\n ('cryptoMD45', 3.718992015916854e-05),\n ('tbbtsite', 3.717850098951547e-05),\n ('BitcoinAR', 3.7172920713917545e-05),\n ('river_tp', 3.716188051868484e-05),\n ('Unocoin', 3.715370746639879e-05),\n ('korbotplatform', 3.715188655494339e-05),\n ('naypyidaw', 3.712795812772932e-05),\n ('puttnpdx', 3.712398393625001e-05),\n ('WinstonWolfe333', 3.710788695953999e-05),\n ('MertSusur', 3.710412593018842e-05),\n ('etn_electroneum', 3.705618653600163e-05),\n ('daryl_ei', 3.7041411049787e-05),\n ('CryptoRamel', 3.698542681920349e-05),\n ('briandordevic', 3.697874315907438e-05),\n ('redroute', 3.694351014739089e-05),\n ('akiba_eshop', 3.694255655619336e-05),\n ('TIPMayerMultple', 3.692289957433716e-05),\n ('yescbd', 3.691692749446093e-05),\n ('TrumpFirehose', 3.6913153481263516e-05),\n ('kelsonjl', 3.6906252951291934e-05),\n ('OTC_EvolutionX', 3.690364646657816e-05),\n ('mud_d_y', 3.69018156040729e-05),\n ('JonEHecht', 3.6894217986725854e-05),\n ('crypto_rand', 3.6888794686999e-05),\n ('P_A_Videira', 3.6886310605674534e-05),\n ('CRYPTOCURRENC', 3.688408216774062e-05),\n ('AdamkiewiczL', 3.688080520391296e-05),\n ('faulagh', 3.687979555820164e-05),\n ('menjualnya_my', 3.687979555820164e-05),\n ('HeyRamani', 3.687979555820164e-05),\n ('thedailymash', 3.687859856912054e-05),\n ('NeerajKA', 3.6856884671778136e-05),\n ('ThePinkCrypto', 3.683837485477219e-05),\n ('agkrellenstein', 3.682743076950901e-05),\n ('newsbtc', 3.6825218614863477e-05),\n ('oumbharti', 3.681662277859939e-05),\n ('sndsjr', 3.681608096901241e-05),\n ('subnetmask', 3.681608096901241e-05),\n ('Youcefmoh994', 3.6806337343730064e-05),\n ('Errol52649886', 3.679724923081592e-05),\n ('AnkurRSharma', 3.6796745865537564e-05),\n ('havaex_official', 3.67875524544776e-05),\n ('ItsEricBass', 3.678179951136977e-05),\n ('tgagemurphy', 3.675236637982317e-05),\n ('SocialSendCoin', 3.675236637982317e-05),\n ('waveettv', 3.674473649188088e-05),\n ('TradeStrategyCo', 3.6734247610756244e-05),\n ('CryptoInsanity', 3.673129975367735e-05),\n ('RJ_Killmex', 3.6727767196250155e-05),\n ('CryptoEloise', 3.671418670975912e-05),\n ('Cryptocurency7', 3.6696532316538026e-05),\n ('AmandaWawryk', 3.668888718396342e-05),\n ('alanawolf777', 3.668048557984262e-05),\n ('FWolvenne', 3.6672582814994254e-05),\n ('VegasBiLL', 3.6626411852115506e-05),\n ('Olanrew54907796', 3.6624937201444686e-05),\n ('raviki99', 3.6617825022485874e-05),\n ('CharlieShrem', 3.6607063230729934e-05),\n ('ahmetsolmaz01', 3.660166699688798e-05),\n ('TYATIRIMFIRSATI', 3.659657215725251e-05),\n ('DailySwig', 3.659657053873426e-05),\n ('JulioMedina', 3.657634018123596e-05),\n ('Datavetaren', 3.656936910279674e-05),\n ('tomassidenfaden', 3.6569026779246845e-05),\n ('cyJBjxPMKHHsdL6', 3.6564034146473597e-05),\n ('alto_fx', 3.6560141246365355e-05),\n ('mononokeSnow', 3.655065143958215e-05),\n ('IQ_TRADING', 3.654653210911068e-05),\n ('omgsap', 3.654347675893852e-05),\n ('RealTimeCrypto', 3.653749152962749e-05),\n ('aimadnet', 3.653650113018129e-05),\n ('llcthecableguy', 3.650099703643216e-05),\n ('startup_station', 3.649594913730657e-05),\n ('TechBalt', 3.648019389708099e-05),\n ('TheDLavrov', 3.647306263033473e-05),\n ('xoMushinxo', 3.647115552350563e-05),\n ('iD4RO', 3.646904904454017e-05),\n ('NickSzabo4', 3.644212807606594e-05),\n ('hosihosinosi', 3.644003886113709e-05),\n ('Virender661987', 3.643796616096149e-05),\n ('sujanpgowda', 3.643508869531346e-05),\n ('Domenclature', 3.6433793433876965e-05),\n ('jennifermjones', 3.6433793433876965e-05),\n ('ssamilg', 3.643375723284696e-05),\n ('duck1123', 3.6425021997034e-05),\n ('xuanloc20102001', 3.64112065739202e-05),\n ('KateAnastasia2', 3.640728243356459e-05),\n ('Yodaskk', 3.6402466678513326e-05),\n ('ESPACIOBITVE', 3.6370078844687736e-05),\n ...]"
          },
          "metadata": {}
        }
      ]
    },
    {
      "cell_type": "code",
      "metadata": {
        "tags": [],
        "cell_id": "00015-9621e784-437e-4c76-b326-4394a6d1eb1d",
        "deepnote_to_be_reexecuted": false,
        "source_hash": "85b7b55e",
        "execution_start": 1619477670863,
        "execution_millis": 114,
        "deepnote_cell_type": "code"
      },
      "source": "import csv\nwith open(\"init_pagerank_twitter.csv\", mode=\"w\") as outprs:\n    pr_writer = csv.writer(outprs, delimiter=',', quotechar='\"', quoting=csv.QUOTE_MINIMAL)\n    for item in pr_tuples_sorted:\n        pr_writer.writerow(item)",
      "execution_count": null,
      "outputs": []
    },
    {
      "cell_type": "code",
      "metadata": {
        "tags": [],
        "cell_id": "00016-7e540b51-2ea5-49aa-80a7-787edbe18fbb",
        "deepnote_cell_type": "code"
      },
      "source": "",
      "execution_count": null,
      "outputs": []
    },
    {
      "cell_type": "markdown",
      "source": "<a style='text-decoration:none;line-height:16px;display:flex;color:#5B5B62;padding:10px;justify-content:end;' href='https://deepnote.com?utm_source=created-in-deepnote-cell&projectId=0147adb6-34ff-41f8-a148-e996b7669b04' target=\"_blank\">\n<img alt='Created in deepnote.com' style='display:inline;max-height:16px;margin:0px;margin-right:7.5px;' src='data:image/svg+xml;base64,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' > </img>\nCreated in <span style='font-weight:600;margin-left:4px;'>Deepnote</span></a>",
      "metadata": {
        "tags": [],
        "created_in_deepnote_cell": true,
        "deepnote_cell_type": "markdown"
      }
    }
  ],
  "nbformat": 4,
  "nbformat_minor": 2,
  "metadata": {
    "kernelspec": {
      "display_name": "Python 3",
      "language": "python",
      "name": "python3"
    },
    "language_info": {
      "codemirror_mode": {
        "name": "ipython",
        "version": 3
      },
      "file_extension": ".py",
      "mimetype": "text/x-python",
      "name": "python",
      "nbconvert_exporter": "python",
      "pygments_lexer": "ipython3",
      "version": "3.6.9"
    },
    "deepnote_notebook_id": "56daa29c-1ffb-443d-ba4f-e90efb5552b7",
    "deepnote": {},
    "deepnote_execution_queue": []
  }
}